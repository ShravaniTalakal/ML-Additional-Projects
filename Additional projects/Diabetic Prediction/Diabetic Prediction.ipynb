{
 "cells": [
  {
   "cell_type": "markdown",
   "id": "a97f9a0d",
   "metadata": {
    "papermill": {
     "duration": 0.031315,
     "end_time": "2022-08-03T05:46:23.913000",
     "exception": false,
     "start_time": "2022-08-03T05:46:23.881685",
     "status": "completed"
    },
    "tags": []
   },
   "source": [
    "# To predict diabetes using PIMA diabetes data"
   ]
  },
  {
   "cell_type": "code",
   "execution_count": 3,
   "id": "2703a17d",
   "metadata": {
    "papermill": {
     "duration": 0.025441,
     "end_time": "2022-08-03T05:46:23.965098",
     "exception": false,
     "start_time": "2022-08-03T05:46:23.939657",
     "status": "completed"
    },
    "tags": []
   },
   "outputs": [],
   "source": [
    "##Dataset URL: https://www.kaggle.com/datasets/uciml/pima-indians-diabetes-database"
   ]
  },
  {
   "cell_type": "markdown",
   "id": "5c7969c8",
   "metadata": {
    "papermill": {
     "duration": 0.024902,
     "end_time": "2022-08-03T05:46:24.063571",
     "exception": false,
     "start_time": "2022-08-03T05:46:24.038669",
     "status": "completed"
    },
    "tags": []
   },
   "source": [
    "## 1. Import libraries and load the dataset"
   ]
  },
  {
   "cell_type": "code",
   "execution_count": 4,
   "id": "c13df78e",
   "metadata": {
    "execution": {
     "iopub.execute_input": "2022-08-03T05:46:24.118642Z",
     "iopub.status.busy": "2022-08-03T05:46:24.117872Z",
     "iopub.status.idle": "2022-08-03T05:46:25.236458Z",
     "shell.execute_reply": "2022-08-03T05:46:25.235281Z"
    },
    "papermill": {
     "duration": 1.149765,
     "end_time": "2022-08-03T05:46:25.239776",
     "exception": false,
     "start_time": "2022-08-03T05:46:24.090011",
     "status": "completed"
    },
    "tags": []
   },
   "outputs": [],
   "source": [
    "import pandas as pd\n",
    "import matplotlib.pyplot as plt\n",
    "import numpy as np\n",
    "import seaborn as sns"
   ]
  },
  {
   "cell_type": "code",
   "execution_count": 5,
   "id": "ebd21609",
   "metadata": {
    "execution": {
     "iopub.execute_input": "2022-08-03T05:46:25.299269Z",
     "iopub.status.busy": "2022-08-03T05:46:25.298077Z",
     "iopub.status.idle": "2022-08-03T05:46:25.305619Z",
     "shell.execute_reply": "2022-08-03T05:46:25.304686Z"
    },
    "papermill": {
     "duration": 0.040032,
     "end_time": "2022-08-03T05:46:25.308112",
     "exception": false,
     "start_time": "2022-08-03T05:46:25.268080",
     "status": "completed"
    },
    "tags": []
   },
   "outputs": [],
   "source": [
    "%matplotlib inline"
   ]
  },
  {
   "cell_type": "code",
   "execution_count": 6,
   "id": "169d2f7f",
   "metadata": {
    "execution": {
     "iopub.execute_input": "2022-08-03T05:46:25.364176Z",
     "iopub.status.busy": "2022-08-03T05:46:25.363029Z",
     "iopub.status.idle": "2022-08-03T05:46:25.383807Z",
     "shell.execute_reply": "2022-08-03T05:46:25.382923Z"
    },
    "papermill": {
     "duration": 0.051594,
     "end_time": "2022-08-03T05:46:25.386471",
     "exception": false,
     "start_time": "2022-08-03T05:46:25.334877",
     "status": "completed"
    },
    "tags": []
   },
   "outputs": [],
   "source": [
    "# Load the dataset\n",
    "diabetes = pd.read_csv('E:/data science/capstone Projects/Additional projects/Diabetic Prediction/diabetes.csv')"
   ]
  },
  {
   "cell_type": "markdown",
   "id": "116ea744",
   "metadata": {
    "papermill": {
     "duration": 0.026121,
     "end_time": "2022-08-03T05:46:25.438816",
     "exception": false,
     "start_time": "2022-08-03T05:46:25.412695",
     "status": "completed"
    },
    "tags": []
   },
   "source": [
    "## 2. EDA"
   ]
  },
  {
   "cell_type": "markdown",
   "id": "910fbce0",
   "metadata": {
    "papermill": {
     "duration": 0.026926,
     "end_time": "2022-08-03T05:46:25.493064",
     "exception": false,
     "start_time": "2022-08-03T05:46:25.466138",
     "status": "completed"
    },
    "tags": []
   },
   "source": [
    "### 2.1 Understanding the variables"
   ]
  },
  {
   "cell_type": "code",
   "execution_count": 7,
   "id": "5e52c07b",
   "metadata": {
    "execution": {
     "iopub.execute_input": "2022-08-03T05:46:25.550284Z",
     "iopub.status.busy": "2022-08-03T05:46:25.549464Z",
     "iopub.status.idle": "2022-08-03T05:46:25.571805Z",
     "shell.execute_reply": "2022-08-03T05:46:25.570628Z"
    },
    "papermill": {
     "duration": 0.054624,
     "end_time": "2022-08-03T05:46:25.575214",
     "exception": false,
     "start_time": "2022-08-03T05:46:25.520590",
     "status": "completed"
    },
    "tags": []
   },
   "outputs": [
    {
     "data": {
      "text/html": [
       "<div>\n",
       "<style scoped>\n",
       "    .dataframe tbody tr th:only-of-type {\n",
       "        vertical-align: middle;\n",
       "    }\n",
       "\n",
       "    .dataframe tbody tr th {\n",
       "        vertical-align: top;\n",
       "    }\n",
       "\n",
       "    .dataframe thead th {\n",
       "        text-align: right;\n",
       "    }\n",
       "</style>\n",
       "<table border=\"1\" class=\"dataframe\">\n",
       "  <thead>\n",
       "    <tr style=\"text-align: right;\">\n",
       "      <th></th>\n",
       "      <th>Pregnancies</th>\n",
       "      <th>Glucose</th>\n",
       "      <th>BloodPressure</th>\n",
       "      <th>SkinThickness</th>\n",
       "      <th>Insulin</th>\n",
       "      <th>BMI</th>\n",
       "      <th>DiabetesPedigreeFunction</th>\n",
       "      <th>Age</th>\n",
       "      <th>Outcome</th>\n",
       "    </tr>\n",
       "  </thead>\n",
       "  <tbody>\n",
       "    <tr>\n",
       "      <th>0</th>\n",
       "      <td>6</td>\n",
       "      <td>148</td>\n",
       "      <td>72</td>\n",
       "      <td>35</td>\n",
       "      <td>0</td>\n",
       "      <td>33.6</td>\n",
       "      <td>0.627</td>\n",
       "      <td>50</td>\n",
       "      <td>1</td>\n",
       "    </tr>\n",
       "    <tr>\n",
       "      <th>1</th>\n",
       "      <td>1</td>\n",
       "      <td>85</td>\n",
       "      <td>66</td>\n",
       "      <td>29</td>\n",
       "      <td>0</td>\n",
       "      <td>26.6</td>\n",
       "      <td>0.351</td>\n",
       "      <td>31</td>\n",
       "      <td>0</td>\n",
       "    </tr>\n",
       "    <tr>\n",
       "      <th>2</th>\n",
       "      <td>8</td>\n",
       "      <td>183</td>\n",
       "      <td>64</td>\n",
       "      <td>0</td>\n",
       "      <td>0</td>\n",
       "      <td>23.3</td>\n",
       "      <td>0.672</td>\n",
       "      <td>32</td>\n",
       "      <td>1</td>\n",
       "    </tr>\n",
       "    <tr>\n",
       "      <th>3</th>\n",
       "      <td>1</td>\n",
       "      <td>89</td>\n",
       "      <td>66</td>\n",
       "      <td>23</td>\n",
       "      <td>94</td>\n",
       "      <td>28.1</td>\n",
       "      <td>0.167</td>\n",
       "      <td>21</td>\n",
       "      <td>0</td>\n",
       "    </tr>\n",
       "    <tr>\n",
       "      <th>4</th>\n",
       "      <td>0</td>\n",
       "      <td>137</td>\n",
       "      <td>40</td>\n",
       "      <td>35</td>\n",
       "      <td>168</td>\n",
       "      <td>43.1</td>\n",
       "      <td>2.288</td>\n",
       "      <td>33</td>\n",
       "      <td>1</td>\n",
       "    </tr>\n",
       "  </tbody>\n",
       "</table>\n",
       "</div>"
      ],
      "text/plain": [
       "   Pregnancies  Glucose  BloodPressure  SkinThickness  Insulin   BMI  \\\n",
       "0            6      148             72             35        0  33.6   \n",
       "1            1       85             66             29        0  26.6   \n",
       "2            8      183             64              0        0  23.3   \n",
       "3            1       89             66             23       94  28.1   \n",
       "4            0      137             40             35      168  43.1   \n",
       "\n",
       "   DiabetesPedigreeFunction  Age  Outcome  \n",
       "0                     0.627   50        1  \n",
       "1                     0.351   31        0  \n",
       "2                     0.672   32        1  \n",
       "3                     0.167   21        0  \n",
       "4                     2.288   33        1  "
      ]
     },
     "execution_count": 7,
     "metadata": {},
     "output_type": "execute_result"
    }
   ],
   "source": [
    "# Print the first 5 rows of the dataset\n",
    "diabetes.head()"
   ]
  },
  {
   "cell_type": "code",
   "execution_count": 8,
   "id": "1118eaed",
   "metadata": {
    "execution": {
     "iopub.execute_input": "2022-08-03T05:46:25.632724Z",
     "iopub.status.busy": "2022-08-03T05:46:25.631887Z",
     "iopub.status.idle": "2022-08-03T05:46:25.638600Z",
     "shell.execute_reply": "2022-08-03T05:46:25.637406Z"
    },
    "papermill": {
     "duration": 0.038505,
     "end_time": "2022-08-03T05:46:25.640828",
     "exception": false,
     "start_time": "2022-08-03T05:46:25.602323",
     "status": "completed"
    },
    "tags": []
   },
   "outputs": [
    {
     "data": {
      "text/plain": [
       "(768, 9)"
      ]
     },
     "execution_count": 8,
     "metadata": {},
     "output_type": "execute_result"
    }
   ],
   "source": [
    "# Find the number of rows and columns in the dataset\n",
    "diabetes.shape"
   ]
  },
  {
   "cell_type": "code",
   "execution_count": 9,
   "id": "e0165c45",
   "metadata": {
    "execution": {
     "iopub.execute_input": "2022-08-03T05:46:25.698607Z",
     "iopub.status.busy": "2022-08-03T05:46:25.698183Z",
     "iopub.status.idle": "2022-08-03T05:46:25.722393Z",
     "shell.execute_reply": "2022-08-03T05:46:25.721206Z"
    },
    "papermill": {
     "duration": 0.0562,
     "end_time": "2022-08-03T05:46:25.725119",
     "exception": false,
     "start_time": "2022-08-03T05:46:25.668919",
     "status": "completed"
    },
    "tags": []
   },
   "outputs": [
    {
     "name": "stdout",
     "output_type": "stream",
     "text": [
      "<class 'pandas.core.frame.DataFrame'>\n",
      "RangeIndex: 768 entries, 0 to 767\n",
      "Data columns (total 9 columns):\n",
      " #   Column                    Non-Null Count  Dtype  \n",
      "---  ------                    --------------  -----  \n",
      " 0   Pregnancies               768 non-null    int64  \n",
      " 1   Glucose                   768 non-null    int64  \n",
      " 2   BloodPressure             768 non-null    int64  \n",
      " 3   SkinThickness             768 non-null    int64  \n",
      " 4   Insulin                   768 non-null    int64  \n",
      " 5   BMI                       768 non-null    float64\n",
      " 6   DiabetesPedigreeFunction  768 non-null    float64\n",
      " 7   Age                       768 non-null    int64  \n",
      " 8   Outcome                   768 non-null    int64  \n",
      "dtypes: float64(2), int64(7)\n",
      "memory usage: 54.1 KB\n"
     ]
    }
   ],
   "source": [
    "# Get the info of all features in the dataset \n",
    "diabetes.info()"
   ]
  },
  {
   "cell_type": "code",
   "execution_count": 10,
   "id": "7520ac8d",
   "metadata": {
    "execution": {
     "iopub.execute_input": "2022-08-03T05:46:25.783778Z",
     "iopub.status.busy": "2022-08-03T05:46:25.783002Z",
     "iopub.status.idle": "2022-08-03T05:46:25.822616Z",
     "shell.execute_reply": "2022-08-03T05:46:25.821386Z"
    },
    "papermill": {
     "duration": 0.071689,
     "end_time": "2022-08-03T05:46:25.825125",
     "exception": false,
     "start_time": "2022-08-03T05:46:25.753436",
     "status": "completed"
    },
    "tags": []
   },
   "outputs": [
    {
     "data": {
      "text/html": [
       "<div>\n",
       "<style scoped>\n",
       "    .dataframe tbody tr th:only-of-type {\n",
       "        vertical-align: middle;\n",
       "    }\n",
       "\n",
       "    .dataframe tbody tr th {\n",
       "        vertical-align: top;\n",
       "    }\n",
       "\n",
       "    .dataframe thead th {\n",
       "        text-align: right;\n",
       "    }\n",
       "</style>\n",
       "<table border=\"1\" class=\"dataframe\">\n",
       "  <thead>\n",
       "    <tr style=\"text-align: right;\">\n",
       "      <th></th>\n",
       "      <th>Pregnancies</th>\n",
       "      <th>Glucose</th>\n",
       "      <th>BloodPressure</th>\n",
       "      <th>SkinThickness</th>\n",
       "      <th>Insulin</th>\n",
       "      <th>BMI</th>\n",
       "      <th>DiabetesPedigreeFunction</th>\n",
       "      <th>Age</th>\n",
       "      <th>Outcome</th>\n",
       "    </tr>\n",
       "  </thead>\n",
       "  <tbody>\n",
       "    <tr>\n",
       "      <th>count</th>\n",
       "      <td>768.000000</td>\n",
       "      <td>768.000000</td>\n",
       "      <td>768.000000</td>\n",
       "      <td>768.000000</td>\n",
       "      <td>768.000000</td>\n",
       "      <td>768.000000</td>\n",
       "      <td>768.000000</td>\n",
       "      <td>768.000000</td>\n",
       "      <td>768.000000</td>\n",
       "    </tr>\n",
       "    <tr>\n",
       "      <th>mean</th>\n",
       "      <td>3.845052</td>\n",
       "      <td>120.894531</td>\n",
       "      <td>69.105469</td>\n",
       "      <td>20.536458</td>\n",
       "      <td>79.799479</td>\n",
       "      <td>31.992578</td>\n",
       "      <td>0.471876</td>\n",
       "      <td>33.240885</td>\n",
       "      <td>0.348958</td>\n",
       "    </tr>\n",
       "    <tr>\n",
       "      <th>std</th>\n",
       "      <td>3.369578</td>\n",
       "      <td>31.972618</td>\n",
       "      <td>19.355807</td>\n",
       "      <td>15.952218</td>\n",
       "      <td>115.244002</td>\n",
       "      <td>7.884160</td>\n",
       "      <td>0.331329</td>\n",
       "      <td>11.760232</td>\n",
       "      <td>0.476951</td>\n",
       "    </tr>\n",
       "    <tr>\n",
       "      <th>min</th>\n",
       "      <td>0.000000</td>\n",
       "      <td>0.000000</td>\n",
       "      <td>0.000000</td>\n",
       "      <td>0.000000</td>\n",
       "      <td>0.000000</td>\n",
       "      <td>0.000000</td>\n",
       "      <td>0.078000</td>\n",
       "      <td>21.000000</td>\n",
       "      <td>0.000000</td>\n",
       "    </tr>\n",
       "    <tr>\n",
       "      <th>25%</th>\n",
       "      <td>1.000000</td>\n",
       "      <td>99.000000</td>\n",
       "      <td>62.000000</td>\n",
       "      <td>0.000000</td>\n",
       "      <td>0.000000</td>\n",
       "      <td>27.300000</td>\n",
       "      <td>0.243750</td>\n",
       "      <td>24.000000</td>\n",
       "      <td>0.000000</td>\n",
       "    </tr>\n",
       "    <tr>\n",
       "      <th>50%</th>\n",
       "      <td>3.000000</td>\n",
       "      <td>117.000000</td>\n",
       "      <td>72.000000</td>\n",
       "      <td>23.000000</td>\n",
       "      <td>30.500000</td>\n",
       "      <td>32.000000</td>\n",
       "      <td>0.372500</td>\n",
       "      <td>29.000000</td>\n",
       "      <td>0.000000</td>\n",
       "    </tr>\n",
       "    <tr>\n",
       "      <th>75%</th>\n",
       "      <td>6.000000</td>\n",
       "      <td>140.250000</td>\n",
       "      <td>80.000000</td>\n",
       "      <td>32.000000</td>\n",
       "      <td>127.250000</td>\n",
       "      <td>36.600000</td>\n",
       "      <td>0.626250</td>\n",
       "      <td>41.000000</td>\n",
       "      <td>1.000000</td>\n",
       "    </tr>\n",
       "    <tr>\n",
       "      <th>max</th>\n",
       "      <td>17.000000</td>\n",
       "      <td>199.000000</td>\n",
       "      <td>122.000000</td>\n",
       "      <td>99.000000</td>\n",
       "      <td>846.000000</td>\n",
       "      <td>67.100000</td>\n",
       "      <td>2.420000</td>\n",
       "      <td>81.000000</td>\n",
       "      <td>1.000000</td>\n",
       "    </tr>\n",
       "  </tbody>\n",
       "</table>\n",
       "</div>"
      ],
      "text/plain": [
       "       Pregnancies     Glucose  BloodPressure  SkinThickness     Insulin  \\\n",
       "count   768.000000  768.000000     768.000000     768.000000  768.000000   \n",
       "mean      3.845052  120.894531      69.105469      20.536458   79.799479   \n",
       "std       3.369578   31.972618      19.355807      15.952218  115.244002   \n",
       "min       0.000000    0.000000       0.000000       0.000000    0.000000   \n",
       "25%       1.000000   99.000000      62.000000       0.000000    0.000000   \n",
       "50%       3.000000  117.000000      72.000000      23.000000   30.500000   \n",
       "75%       6.000000  140.250000      80.000000      32.000000  127.250000   \n",
       "max      17.000000  199.000000     122.000000      99.000000  846.000000   \n",
       "\n",
       "              BMI  DiabetesPedigreeFunction         Age     Outcome  \n",
       "count  768.000000                768.000000  768.000000  768.000000  \n",
       "mean    31.992578                  0.471876   33.240885    0.348958  \n",
       "std      7.884160                  0.331329   11.760232    0.476951  \n",
       "min      0.000000                  0.078000   21.000000    0.000000  \n",
       "25%     27.300000                  0.243750   24.000000    0.000000  \n",
       "50%     32.000000                  0.372500   29.000000    0.000000  \n",
       "75%     36.600000                  0.626250   41.000000    1.000000  \n",
       "max     67.100000                  2.420000   81.000000    1.000000  "
      ]
     },
     "execution_count": 10,
     "metadata": {},
     "output_type": "execute_result"
    }
   ],
   "source": [
    "# Statistical summary\n",
    "diabetes.describe()"
   ]
  },
  {
   "cell_type": "markdown",
   "id": "d4a8e4d2",
   "metadata": {
    "papermill": {
     "duration": 0.026169,
     "end_time": "2022-08-03T05:46:25.877336",
     "exception": false,
     "start_time": "2022-08-03T05:46:25.851167",
     "status": "completed"
    },
    "tags": []
   },
   "source": [
    "#### Observation:\n",
    "In the above table, the min value of columns `Glucose`, `BloodPressure`, `SkinThickness`, `Inssulin`, `BMI` are zero (0) values. It is clear that those value can not be zero. Therefore, I am going to impute the values of these respective columns instead of zero in the next step."
   ]
  },
  {
   "cell_type": "markdown",
   "id": "8348d056",
   "metadata": {
    "papermill": {
     "duration": 0.026354,
     "end_time": "2022-08-03T05:46:25.930444",
     "exception": false,
     "start_time": "2022-08-03T05:46:25.904090",
     "status": "completed"
    },
    "tags": []
   },
   "source": [
    "### 2.2 Data cleaning"
   ]
  },
  {
   "cell_type": "markdown",
   "id": "7324a6f6",
   "metadata": {
    "papermill": {
     "duration": 0.026514,
     "end_time": "2022-08-03T05:46:25.983737",
     "exception": false,
     "start_time": "2022-08-03T05:46:25.957223",
     "status": "completed"
    },
    "tags": []
   },
   "source": [
    "#### 2.2.1 Drop the duplicates: \n",
    "To check if there is any duplicate rows are exist or not, if exist then we should remove from the dataset"
   ]
  },
  {
   "cell_type": "code",
   "execution_count": 11,
   "id": "5d84fcb9",
   "metadata": {
    "execution": {
     "iopub.execute_input": "2022-08-03T05:46:26.042786Z",
     "iopub.status.busy": "2022-08-03T05:46:26.042117Z",
     "iopub.status.idle": "2022-08-03T05:46:26.049054Z",
     "shell.execute_reply": "2022-08-03T05:46:26.047970Z"
    },
    "papermill": {
     "duration": 0.040096,
     "end_time": "2022-08-03T05:46:26.051150",
     "exception": false,
     "start_time": "2022-08-03T05:46:26.011054",
     "status": "completed"
    },
    "tags": []
   },
   "outputs": [
    {
     "data": {
      "text/plain": [
       "(768, 9)"
      ]
     },
     "execution_count": 11,
     "metadata": {},
     "output_type": "execute_result"
    }
   ],
   "source": [
    "# Check the shape before drop the duplicates\n",
    "diabetes.shape"
   ]
  },
  {
   "cell_type": "code",
   "execution_count": 12,
   "id": "5824cad1",
   "metadata": {
    "execution": {
     "iopub.execute_input": "2022-08-03T05:46:26.108840Z",
     "iopub.status.busy": "2022-08-03T05:46:26.108420Z",
     "iopub.status.idle": "2022-08-03T05:46:26.116973Z",
     "shell.execute_reply": "2022-08-03T05:46:26.116078Z"
    },
    "papermill": {
     "duration": 0.040398,
     "end_time": "2022-08-03T05:46:26.119128",
     "exception": false,
     "start_time": "2022-08-03T05:46:26.078730",
     "status": "completed"
    },
    "tags": []
   },
   "outputs": [],
   "source": [
    "diabetes=diabetes.drop_duplicates()"
   ]
  },
  {
   "cell_type": "code",
   "execution_count": 13,
   "id": "d5d967f3",
   "metadata": {
    "execution": {
     "iopub.execute_input": "2022-08-03T05:46:26.179210Z",
     "iopub.status.busy": "2022-08-03T05:46:26.178568Z",
     "iopub.status.idle": "2022-08-03T05:46:26.185249Z",
     "shell.execute_reply": "2022-08-03T05:46:26.184141Z"
    },
    "papermill": {
     "duration": 0.040372,
     "end_time": "2022-08-03T05:46:26.187561",
     "exception": false,
     "start_time": "2022-08-03T05:46:26.147189",
     "status": "completed"
    },
    "tags": []
   },
   "outputs": [
    {
     "data": {
      "text/plain": [
       "(768, 9)"
      ]
     },
     "execution_count": 13,
     "metadata": {},
     "output_type": "execute_result"
    }
   ],
   "source": [
    "# Check the shape after drop the duplicates\n",
    "diabetes.shape"
   ]
  },
  {
   "cell_type": "markdown",
   "id": "c5b4a51b",
   "metadata": {
    "papermill": {
     "duration": 0.027469,
     "end_time": "2022-08-03T05:46:26.241615",
     "exception": false,
     "start_time": "2022-08-03T05:46:26.214146",
     "status": "completed"
    },
    "tags": []
   },
   "source": [
    "Before drop and after the duplicates the dataset has same shape which means no duplicates in the dataset"
   ]
  },
  {
   "cell_type": "markdown",
   "id": "c6ee48e8",
   "metadata": {
    "papermill": {
     "duration": 0.027452,
     "end_time": "2022-08-03T05:46:26.296989",
     "exception": false,
     "start_time": "2022-08-03T05:46:26.269537",
     "status": "completed"
    },
    "tags": []
   },
   "source": [
    "#### 2.2.2 Check the NULL values"
   ]
  },
  {
   "cell_type": "code",
   "execution_count": 14,
   "id": "a91767c6",
   "metadata": {
    "execution": {
     "iopub.execute_input": "2022-08-03T05:46:26.354234Z",
     "iopub.status.busy": "2022-08-03T05:46:26.353105Z",
     "iopub.status.idle": "2022-08-03T05:46:26.362209Z",
     "shell.execute_reply": "2022-08-03T05:46:26.361372Z"
    },
    "papermill": {
     "duration": 0.039807,
     "end_time": "2022-08-03T05:46:26.364239",
     "exception": false,
     "start_time": "2022-08-03T05:46:26.324432",
     "status": "completed"
    },
    "tags": []
   },
   "outputs": [
    {
     "data": {
      "text/plain": [
       "Pregnancies                 0\n",
       "Glucose                     0\n",
       "BloodPressure               0\n",
       "SkinThickness               0\n",
       "Insulin                     0\n",
       "BMI                         0\n",
       "DiabetesPedigreeFunction    0\n",
       "Age                         0\n",
       "Outcome                     0\n",
       "dtype: int64"
      ]
     },
     "execution_count": 14,
     "metadata": {},
     "output_type": "execute_result"
    }
   ],
   "source": [
    "# Check if any null value is present\n",
    "diabetes.isnull().sum()"
   ]
  },
  {
   "cell_type": "markdown",
   "id": "1439ce1d",
   "metadata": {
    "papermill": {
     "duration": 0.028117,
     "end_time": "2022-08-03T05:46:26.419921",
     "exception": false,
     "start_time": "2022-08-03T05:46:26.391804",
     "status": "completed"
    },
    "tags": []
   },
   "source": [
    "There is no NULL values in the given dataset"
   ]
  },
  {
   "cell_type": "markdown",
   "id": "f5da651f",
   "metadata": {
    "papermill": {
     "duration": 0.026088,
     "end_time": "2022-08-03T05:46:26.472770",
     "exception": false,
     "start_time": "2022-08-03T05:46:26.446682",
     "status": "completed"
    },
    "tags": []
   },
   "source": [
    "#### 2.2.3 Deal with the Zero values in the dataset"
   ]
  },
  {
   "cell_type": "code",
   "execution_count": 15,
   "id": "8de13023",
   "metadata": {
    "execution": {
     "iopub.execute_input": "2022-08-03T05:46:26.528422Z",
     "iopub.status.busy": "2022-08-03T05:46:26.527666Z",
     "iopub.status.idle": "2022-08-03T05:46:26.538811Z",
     "shell.execute_reply": "2022-08-03T05:46:26.537763Z"
    },
    "papermill": {
     "duration": 0.041744,
     "end_time": "2022-08-03T05:46:26.541101",
     "exception": false,
     "start_time": "2022-08-03T05:46:26.499357",
     "status": "completed"
    },
    "tags": []
   },
   "outputs": [
    {
     "name": "stdout",
     "output_type": "stream",
     "text": [
      "No. of zero values in Glucose is 5\n",
      "No. of zero values in BloodPressure is 35\n",
      "No. of zero values in SkinThickness is 227\n",
      "No. of zero values in Insulin is 374\n",
      "No. of zero values in BMI is 11\n"
     ]
    }
   ],
   "source": [
    "# Find the number of zero value in the features: `Glucose`, `BloodPressure`, `SkinThickness`, `Inssulin`, `BMI`\n",
    "print('No. of zero values in Glucose is',diabetes[diabetes['Glucose']==0].shape[0])\n",
    "print('No. of zero values in BloodPressure is',diabetes[diabetes['BloodPressure']==0].shape[0])\n",
    "print('No. of zero values in SkinThickness is',diabetes[diabetes['SkinThickness']==0].shape[0])\n",
    "print('No. of zero values in Insulin is',diabetes[diabetes['Insulin']==0].shape[0])\n",
    "print('No. of zero values in BMI is',diabetes[diabetes['BMI']==0].shape[0])"
   ]
  },
  {
   "cell_type": "code",
   "execution_count": 18,
   "id": "951684ce",
   "metadata": {
    "execution": {
     "iopub.execute_input": "2022-08-03T05:46:26.596786Z",
     "iopub.status.busy": "2022-08-03T05:46:26.596021Z",
     "iopub.status.idle": "2022-08-03T05:46:26.607416Z",
     "shell.execute_reply": "2022-08-03T05:46:26.606582Z"
    },
    "papermill": {
     "duration": 0.041519,
     "end_time": "2022-08-03T05:46:26.609616",
     "exception": false,
     "start_time": "2022-08-03T05:46:26.568097",
     "status": "completed"
    },
    "tags": []
   },
   "outputs": [],
   "source": [
    "# Replace the zero values with mean of that columns\n",
    "diabetes['Glucose']=diabetes['Glucose'].replace(0,diabetes['Glucose'].mean())\n",
    "diabetes['BloodPressure']=diabetes['BloodPressure'].replace(0,diabetes['BloodPressure'].mean())\n",
    "diabetes['SkinThickness']=diabetes['SkinThickness'].replace(0,diabetes['SkinThickness'].mean())\n",
    "diabetes['Insulin']=diabetes['Insulin'].replace(0,diabetes['Insulin'].mean())\n",
    "diabetes['BMI']=diabetes['BMI'].replace(0,diabetes['BMI'].mean())"
   ]
  },
  {
   "cell_type": "code",
   "execution_count": 19,
   "id": "21cea873",
   "metadata": {
    "execution": {
     "iopub.execute_input": "2022-08-03T05:46:26.665708Z",
     "iopub.status.busy": "2022-08-03T05:46:26.664972Z",
     "iopub.status.idle": "2022-08-03T05:46:26.699954Z",
     "shell.execute_reply": "2022-08-03T05:46:26.698724Z"
    },
    "papermill": {
     "duration": 0.065991,
     "end_time": "2022-08-03T05:46:26.702255",
     "exception": false,
     "start_time": "2022-08-03T05:46:26.636264",
     "status": "completed"
    },
    "tags": []
   },
   "outputs": [
    {
     "data": {
      "text/html": [
       "<div>\n",
       "<style scoped>\n",
       "    .dataframe tbody tr th:only-of-type {\n",
       "        vertical-align: middle;\n",
       "    }\n",
       "\n",
       "    .dataframe tbody tr th {\n",
       "        vertical-align: top;\n",
       "    }\n",
       "\n",
       "    .dataframe thead th {\n",
       "        text-align: right;\n",
       "    }\n",
       "</style>\n",
       "<table border=\"1\" class=\"dataframe\">\n",
       "  <thead>\n",
       "    <tr style=\"text-align: right;\">\n",
       "      <th></th>\n",
       "      <th>Pregnancies</th>\n",
       "      <th>Glucose</th>\n",
       "      <th>BloodPressure</th>\n",
       "      <th>SkinThickness</th>\n",
       "      <th>Insulin</th>\n",
       "      <th>BMI</th>\n",
       "      <th>DiabetesPedigreeFunction</th>\n",
       "      <th>Age</th>\n",
       "      <th>Outcome</th>\n",
       "    </tr>\n",
       "  </thead>\n",
       "  <tbody>\n",
       "    <tr>\n",
       "      <th>count</th>\n",
       "      <td>768.000000</td>\n",
       "      <td>768.000000</td>\n",
       "      <td>768.000000</td>\n",
       "      <td>768.000000</td>\n",
       "      <td>768.000000</td>\n",
       "      <td>768.000000</td>\n",
       "      <td>768.000000</td>\n",
       "      <td>768.000000</td>\n",
       "      <td>768.000000</td>\n",
       "    </tr>\n",
       "    <tr>\n",
       "      <th>mean</th>\n",
       "      <td>3.845052</td>\n",
       "      <td>121.681605</td>\n",
       "      <td>72.254807</td>\n",
       "      <td>26.606479</td>\n",
       "      <td>118.660163</td>\n",
       "      <td>32.450805</td>\n",
       "      <td>0.471876</td>\n",
       "      <td>33.240885</td>\n",
       "      <td>0.348958</td>\n",
       "    </tr>\n",
       "    <tr>\n",
       "      <th>std</th>\n",
       "      <td>3.369578</td>\n",
       "      <td>30.436016</td>\n",
       "      <td>12.115932</td>\n",
       "      <td>9.631241</td>\n",
       "      <td>93.080358</td>\n",
       "      <td>6.875374</td>\n",
       "      <td>0.331329</td>\n",
       "      <td>11.760232</td>\n",
       "      <td>0.476951</td>\n",
       "    </tr>\n",
       "    <tr>\n",
       "      <th>min</th>\n",
       "      <td>0.000000</td>\n",
       "      <td>44.000000</td>\n",
       "      <td>24.000000</td>\n",
       "      <td>7.000000</td>\n",
       "      <td>14.000000</td>\n",
       "      <td>18.200000</td>\n",
       "      <td>0.078000</td>\n",
       "      <td>21.000000</td>\n",
       "      <td>0.000000</td>\n",
       "    </tr>\n",
       "    <tr>\n",
       "      <th>25%</th>\n",
       "      <td>1.000000</td>\n",
       "      <td>99.750000</td>\n",
       "      <td>64.000000</td>\n",
       "      <td>20.536458</td>\n",
       "      <td>79.799479</td>\n",
       "      <td>27.500000</td>\n",
       "      <td>0.243750</td>\n",
       "      <td>24.000000</td>\n",
       "      <td>0.000000</td>\n",
       "    </tr>\n",
       "    <tr>\n",
       "      <th>50%</th>\n",
       "      <td>3.000000</td>\n",
       "      <td>117.000000</td>\n",
       "      <td>72.000000</td>\n",
       "      <td>23.000000</td>\n",
       "      <td>79.799479</td>\n",
       "      <td>32.000000</td>\n",
       "      <td>0.372500</td>\n",
       "      <td>29.000000</td>\n",
       "      <td>0.000000</td>\n",
       "    </tr>\n",
       "    <tr>\n",
       "      <th>75%</th>\n",
       "      <td>6.000000</td>\n",
       "      <td>140.250000</td>\n",
       "      <td>80.000000</td>\n",
       "      <td>32.000000</td>\n",
       "      <td>127.250000</td>\n",
       "      <td>36.600000</td>\n",
       "      <td>0.626250</td>\n",
       "      <td>41.000000</td>\n",
       "      <td>1.000000</td>\n",
       "    </tr>\n",
       "    <tr>\n",
       "      <th>max</th>\n",
       "      <td>17.000000</td>\n",
       "      <td>199.000000</td>\n",
       "      <td>122.000000</td>\n",
       "      <td>99.000000</td>\n",
       "      <td>846.000000</td>\n",
       "      <td>67.100000</td>\n",
       "      <td>2.420000</td>\n",
       "      <td>81.000000</td>\n",
       "      <td>1.000000</td>\n",
       "    </tr>\n",
       "  </tbody>\n",
       "</table>\n",
       "</div>"
      ],
      "text/plain": [
       "       Pregnancies     Glucose  BloodPressure  SkinThickness     Insulin  \\\n",
       "count   768.000000  768.000000     768.000000     768.000000  768.000000   \n",
       "mean      3.845052  121.681605      72.254807      26.606479  118.660163   \n",
       "std       3.369578   30.436016      12.115932       9.631241   93.080358   \n",
       "min       0.000000   44.000000      24.000000       7.000000   14.000000   \n",
       "25%       1.000000   99.750000      64.000000      20.536458   79.799479   \n",
       "50%       3.000000  117.000000      72.000000      23.000000   79.799479   \n",
       "75%       6.000000  140.250000      80.000000      32.000000  127.250000   \n",
       "max      17.000000  199.000000     122.000000      99.000000  846.000000   \n",
       "\n",
       "              BMI  DiabetesPedigreeFunction         Age     Outcome  \n",
       "count  768.000000                768.000000  768.000000  768.000000  \n",
       "mean    32.450805                  0.471876   33.240885    0.348958  \n",
       "std      6.875374                  0.331329   11.760232    0.476951  \n",
       "min     18.200000                  0.078000   21.000000    0.000000  \n",
       "25%     27.500000                  0.243750   24.000000    0.000000  \n",
       "50%     32.000000                  0.372500   29.000000    0.000000  \n",
       "75%     36.600000                  0.626250   41.000000    1.000000  \n",
       "max     67.100000                  2.420000   81.000000    1.000000  "
      ]
     },
     "execution_count": 19,
     "metadata": {},
     "output_type": "execute_result"
    }
   ],
   "source": [
    "# Check with statiscal summary\n",
    "diabetes.describe()"
   ]
  },
  {
   "cell_type": "markdown",
   "id": "4e1ffec3",
   "metadata": {
    "papermill": {
     "duration": 0.026333,
     "end_time": "2022-08-03T05:46:26.754700",
     "exception": false,
     "start_time": "2022-08-03T05:46:26.728367",
     "status": "completed"
    },
    "tags": []
   },
   "source": [
    "#### 2.2.4 Check the imbalanced dataset"
   ]
  },
  {
   "cell_type": "code",
   "execution_count": 20,
   "id": "ffea93ce",
   "metadata": {
    "execution": {
     "iopub.execute_input": "2022-08-03T05:46:26.809483Z",
     "iopub.status.busy": "2022-08-03T05:46:26.809091Z",
     "iopub.status.idle": "2022-08-03T05:46:26.820155Z",
     "shell.execute_reply": "2022-08-03T05:46:26.819112Z"
    },
    "papermill": {
     "duration": 0.041371,
     "end_time": "2022-08-03T05:46:26.822445",
     "exception": false,
     "start_time": "2022-08-03T05:46:26.781074",
     "status": "completed"
    },
    "tags": []
   },
   "outputs": [
    {
     "data": {
      "text/html": [
       "<div>\n",
       "<style scoped>\n",
       "    .dataframe tbody tr th:only-of-type {\n",
       "        vertical-align: middle;\n",
       "    }\n",
       "\n",
       "    .dataframe tbody tr th {\n",
       "        vertical-align: top;\n",
       "    }\n",
       "\n",
       "    .dataframe thead th {\n",
       "        text-align: right;\n",
       "    }\n",
       "</style>\n",
       "<table border=\"1\" class=\"dataframe\">\n",
       "  <thead>\n",
       "    <tr style=\"text-align: right;\">\n",
       "      <th></th>\n",
       "      <th>Outcome</th>\n",
       "    </tr>\n",
       "  </thead>\n",
       "  <tbody>\n",
       "    <tr>\n",
       "      <th>0</th>\n",
       "      <td>500</td>\n",
       "    </tr>\n",
       "    <tr>\n",
       "      <th>1</th>\n",
       "      <td>268</td>\n",
       "    </tr>\n",
       "  </tbody>\n",
       "</table>\n",
       "</div>"
      ],
      "text/plain": [
       "   Outcome\n",
       "0      500\n",
       "1      268"
      ]
     },
     "execution_count": 20,
     "metadata": {},
     "output_type": "execute_result"
    }
   ],
   "source": [
    "diabetes[\"Outcome\"].value_counts().to_frame()"
   ]
  },
  {
   "cell_type": "code",
   "execution_count": 21,
   "id": "48ebea68",
   "metadata": {
    "execution": {
     "iopub.execute_input": "2022-08-03T05:46:26.881381Z",
     "iopub.status.busy": "2022-08-03T05:46:26.880429Z",
     "iopub.status.idle": "2022-08-03T05:46:26.892387Z",
     "shell.execute_reply": "2022-08-03T05:46:26.891018Z"
    },
    "papermill": {
     "duration": 0.044045,
     "end_time": "2022-08-03T05:46:26.894754",
     "exception": false,
     "start_time": "2022-08-03T05:46:26.850709",
     "status": "completed"
    },
    "tags": []
   },
   "outputs": [
    {
     "data": {
      "text/html": [
       "<div>\n",
       "<style scoped>\n",
       "    .dataframe tbody tr th:only-of-type {\n",
       "        vertical-align: middle;\n",
       "    }\n",
       "\n",
       "    .dataframe tbody tr th {\n",
       "        vertical-align: top;\n",
       "    }\n",
       "\n",
       "    .dataframe thead th {\n",
       "        text-align: right;\n",
       "    }\n",
       "</style>\n",
       "<table border=\"1\" class=\"dataframe\">\n",
       "  <thead>\n",
       "    <tr style=\"text-align: right;\">\n",
       "      <th></th>\n",
       "      <th>Outcome</th>\n",
       "    </tr>\n",
       "  </thead>\n",
       "  <tbody>\n",
       "    <tr>\n",
       "      <th>0</th>\n",
       "      <td>0.651042</td>\n",
       "    </tr>\n",
       "    <tr>\n",
       "      <th>1</th>\n",
       "      <td>0.348958</td>\n",
       "    </tr>\n",
       "  </tbody>\n",
       "</table>\n",
       "</div>"
      ],
      "text/plain": [
       "    Outcome\n",
       "0  0.651042\n",
       "1  0.348958"
      ]
     },
     "execution_count": 21,
     "metadata": {},
     "output_type": "execute_result"
    }
   ],
   "source": [
    "diabetes[\"Outcome\"].value_counts(normalize=True).to_frame()"
   ]
  },
  {
   "cell_type": "markdown",
   "id": "3c376f15",
   "metadata": {
    "papermill": {
     "duration": 0.027222,
     "end_time": "2022-08-03T05:46:26.949957",
     "exception": false,
     "start_time": "2022-08-03T05:46:26.922735",
     "status": "completed"
    },
    "tags": []
   },
   "source": [
    "0 -> Non-diabetic. 1 -> Diabetic. Only 34.8% people which have diabete. So the data suffers from data imbalance but it is not severe which is why I will not consider techniques like sampling to tackle the imbalance"
   ]
  },
  {
   "cell_type": "markdown",
   "id": "9fe46885",
   "metadata": {
    "papermill": {
     "duration": 0.028367,
     "end_time": "2022-08-03T05:46:27.006264",
     "exception": false,
     "start_time": "2022-08-03T05:46:26.977897",
     "status": "completed"
    },
    "tags": []
   },
   "source": [
    "## 3. Data visualization"
   ]
  },
  {
   "cell_type": "markdown",
   "id": "30a0ee0f",
   "metadata": {
    "papermill": {
     "duration": 0.029534,
     "end_time": "2022-08-03T05:46:27.066003",
     "exception": false,
     "start_time": "2022-08-03T05:46:27.036469",
     "status": "completed"
    },
    "tags": []
   },
   "source": [
    "#### 3.1 Histogram"
   ]
  },
  {
   "cell_type": "code",
   "execution_count": 22,
   "id": "2346a891",
   "metadata": {
    "execution": {
     "iopub.execute_input": "2022-08-03T05:46:27.123708Z",
     "iopub.status.busy": "2022-08-03T05:46:27.123204Z",
     "iopub.status.idle": "2022-08-03T05:46:28.225469Z",
     "shell.execute_reply": "2022-08-03T05:46:28.224521Z"
    },
    "papermill": {
     "duration": 1.133952,
     "end_time": "2022-08-03T05:46:28.227681",
     "exception": false,
     "start_time": "2022-08-03T05:46:27.093729",
     "status": "completed"
    },
    "tags": []
   },
   "outputs": [
    {
     "data": {
      "image/png": "[encoded data removed]",
      "text/plain": [
       "<Figure size 720x720 with 9 Axes>"
      ]
     },
     "metadata": {
      "needs_background": "light"
     },
     "output_type": "display_data"
    }
   ],
   "source": [
    "# Histogram of each feature\n",
    "diabetes.hist(figsize = (10,10),bins=10)\n",
    "plt.show()"
   ]
  },
  {
   "cell_type": "markdown",
   "id": "5f7c36c0",
   "metadata": {
    "papermill": {
     "duration": 0.029101,
     "end_time": "2022-08-03T05:46:28.284925",
     "exception": false,
     "start_time": "2022-08-03T05:46:28.255824",
     "status": "completed"
    },
    "tags": []
   },
   "source": [
    "#### 3.2 Analyzing relationships between variables"
   ]
  },
  {
   "cell_type": "code",
   "execution_count": 23,
   "id": "d4c82db0",
   "metadata": {
    "execution": {
     "iopub.execute_input": "2022-08-03T05:46:28.346094Z",
     "iopub.status.busy": "2022-08-03T05:46:28.345657Z",
     "iopub.status.idle": "2022-08-03T05:46:28.350017Z",
     "shell.execute_reply": "2022-08-03T05:46:28.348895Z"
    },
    "papermill": {
     "duration": 0.039335,
     "end_time": "2022-08-03T05:46:28.352163",
     "exception": false,
     "start_time": "2022-08-03T05:46:28.312828",
     "status": "completed"
    },
    "tags": []
   },
   "outputs": [],
   "source": [
    "#Correlation"
   ]
  },
  {
   "cell_type": "code",
   "execution_count": 24,
   "id": "8920eb24",
   "metadata": {
    "execution": {
     "iopub.execute_input": "2022-08-03T05:46:28.412162Z",
     "iopub.status.busy": "2022-08-03T05:46:28.411280Z",
     "iopub.status.idle": "2022-08-03T05:46:29.102290Z",
     "shell.execute_reply": "2022-08-03T05:46:29.101149Z"
    },
    "papermill": {
     "duration": 0.723649,
     "end_time": "2022-08-03T05:46:29.104863",
     "exception": false,
     "start_time": "2022-08-03T05:46:28.381214",
     "status": "completed"
    },
    "tags": []
   },
   "outputs": [
    {
     "data": {
      "image/png": "[encoded data removed]",
      "text/plain": [
       "<Figure size 1440x1440 with 2 Axes>"
      ]
     },
     "metadata": {
      "needs_background": "light"
     },
     "output_type": "display_data"
    }
   ],
   "source": [
    "# get correlation of each features in dataset\n",
    "cormat = diabetes.corr()\n",
    "top_corr_features = cormat.index\n",
    "plt.figure(figsize=(20,20))\n",
    "# plot heat map\n",
    "g = sns.heatmap(diabetes[top_corr_features].corr(),annot=True,cmap=\"RdYlGn\")"
   ]
  },
  {
   "cell_type": "code",
   "execution_count": 25,
   "id": "de5ac2b1",
   "metadata": {
    "execution": {
     "iopub.execute_input": "2022-08-03T05:46:29.169297Z",
     "iopub.status.busy": "2022-08-03T05:46:29.168448Z",
     "iopub.status.idle": "2022-08-03T05:46:29.186741Z",
     "shell.execute_reply": "2022-08-03T05:46:29.185601Z"
    },
    "papermill": {
     "duration": 0.052506,
     "end_time": "2022-08-03T05:46:29.189025",
     "exception": false,
     "start_time": "2022-08-03T05:46:29.136519",
     "status": "completed"
    },
    "tags": []
   },
   "outputs": [
    {
     "data": {
      "text/html": [
       "<div>\n",
       "<style scoped>\n",
       "    .dataframe tbody tr th:only-of-type {\n",
       "        vertical-align: middle;\n",
       "    }\n",
       "\n",
       "    .dataframe tbody tr th {\n",
       "        vertical-align: top;\n",
       "    }\n",
       "\n",
       "    .dataframe thead th {\n",
       "        text-align: right;\n",
       "    }\n",
       "</style>\n",
       "<table border=\"1\" class=\"dataframe\">\n",
       "  <thead>\n",
       "    <tr style=\"text-align: right;\">\n",
       "      <th></th>\n",
       "      <th>Pregnancies</th>\n",
       "      <th>Glucose</th>\n",
       "      <th>BloodPressure</th>\n",
       "      <th>SkinThickness</th>\n",
       "      <th>Insulin</th>\n",
       "      <th>BMI</th>\n",
       "      <th>DiabetesPedigreeFunction</th>\n",
       "      <th>Age</th>\n",
       "      <th>Outcome</th>\n",
       "    </tr>\n",
       "  </thead>\n",
       "  <tbody>\n",
       "    <tr>\n",
       "      <th>Pregnancies</th>\n",
       "      <td>1.000000</td>\n",
       "      <td>0.127964</td>\n",
       "      <td>0.208984</td>\n",
       "      <td>0.013376</td>\n",
       "      <td>-0.018082</td>\n",
       "      <td>0.021546</td>\n",
       "      <td>-0.033523</td>\n",
       "      <td>0.544341</td>\n",
       "      <td>0.221898</td>\n",
       "    </tr>\n",
       "    <tr>\n",
       "      <th>Glucose</th>\n",
       "      <td>0.127964</td>\n",
       "      <td>1.000000</td>\n",
       "      <td>0.219666</td>\n",
       "      <td>0.160766</td>\n",
       "      <td>0.396597</td>\n",
       "      <td>0.231478</td>\n",
       "      <td>0.137106</td>\n",
       "      <td>0.266600</td>\n",
       "      <td>0.492908</td>\n",
       "    </tr>\n",
       "    <tr>\n",
       "      <th>BloodPressure</th>\n",
       "      <td>0.208984</td>\n",
       "      <td>0.219666</td>\n",
       "      <td>1.000000</td>\n",
       "      <td>0.134155</td>\n",
       "      <td>0.010926</td>\n",
       "      <td>0.281231</td>\n",
       "      <td>0.000371</td>\n",
       "      <td>0.326740</td>\n",
       "      <td>0.162986</td>\n",
       "    </tr>\n",
       "    <tr>\n",
       "      <th>SkinThickness</th>\n",
       "      <td>0.013376</td>\n",
       "      <td>0.160766</td>\n",
       "      <td>0.134155</td>\n",
       "      <td>1.000000</td>\n",
       "      <td>0.240361</td>\n",
       "      <td>0.535703</td>\n",
       "      <td>0.154961</td>\n",
       "      <td>0.026423</td>\n",
       "      <td>0.175026</td>\n",
       "    </tr>\n",
       "    <tr>\n",
       "      <th>Insulin</th>\n",
       "      <td>-0.018082</td>\n",
       "      <td>0.396597</td>\n",
       "      <td>0.010926</td>\n",
       "      <td>0.240361</td>\n",
       "      <td>1.000000</td>\n",
       "      <td>0.189856</td>\n",
       "      <td>0.157806</td>\n",
       "      <td>0.038652</td>\n",
       "      <td>0.179185</td>\n",
       "    </tr>\n",
       "    <tr>\n",
       "      <th>BMI</th>\n",
       "      <td>0.021546</td>\n",
       "      <td>0.231478</td>\n",
       "      <td>0.281231</td>\n",
       "      <td>0.535703</td>\n",
       "      <td>0.189856</td>\n",
       "      <td>1.000000</td>\n",
       "      <td>0.153508</td>\n",
       "      <td>0.025748</td>\n",
       "      <td>0.312254</td>\n",
       "    </tr>\n",
       "    <tr>\n",
       "      <th>DiabetesPedigreeFunction</th>\n",
       "      <td>-0.033523</td>\n",
       "      <td>0.137106</td>\n",
       "      <td>0.000371</td>\n",
       "      <td>0.154961</td>\n",
       "      <td>0.157806</td>\n",
       "      <td>0.153508</td>\n",
       "      <td>1.000000</td>\n",
       "      <td>0.033561</td>\n",
       "      <td>0.173844</td>\n",
       "    </tr>\n",
       "    <tr>\n",
       "      <th>Age</th>\n",
       "      <td>0.544341</td>\n",
       "      <td>0.266600</td>\n",
       "      <td>0.326740</td>\n",
       "      <td>0.026423</td>\n",
       "      <td>0.038652</td>\n",
       "      <td>0.025748</td>\n",
       "      <td>0.033561</td>\n",
       "      <td>1.000000</td>\n",
       "      <td>0.238356</td>\n",
       "    </tr>\n",
       "    <tr>\n",
       "      <th>Outcome</th>\n",
       "      <td>0.221898</td>\n",
       "      <td>0.492908</td>\n",
       "      <td>0.162986</td>\n",
       "      <td>0.175026</td>\n",
       "      <td>0.179185</td>\n",
       "      <td>0.312254</td>\n",
       "      <td>0.173844</td>\n",
       "      <td>0.238356</td>\n",
       "      <td>1.000000</td>\n",
       "    </tr>\n",
       "  </tbody>\n",
       "</table>\n",
       "</div>"
      ],
      "text/plain": [
       "                          Pregnancies   Glucose  BloodPressure  SkinThickness  \\\n",
       "Pregnancies                  1.000000  0.127964       0.208984       0.013376   \n",
       "Glucose                      0.127964  1.000000       0.219666       0.160766   \n",
       "BloodPressure                0.208984  0.219666       1.000000       0.134155   \n",
       "SkinThickness                0.013376  0.160766       0.134155       1.000000   \n",
       "Insulin                     -0.018082  0.396597       0.010926       0.240361   \n",
       "BMI                          0.021546  0.231478       0.281231       0.535703   \n",
       "DiabetesPedigreeFunction    -0.033523  0.137106       0.000371       0.154961   \n",
       "Age                          0.544341  0.266600       0.326740       0.026423   \n",
       "Outcome                      0.221898  0.492908       0.162986       0.175026   \n",
       "\n",
       "                           Insulin       BMI  DiabetesPedigreeFunction  \\\n",
       "Pregnancies              -0.018082  0.021546                 -0.033523   \n",
       "Glucose                   0.396597  0.231478                  0.137106   \n",
       "BloodPressure             0.010926  0.281231                  0.000371   \n",
       "SkinThickness             0.240361  0.535703                  0.154961   \n",
       "Insulin                   1.000000  0.189856                  0.157806   \n",
       "BMI                       0.189856  1.000000                  0.153508   \n",
       "DiabetesPedigreeFunction  0.157806  0.153508                  1.000000   \n",
       "Age                       0.038652  0.025748                  0.033561   \n",
       "Outcome                   0.179185  0.312254                  0.173844   \n",
       "\n",
       "                               Age   Outcome  \n",
       "Pregnancies               0.544341  0.221898  \n",
       "Glucose                   0.266600  0.492908  \n",
       "BloodPressure             0.326740  0.162986  \n",
       "SkinThickness             0.026423  0.175026  \n",
       "Insulin                   0.038652  0.179185  \n",
       "BMI                       0.025748  0.312254  \n",
       "DiabetesPedigreeFunction  0.033561  0.173844  \n",
       "Age                       1.000000  0.238356  \n",
       "Outcome                   0.238356  1.000000  "
      ]
     },
     "execution_count": 25,
     "metadata": {},
     "output_type": "execute_result"
    }
   ],
   "source": [
    "diabetes.corr()"
   ]
  },
  {
   "cell_type": "markdown",
   "id": "f13f12aa",
   "metadata": {
    "papermill": {
     "duration": 0.029606,
     "end_time": "2022-08-03T05:46:29.248762",
     "exception": false,
     "start_time": "2022-08-03T05:46:29.219156",
     "status": "completed"
    },
    "tags": []
   },
   "source": [
    "## 4. Split the data frame into X and y"
   ]
  },
  {
   "cell_type": "code",
   "execution_count": 26,
   "id": "6cc1dc90",
   "metadata": {
    "execution": {
     "iopub.execute_input": "2022-08-03T05:46:29.311844Z",
     "iopub.status.busy": "2022-08-03T05:46:29.311039Z",
     "iopub.status.idle": "2022-08-03T05:46:29.317394Z",
     "shell.execute_reply": "2022-08-03T05:46:29.316600Z"
    },
    "papermill": {
     "duration": 0.040954,
     "end_time": "2022-08-03T05:46:29.319701",
     "exception": false,
     "start_time": "2022-08-03T05:46:29.278747",
     "status": "completed"
    },
    "tags": []
   },
   "outputs": [],
   "source": [
    "target_name = 'Outcome'\n",
    "\n",
    "# Separate object for target feature\n",
    "y = diabetes[target_name]\n",
    "\n",
    "# Separate object for input features\n",
    "\n",
    "X = diabetes.drop(target_name, axis=1)"
   ]
  },
  {
   "cell_type": "code",
   "execution_count": 27,
   "id": "6246844c",
   "metadata": {
    "execution": {
     "iopub.execute_input": "2022-08-03T05:46:29.381955Z",
     "iopub.status.busy": "2022-08-03T05:46:29.381233Z",
     "iopub.status.idle": "2022-08-03T05:46:29.397062Z",
     "shell.execute_reply": "2022-08-03T05:46:29.395910Z"
    },
    "papermill": {
     "duration": 0.049636,
     "end_time": "2022-08-03T05:46:29.399429",
     "exception": false,
     "start_time": "2022-08-03T05:46:29.349793",
     "status": "completed"
    },
    "tags": []
   },
   "outputs": [
    {
     "data": {
      "text/html": [
       "<div>\n",
       "<style scoped>\n",
       "    .dataframe tbody tr th:only-of-type {\n",
       "        vertical-align: middle;\n",
       "    }\n",
       "\n",
       "    .dataframe tbody tr th {\n",
       "        vertical-align: top;\n",
       "    }\n",
       "\n",
       "    .dataframe thead th {\n",
       "        text-align: right;\n",
       "    }\n",
       "</style>\n",
       "<table border=\"1\" class=\"dataframe\">\n",
       "  <thead>\n",
       "    <tr style=\"text-align: right;\">\n",
       "      <th></th>\n",
       "      <th>Pregnancies</th>\n",
       "      <th>Glucose</th>\n",
       "      <th>BloodPressure</th>\n",
       "      <th>SkinThickness</th>\n",
       "      <th>Insulin</th>\n",
       "      <th>BMI</th>\n",
       "      <th>DiabetesPedigreeFunction</th>\n",
       "      <th>Age</th>\n",
       "    </tr>\n",
       "  </thead>\n",
       "  <tbody>\n",
       "    <tr>\n",
       "      <th>0</th>\n",
       "      <td>6</td>\n",
       "      <td>148.0</td>\n",
       "      <td>72.0</td>\n",
       "      <td>35.000000</td>\n",
       "      <td>79.799479</td>\n",
       "      <td>33.6</td>\n",
       "      <td>0.627</td>\n",
       "      <td>50</td>\n",
       "    </tr>\n",
       "    <tr>\n",
       "      <th>1</th>\n",
       "      <td>1</td>\n",
       "      <td>85.0</td>\n",
       "      <td>66.0</td>\n",
       "      <td>29.000000</td>\n",
       "      <td>79.799479</td>\n",
       "      <td>26.6</td>\n",
       "      <td>0.351</td>\n",
       "      <td>31</td>\n",
       "    </tr>\n",
       "    <tr>\n",
       "      <th>2</th>\n",
       "      <td>8</td>\n",
       "      <td>183.0</td>\n",
       "      <td>64.0</td>\n",
       "      <td>20.536458</td>\n",
       "      <td>79.799479</td>\n",
       "      <td>23.3</td>\n",
       "      <td>0.672</td>\n",
       "      <td>32</td>\n",
       "    </tr>\n",
       "    <tr>\n",
       "      <th>3</th>\n",
       "      <td>1</td>\n",
       "      <td>89.0</td>\n",
       "      <td>66.0</td>\n",
       "      <td>23.000000</td>\n",
       "      <td>94.000000</td>\n",
       "      <td>28.1</td>\n",
       "      <td>0.167</td>\n",
       "      <td>21</td>\n",
       "    </tr>\n",
       "    <tr>\n",
       "      <th>4</th>\n",
       "      <td>0</td>\n",
       "      <td>137.0</td>\n",
       "      <td>40.0</td>\n",
       "      <td>35.000000</td>\n",
       "      <td>168.000000</td>\n",
       "      <td>43.1</td>\n",
       "      <td>2.288</td>\n",
       "      <td>33</td>\n",
       "    </tr>\n",
       "  </tbody>\n",
       "</table>\n",
       "</div>"
      ],
      "text/plain": [
       "   Pregnancies  Glucose  BloodPressure  SkinThickness     Insulin   BMI  \\\n",
       "0            6    148.0           72.0      35.000000   79.799479  33.6   \n",
       "1            1     85.0           66.0      29.000000   79.799479  26.6   \n",
       "2            8    183.0           64.0      20.536458   79.799479  23.3   \n",
       "3            1     89.0           66.0      23.000000   94.000000  28.1   \n",
       "4            0    137.0           40.0      35.000000  168.000000  43.1   \n",
       "\n",
       "   DiabetesPedigreeFunction  Age  \n",
       "0                     0.627   50  \n",
       "1                     0.351   31  \n",
       "2                     0.672   32  \n",
       "3                     0.167   21  \n",
       "4                     2.288   33  "
      ]
     },
     "execution_count": 27,
     "metadata": {},
     "output_type": "execute_result"
    }
   ],
   "source": [
    "X.head()"
   ]
  },
  {
   "cell_type": "code",
   "execution_count": 28,
   "id": "f5060e01",
   "metadata": {
    "execution": {
     "iopub.execute_input": "2022-08-03T05:46:29.462369Z",
     "iopub.status.busy": "2022-08-03T05:46:29.461594Z",
     "iopub.status.idle": "2022-08-03T05:46:29.469371Z",
     "shell.execute_reply": "2022-08-03T05:46:29.468464Z"
    },
    "papermill": {
     "duration": 0.041839,
     "end_time": "2022-08-03T05:46:29.471602",
     "exception": false,
     "start_time": "2022-08-03T05:46:29.429763",
     "status": "completed"
    },
    "tags": []
   },
   "outputs": [
    {
     "data": {
      "text/plain": [
       "0    1\n",
       "1    0\n",
       "2    1\n",
       "3    0\n",
       "4    1\n",
       "Name: Outcome, dtype: int64"
      ]
     },
     "execution_count": 28,
     "metadata": {},
     "output_type": "execute_result"
    }
   ],
   "source": [
    "y.head()"
   ]
  },
  {
   "cell_type": "markdown",
   "id": "871bb93a",
   "metadata": {
    "papermill": {
     "duration": 0.030531,
     "end_time": "2022-08-03T05:46:29.532500",
     "exception": false,
     "start_time": "2022-08-03T05:46:29.501969",
     "status": "completed"
    },
    "tags": []
   },
   "source": [
    "## 5. Apply Feature Scaling\n",
    "There are some feature scaling: StandardScaler, Normalizer, Minmax Scaler and Binarizer. In this project, I use StandardScaler for scaling the feature."
   ]
  },
  {
   "cell_type": "code",
   "execution_count": 29,
   "id": "2a53548d",
   "metadata": {
    "execution": {
     "iopub.execute_input": "2022-08-03T05:46:29.592736Z",
     "iopub.status.busy": "2022-08-03T05:46:29.591984Z",
     "iopub.status.idle": "2022-08-03T05:46:29.738821Z",
     "shell.execute_reply": "2022-08-03T05:46:29.737747Z"
    },
    "papermill": {
     "duration": 0.179076,
     "end_time": "2022-08-03T05:46:29.741385",
     "exception": false,
     "start_time": "2022-08-03T05:46:29.562309",
     "status": "completed"
    },
    "tags": []
   },
   "outputs": [],
   "source": [
    "# Apply Stadard Scaler\n",
    "from sklearn.preprocessing import StandardScaler\n",
    "scaler = StandardScaler()\n",
    "scaler.fit(X)\n",
    "SSX = scaler.transform(X)"
   ]
  },
  {
   "cell_type": "markdown",
   "id": "3ccd4758",
   "metadata": {
    "papermill": {
     "duration": 0.029909,
     "end_time": "2022-08-03T05:46:29.801618",
     "exception": false,
     "start_time": "2022-08-03T05:46:29.771709",
     "status": "completed"
    },
    "tags": []
   },
   "source": [
    "## 6. Train test split"
   ]
  },
  {
   "cell_type": "code",
   "execution_count": 30,
   "id": "fcf6deb8",
   "metadata": {
    "execution": {
     "iopub.execute_input": "2022-08-03T05:46:29.866242Z",
     "iopub.status.busy": "2022-08-03T05:46:29.865872Z",
     "iopub.status.idle": "2022-08-03T05:46:29.925948Z",
     "shell.execute_reply": "2022-08-03T05:46:29.924821Z"
    },
    "papermill": {
     "duration": 0.094929,
     "end_time": "2022-08-03T05:46:29.928604",
     "exception": false,
     "start_time": "2022-08-03T05:46:29.833675",
     "status": "completed"
    },
    "tags": []
   },
   "outputs": [],
   "source": [
    "from sklearn.model_selection import train_test_split\n",
    "X_train, X_test, y_train, y_test = train_test_split(SSX, y, test_size=0.2, random_state=7)"
   ]
  },
  {
   "cell_type": "code",
   "execution_count": 31,
   "id": "b4cba054",
   "metadata": {
    "execution": {
     "iopub.execute_input": "2022-08-03T05:46:29.992273Z",
     "iopub.status.busy": "2022-08-03T05:46:29.991868Z",
     "iopub.status.idle": "2022-08-03T05:46:29.999054Z",
     "shell.execute_reply": "2022-08-03T05:46:29.997786Z"
    },
    "papermill": {
     "duration": 0.041463,
     "end_time": "2022-08-03T05:46:30.001156",
     "exception": false,
     "start_time": "2022-08-03T05:46:29.959693",
     "status": "completed"
    },
    "tags": []
   },
   "outputs": [
    {
     "data": {
      "text/plain": [
       "((614, 8), (614,))"
      ]
     },
     "execution_count": 31,
     "metadata": {},
     "output_type": "execute_result"
    }
   ],
   "source": [
    "X_train.shape, y_train.shape"
   ]
  },
  {
   "cell_type": "code",
   "execution_count": 32,
   "id": "2ec2dd1e",
   "metadata": {
    "execution": {
     "iopub.execute_input": "2022-08-03T05:46:30.065199Z",
     "iopub.status.busy": "2022-08-03T05:46:30.064625Z",
     "iopub.status.idle": "2022-08-03T05:46:30.069816Z",
     "shell.execute_reply": "2022-08-03T05:46:30.069089Z"
    },
    "papermill": {
     "duration": 0.039547,
     "end_time": "2022-08-03T05:46:30.071776",
     "exception": false,
     "start_time": "2022-08-03T05:46:30.032229",
     "status": "completed"
    },
    "tags": []
   },
   "outputs": [
    {
     "data": {
      "text/plain": [
       "((154, 8), (154,))"
      ]
     },
     "execution_count": 32,
     "metadata": {},
     "output_type": "execute_result"
    }
   ],
   "source": [
    "X_test.shape, y_test.shape"
   ]
  },
  {
   "cell_type": "markdown",
   "id": "619e6747",
   "metadata": {
    "papermill": {
     "duration": 0.028196,
     "end_time": "2022-08-03T05:46:30.128859",
     "exception": false,
     "start_time": "2022-08-03T05:46:30.100663",
     "status": "completed"
    },
    "tags": []
   },
   "source": [
    "## 7. Build the Algorithm"
   ]
  },
  {
   "cell_type": "markdown",
   "id": "3b3e9d4e",
   "metadata": {
    "papermill": {
     "duration": 0.028349,
     "end_time": "2022-08-03T05:46:30.185721",
     "exception": false,
     "start_time": "2022-08-03T05:46:30.157372",
     "status": "completed"
    },
    "tags": []
   },
   "source": [
    "### 7.1 Logistic Regression"
   ]
  },
  {
   "cell_type": "code",
   "execution_count": 34,
   "id": "7a15d93c",
   "metadata": {
    "execution": {
     "iopub.execute_input": "2022-08-03T05:46:30.244647Z",
     "iopub.status.busy": "2022-08-03T05:46:30.243875Z",
     "iopub.status.idle": "2022-08-03T05:46:30.327263Z",
     "shell.execute_reply": "2022-08-03T05:46:30.326270Z"
    },
    "papermill": {
     "duration": 0.115742,
     "end_time": "2022-08-03T05:46:30.329907",
     "exception": false,
     "start_time": "2022-08-03T05:46:30.214165",
     "status": "completed"
    },
    "tags": []
   },
   "outputs": [
    {
     "data": {
      "text/plain": [
       "LogisticRegression()"
      ]
     },
     "execution_count": 34,
     "metadata": {},
     "output_type": "execute_result"
    }
   ],
   "source": [
    "from sklearn.linear_model import LogisticRegression\n",
    "lr = LogisticRegression()\n",
    "lr.fit(X_train, y_train)"
   ]
  },
  {
   "cell_type": "code",
   "execution_count": 35,
   "id": "718a7a10",
   "metadata": {},
   "outputs": [],
   "source": [
    "## Making prediction on test dataset\n",
    "lr_pred=lr.predict(X_test)"
   ]
  },
  {
   "cell_type": "code",
   "execution_count": 36,
   "id": "6df32c24",
   "metadata": {},
   "outputs": [
    {
     "name": "stdout",
     "output_type": "stream",
     "text": [
      "Train accuracy of Logistic Regression is 0.7752442996742671\n",
      "Accuracy (Test) score of Logistic Regression is 0.7727272727272727\n",
      "Accuracy (Test) score of Logistic Regression is 0.7727272727272727\n"
     ]
    }
   ],
   "source": [
    "# Train score and Test score of Logistic Regression\n",
    "from sklearn.metrics import accuracy_score\n",
    "print(\"Train accuracy of Logistic Regression is\", lr.score(X_train, y_train))\n",
    "print(\"Accuracy (Test) score of Logistic Regression is\", lr.score(X_test, y_test))\n",
    "print(\"Accuracy (Test) score of Logistic Regression is\", accuracy_score(y_test, lr_pred))"
   ]
  },
  {
   "cell_type": "markdown",
   "id": "a6c3b673",
   "metadata": {
    "papermill": {
     "duration": 0.028325,
     "end_time": "2022-08-03T05:46:30.386913",
     "exception": false,
     "start_time": "2022-08-03T05:46:30.358588",
     "status": "completed"
    },
    "tags": []
   },
   "source": [
    "### 7.2 KNeighborsClassifier (KNN)"
   ]
  },
  {
   "cell_type": "code",
   "execution_count": 37,
   "id": "e0902f76",
   "metadata": {
    "execution": {
     "iopub.execute_input": "2022-08-03T05:46:30.445399Z",
     "iopub.status.busy": "2022-08-03T05:46:30.445023Z",
     "iopub.status.idle": "2022-08-03T05:46:30.496738Z",
     "shell.execute_reply": "2022-08-03T05:46:30.495627Z"
    },
    "papermill": {
     "duration": 0.08375,
     "end_time": "2022-08-03T05:46:30.498969",
     "exception": false,
     "start_time": "2022-08-03T05:46:30.415219",
     "status": "completed"
    },
    "tags": []
   },
   "outputs": [
    {
     "data": {
      "text/plain": [
       "KNeighborsClassifier()"
      ]
     },
     "execution_count": 37,
     "metadata": {},
     "output_type": "execute_result"
    }
   ],
   "source": [
    "from sklearn.neighbors import KNeighborsClassifier\n",
    "knn=KNeighborsClassifier()\n",
    "knn.fit(X_train, y_train)"
   ]
  },
  {
   "cell_type": "code",
   "execution_count": 38,
   "id": "f30e128f",
   "metadata": {},
   "outputs": [],
   "source": [
    "## Making prediction on test dataset\n",
    "knn_pred=knn.predict(X_test)"
   ]
  },
  {
   "cell_type": "code",
   "execution_count": 39,
   "id": "55a5f994",
   "metadata": {},
   "outputs": [
    {
     "name": "stdout",
     "output_type": "stream",
     "text": [
      "Train accuracy of KNN is 0.8110749185667753\n",
      "Accuracy (Test) score of KNN is 0.7467532467532467\n",
      "Accuracy (Test) score of KNN is 0.7467532467532467\n"
     ]
    }
   ],
   "source": [
    "# Train score and Test score of KNN\n",
    "print(\"Train accuracy of KNN is\", knn.score(X_train, y_train))\n",
    "print(\"Accuracy (Test) score of KNN is\", knn.score(X_test, y_test))\n",
    "print(\"Accuracy (Test) score of KNN is\", accuracy_score(y_test, knn_pred))"
   ]
  },
  {
   "cell_type": "markdown",
   "id": "c69fcfd9",
   "metadata": {
    "papermill": {
     "duration": 0.031345,
     "end_time": "2022-08-03T05:46:30.559873",
     "exception": false,
     "start_time": "2022-08-03T05:46:30.528528",
     "status": "completed"
    },
    "tags": []
   },
   "source": [
    "### 7.3 Naive-Bayes Classifier"
   ]
  },
  {
   "cell_type": "code",
   "execution_count": 40,
   "id": "b5633396",
   "metadata": {
    "execution": {
     "iopub.execute_input": "2022-08-03T05:46:30.625115Z",
     "iopub.status.busy": "2022-08-03T05:46:30.624738Z",
     "iopub.status.idle": "2022-08-03T05:46:30.635394Z",
     "shell.execute_reply": "2022-08-03T05:46:30.634314Z"
    },
    "papermill": {
     "duration": 0.046236,
     "end_time": "2022-08-03T05:46:30.637762",
     "exception": false,
     "start_time": "2022-08-03T05:46:30.591526",
     "status": "completed"
    },
    "tags": []
   },
   "outputs": [
    {
     "data": {
      "text/plain": [
       "GaussianNB()"
      ]
     },
     "execution_count": 40,
     "metadata": {},
     "output_type": "execute_result"
    }
   ],
   "source": [
    "from sklearn.naive_bayes import GaussianNB\n",
    "nb=GaussianNB()\n",
    "nb.fit(X_train, y_train)"
   ]
  },
  {
   "cell_type": "code",
   "execution_count": 41,
   "id": "2b0009ea",
   "metadata": {},
   "outputs": [],
   "source": [
    "## Making prediction on test dataset\n",
    "nb_pred=nb.predict(X_test)"
   ]
  },
  {
   "cell_type": "code",
   "execution_count": 42,
   "id": "0f2cfdee",
   "metadata": {},
   "outputs": [
    {
     "name": "stdout",
     "output_type": "stream",
     "text": [
      "Train accuracy of Naive-Bayes is 0.742671009771987\n",
      "Accuracy (Test) score of Naive-Bayes is 0.7402597402597403\n",
      "Accuracy (Test) score of Naive-Bayes is 0.7402597402597403\n"
     ]
    }
   ],
   "source": [
    "# Train score and Test score of Naive-Bayes\n",
    "print(\"Train accuracy of Naive-Bayes is\", nb.score(X_train, y_train))\n",
    "print(\"Accuracy (Test) score of Naive-Bayes is\", nb.score(X_test, y_test))\n",
    "print(\"Accuracy (Test) score of Naive-Bayes is\", accuracy_score(y_test, nb_pred))"
   ]
  },
  {
   "cell_type": "markdown",
   "id": "62d4ee34",
   "metadata": {
    "papermill": {
     "duration": 0.030933,
     "end_time": "2022-08-03T05:46:30.699923",
     "exception": false,
     "start_time": "2022-08-03T05:46:30.668990",
     "status": "completed"
    },
    "tags": []
   },
   "source": [
    "### 7.4 Support Vector Machine"
   ]
  },
  {
   "cell_type": "code",
   "execution_count": 43,
   "id": "e79b5d0f",
   "metadata": {
    "execution": {
     "iopub.execute_input": "2022-08-03T05:46:30.765106Z",
     "iopub.status.busy": "2022-08-03T05:46:30.764716Z",
     "iopub.status.idle": "2022-08-03T05:46:30.786612Z",
     "shell.execute_reply": "2022-08-03T05:46:30.785386Z"
    },
    "papermill": {
     "duration": 0.057335,
     "end_time": "2022-08-03T05:46:30.789307",
     "exception": false,
     "start_time": "2022-08-03T05:46:30.731972",
     "status": "completed"
    },
    "tags": []
   },
   "outputs": [
    {
     "data": {
      "text/plain": [
       "SVC()"
      ]
     },
     "execution_count": 43,
     "metadata": {},
     "output_type": "execute_result"
    }
   ],
   "source": [
    "from sklearn.svm import SVC\n",
    "sv=SVC()\n",
    "sv.fit(X_train, y_train)"
   ]
  },
  {
   "cell_type": "code",
   "execution_count": 44,
   "id": "4815f6b6",
   "metadata": {},
   "outputs": [],
   "source": [
    "## Making prediction on test dataset\n",
    "sv_pred=sv.predict(X_test)"
   ]
  },
  {
   "cell_type": "code",
   "execution_count": 45,
   "id": "5602feac",
   "metadata": {},
   "outputs": [
    {
     "name": "stdout",
     "output_type": "stream",
     "text": [
      "Train accuracy of SVM is 0.8192182410423453\n",
      "Accuracy (Test) score of SVM is 0.8311688311688312\n",
      "Accuracy (Test) score of SVM is 0.8311688311688312\n"
     ]
    }
   ],
   "source": [
    "# Train score and Test score of SVM\n",
    "print(\"Train accuracy of SVM is\", sv.score(X_train, y_train))\n",
    "print(\"Accuracy (Test) score of SVM is\", sv.score(X_test, y_test))\n",
    "print(\"Accuracy (Test) score of SVM is\", accuracy_score(y_test, sv_pred))"
   ]
  },
  {
   "cell_type": "markdown",
   "id": "85e7890a",
   "metadata": {
    "papermill": {
     "duration": 0.029322,
     "end_time": "2022-08-03T05:46:30.847665",
     "exception": false,
     "start_time": "2022-08-03T05:46:30.818343",
     "status": "completed"
    },
    "tags": []
   },
   "source": [
    "### 7.5 Decision Tree"
   ]
  },
  {
   "cell_type": "code",
   "execution_count": 46,
   "id": "906bd840",
   "metadata": {
    "execution": {
     "iopub.execute_input": "2022-08-03T05:46:30.912646Z",
     "iopub.status.busy": "2022-08-03T05:46:30.912259Z",
     "iopub.status.idle": "2022-08-03T05:46:30.952107Z",
     "shell.execute_reply": "2022-08-03T05:46:30.950845Z"
    },
    "papermill": {
     "duration": 0.075677,
     "end_time": "2022-08-03T05:46:30.954595",
     "exception": false,
     "start_time": "2022-08-03T05:46:30.878918",
     "status": "completed"
    },
    "tags": []
   },
   "outputs": [
    {
     "data": {
      "text/plain": [
       "DecisionTreeClassifier()"
      ]
     },
     "execution_count": 46,
     "metadata": {},
     "output_type": "execute_result"
    }
   ],
   "source": [
    "from sklearn.tree import DecisionTreeClassifier\n",
    "dt=DecisionTreeClassifier()\n",
    "dt.fit(X_train, y_train)"
   ]
  },
  {
   "cell_type": "code",
   "execution_count": 47,
   "id": "e6540c56",
   "metadata": {},
   "outputs": [],
   "source": [
    "## Making prediction on test dataset\n",
    "dt_pred=dt.predict(X_test)"
   ]
  },
  {
   "cell_type": "code",
   "execution_count": 48,
   "id": "56472377",
   "metadata": {},
   "outputs": [
    {
     "name": "stdout",
     "output_type": "stream",
     "text": [
      "Train accuracy of Decision Tree is 1.0\n",
      "Accuracy (Test) score of Decision Tree is 0.8116883116883117\n",
      "Accuracy (Test) score of Decision Tree is 0.8116883116883117\n"
     ]
    }
   ],
   "source": [
    "# Train score and Test score of Decision Tree\n",
    "print(\"Train accuracy of Decision Tree is\", dt.score(X_train, y_train))\n",
    "print(\"Accuracy (Test) score of Decision Tree is\", dt.score(X_test, y_test))\n",
    "print(\"Accuracy (Test) score of Decision Tree is\", accuracy_score(y_test, dt_pred))"
   ]
  },
  {
   "cell_type": "markdown",
   "id": "1427647b",
   "metadata": {
    "papermill": {
     "duration": 0.031651,
     "end_time": "2022-08-03T05:46:31.018163",
     "exception": false,
     "start_time": "2022-08-03T05:46:30.986512",
     "status": "completed"
    },
    "tags": []
   },
   "source": [
    "### 7.6 Random Forest"
   ]
  },
  {
   "cell_type": "code",
   "execution_count": 49,
   "id": "640a92a8",
   "metadata": {
    "execution": {
     "iopub.execute_input": "2022-08-03T05:46:31.085956Z",
     "iopub.status.busy": "2022-08-03T05:46:31.085339Z",
     "iopub.status.idle": "2022-08-03T05:46:31.357466Z",
     "shell.execute_reply": "2022-08-03T05:46:31.356404Z"
    },
    "papermill": {
     "duration": 0.311662,
     "end_time": "2022-08-03T05:46:31.361378",
     "exception": false,
     "start_time": "2022-08-03T05:46:31.049716",
     "status": "completed"
    },
    "tags": []
   },
   "outputs": [
    {
     "data": {
      "text/plain": [
       "RandomForestClassifier(criterion='entropy')"
      ]
     },
     "execution_count": 49,
     "metadata": {},
     "output_type": "execute_result"
    }
   ],
   "source": [
    "from sklearn.ensemble import RandomForestClassifier\n",
    "rf=RandomForestClassifier(criterion='entropy')\n",
    "rf.fit(X_train, y_train)"
   ]
  },
  {
   "cell_type": "code",
   "execution_count": 52,
   "id": "aedaee4f",
   "metadata": {},
   "outputs": [],
   "source": [
    "## Making prediction on test dataset\n",
    "rf_pred=rf.predict(X_test)"
   ]
  },
  {
   "cell_type": "code",
   "execution_count": 53,
   "id": "b14bf628",
   "metadata": {},
   "outputs": [
    {
     "name": "stdout",
     "output_type": "stream",
     "text": [
      "Train accuracy of Random Forest is 1.0\n",
      "Accuracy (Test) score of Random Forest is 0.7792207792207793\n",
      "Accuracy (Test) score of Random Forest is 0.7792207792207793\n"
     ]
    }
   ],
   "source": [
    "# Train score and Test score of Random Forest\n",
    "print(\"Train accuracy of Random Forest is\", rf.score(X_train, y_train))\n",
    "print(\"Accuracy (Test) score of Random Forest is\", rf.score(X_test, y_test))\n",
    "print(\"Accuracy (Test) score of Random Forest is\", accuracy_score(y_test, rf_pred))"
   ]
  },
  {
   "cell_type": "code",
   "execution_count": 55,
   "id": "10284b00",
   "metadata": {
    "papermill": {
     "duration": 0.029479,
     "end_time": "2022-08-03T05:46:32.976315",
     "exception": false,
     "start_time": "2022-08-03T05:46:32.946836",
     "status": "completed"
    },
    "tags": []
   },
   "outputs": [],
   "source": [
    "###Confusion Matrix"
   ]
  },
  {
   "cell_type": "markdown",
   "id": "68672953",
   "metadata": {
    "papermill": {
     "duration": 0.031867,
     "end_time": "2022-08-03T05:46:33.037864",
     "exception": false,
     "start_time": "2022-08-03T05:46:33.005997",
     "status": "completed"
    },
    "tags": []
   },
   "source": [
    "Confusion metrics is a table which is used to describe the performance of a classification problem."
   ]
  },
  {
   "cell_type": "markdown",
   "id": "fc1cc5d4",
   "metadata": {
    "papermill": {
     "duration": 0.031676,
     "end_time": "2022-08-03T05:46:33.101791",
     "exception": false,
     "start_time": "2022-08-03T05:46:33.070115",
     "status": "completed"
    },
    "tags": []
   },
   "source": [
    "It visualizes the accuracy of a classifier by comparing predicted values with actual values"
   ]
  },
  {
   "cell_type": "markdown",
   "id": "719b1337",
   "metadata": {
    "papermill": {
     "duration": 0.031951,
     "end_time": "2022-08-03T05:46:33.165626",
     "exception": false,
     "start_time": "2022-08-03T05:46:33.133675",
     "status": "completed"
    },
    "tags": []
   },
   "source": [
    "The terms used in confusion metrics are true positive (TP), true negative (TN), false positive (FP) and false negative (FN)"
   ]
  },
  {
   "cell_type": "markdown",
   "id": "ef99338f",
   "metadata": {
    "papermill": {
     "duration": 0.031518,
     "end_time": "2022-08-03T05:46:33.229142",
     "exception": false,
     "start_time": "2022-08-03T05:46:33.197624",
     "status": "completed"
    },
    "tags": []
   },
   "source": [
    "1. True Positive: The predicted result is positive, while it is labeled as positive\n",
    "2. False Postitive: The predicted result is positive, while it is labeled as negative\n",
    "3. False Negative: The predicted result is negative, while it is labeled as positive\n",
    "4. True Negative: The predicted result is negative, while it is labled as negative"
   ]
  },
  {
   "cell_type": "markdown",
   "id": "72fd1dcc",
   "metadata": {
    "papermill": {
     "duration": 0.031491,
     "end_time": "2022-08-03T05:46:33.292629",
     "exception": false,
     "start_time": "2022-08-03T05:46:33.261138",
     "status": "completed"
    },
    "tags": []
   },
   "source": [
    "#### Confusion Matrix of \"Logistic Regression\""
   ]
  },
  {
   "cell_type": "code",
   "execution_count": 56,
   "id": "2de438e2",
   "metadata": {
    "execution": {
     "iopub.execute_input": "2022-08-03T05:46:33.358873Z",
     "iopub.status.busy": "2022-08-03T05:46:33.358432Z",
     "iopub.status.idle": "2022-08-03T05:46:33.368871Z",
     "shell.execute_reply": "2022-08-03T05:46:33.367867Z"
    },
    "papermill": {
     "duration": 0.044564,
     "end_time": "2022-08-03T05:46:33.371216",
     "exception": false,
     "start_time": "2022-08-03T05:46:33.326652",
     "status": "completed"
    },
    "tags": []
   },
   "outputs": [
    {
     "data": {
      "text/plain": [
       "array([[86, 11],\n",
       "       [24, 33]], dtype=int64)"
      ]
     },
     "execution_count": 56,
     "metadata": {},
     "output_type": "execute_result"
    }
   ],
   "source": [
    "from sklearn.metrics import classification_report, confusion_matrix\n",
    "# confusion matrix of Logistic Regression\n",
    "cm=confusion_matrix(y_test,lr_pred)\n",
    "cm"
   ]
  },
  {
   "cell_type": "markdown",
   "id": "9e20b038",
   "metadata": {
    "papermill": {
     "duration": 0.085612,
     "end_time": "2022-08-03T05:46:34.230909",
     "exception": false,
     "start_time": "2022-08-03T05:46:34.145297",
     "status": "completed"
    },
    "tags": []
   },
   "source": [
    "##### Classification Report of Logistic Regression"
   ]
  },
  {
   "cell_type": "code",
   "execution_count": 57,
   "id": "d3faf055",
   "metadata": {
    "execution": {
     "iopub.execute_input": "2022-08-03T05:46:34.295033Z",
     "iopub.status.busy": "2022-08-03T05:46:34.294069Z",
     "iopub.status.idle": "2022-08-03T05:46:34.303916Z",
     "shell.execute_reply": "2022-08-03T05:46:34.302694Z"
    },
    "papermill": {
     "duration": 0.044132,
     "end_time": "2022-08-03T05:46:34.306095",
     "exception": false,
     "start_time": "2022-08-03T05:46:34.261963",
     "status": "completed"
    },
    "tags": []
   },
   "outputs": [
    {
     "name": "stdout",
     "output_type": "stream",
     "text": [
      "Clasification Report of Logistic Regression: \n",
      "               precision    recall  f1-score   support\n",
      "\n",
      "           0     0.7818    0.8866    0.8309        97\n",
      "           1     0.7500    0.5789    0.6535        57\n",
      "\n",
      "    accuracy                         0.7727       154\n",
      "   macro avg     0.7659    0.7328    0.7422       154\n",
      "weighted avg     0.7700    0.7727    0.7652       154\n",
      "\n"
     ]
    }
   ],
   "source": [
    "print('Clasification Report of Logistic Regression: \\n', classification_report(y_test,lr_pred,digits=4))"
   ]
  },
  {
   "cell_type": "markdown",
   "id": "0a00e85a",
   "metadata": {
    "papermill": {
     "duration": 0.030238,
     "end_time": "2022-08-03T05:46:34.367091",
     "exception": false,
     "start_time": "2022-08-03T05:46:34.336853",
     "status": "completed"
    },
    "tags": []
   },
   "source": [
    "##### ROC Curve & ROC AUC"
   ]
  },
  {
   "cell_type": "markdown",
   "id": "740b4591",
   "metadata": {
    "papermill": {
     "duration": 0.093706,
     "end_time": "2022-08-03T05:46:34.491210",
     "exception": false,
     "start_time": "2022-08-03T05:46:34.397504",
     "status": "completed"
    },
    "tags": []
   },
   "source": [
    "ROC curve is one of the important evaluating metrics that should be used to check the performance of an classification model. It is als called relative operating characteristic curve, because it is a comparison of two main characteristics (TPR and FPR). It is plotted between sensitivity (a.k.a recall a.k.a True Positive Rate) and False Positive Rate (FPR = 1 - Specitivity)  "
   ]
  },
  {
   "cell_type": "markdown",
   "id": "ce5ac294",
   "metadata": {
    "papermill": {
     "duration": 0.033796,
     "end_time": "2022-08-03T05:46:34.557905",
     "exception": false,
     "start_time": "2022-08-03T05:46:34.524109",
     "status": "completed"
    },
    "tags": []
   },
   "source": [
    "ROC (Receiver Operating Characteristic) Curve tells us about how good the model can distinguish between two things (e.g if a patient has a disease or not) "
   ]
  },
  {
   "cell_type": "markdown",
   "id": "735a12c8",
   "metadata": {
    "papermill": {
     "duration": 0.032613,
     "end_time": "2022-08-03T05:46:34.623484",
     "exception": false,
     "start_time": "2022-08-03T05:46:34.590871",
     "status": "completed"
    },
    "tags": []
   },
   "source": [
    "Area under Curve (AUC) helps us to choose the best model amongst the models for which we have plotted the ROC curves"
   ]
  },
  {
   "cell_type": "code",
   "execution_count": 58,
   "id": "8f6a97f2",
   "metadata": {
    "execution": {
     "iopub.execute_input": "2022-08-03T05:46:34.691447Z",
     "iopub.status.busy": "2022-08-03T05:46:34.690768Z",
     "iopub.status.idle": "2022-08-03T05:46:34.698173Z",
     "shell.execute_reply": "2022-08-03T05:46:34.696920Z"
    },
    "papermill": {
     "duration": 0.04386,
     "end_time": "2022-08-03T05:46:34.700204",
     "exception": false,
     "start_time": "2022-08-03T05:46:34.656344",
     "status": "completed"
    },
    "tags": []
   },
   "outputs": [
    {
     "name": "stdout",
     "output_type": "stream",
     "text": [
      "ROC AUC SCORE of Logistic Regression is 0.7327726532826913\n"
     ]
    }
   ],
   "source": [
    "# Area Under Curve\n",
    "from sklearn.metrics import roc_auc_score, roc_curve\n",
    "auc = roc_auc_score(y_test, lr_pred)\n",
    "print(\"ROC AUC SCORE of Logistic Regression is\",auc)"
   ]
  },
  {
   "cell_type": "code",
   "execution_count": 59,
   "id": "13089a8a",
   "metadata": {
    "execution": {
     "iopub.execute_input": "2022-08-03T05:46:34.764288Z",
     "iopub.status.busy": "2022-08-03T05:46:34.763374Z",
     "iopub.status.idle": "2022-08-03T05:46:34.936573Z",
     "shell.execute_reply": "2022-08-03T05:46:34.935325Z"
    },
    "papermill": {
     "duration": 0.207826,
     "end_time": "2022-08-03T05:46:34.938974",
     "exception": false,
     "start_time": "2022-08-03T05:46:34.731148",
     "status": "completed"
    },
    "tags": []
   },
   "outputs": [
    {
     "data": {
      "image/png": "[encoded data removed]",
      "text/plain": [
       "<Figure size 432x288 with 1 Axes>"
      ]
     },
     "metadata": {
      "needs_background": "light"
     },
     "output_type": "display_data"
    }
   ],
   "source": [
    "fpr, tpr, thresholds = roc_curve(y_test, lr_pred)\n",
    "plt.plot(fpr, tpr, color='orange', label='ROC')\n",
    "plt.plot([0, 1], [0, 1], color='blue', linestyle='', label='ROC curve (area = %0.2f)' % auc)\n",
    "plt.xlabel('False Positive Rate')\n",
    "plt.ylabel('True Positive Rate')\n",
    "plt.title('Receiver Operating Characteristic (ROC) Curve of Logistic Regression')\n",
    "plt.legend()\n",
    "plt.grid()\n",
    "plt.show()"
   ]
  },
  {
   "cell_type": "markdown",
   "id": "95af8958",
   "metadata": {},
   "source": [
    "### Classification report of KNN"
   ]
  },
  {
   "cell_type": "code",
   "execution_count": 60,
   "id": "82af1878",
   "metadata": {
    "execution": {
     "iopub.execute_input": "2022-08-03T05:46:35.406711Z",
     "iopub.status.busy": "2022-08-03T05:46:35.405993Z",
     "iopub.status.idle": "2022-08-03T05:46:35.415430Z",
     "shell.execute_reply": "2022-08-03T05:46:35.414339Z"
    },
    "papermill": {
     "duration": 0.044601,
     "end_time": "2022-08-03T05:46:35.417766",
     "exception": false,
     "start_time": "2022-08-03T05:46:35.373165",
     "status": "completed"
    },
    "tags": []
   },
   "outputs": [
    {
     "name": "stdout",
     "output_type": "stream",
     "text": [
      "Clasification Report of KNN: \n",
      "               precision    recall  f1-score   support\n",
      "\n",
      "           0     0.7736    0.8454    0.8079        97\n",
      "           1     0.6875    0.5789    0.6286        57\n",
      "\n",
      "    accuracy                         0.7468       154\n",
      "   macro avg     0.7305    0.7122    0.7182       154\n",
      "weighted avg     0.7417    0.7468    0.7415       154\n",
      "\n"
     ]
    }
   ],
   "source": [
    "print('Clasification Report of KNN: \\n', classification_report(y_test,knn_pred,digits=4))"
   ]
  },
  {
   "cell_type": "markdown",
   "id": "f96b7169",
   "metadata": {},
   "source": [
    "#### CLasssification report for SVM"
   ]
  },
  {
   "cell_type": "code",
   "execution_count": 62,
   "id": "34982394",
   "metadata": {
    "execution": {
     "iopub.execute_input": "2022-08-03T05:46:37.308120Z",
     "iopub.status.busy": "2022-08-03T05:46:37.307710Z",
     "iopub.status.idle": "2022-08-03T05:46:37.318759Z",
     "shell.execute_reply": "2022-08-03T05:46:37.317535Z"
    },
    "papermill": {
     "duration": 0.047992,
     "end_time": "2022-08-03T05:46:37.320855",
     "exception": false,
     "start_time": "2022-08-03T05:46:37.272863",
     "status": "completed"
    },
    "tags": []
   },
   "outputs": [
    {
     "name": "stdout",
     "output_type": "stream",
     "text": [
      "Clasification Report of SVM: \n",
      "               precision    recall  f1-score   support\n",
      "\n",
      "           0     0.8198    0.9381    0.8750        97\n",
      "           1     0.8605    0.6491    0.7400        57\n",
      "\n",
      "    accuracy                         0.8312       154\n",
      "   macro avg     0.8401    0.7936    0.8075       154\n",
      "weighted avg     0.8349    0.8312    0.8250       154\n",
      "\n"
     ]
    }
   ],
   "source": [
    "print('Clasification Report of SVM: \\n', classification_report(y_test,sv_pred,digits=4))"
   ]
  },
  {
   "cell_type": "code",
   "execution_count": 63,
   "id": "399e6959",
   "metadata": {
    "execution": {
     "iopub.execute_input": "2022-08-03T05:46:37.390183Z",
     "iopub.status.busy": "2022-08-03T05:46:37.389200Z",
     "iopub.status.idle": "2022-08-03T05:46:37.396216Z",
     "shell.execute_reply": "2022-08-03T05:46:37.395091Z"
    },
    "papermill": {
     "duration": 0.04362,
     "end_time": "2022-08-03T05:46:37.398338",
     "exception": false,
     "start_time": "2022-08-03T05:46:37.354718",
     "status": "completed"
    },
    "tags": []
   },
   "outputs": [
    {
     "name": "stdout",
     "output_type": "stream",
     "text": [
      "ROC AUC SCORE of SVM is 0.7936335684572255\n"
     ]
    }
   ],
   "source": [
    "# Area Under Curve\n",
    "auc = roc_auc_score(y_test, sv_pred)\n",
    "print(\"ROC AUC SCORE of SVM is\",auc)"
   ]
  },
  {
   "cell_type": "code",
   "execution_count": 64,
   "id": "b71b51f7",
   "metadata": {
    "execution": {
     "iopub.execute_input": "2022-08-03T05:46:37.466356Z",
     "iopub.status.busy": "2022-08-03T05:46:37.465937Z",
     "iopub.status.idle": "2022-08-03T05:46:37.670252Z",
     "shell.execute_reply": "2022-08-03T05:46:37.669414Z"
    },
    "papermill": {
     "duration": 0.240962,
     "end_time": "2022-08-03T05:46:37.672337",
     "exception": false,
     "start_time": "2022-08-03T05:46:37.431375",
     "status": "completed"
    },
    "tags": []
   },
   "outputs": [
    {
     "data": {
      "image/png": "[encoded data removed]",
      "text/plain": [
       "<Figure size 432x288 with 1 Axes>"
      ]
     },
     "metadata": {
      "needs_background": "light"
     },
     "output_type": "display_data"
    }
   ],
   "source": [
    "fpr, tpr, thresholds = roc_curve(y_test, sv_pred)\n",
    "plt.plot(fpr, tpr, color='orange', label='ROC')\n",
    "plt.plot([0, 1], [0, 1], color='blue', linestyle='', label='ROC curve (area = %0.2f)' % auc)\n",
    "plt.xlabel('False Positive Rate')\n",
    "plt.ylabel('True Positive Rate')\n",
    "plt.title('Receiver Operating Characteristic (ROC) Curve of SVM')\n",
    "plt.legend()\n",
    "plt.grid()\n",
    "plt.show()"
   ]
  }
 ],
 "metadata": {
  "kernelspec": {
   "display_name": "Python 3 (ipykernel)",
   "language": "python",
   "name": "python3"
  },
  "language_info": {
   "codemirror_mode": {
    "name": "ipython",
    "version": 3
   },
   "file_extension": ".py",
   "mimetype": "text/x-python",
   "name": "python",
   "nbconvert_exporter": "python",
   "pygments_lexer": "ipython3",
   "version": "3.9.7"
  },
  "papermill": {
   "default_parameters": {},
   "duration": 25.901708,
   "end_time": "2022-08-03T05:46:40.555847",
   "environment_variables": {},
   "exception": null,
   "input_path": "__notebook__.ipynb",
   "output_path": "__notebook__.ipynb",
   "parameters": {},
   "start_time": "2022-08-03T05:46:14.654139",
   "version": "2.3.4"
  }
 },
 "nbformat": 4,
 "nbformat_minor": 5
}
