{
 "cells": [
  {
   "cell_type": "markdown",
   "id": "3b0b4420",
   "metadata": {
    "papermill": {
     "duration": 0.025131,
     "end_time": "2022-07-20T08:08:08.493519",
     "exception": false,
     "start_time": "2022-07-20T08:08:08.468388",
     "status": "completed"
    },
    "tags": []
   },
   "source": [
    "# 1. Importing Libraries"
   ]
  },
  {
   "cell_type": "code",
   "execution_count": 1,
   "id": "41f420f7",
   "metadata": {
    "execution": {
     "iopub.execute_input": "2022-07-20T08:08:08.547026Z",
     "iopub.status.busy": "2022-07-20T08:08:08.546586Z",
     "iopub.status.idle": "2022-07-20T08:08:09.740409Z",
     "shell.execute_reply": "2022-07-20T08:08:09.739519Z"
    },
    "papermill": {
     "duration": 1.224218,
     "end_time": "2022-07-20T08:08:09.743469",
     "exception": false,
     "start_time": "2022-07-20T08:08:08.519251",
     "status": "completed"
    },
    "tags": []
   },
   "outputs": [],
   "source": [
    "import numpy as np\n",
    "import pandas as pd\n",
    "import matplotlib.pyplot as plt\n",
    "import seaborn as sns\n",
    "import warnings\n",
    "warnings.filterwarnings('ignore')"
   ]
  },
  {
   "cell_type": "markdown",
   "id": "2881f8af",
   "metadata": {
    "papermill": {
     "duration": 0.02546,
     "end_time": "2022-07-20T08:08:09.794993",
     "exception": false,
     "start_time": "2022-07-20T08:08:09.769533",
     "status": "completed"
    },
    "tags": []
   },
   "source": [
    "# 2. Reading Data Set"
   ]
  },
  {
   "cell_type": "code",
   "execution_count": 2,
   "id": "1246daec",
   "metadata": {
    "execution": {
     "iopub.execute_input": "2022-07-20T08:08:09.849297Z",
     "iopub.status.busy": "2022-07-20T08:08:09.848543Z",
     "iopub.status.idle": "2022-07-20T08:08:09.866402Z",
     "shell.execute_reply": "2022-07-20T08:08:09.865397Z"
    },
    "papermill": {
     "duration": 0.048137,
     "end_time": "2022-07-20T08:08:09.869032",
     "exception": false,
     "start_time": "2022-07-20T08:08:09.820895",
     "status": "completed"
    },
    "tags": []
   },
   "outputs": [],
   "source": [
    "iris_data = pd.read_csv('E:/data science/capstone Projects/Additional projects/IRIS.csv')"
   ]
  },
  {
   "cell_type": "code",
   "execution_count": 3,
   "id": "80daf43b",
   "metadata": {
    "execution": {
     "iopub.execute_input": "2022-07-20T08:08:09.923795Z",
     "iopub.status.busy": "2022-07-20T08:08:09.923029Z",
     "iopub.status.idle": "2022-07-20T08:08:09.946878Z",
     "shell.execute_reply": "2022-07-20T08:08:09.945712Z"
    },
    "papermill": {
     "duration": 0.054097,
     "end_time": "2022-07-20T08:08:09.949397",
     "exception": false,
     "start_time": "2022-07-20T08:08:09.895300",
     "status": "completed"
    },
    "tags": []
   },
   "outputs": [
    {
     "data": {
      "text/html": [
       "<div>\n",
       "<style scoped>\n",
       "    .dataframe tbody tr th:only-of-type {\n",
       "        vertical-align: middle;\n",
       "    }\n",
       "\n",
       "    .dataframe tbody tr th {\n",
       "        vertical-align: top;\n",
       "    }\n",
       "\n",
       "    .dataframe thead th {\n",
       "        text-align: right;\n",
       "    }\n",
       "</style>\n",
       "<table border=\"1\" class=\"dataframe\">\n",
       "  <thead>\n",
       "    <tr style=\"text-align: right;\">\n",
       "      <th></th>\n",
       "      <th>sepal_length</th>\n",
       "      <th>sepal_width</th>\n",
       "      <th>petal_length</th>\n",
       "      <th>petal_width</th>\n",
       "      <th>species</th>\n",
       "    </tr>\n",
       "  </thead>\n",
       "  <tbody>\n",
       "    <tr>\n",
       "      <th>0</th>\n",
       "      <td>5.1</td>\n",
       "      <td>3.5</td>\n",
       "      <td>1.4</td>\n",
       "      <td>0.2</td>\n",
       "      <td>Iris-setosa</td>\n",
       "    </tr>\n",
       "    <tr>\n",
       "      <th>1</th>\n",
       "      <td>4.9</td>\n",
       "      <td>3.0</td>\n",
       "      <td>1.4</td>\n",
       "      <td>0.2</td>\n",
       "      <td>Iris-setosa</td>\n",
       "    </tr>\n",
       "    <tr>\n",
       "      <th>2</th>\n",
       "      <td>4.7</td>\n",
       "      <td>3.2</td>\n",
       "      <td>1.3</td>\n",
       "      <td>0.2</td>\n",
       "      <td>Iris-setosa</td>\n",
       "    </tr>\n",
       "    <tr>\n",
       "      <th>3</th>\n",
       "      <td>4.6</td>\n",
       "      <td>3.1</td>\n",
       "      <td>1.5</td>\n",
       "      <td>0.2</td>\n",
       "      <td>Iris-setosa</td>\n",
       "    </tr>\n",
       "    <tr>\n",
       "      <th>4</th>\n",
       "      <td>5.0</td>\n",
       "      <td>3.6</td>\n",
       "      <td>1.4</td>\n",
       "      <td>0.2</td>\n",
       "      <td>Iris-setosa</td>\n",
       "    </tr>\n",
       "  </tbody>\n",
       "</table>\n",
       "</div>"
      ],
      "text/plain": [
       "   sepal_length  sepal_width  petal_length  petal_width      species\n",
       "0           5.1          3.5           1.4          0.2  Iris-setosa\n",
       "1           4.9          3.0           1.4          0.2  Iris-setosa\n",
       "2           4.7          3.2           1.3          0.2  Iris-setosa\n",
       "3           4.6          3.1           1.5          0.2  Iris-setosa\n",
       "4           5.0          3.6           1.4          0.2  Iris-setosa"
      ]
     },
     "execution_count": 3,
     "metadata": {},
     "output_type": "execute_result"
    }
   ],
   "source": [
    "# print first 5 rows in dataframe\n",
    "iris_data.head()"
   ]
  },
  {
   "cell_type": "code",
   "execution_count": 4,
   "id": "eded8bb6",
   "metadata": {
    "execution": {
     "iopub.execute_input": "2022-07-20T08:08:10.003853Z",
     "iopub.status.busy": "2022-07-20T08:08:10.003417Z",
     "iopub.status.idle": "2022-07-20T08:08:10.017408Z",
     "shell.execute_reply": "2022-07-20T08:08:10.016643Z"
    },
    "papermill": {
     "duration": 0.043188,
     "end_time": "2022-07-20T08:08:10.019385",
     "exception": false,
     "start_time": "2022-07-20T08:08:09.976197",
     "status": "completed"
    },
    "tags": []
   },
   "outputs": [
    {
     "data": {
      "text/html": [
       "<div>\n",
       "<style scoped>\n",
       "    .dataframe tbody tr th:only-of-type {\n",
       "        vertical-align: middle;\n",
       "    }\n",
       "\n",
       "    .dataframe tbody tr th {\n",
       "        vertical-align: top;\n",
       "    }\n",
       "\n",
       "    .dataframe thead th {\n",
       "        text-align: right;\n",
       "    }\n",
       "</style>\n",
       "<table border=\"1\" class=\"dataframe\">\n",
       "  <thead>\n",
       "    <tr style=\"text-align: right;\">\n",
       "      <th></th>\n",
       "      <th>sepal_length</th>\n",
       "      <th>sepal_width</th>\n",
       "      <th>petal_length</th>\n",
       "      <th>petal_width</th>\n",
       "      <th>species</th>\n",
       "    </tr>\n",
       "  </thead>\n",
       "  <tbody>\n",
       "    <tr>\n",
       "      <th>145</th>\n",
       "      <td>6.7</td>\n",
       "      <td>3.0</td>\n",
       "      <td>5.2</td>\n",
       "      <td>2.3</td>\n",
       "      <td>Iris-virginica</td>\n",
       "    </tr>\n",
       "    <tr>\n",
       "      <th>146</th>\n",
       "      <td>6.3</td>\n",
       "      <td>2.5</td>\n",
       "      <td>5.0</td>\n",
       "      <td>1.9</td>\n",
       "      <td>Iris-virginica</td>\n",
       "    </tr>\n",
       "    <tr>\n",
       "      <th>147</th>\n",
       "      <td>6.5</td>\n",
       "      <td>3.0</td>\n",
       "      <td>5.2</td>\n",
       "      <td>2.0</td>\n",
       "      <td>Iris-virginica</td>\n",
       "    </tr>\n",
       "    <tr>\n",
       "      <th>148</th>\n",
       "      <td>6.2</td>\n",
       "      <td>3.4</td>\n",
       "      <td>5.4</td>\n",
       "      <td>2.3</td>\n",
       "      <td>Iris-virginica</td>\n",
       "    </tr>\n",
       "    <tr>\n",
       "      <th>149</th>\n",
       "      <td>5.9</td>\n",
       "      <td>3.0</td>\n",
       "      <td>5.1</td>\n",
       "      <td>1.8</td>\n",
       "      <td>Iris-virginica</td>\n",
       "    </tr>\n",
       "  </tbody>\n",
       "</table>\n",
       "</div>"
      ],
      "text/plain": [
       "     sepal_length  sepal_width  petal_length  petal_width         species\n",
       "145           6.7          3.0           5.2          2.3  Iris-virginica\n",
       "146           6.3          2.5           5.0          1.9  Iris-virginica\n",
       "147           6.5          3.0           5.2          2.0  Iris-virginica\n",
       "148           6.2          3.4           5.4          2.3  Iris-virginica\n",
       "149           5.9          3.0           5.1          1.8  Iris-virginica"
      ]
     },
     "execution_count": 4,
     "metadata": {},
     "output_type": "execute_result"
    }
   ],
   "source": [
    "# print last 5 rows in dataframe\n",
    "iris_data.tail()"
   ]
  },
  {
   "cell_type": "code",
   "execution_count": 5,
   "id": "1023a5d1",
   "metadata": {
    "execution": {
     "iopub.execute_input": "2022-07-20T08:08:10.074426Z",
     "iopub.status.busy": "2022-07-20T08:08:10.073748Z",
     "iopub.status.idle": "2022-07-20T08:08:10.079316Z",
     "shell.execute_reply": "2022-07-20T08:08:10.078568Z"
    },
    "papermill": {
     "duration": 0.035502,
     "end_time": "2022-07-20T08:08:10.081679",
     "exception": false,
     "start_time": "2022-07-20T08:08:10.046177",
     "status": "completed"
    },
    "tags": []
   },
   "outputs": [
    {
     "data": {
      "text/plain": [
       "(150, 5)"
      ]
     },
     "execution_count": 5,
     "metadata": {},
     "output_type": "execute_result"
    }
   ],
   "source": [
    "# Number of rows and columns\n",
    "iris_data.shape"
   ]
  },
  {
   "cell_type": "markdown",
   "id": "1decf250",
   "metadata": {
    "papermill": {
     "duration": 0.026478,
     "end_time": "2022-07-20T08:08:10.134252",
     "exception": false,
     "start_time": "2022-07-20T08:08:10.107774",
     "status": "completed"
    },
    "tags": []
   },
   "source": [
    "# 3. Exploratory Data Analysis"
   ]
  },
  {
   "cell_type": "code",
   "execution_count": 6,
   "id": "f69cfabd",
   "metadata": {
    "execution": {
     "iopub.execute_input": "2022-07-20T08:08:10.189699Z",
     "iopub.status.busy": "2022-07-20T08:08:10.189250Z",
     "iopub.status.idle": "2022-07-20T08:08:10.195808Z",
     "shell.execute_reply": "2022-07-20T08:08:10.194999Z"
    },
    "papermill": {
     "duration": 0.03608,
     "end_time": "2022-07-20T08:08:10.197899",
     "exception": false,
     "start_time": "2022-07-20T08:08:10.161819",
     "status": "completed"
    },
    "tags": []
   },
   "outputs": [
    {
     "data": {
      "text/plain": [
       "Index(['sepal_length', 'sepal_width', 'petal_length', 'petal_width',\n",
       "       'species'],\n",
       "      dtype='object')"
      ]
     },
     "execution_count": 6,
     "metadata": {},
     "output_type": "execute_result"
    }
   ],
   "source": [
    "# Print the name of columns\n",
    "iris_data.columns"
   ]
  },
  {
   "cell_type": "code",
   "execution_count": 7,
   "id": "82ce5672",
   "metadata": {
    "execution": {
     "iopub.execute_input": "2022-07-20T08:08:10.253283Z",
     "iopub.status.busy": "2022-07-20T08:08:10.252586Z",
     "iopub.status.idle": "2022-07-20T08:08:10.262481Z",
     "shell.execute_reply": "2022-07-20T08:08:10.261040Z"
    },
    "papermill": {
     "duration": 0.041558,
     "end_time": "2022-07-20T08:08:10.265515",
     "exception": false,
     "start_time": "2022-07-20T08:08:10.223957",
     "status": "completed"
    },
    "tags": []
   },
   "outputs": [],
   "source": [
    "# Rename the name of columns\n",
    "iris_data.rename(columns = {'SepalLengthCm':'sepal_length', 'SepalWidthCm':'sepal_width', 'PetalLengthCm': 'petal_length','PetalWidthCm': 'petal_width'},inplace = True)"
   ]
  },
  {
   "cell_type": "code",
   "execution_count": 8,
   "id": "538ada93",
   "metadata": {
    "execution": {
     "iopub.execute_input": "2022-07-20T08:08:10.321183Z",
     "iopub.status.busy": "2022-07-20T08:08:10.320774Z",
     "iopub.status.idle": "2022-07-20T08:08:10.345847Z",
     "shell.execute_reply": "2022-07-20T08:08:10.344851Z"
    },
    "papermill": {
     "duration": 0.056702,
     "end_time": "2022-07-20T08:08:10.348870",
     "exception": false,
     "start_time": "2022-07-20T08:08:10.292168",
     "status": "completed"
    },
    "tags": []
   },
   "outputs": [
    {
     "name": "stdout",
     "output_type": "stream",
     "text": [
      "<class 'pandas.core.frame.DataFrame'>\n",
      "RangeIndex: 150 entries, 0 to 149\n",
      "Data columns (total 5 columns):\n",
      " #   Column        Non-Null Count  Dtype  \n",
      "---  ------        --------------  -----  \n",
      " 0   sepal_length  150 non-null    float64\n",
      " 1   sepal_width   150 non-null    float64\n",
      " 2   petal_length  150 non-null    float64\n",
      " 3   petal_width   150 non-null    float64\n",
      " 4   species       150 non-null    object \n",
      "dtypes: float64(4), object(1)\n",
      "memory usage: 6.0+ KB\n"
     ]
    }
   ],
   "source": [
    "# getting some basic information about dataframe\n",
    "iris_data.info()"
   ]
  },
  {
   "cell_type": "code",
   "execution_count": 9,
   "id": "d82a870e",
   "metadata": {
    "execution": {
     "iopub.execute_input": "2022-07-20T08:08:10.405296Z",
     "iopub.status.busy": "2022-07-20T08:08:10.404198Z",
     "iopub.status.idle": "2022-07-20T08:08:10.413895Z",
     "shell.execute_reply": "2022-07-20T08:08:10.412688Z"
    },
    "papermill": {
     "duration": 0.040344,
     "end_time": "2022-07-20T08:08:10.416375",
     "exception": false,
     "start_time": "2022-07-20T08:08:10.376031",
     "status": "completed"
    },
    "tags": []
   },
   "outputs": [
    {
     "data": {
      "text/plain": [
       "sepal_length    0\n",
       "sepal_width     0\n",
       "petal_length    0\n",
       "petal_width     0\n",
       "species         0\n",
       "dtype: int64"
      ]
     },
     "execution_count": 9,
     "metadata": {},
     "output_type": "execute_result"
    }
   ],
   "source": [
    "# Checking the number of missing value\n",
    "iris_data.isnull().sum()"
   ]
  },
  {
   "cell_type": "code",
   "execution_count": 10,
   "id": "c2897a61",
   "metadata": {
    "execution": {
     "iopub.execute_input": "2022-07-20T08:08:10.472234Z",
     "iopub.status.busy": "2022-07-20T08:08:10.471456Z",
     "iopub.status.idle": "2022-07-20T08:08:10.499761Z",
     "shell.execute_reply": "2022-07-20T08:08:10.498480Z"
    },
    "papermill": {
     "duration": 0.059634,
     "end_time": "2022-07-20T08:08:10.502630",
     "exception": false,
     "start_time": "2022-07-20T08:08:10.442996",
     "status": "completed"
    },
    "tags": []
   },
   "outputs": [
    {
     "data": {
      "text/html": [
       "<div>\n",
       "<style scoped>\n",
       "    .dataframe tbody tr th:only-of-type {\n",
       "        vertical-align: middle;\n",
       "    }\n",
       "\n",
       "    .dataframe tbody tr th {\n",
       "        vertical-align: top;\n",
       "    }\n",
       "\n",
       "    .dataframe thead th {\n",
       "        text-align: right;\n",
       "    }\n",
       "</style>\n",
       "<table border=\"1\" class=\"dataframe\">\n",
       "  <thead>\n",
       "    <tr style=\"text-align: right;\">\n",
       "      <th></th>\n",
       "      <th>sepal_length</th>\n",
       "      <th>sepal_width</th>\n",
       "      <th>petal_length</th>\n",
       "      <th>petal_width</th>\n",
       "    </tr>\n",
       "  </thead>\n",
       "  <tbody>\n",
       "    <tr>\n",
       "      <th>count</th>\n",
       "      <td>150.000000</td>\n",
       "      <td>150.000000</td>\n",
       "      <td>150.000000</td>\n",
       "      <td>150.000000</td>\n",
       "    </tr>\n",
       "    <tr>\n",
       "      <th>mean</th>\n",
       "      <td>5.843333</td>\n",
       "      <td>3.054000</td>\n",
       "      <td>3.758667</td>\n",
       "      <td>1.198667</td>\n",
       "    </tr>\n",
       "    <tr>\n",
       "      <th>std</th>\n",
       "      <td>0.828066</td>\n",
       "      <td>0.433594</td>\n",
       "      <td>1.764420</td>\n",
       "      <td>0.763161</td>\n",
       "    </tr>\n",
       "    <tr>\n",
       "      <th>min</th>\n",
       "      <td>4.300000</td>\n",
       "      <td>2.000000</td>\n",
       "      <td>1.000000</td>\n",
       "      <td>0.100000</td>\n",
       "    </tr>\n",
       "    <tr>\n",
       "      <th>25%</th>\n",
       "      <td>5.100000</td>\n",
       "      <td>2.800000</td>\n",
       "      <td>1.600000</td>\n",
       "      <td>0.300000</td>\n",
       "    </tr>\n",
       "    <tr>\n",
       "      <th>50%</th>\n",
       "      <td>5.800000</td>\n",
       "      <td>3.000000</td>\n",
       "      <td>4.350000</td>\n",
       "      <td>1.300000</td>\n",
       "    </tr>\n",
       "    <tr>\n",
       "      <th>75%</th>\n",
       "      <td>6.400000</td>\n",
       "      <td>3.300000</td>\n",
       "      <td>5.100000</td>\n",
       "      <td>1.800000</td>\n",
       "    </tr>\n",
       "    <tr>\n",
       "      <th>max</th>\n",
       "      <td>7.900000</td>\n",
       "      <td>4.400000</td>\n",
       "      <td>6.900000</td>\n",
       "      <td>2.500000</td>\n",
       "    </tr>\n",
       "  </tbody>\n",
       "</table>\n",
       "</div>"
      ],
      "text/plain": [
       "       sepal_length  sepal_width  petal_length  petal_width\n",
       "count    150.000000   150.000000    150.000000   150.000000\n",
       "mean       5.843333     3.054000      3.758667     1.198667\n",
       "std        0.828066     0.433594      1.764420     0.763161\n",
       "min        4.300000     2.000000      1.000000     0.100000\n",
       "25%        5.100000     2.800000      1.600000     0.300000\n",
       "50%        5.800000     3.000000      4.350000     1.300000\n",
       "75%        6.400000     3.300000      5.100000     1.800000\n",
       "max        7.900000     4.400000      6.900000     2.500000"
      ]
     },
     "execution_count": 10,
     "metadata": {},
     "output_type": "execute_result"
    }
   ],
   "source": [
    "# Getting the statistical measure of data\n",
    "iris_data.describe()"
   ]
  },
  {
   "cell_type": "code",
   "execution_count": 11,
   "id": "9073a914",
   "metadata": {
    "execution": {
     "iopub.execute_input": "2022-07-20T08:08:10.559027Z",
     "iopub.status.busy": "2022-07-20T08:08:10.558588Z",
     "iopub.status.idle": "2022-07-20T08:08:10.567641Z",
     "shell.execute_reply": "2022-07-20T08:08:10.566589Z"
    },
    "papermill": {
     "duration": 0.040663,
     "end_time": "2022-07-20T08:08:10.570886",
     "exception": false,
     "start_time": "2022-07-20T08:08:10.530223",
     "status": "completed"
    },
    "tags": []
   },
   "outputs": [
    {
     "data": {
      "text/plain": [
       "Iris-setosa        50\n",
       "Iris-versicolor    50\n",
       "Iris-virginica     50\n",
       "Name: species, dtype: int64"
      ]
     },
     "execution_count": 11,
     "metadata": {},
     "output_type": "execute_result"
    }
   ],
   "source": [
    "# Count the value of each Species\n",
    "iris_data['species'].value_counts()"
   ]
  },
  {
   "cell_type": "code",
   "execution_count": 12,
   "id": "c271ff81",
   "metadata": {
    "execution": {
     "iopub.execute_input": "2022-07-20T08:08:10.628428Z",
     "iopub.status.busy": "2022-07-20T08:08:10.627114Z",
     "iopub.status.idle": "2022-07-20T08:08:10.803391Z",
     "shell.execute_reply": "2022-07-20T08:08:10.802217Z"
    },
    "papermill": {
     "duration": 0.207169,
     "end_time": "2022-07-20T08:08:10.805946",
     "exception": false,
     "start_time": "2022-07-20T08:08:10.598777",
     "status": "completed"
    },
    "tags": []
   },
   "outputs": [
    {
     "data": {
      "image/png": "[encoded data removed]",
      "text/plain": [
       "<Figure size 432x288 with 1 Axes>"
      ]
     },
     "metadata": {},
     "output_type": "display_data"
    }
   ],
   "source": [
    "# draw countplot of Species\n",
    "sns.set_style(\"dark\")\n",
    "sns.countplot('species', data= iris_data)\n",
    "plt.show()"
   ]
  },
  {
   "cell_type": "code",
   "execution_count": 13,
   "id": "820f79a2",
   "metadata": {
    "execution": {
     "iopub.execute_input": "2022-07-20T08:08:10.862519Z",
     "iopub.status.busy": "2022-07-20T08:08:10.861544Z",
     "iopub.status.idle": "2022-07-20T08:08:11.081312Z",
     "shell.execute_reply": "2022-07-20T08:08:11.080055Z"
    },
    "papermill": {
     "duration": 0.25076,
     "end_time": "2022-07-20T08:08:11.083908",
     "exception": false,
     "start_time": "2022-07-20T08:08:10.833148",
     "status": "completed"
    },
    "tags": []
   },
   "outputs": [
    {
     "data": {
      "image/png": "[encoded data removed]",
      "text/plain": [
       "<Figure size 432x288 with 1 Axes>"
      ]
     },
     "metadata": {},
     "output_type": "display_data"
    }
   ],
   "source": [
    "# Draw box plot of Species with sepal_length\n",
    "sns.boxplot(x='species', y = 'sepal_length', data = iris_data)\n",
    "plt.show()"
   ]
  },
  {
   "cell_type": "code",
   "execution_count": 14,
   "id": "d9d67bf2",
   "metadata": {
    "execution": {
     "iopub.execute_input": "2022-07-20T08:08:11.141545Z",
     "iopub.status.busy": "2022-07-20T08:08:11.141093Z",
     "iopub.status.idle": "2022-07-20T08:08:11.352807Z",
     "shell.execute_reply": "2022-07-20T08:08:11.351715Z"
    },
    "papermill": {
     "duration": 0.242985,
     "end_time": "2022-07-20T08:08:11.355280",
     "exception": false,
     "start_time": "2022-07-20T08:08:11.112295",
     "status": "completed"
    },
    "tags": []
   },
   "outputs": [
    {
     "data": {
      "image/png": "[encoded data removed]",
      "text/plain": [
       "<Figure size 432x288 with 1 Axes>"
      ]
     },
     "metadata": {},
     "output_type": "display_data"
    }
   ],
   "source": [
    "# Draw box plot of Species with sepal_width\n",
    "sns.boxplot(x='species', y = 'sepal_width', data = iris_data)\n",
    "plt.show()"
   ]
  },
  {
   "cell_type": "code",
   "execution_count": 15,
   "id": "1dd5c49b",
   "metadata": {
    "execution": {
     "iopub.execute_input": "2022-07-20T08:08:11.413532Z",
     "iopub.status.busy": "2022-07-20T08:08:11.412760Z",
     "iopub.status.idle": "2022-07-20T08:08:11.624507Z",
     "shell.execute_reply": "2022-07-20T08:08:11.623343Z"
    },
    "papermill": {
     "duration": 0.243713,
     "end_time": "2022-07-20T08:08:11.627171",
     "exception": false,
     "start_time": "2022-07-20T08:08:11.383458",
     "status": "completed"
    },
    "tags": []
   },
   "outputs": [
    {
     "data": {
      "image/png": "[encoded data removed]",
      "text/plain": [
       "<Figure size 432x288 with 1 Axes>"
      ]
     },
     "metadata": {},
     "output_type": "display_data"
    }
   ],
   "source": [
    "# Draw box plot of Species with petal_length\n",
    "sns.boxplot(x='species', y = 'petal_length', data = iris_data)\n",
    "plt.show()"
   ]
  },
  {
   "cell_type": "code",
   "execution_count": 16,
   "id": "33c82a95",
   "metadata": {
    "execution": {
     "iopub.execute_input": "2022-07-20T08:08:11.687405Z",
     "iopub.status.busy": "2022-07-20T08:08:11.686980Z",
     "iopub.status.idle": "2022-07-20T08:08:11.891315Z",
     "shell.execute_reply": "2022-07-20T08:08:11.890169Z"
    },
    "papermill": {
     "duration": 0.238066,
     "end_time": "2022-07-20T08:08:11.894077",
     "exception": false,
     "start_time": "2022-07-20T08:08:11.656011",
     "status": "completed"
    },
    "tags": []
   },
   "outputs": [
    {
     "data": {
      "image/png": "[encoded data removed]",
      "text/plain": [
       "<Figure size 432x288 with 1 Axes>"
      ]
     },
     "metadata": {},
     "output_type": "display_data"
    }
   ],
   "source": [
    "# Draw box plot of Species with petal_width\n",
    "sns.boxplot(x='species', y = 'petal_width', data = iris_data)\n",
    "plt.show()"
   ]
  },
  {
   "cell_type": "code",
   "execution_count": 17,
   "id": "87c55e66",
   "metadata": {
    "execution": {
     "iopub.execute_input": "2022-07-20T08:08:11.952880Z",
     "iopub.status.busy": "2022-07-20T08:08:11.952446Z",
     "iopub.status.idle": "2022-07-20T08:08:12.594826Z",
     "shell.execute_reply": "2022-07-20T08:08:12.593522Z"
    },
    "papermill": {
     "duration": 0.674577,
     "end_time": "2022-07-20T08:08:12.597342",
     "exception": false,
     "start_time": "2022-07-20T08:08:11.922765",
     "status": "completed"
    },
    "tags": []
   },
   "outputs": [
    {
     "data": {
      "image/png": "[encoded data removed]",
      "text/plain": [
       "<Figure size 1152x648 with 4 Axes>"
      ]
     },
     "metadata": {},
     "output_type": "display_data"
    }
   ],
   "source": [
    "# Draw box plot of Species with all features\n",
    "fig, axes = plt.subplots(2, 2, figsize=(16,9))\n",
    "sns.boxplot(ax = axes[0,0],data=iris_data,x='species',y ='sepal_length')\n",
    "sns.boxplot(ax = axes[0,1],data=iris_data,x='species', y ='sepal_width')\n",
    "sns.boxplot(ax = axes[1,0],data=iris_data,x='species', y ='petal_width')\n",
    "sns.boxplot(ax = axes[1,1],data=iris_data,x='species', y ='petal_length')\n",
    "plt.show()"
   ]
  },
  {
   "cell_type": "code",
   "execution_count": 17,
   "id": "a1124eda",
   "metadata": {
    "execution": {
     "iopub.execute_input": "2022-07-20T08:08:12.659827Z",
     "iopub.status.busy": "2022-07-20T08:08:12.659387Z",
     "iopub.status.idle": "2022-07-20T08:08:13.038789Z",
     "shell.execute_reply": "2022-07-20T08:08:13.037577Z"
    },
    "papermill": {
     "duration": 0.414586,
     "end_time": "2022-07-20T08:08:13.041265",
     "exception": false,
     "start_time": "2022-07-20T08:08:12.626679",
     "status": "completed"
    },
    "tags": []
   },
   "outputs": [
    {
     "data": {
      "image/png": "[encoded data removed]",
      "text/plain": [
       "<Figure size 1080x648 with 1 Axes>"
      ]
     },
     "metadata": {},
     "output_type": "display_data"
    }
   ],
   "source": [
    "# Draw scatterplot sepal_length vs sepal_width\n",
    "plt.figure(figsize=(15,9))\n",
    "sns.scatterplot(x = \"sepal_length\",y =\"sepal_width\",hue='species',data = iris_data)\n",
    "plt.show()"
   ]
  },
  {
   "cell_type": "code",
   "execution_count": 18,
   "id": "d687e50f",
   "metadata": {
    "execution": {
     "iopub.execute_input": "2022-07-20T08:08:13.103076Z",
     "iopub.status.busy": "2022-07-20T08:08:13.102690Z",
     "iopub.status.idle": "2022-07-20T08:08:13.456365Z",
     "shell.execute_reply": "2022-07-20T08:08:13.455533Z"
    },
    "papermill": {
     "duration": 0.38797,
     "end_time": "2022-07-20T08:08:13.458895",
     "exception": false,
     "start_time": "2022-07-20T08:08:13.070925",
     "status": "completed"
    },
    "tags": []
   },
   "outputs": [
    {
     "data": {
      "image/png": "[encoded data removed]",
      "text/plain": [
       "<Figure size 1080x648 with 1 Axes>"
      ]
     },
     "metadata": {},
     "output_type": "display_data"
    }
   ],
   "source": [
    "# Draw scatterplot petal_length vs petal_width\n",
    "plt.figure(figsize=(15,9))\n",
    "sns.scatterplot(x = \"petal_length\",y =\"petal_width\",hue='species',data = iris_data)\n",
    "plt.show()"
   ]
  },
  {
   "cell_type": "code",
   "execution_count": 19,
   "id": "bfe86f78",
   "metadata": {
    "execution": {
     "iopub.execute_input": "2022-07-20T08:08:13.521741Z",
     "iopub.status.busy": "2022-07-20T08:08:13.521321Z",
     "iopub.status.idle": "2022-07-20T08:08:13.858103Z",
     "shell.execute_reply": "2022-07-20T08:08:13.856902Z"
    },
    "papermill": {
     "duration": 0.371911,
     "end_time": "2022-07-20T08:08:13.860936",
     "exception": false,
     "start_time": "2022-07-20T08:08:13.489025",
     "status": "completed"
    },
    "tags": []
   },
   "outputs": [
    {
     "data": {
      "image/png": "[encoded data removed]",
      "text/plain": [
       "<Figure size 432x288 with 1 Axes>"
      ]
     },
     "metadata": {},
     "output_type": "display_data"
    }
   ],
   "source": [
    "# Draw hist plot sepal_length\n",
    "sns.histplot(x ='sepal_length',hue='species',kde=True, data= iris_data,element=\"step\")\n",
    "plt.show()"
   ]
  },
  {
   "cell_type": "code",
   "execution_count": 20,
   "id": "a91192ad",
   "metadata": {
    "execution": {
     "iopub.execute_input": "2022-07-20T08:08:13.925946Z",
     "iopub.status.busy": "2022-07-20T08:08:13.925540Z",
     "iopub.status.idle": "2022-07-20T08:08:14.205452Z",
     "shell.execute_reply": "2022-07-20T08:08:14.204626Z"
    },
    "papermill": {
     "duration": 0.315418,
     "end_time": "2022-07-20T08:08:14.207894",
     "exception": false,
     "start_time": "2022-07-20T08:08:13.892476",
     "status": "completed"
    },
    "tags": []
   },
   "outputs": [
    {
     "data": {
      "image/png": "[encoded data removed]",
      "text/plain": [
       "<Figure size 432x288 with 1 Axes>"
      ]
     },
     "metadata": {},
     "output_type": "display_data"
    }
   ],
   "source": [
    "# Draw hist plot sepal_width\n",
    "sns.histplot(x ='sepal_width',hue='species',kde=True, data= iris_data,element=\"step\")\n",
    "plt.show()"
   ]
  },
  {
   "cell_type": "code",
   "execution_count": 21,
   "id": "2fd3e183",
   "metadata": {
    "execution": {
     "iopub.execute_input": "2022-07-20T08:08:14.273753Z",
     "iopub.status.busy": "2022-07-20T08:08:14.272726Z",
     "iopub.status.idle": "2022-07-20T08:08:14.597934Z",
     "shell.execute_reply": "2022-07-20T08:08:14.597076Z"
    },
    "papermill": {
     "duration": 0.361569,
     "end_time": "2022-07-20T08:08:14.600478",
     "exception": false,
     "start_time": "2022-07-20T08:08:14.238909",
     "status": "completed"
    },
    "tags": []
   },
   "outputs": [
    {
     "data": {
      "image/png": "[encoded data removed]",
      "text/plain": [
       "<Figure size 432x288 with 1 Axes>"
      ]
     },
     "metadata": {},
     "output_type": "display_data"
    }
   ],
   "source": [
    "# Draw hist plot petal_length\n",
    "sns.histplot(x ='petal_length',hue='species',kde=True, data= iris_data,element=\"step\")\n",
    "plt.show()"
   ]
  },
  {
   "cell_type": "code",
   "execution_count": 22,
   "id": "67d818fa",
   "metadata": {
    "execution": {
     "iopub.execute_input": "2022-07-20T08:08:14.666084Z",
     "iopub.status.busy": "2022-07-20T08:08:14.665263Z",
     "iopub.status.idle": "2022-07-20T08:08:14.978781Z",
     "shell.execute_reply": "2022-07-20T08:08:14.977587Z"
    },
    "papermill": {
     "duration": 0.34987,
     "end_time": "2022-07-20T08:08:14.981627",
     "exception": false,
     "start_time": "2022-07-20T08:08:14.631757",
     "status": "completed"
    },
    "tags": []
   },
   "outputs": [
    {
     "data": {
      "image/png": "[encoded data removed]",
      "text/plain": [
       "<Figure size 432x288 with 1 Axes>"
      ]
     },
     "metadata": {},
     "output_type": "display_data"
    }
   ],
   "source": [
    "# Draw hist plot petal_width\n",
    "sns.histplot(x ='petal_width',hue='species',kde=True, data= iris_data,element=\"step\")\n",
    "plt.show()"
   ]
  },
  {
   "cell_type": "code",
   "execution_count": 23,
   "id": "9e5d4301",
   "metadata": {
    "execution": {
     "iopub.execute_input": "2022-07-20T08:08:21.740591Z",
     "iopub.status.busy": "2022-07-20T08:08:21.739772Z",
     "iopub.status.idle": "2022-07-20T08:08:21.824268Z",
     "shell.execute_reply": "2022-07-20T08:08:21.823102Z"
    },
    "papermill": {
     "duration": 0.126218,
     "end_time": "2022-07-20T08:08:21.826900",
     "exception": false,
     "start_time": "2022-07-20T08:08:21.700682",
     "status": "completed"
    },
    "tags": []
   },
   "outputs": [
    {
     "data": {
      "text/html": [
       "<style type=\"text/css\">\n",
       "#T_25bd5_row0_col0, #T_25bd5_row1_col1, #T_25bd5_row2_col2, #T_25bd5_row3_col3 {\n",
       "  background-color: #b40426;\n",
       "  color: #f1f1f1;\n",
       "}\n",
       "#T_25bd5_row0_col1 {\n",
       "  background-color: #82a6fb;\n",
       "  color: #f1f1f1;\n",
       "}\n",
       "#T_25bd5_row0_col2 {\n",
       "  background-color: #d44e41;\n",
       "  color: #f1f1f1;\n",
       "}\n",
       "#T_25bd5_row0_col3 {\n",
       "  background-color: #e0654f;\n",
       "  color: #f1f1f1;\n",
       "}\n",
       "#T_25bd5_row1_col0, #T_25bd5_row1_col2, #T_25bd5_row1_col3, #T_25bd5_row2_col1 {\n",
       "  background-color: #3b4cc0;\n",
       "  color: #f1f1f1;\n",
       "}\n",
       "#T_25bd5_row2_col0 {\n",
       "  background-color: #da5a49;\n",
       "  color: #f1f1f1;\n",
       "}\n",
       "#T_25bd5_row2_col3 {\n",
       "  background-color: #be242e;\n",
       "  color: #f1f1f1;\n",
       "}\n",
       "#T_25bd5_row3_col0 {\n",
       "  background-color: #e7745b;\n",
       "  color: #f1f1f1;\n",
       "}\n",
       "#T_25bd5_row3_col1 {\n",
       "  background-color: #485fd1;\n",
       "  color: #f1f1f1;\n",
       "}\n",
       "#T_25bd5_row3_col2 {\n",
       "  background-color: #bd1f2d;\n",
       "  color: #f1f1f1;\n",
       "}\n",
       "</style>\n",
       "<table id=\"T_25bd5_\">\n",
       "  <thead>\n",
       "    <tr>\n",
       "      <th class=\"blank level0\" >&nbsp;</th>\n",
       "      <th class=\"col_heading level0 col0\" >sepal_length</th>\n",
       "      <th class=\"col_heading level0 col1\" >sepal_width</th>\n",
       "      <th class=\"col_heading level0 col2\" >petal_length</th>\n",
       "      <th class=\"col_heading level0 col3\" >petal_width</th>\n",
       "    </tr>\n",
       "  </thead>\n",
       "  <tbody>\n",
       "    <tr>\n",
       "      <th id=\"T_25bd5_level0_row0\" class=\"row_heading level0 row0\" >sepal_length</th>\n",
       "      <td id=\"T_25bd5_row0_col0\" class=\"data row0 col0\" >1.00</td>\n",
       "      <td id=\"T_25bd5_row0_col1\" class=\"data row0 col1\" >-0.11</td>\n",
       "      <td id=\"T_25bd5_row0_col2\" class=\"data row0 col2\" >0.87</td>\n",
       "      <td id=\"T_25bd5_row0_col3\" class=\"data row0 col3\" >0.82</td>\n",
       "    </tr>\n",
       "    <tr>\n",
       "      <th id=\"T_25bd5_level0_row1\" class=\"row_heading level0 row1\" >sepal_width</th>\n",
       "      <td id=\"T_25bd5_row1_col0\" class=\"data row1 col0\" >-0.11</td>\n",
       "      <td id=\"T_25bd5_row1_col1\" class=\"data row1 col1\" >1.00</td>\n",
       "      <td id=\"T_25bd5_row1_col2\" class=\"data row1 col2\" >-0.42</td>\n",
       "      <td id=\"T_25bd5_row1_col3\" class=\"data row1 col3\" >-0.36</td>\n",
       "    </tr>\n",
       "    <tr>\n",
       "      <th id=\"T_25bd5_level0_row2\" class=\"row_heading level0 row2\" >petal_length</th>\n",
       "      <td id=\"T_25bd5_row2_col0\" class=\"data row2 col0\" >0.87</td>\n",
       "      <td id=\"T_25bd5_row2_col1\" class=\"data row2 col1\" >-0.42</td>\n",
       "      <td id=\"T_25bd5_row2_col2\" class=\"data row2 col2\" >1.00</td>\n",
       "      <td id=\"T_25bd5_row2_col3\" class=\"data row2 col3\" >0.96</td>\n",
       "    </tr>\n",
       "    <tr>\n",
       "      <th id=\"T_25bd5_level0_row3\" class=\"row_heading level0 row3\" >petal_width</th>\n",
       "      <td id=\"T_25bd5_row3_col0\" class=\"data row3 col0\" >0.82</td>\n",
       "      <td id=\"T_25bd5_row3_col1\" class=\"data row3 col1\" >-0.36</td>\n",
       "      <td id=\"T_25bd5_row3_col2\" class=\"data row3 col2\" >0.96</td>\n",
       "      <td id=\"T_25bd5_row3_col3\" class=\"data row3 col3\" >1.00</td>\n",
       "    </tr>\n",
       "  </tbody>\n",
       "</table>\n"
      ],
      "text/plain": [
       "<pandas.io.formats.style.Styler at 0x13f29a1d760>"
      ]
     },
     "execution_count": 23,
     "metadata": {},
     "output_type": "execute_result"
    }
   ],
   "source": [
    "# Find correlation matrix\n",
    "iris_data.corr().style.background_gradient(cmap='coolwarm').set_precision(2)"
   ]
  },
  {
   "cell_type": "code",
   "execution_count": 24,
   "id": "72e45a44",
   "metadata": {
    "execution": {
     "iopub.execute_input": "2022-07-20T08:08:21.906872Z",
     "iopub.status.busy": "2022-07-20T08:08:21.906056Z",
     "iopub.status.idle": "2022-07-20T08:08:22.211868Z",
     "shell.execute_reply": "2022-07-20T08:08:22.210668Z"
    },
    "papermill": {
     "duration": 0.349214,
     "end_time": "2022-07-20T08:08:22.214463",
     "exception": false,
     "start_time": "2022-07-20T08:08:21.865249",
     "status": "completed"
    },
    "tags": []
   },
   "outputs": [
    {
     "data": {
      "image/png": "[encoded data removed]",
      "text/plain": [
       "<Figure size 432x288 with 2 Axes>"
      ]
     },
     "metadata": {},
     "output_type": "display_data"
    }
   ],
   "source": [
    "# Draw heatmap\n",
    "sns.heatmap(iris_data.corr(),annot=True,cmap='Greens')\n",
    "plt.show()"
   ]
  },
  {
   "cell_type": "markdown",
   "id": "cefc3e1c",
   "metadata": {
    "papermill": {
     "duration": 0.038457,
     "end_time": "2022-07-20T08:08:22.290352",
     "exception": false,
     "start_time": "2022-07-20T08:08:22.251895",
     "status": "completed"
    },
    "tags": []
   },
   "source": [
    "# 4. Data Preprocessing"
   ]
  },
  {
   "cell_type": "code",
   "execution_count": 25,
   "id": "a7c6bea1",
   "metadata": {
    "execution": {
     "iopub.execute_input": "2022-07-20T08:08:22.367779Z",
     "iopub.status.busy": "2022-07-20T08:08:22.367348Z",
     "iopub.status.idle": "2022-07-20T08:08:22.374038Z",
     "shell.execute_reply": "2022-07-20T08:08:22.372935Z"
    },
    "papermill": {
     "duration": 0.047967,
     "end_time": "2022-07-20T08:08:22.376357",
     "exception": false,
     "start_time": "2022-07-20T08:08:22.328390",
     "status": "completed"
    },
    "tags": []
   },
   "outputs": [],
   "source": [
    "# Division of data into dependent variables and independent varibale\n",
    "X = iris_data.drop('species', axis = 1)\n",
    "y = iris_data['species']"
   ]
  },
  {
   "cell_type": "code",
   "execution_count": 27,
   "id": "95b51cfd",
   "metadata": {
    "execution": {
     "iopub.execute_input": "2022-07-20T08:08:22.646399Z",
     "iopub.status.busy": "2022-07-20T08:08:22.645679Z",
     "iopub.status.idle": "2022-07-20T08:08:22.808983Z",
     "shell.execute_reply": "2022-07-20T08:08:22.807242Z"
    },
    "papermill": {
     "duration": 0.207451,
     "end_time": "2022-07-20T08:08:22.812328",
     "exception": false,
     "start_time": "2022-07-20T08:08:22.604877",
     "status": "completed"
    },
    "tags": []
   },
   "outputs": [],
   "source": [
    "# Encoding the Dependent Variable\n",
    "from sklearn.preprocessing import LabelEncoder\n",
    "le = LabelEncoder()\n",
    "y = le.fit_transform(y)\n",
    "## print(y)"
   ]
  },
  {
   "cell_type": "code",
   "execution_count": 28,
   "id": "e1fe4f27",
   "metadata": {
    "execution": {
     "iopub.execute_input": "2022-07-20T08:08:22.893938Z",
     "iopub.status.busy": "2022-07-20T08:08:22.892846Z",
     "iopub.status.idle": "2022-07-20T08:08:22.969929Z",
     "shell.execute_reply": "2022-07-20T08:08:22.967560Z"
    },
    "papermill": {
     "duration": 0.120673,
     "end_time": "2022-07-20T08:08:22.972779",
     "exception": false,
     "start_time": "2022-07-20T08:08:22.852106",
     "status": "completed"
    },
    "tags": []
   },
   "outputs": [
    {
     "name": "stdout",
     "output_type": "stream",
     "text": [
      "The shape of X_train is: (120, 4)\n",
      "The shape of X_test is: (30, 4)\n",
      "The shape of y_train is: (120,)\n",
      "The shape of y_test is: (30,)\n"
     ]
    }
   ],
   "source": [
    "# Spliting into Train data and test data\n",
    "from sklearn.model_selection import train_test_split\n",
    "X_train, X_test, y_train, y_test = train_test_split(X,y, test_size= 0.2, random_state=101)\n",
    "\n",
    "\n",
    "print('The shape of X_train is: {}'.format(X_train.shape))\n",
    "print('The shape of X_test is: {}'.format(X_test.shape))\n",
    "print('The shape of y_train is: {}'.format(y_train.shape))\n",
    "print('The shape of y_test is: {}'.format(y_test.shape))"
   ]
  },
  {
   "cell_type": "code",
   "execution_count": 29,
   "id": "beafa1b2",
   "metadata": {
    "execution": {
     "iopub.execute_input": "2022-07-20T08:08:23.055941Z",
     "iopub.status.busy": "2022-07-20T08:08:23.055525Z",
     "iopub.status.idle": "2022-07-20T08:08:23.067383Z",
     "shell.execute_reply": "2022-07-20T08:08:23.066452Z"
    },
    "papermill": {
     "duration": 0.056313,
     "end_time": "2022-07-20T08:08:23.069920",
     "exception": false,
     "start_time": "2022-07-20T08:08:23.013607",
     "status": "completed"
    },
    "tags": []
   },
   "outputs": [],
   "source": [
    "# Feature Scaling\n",
    "from sklearn.preprocessing import StandardScaler\n",
    "sc = StandardScaler()\n",
    "X_train = sc.fit_transform(X_train)\n",
    "X_test = sc.transform(X_test)"
   ]
  },
  {
   "cell_type": "code",
   "execution_count": 30,
   "id": "cb869c76",
   "metadata": {
    "execution": {
     "iopub.execute_input": "2022-07-20T08:08:23.152200Z",
     "iopub.status.busy": "2022-07-20T08:08:23.150893Z",
     "iopub.status.idle": "2022-07-20T08:08:23.163299Z",
     "shell.execute_reply": "2022-07-20T08:08:23.162166Z"
    },
    "papermill": {
     "duration": 0.058037,
     "end_time": "2022-07-20T08:08:23.167279",
     "exception": false,
     "start_time": "2022-07-20T08:08:23.109242",
     "status": "completed"
    },
    "tags": []
   },
   "outputs": [],
   "source": [
    "# Print Standardized X_train data\n",
    "##print(X_train)"
   ]
  },
  {
   "cell_type": "code",
   "execution_count": 31,
   "id": "cf098191",
   "metadata": {
    "execution": {
     "iopub.execute_input": "2022-07-20T08:08:23.249572Z",
     "iopub.status.busy": "2022-07-20T08:08:23.248757Z",
     "iopub.status.idle": "2022-07-20T08:08:23.256716Z",
     "shell.execute_reply": "2022-07-20T08:08:23.255453Z"
    },
    "papermill": {
     "duration": 0.051464,
     "end_time": "2022-07-20T08:08:23.259296",
     "exception": false,
     "start_time": "2022-07-20T08:08:23.207832",
     "status": "completed"
    },
    "tags": []
   },
   "outputs": [],
   "source": [
    "# Print Standardized X_test data\n",
    "print(X_test)"
   ]
  },
  {
   "cell_type": "markdown",
   "id": "f8616396",
   "metadata": {
    "papermill": {
     "duration": 0.039122,
     "end_time": "2022-07-20T08:08:23.337603",
     "exception": false,
     "start_time": "2022-07-20T08:08:23.298481",
     "status": "completed"
    },
    "tags": []
   },
   "source": [
    "# 5.Model Building"
   ]
  },
  {
   "cell_type": "markdown",
   "id": "2b6e4225",
   "metadata": {
    "papermill": {
     "duration": 0.039678,
     "end_time": "2022-07-20T08:08:23.416777",
     "exception": false,
     "start_time": "2022-07-20T08:08:23.377099",
     "status": "completed"
    },
    "tags": []
   },
   "source": [
    "## 5.1 Logistic Regression"
   ]
  },
  {
   "cell_type": "code",
   "execution_count": 32,
   "id": "73cb4938",
   "metadata": {
    "execution": {
     "iopub.execute_input": "2022-07-20T08:08:23.499287Z",
     "iopub.status.busy": "2022-07-20T08:08:23.498416Z",
     "iopub.status.idle": "2022-07-20T08:08:23.600292Z",
     "shell.execute_reply": "2022-07-20T08:08:23.598986Z"
    },
    "papermill": {
     "duration": 0.146337,
     "end_time": "2022-07-20T08:08:23.602811",
     "exception": false,
     "start_time": "2022-07-20T08:08:23.456474",
     "status": "completed"
    },
    "tags": []
   },
   "outputs": [
    {
     "data": {
      "text/plain": [
       "LogisticRegression()"
      ]
     },
     "execution_count": 32,
     "metadata": {},
     "output_type": "execute_result"
    }
   ],
   "source": [
    "# Model Training\n",
    "from sklearn.linear_model import LogisticRegression\n",
    "model = LogisticRegression()\n",
    "model.fit(X_train,y_train)"
   ]
  },
  {
   "cell_type": "code",
   "execution_count": 33,
   "id": "0c6f1b7c",
   "metadata": {
    "execution": {
     "iopub.execute_input": "2022-07-20T08:08:23.684906Z",
     "iopub.status.busy": "2022-07-20T08:08:23.683780Z",
     "iopub.status.idle": "2022-07-20T08:08:23.689656Z",
     "shell.execute_reply": "2022-07-20T08:08:23.688463Z"
    },
    "papermill": {
     "duration": 0.04975,
     "end_time": "2022-07-20T08:08:23.692092",
     "exception": false,
     "start_time": "2022-07-20T08:08:23.642342",
     "status": "completed"
    },
    "tags": []
   },
   "outputs": [],
   "source": [
    "# Model prediction on train data\n",
    "pred_train = model.predict(X_train)"
   ]
  },
  {
   "cell_type": "code",
   "execution_count": 34,
   "id": "bb970584",
   "metadata": {
    "execution": {
     "iopub.execute_input": "2022-07-20T08:08:23.773894Z",
     "iopub.status.busy": "2022-07-20T08:08:23.773193Z",
     "iopub.status.idle": "2022-07-20T08:08:23.790081Z",
     "shell.execute_reply": "2022-07-20T08:08:23.788515Z"
    },
    "papermill": {
     "duration": 0.061406,
     "end_time": "2022-07-20T08:08:23.793302",
     "exception": false,
     "start_time": "2022-07-20T08:08:23.731896",
     "status": "completed"
    },
    "tags": []
   },
   "outputs": [
    {
     "name": "stdout",
     "output_type": "stream",
     "text": [
      "              precision    recall  f1-score   support\n",
      "\n",
      "           0       1.00      1.00      1.00        40\n",
      "           1       0.97      0.92      0.95        38\n",
      "           2       0.93      0.98      0.95        42\n",
      "\n",
      "    accuracy                           0.97       120\n",
      "   macro avg       0.97      0.97      0.97       120\n",
      "weighted avg       0.97      0.97      0.97       120\n",
      "\n",
      "[[40  0  0]\n",
      " [ 0 35  3]\n",
      " [ 0  1 41]]\n",
      "Accuracy Score of Model on train data is: 0.9666666666666667\n"
     ]
    }
   ],
   "source": [
    "# Model Evaluation on training data\n",
    "from sklearn.metrics import classification_report, confusion_matrix, accuracy_score\n",
    "\n",
    "# Summary of the predictions made by the classifier\n",
    "print(classification_report(y_train,pred_train))\n",
    "print(confusion_matrix(y_train,pred_train))\n",
    "\n",
    "# Accuracy score\n",
    "print('Accuracy Score of Model on train data is: {}' .format(accuracy_score(y_train,pred_train)))"
   ]
  },
  {
   "cell_type": "code",
   "execution_count": 35,
   "id": "ab3868e1",
   "metadata": {
    "execution": {
     "iopub.execute_input": "2022-07-20T08:08:23.878389Z",
     "iopub.status.busy": "2022-07-20T08:08:23.877551Z",
     "iopub.status.idle": "2022-07-20T08:08:23.883515Z",
     "shell.execute_reply": "2022-07-20T08:08:23.882595Z"
    },
    "papermill": {
     "duration": 0.052512,
     "end_time": "2022-07-20T08:08:23.885903",
     "exception": false,
     "start_time": "2022-07-20T08:08:23.833391",
     "status": "completed"
    },
    "tags": []
   },
   "outputs": [],
   "source": [
    "# Model prediction on test data\n",
    "pred_test = model.predict(X_test)"
   ]
  },
  {
   "cell_type": "code",
   "execution_count": 36,
   "id": "833981de",
   "metadata": {
    "execution": {
     "iopub.execute_input": "2022-07-20T08:08:23.968158Z",
     "iopub.status.busy": "2022-07-20T08:08:23.967509Z",
     "iopub.status.idle": "2022-07-20T08:08:23.979397Z",
     "shell.execute_reply": "2022-07-20T08:08:23.978004Z"
    },
    "papermill": {
     "duration": 0.055606,
     "end_time": "2022-07-20T08:08:23.982012",
     "exception": false,
     "start_time": "2022-07-20T08:08:23.926406",
     "status": "completed"
    },
    "tags": []
   },
   "outputs": [
    {
     "name": "stdout",
     "output_type": "stream",
     "text": [
      "              precision    recall  f1-score   support\n",
      "\n",
      "           0       1.00      1.00      1.00        10\n",
      "           1       0.92      1.00      0.96        12\n",
      "           2       1.00      0.88      0.93         8\n",
      "\n",
      "    accuracy                           0.97        30\n",
      "   macro avg       0.97      0.96      0.96        30\n",
      "weighted avg       0.97      0.97      0.97        30\n",
      "\n",
      "[[10  0  0]\n",
      " [ 0 12  0]\n",
      " [ 0  1  7]]\n",
      "Accuracy Score of Model on test data is: 0.9666666666666667\n"
     ]
    }
   ],
   "source": [
    "# Model Evaluation on test data\n",
    "\n",
    "# Summary of the predictions made by the classifier\n",
    "print(classification_report(y_test,pred_test))\n",
    "print(confusion_matrix(y_test,pred_test))\n",
    "\n",
    "# Accuracy score\n",
    "print('Accuracy Score of Model on test data is: {}' .format(accuracy_score(y_test,pred_test)))"
   ]
  },
  {
   "cell_type": "markdown",
   "id": "ea243900",
   "metadata": {
    "papermill": {
     "duration": 0.040854,
     "end_time": "2022-07-20T08:08:24.062885",
     "exception": false,
     "start_time": "2022-07-20T08:08:24.022031",
     "status": "completed"
    },
    "tags": []
   },
   "source": [
    "## 5.2 K-Nearest Neighbors"
   ]
  },
  {
   "cell_type": "code",
   "execution_count": 37,
   "id": "28ae8ff3",
   "metadata": {
    "execution": {
     "iopub.execute_input": "2022-07-20T08:08:24.144478Z",
     "iopub.status.busy": "2022-07-20T08:08:24.143826Z",
     "iopub.status.idle": "2022-07-20T08:08:24.206877Z",
     "shell.execute_reply": "2022-07-20T08:08:24.205946Z"
    },
    "papermill": {
     "duration": 0.106567,
     "end_time": "2022-07-20T08:08:24.209123",
     "exception": false,
     "start_time": "2022-07-20T08:08:24.102556",
     "status": "completed"
    },
    "tags": []
   },
   "outputs": [
    {
     "data": {
      "text/plain": [
       "KNeighborsClassifier(n_neighbors=8)"
      ]
     },
     "execution_count": 37,
     "metadata": {},
     "output_type": "execute_result"
    }
   ],
   "source": [
    "# Model Training\n",
    "from sklearn.neighbors import KNeighborsClassifier\n",
    "model = KNeighborsClassifier(n_neighbors=8)\n",
    "model.fit(X_train,y_train)"
   ]
  },
  {
   "cell_type": "code",
   "execution_count": 38,
   "id": "0db8487c",
   "metadata": {
    "execution": {
     "iopub.execute_input": "2022-07-20T08:08:24.291782Z",
     "iopub.status.busy": "2022-07-20T08:08:24.290919Z",
     "iopub.status.idle": "2022-07-20T08:08:24.308206Z",
     "shell.execute_reply": "2022-07-20T08:08:24.306990Z"
    },
    "papermill": {
     "duration": 0.061786,
     "end_time": "2022-07-20T08:08:24.310962",
     "exception": false,
     "start_time": "2022-07-20T08:08:24.249176",
     "status": "completed"
    },
    "tags": []
   },
   "outputs": [],
   "source": [
    "# Model prediction on train data\n",
    "pred_train = model.predict(X_train)"
   ]
  },
  {
   "cell_type": "code",
   "execution_count": 39,
   "id": "e6ca7f52",
   "metadata": {
    "execution": {
     "iopub.execute_input": "2022-07-20T08:08:24.392837Z",
     "iopub.status.busy": "2022-07-20T08:08:24.392428Z",
     "iopub.status.idle": "2022-07-20T08:08:24.407875Z",
     "shell.execute_reply": "2022-07-20T08:08:24.406338Z"
    },
    "papermill": {
     "duration": 0.059481,
     "end_time": "2022-07-20T08:08:24.410365",
     "exception": false,
     "start_time": "2022-07-20T08:08:24.350884",
     "status": "completed"
    },
    "tags": []
   },
   "outputs": [
    {
     "name": "stdout",
     "output_type": "stream",
     "text": [
      "              precision    recall  f1-score   support\n",
      "\n",
      "           0       1.00      1.00      1.00        40\n",
      "           1       0.88      1.00      0.94        38\n",
      "           2       1.00      0.88      0.94        42\n",
      "\n",
      "    accuracy                           0.96       120\n",
      "   macro avg       0.96      0.96      0.96       120\n",
      "weighted avg       0.96      0.96      0.96       120\n",
      "\n",
      "[[40  0  0]\n",
      " [ 0 38  0]\n",
      " [ 0  5 37]]\n",
      "Accuracy Score of Model on train data is: 0.9583333333333334\n"
     ]
    }
   ],
   "source": [
    "# Model Evaluation on training data\n",
    "from sklearn.metrics import classification_report, confusion_matrix, accuracy_score\n",
    "\n",
    "# Summary of the predictions made by the classifier\n",
    "print(classification_report(y_train,pred_train))\n",
    "print(confusion_matrix(y_train,pred_train))\n",
    "\n",
    "# Accuracy score\n",
    "print('Accuracy Score of Model on train data is: {}' .format(accuracy_score(y_train,pred_train)))"
   ]
  },
  {
   "cell_type": "code",
   "execution_count": 40,
   "id": "b797063b",
   "metadata": {
    "execution": {
     "iopub.execute_input": "2022-07-20T08:08:24.492709Z",
     "iopub.status.busy": "2022-07-20T08:08:24.492046Z",
     "iopub.status.idle": "2022-07-20T08:08:24.499262Z",
     "shell.execute_reply": "2022-07-20T08:08:24.498284Z"
    },
    "papermill": {
     "duration": 0.051538,
     "end_time": "2022-07-20T08:08:24.501992",
     "exception": false,
     "start_time": "2022-07-20T08:08:24.450454",
     "status": "completed"
    },
    "tags": []
   },
   "outputs": [],
   "source": [
    "# Model prediction on test data\n",
    "pred_test = model.predict(X_test)"
   ]
  },
  {
   "cell_type": "code",
   "execution_count": 41,
   "id": "96ae4e80",
   "metadata": {
    "execution": {
     "iopub.execute_input": "2022-07-20T08:08:24.585615Z",
     "iopub.status.busy": "2022-07-20T08:08:24.585158Z",
     "iopub.status.idle": "2022-07-20T08:08:24.598379Z",
     "shell.execute_reply": "2022-07-20T08:08:24.596485Z"
    },
    "papermill": {
     "duration": 0.058465,
     "end_time": "2022-07-20T08:08:24.600991",
     "exception": false,
     "start_time": "2022-07-20T08:08:24.542526",
     "status": "completed"
    },
    "tags": []
   },
   "outputs": [
    {
     "name": "stdout",
     "output_type": "stream",
     "text": [
      "              precision    recall  f1-score   support\n",
      "\n",
      "           0       1.00      1.00      1.00        10\n",
      "           1       1.00      1.00      1.00        12\n",
      "           2       1.00      1.00      1.00         8\n",
      "\n",
      "    accuracy                           1.00        30\n",
      "   macro avg       1.00      1.00      1.00        30\n",
      "weighted avg       1.00      1.00      1.00        30\n",
      "\n",
      "[[10  0  0]\n",
      " [ 0 12  0]\n",
      " [ 0  0  8]]\n",
      "Accuracy Score of Model on test data is: 1.0\n"
     ]
    }
   ],
   "source": [
    "# Model Evaluation on test data\n",
    "\n",
    "# Summary of the predictions made by the classifier\n",
    "print(classification_report(y_test,pred_test))\n",
    "print(confusion_matrix(y_test,pred_test))\n",
    "\n",
    "# Accuracy score\n",
    "print('Accuracy Score of Model on test data is: {}' .format(accuracy_score(y_test,pred_test)))"
   ]
  },
  {
   "cell_type": "markdown",
   "id": "0800aa53",
   "metadata": {
    "papermill": {
     "duration": 0.040067,
     "end_time": "2022-07-20T08:08:24.681422",
     "exception": false,
     "start_time": "2022-07-20T08:08:24.641355",
     "status": "completed"
    },
    "tags": []
   },
   "source": [
    "## 5.3 Gaussian Naive Bayes"
   ]
  },
  {
   "cell_type": "code",
   "execution_count": 42,
   "id": "7e644af3",
   "metadata": {
    "execution": {
     "iopub.execute_input": "2022-07-20T08:08:24.765370Z",
     "iopub.status.busy": "2022-07-20T08:08:24.764566Z",
     "iopub.status.idle": "2022-07-20T08:08:24.776289Z",
     "shell.execute_reply": "2022-07-20T08:08:24.775356Z"
    },
    "papermill": {
     "duration": 0.056702,
     "end_time": "2022-07-20T08:08:24.778873",
     "exception": false,
     "start_time": "2022-07-20T08:08:24.722171",
     "status": "completed"
    },
    "tags": []
   },
   "outputs": [
    {
     "data": {
      "text/plain": [
       "GaussianNB()"
      ]
     },
     "execution_count": 42,
     "metadata": {},
     "output_type": "execute_result"
    }
   ],
   "source": [
    "# Model Training\n",
    "from sklearn.naive_bayes import GaussianNB\n",
    "model = GaussianNB()\n",
    "model.fit(X_train,y_train)"
   ]
  },
  {
   "cell_type": "code",
   "execution_count": 43,
   "id": "5bbc789c",
   "metadata": {
    "execution": {
     "iopub.execute_input": "2022-07-20T08:08:24.865196Z",
     "iopub.status.busy": "2022-07-20T08:08:24.864390Z",
     "iopub.status.idle": "2022-07-20T08:08:24.869641Z",
     "shell.execute_reply": "2022-07-20T08:08:24.868690Z"
    },
    "papermill": {
     "duration": 0.051083,
     "end_time": "2022-07-20T08:08:24.872098",
     "exception": false,
     "start_time": "2022-07-20T08:08:24.821015",
     "status": "completed"
    },
    "tags": []
   },
   "outputs": [],
   "source": [
    "# Model prediction on train data\n",
    "pred_train = model.predict(X_train)"
   ]
  },
  {
   "cell_type": "code",
   "execution_count": 44,
   "id": "0fef45b2",
   "metadata": {
    "execution": {
     "iopub.execute_input": "2022-07-20T08:08:24.956585Z",
     "iopub.status.busy": "2022-07-20T08:08:24.955835Z",
     "iopub.status.idle": "2022-07-20T08:08:24.967983Z",
     "shell.execute_reply": "2022-07-20T08:08:24.966522Z"
    },
    "papermill": {
     "duration": 0.057012,
     "end_time": "2022-07-20T08:08:24.970300",
     "exception": false,
     "start_time": "2022-07-20T08:08:24.913288",
     "status": "completed"
    },
    "tags": []
   },
   "outputs": [
    {
     "name": "stdout",
     "output_type": "stream",
     "text": [
      "              precision    recall  f1-score   support\n",
      "\n",
      "           0       1.00      1.00      1.00        40\n",
      "           1       0.92      0.95      0.94        38\n",
      "           2       0.95      0.93      0.94        42\n",
      "\n",
      "    accuracy                           0.96       120\n",
      "   macro avg       0.96      0.96      0.96       120\n",
      "weighted avg       0.96      0.96      0.96       120\n",
      "\n",
      "[[40  0  0]\n",
      " [ 0 36  2]\n",
      " [ 0  3 39]]\n",
      "Accuracy Score of Model on train data is: 0.9583333333333334\n"
     ]
    }
   ],
   "source": [
    "# Model Evaluation on training data\n",
    "from sklearn.metrics import classification_report, confusion_matrix, accuracy_score\n",
    "\n",
    "# Summary of the predictions made by the classifier\n",
    "print(classification_report(y_train,pred_train))\n",
    "print(confusion_matrix(y_train,pred_train))\n",
    "\n",
    "# Accuracy score\n",
    "print('Accuracy Score of Model on train data is: {}' .format(accuracy_score(y_train,pred_train)))"
   ]
  },
  {
   "cell_type": "code",
   "execution_count": 45,
   "id": "be034fcc",
   "metadata": {
    "execution": {
     "iopub.execute_input": "2022-07-20T08:08:25.052967Z",
     "iopub.status.busy": "2022-07-20T08:08:25.052208Z",
     "iopub.status.idle": "2022-07-20T08:08:25.056969Z",
     "shell.execute_reply": "2022-07-20T08:08:25.056095Z"
    },
    "papermill": {
     "duration": 0.048949,
     "end_time": "2022-07-20T08:08:25.059360",
     "exception": false,
     "start_time": "2022-07-20T08:08:25.010411",
     "status": "completed"
    },
    "tags": []
   },
   "outputs": [],
   "source": [
    "# Model prediction on test data\n",
    "pred_test = model.predict(X_test)"
   ]
  },
  {
   "cell_type": "code",
   "execution_count": 46,
   "id": "19bf9d3d",
   "metadata": {
    "execution": {
     "iopub.execute_input": "2022-07-20T08:08:25.143067Z",
     "iopub.status.busy": "2022-07-20T08:08:25.142309Z",
     "iopub.status.idle": "2022-07-20T08:08:25.154009Z",
     "shell.execute_reply": "2022-07-20T08:08:25.152577Z"
    },
    "papermill": {
     "duration": 0.056192,
     "end_time": "2022-07-20T08:08:25.156568",
     "exception": false,
     "start_time": "2022-07-20T08:08:25.100376",
     "status": "completed"
    },
    "tags": []
   },
   "outputs": [
    {
     "name": "stdout",
     "output_type": "stream",
     "text": [
      "              precision    recall  f1-score   support\n",
      "\n",
      "           0       1.00      1.00      1.00        10\n",
      "           1       0.92      1.00      0.96        12\n",
      "           2       1.00      0.88      0.93         8\n",
      "\n",
      "    accuracy                           0.97        30\n",
      "   macro avg       0.97      0.96      0.96        30\n",
      "weighted avg       0.97      0.97      0.97        30\n",
      "\n",
      "[[10  0  0]\n",
      " [ 0 12  0]\n",
      " [ 0  1  7]]\n",
      "Accuracy Score of Model on test data is: 0.9666666666666667\n"
     ]
    }
   ],
   "source": [
    "# Model Evaluation on test data\n",
    "\n",
    "# Summary of the predictions made by the classifier\n",
    "print(classification_report(y_test,pred_test))\n",
    "print(confusion_matrix(y_test,pred_test))\n",
    "\n",
    "# Accuracy score\n",
    "print('Accuracy Score of Model on test data is: {}' .format(accuracy_score(y_test,pred_test)))"
   ]
  },
  {
   "cell_type": "markdown",
   "id": "8855366e",
   "metadata": {
    "papermill": {
     "duration": 0.041632,
     "end_time": "2022-07-20T08:08:25.907593",
     "exception": false,
     "start_time": "2022-07-20T08:08:25.865961",
     "status": "completed"
    },
    "tags": []
   },
   "source": [
    "# 5.4 Support Vector Machine"
   ]
  },
  {
   "cell_type": "code",
   "execution_count": 47,
   "id": "9a0d3844",
   "metadata": {
    "execution": {
     "iopub.execute_input": "2022-07-20T08:08:25.992138Z",
     "iopub.status.busy": "2022-07-20T08:08:25.991721Z",
     "iopub.status.idle": "2022-07-20T08:08:26.000549Z",
     "shell.execute_reply": "2022-07-20T08:08:25.999657Z"
    },
    "papermill": {
     "duration": 0.053847,
     "end_time": "2022-07-20T08:08:26.002914",
     "exception": false,
     "start_time": "2022-07-20T08:08:25.949067",
     "status": "completed"
    },
    "tags": []
   },
   "outputs": [
    {
     "data": {
      "text/plain": [
       "SVC()"
      ]
     },
     "execution_count": 47,
     "metadata": {},
     "output_type": "execute_result"
    }
   ],
   "source": [
    "# Model Training\n",
    "from sklearn.svm import SVC\n",
    "model = SVC()\n",
    "model.fit(X_train,y_train)"
   ]
  },
  {
   "cell_type": "code",
   "execution_count": 48,
   "id": "1dbd4efb",
   "metadata": {
    "execution": {
     "iopub.execute_input": "2022-07-20T08:08:26.088748Z",
     "iopub.status.busy": "2022-07-20T08:08:26.088295Z",
     "iopub.status.idle": "2022-07-20T08:08:26.093971Z",
     "shell.execute_reply": "2022-07-20T08:08:26.092853Z"
    },
    "papermill": {
     "duration": 0.051876,
     "end_time": "2022-07-20T08:08:26.096448",
     "exception": false,
     "start_time": "2022-07-20T08:08:26.044572",
     "status": "completed"
    },
    "tags": []
   },
   "outputs": [],
   "source": [
    "# Model prediction on train data\n",
    "pred_train = model.predict(X_train)"
   ]
  },
  {
   "cell_type": "code",
   "execution_count": 49,
   "id": "fd6f8444",
   "metadata": {
    "execution": {
     "iopub.execute_input": "2022-07-20T08:08:26.179581Z",
     "iopub.status.busy": "2022-07-20T08:08:26.179143Z",
     "iopub.status.idle": "2022-07-20T08:08:26.193896Z",
     "shell.execute_reply": "2022-07-20T08:08:26.192159Z"
    },
    "papermill": {
     "duration": 0.059851,
     "end_time": "2022-07-20T08:08:26.196847",
     "exception": false,
     "start_time": "2022-07-20T08:08:26.136996",
     "status": "completed"
    },
    "tags": []
   },
   "outputs": [
    {
     "name": "stdout",
     "output_type": "stream",
     "text": [
      "              precision    recall  f1-score   support\n",
      "\n",
      "           0       1.00      1.00      1.00        40\n",
      "           1       0.97      0.97      0.97        38\n",
      "           2       0.98      0.98      0.98        42\n",
      "\n",
      "    accuracy                           0.98       120\n",
      "   macro avg       0.98      0.98      0.98       120\n",
      "weighted avg       0.98      0.98      0.98       120\n",
      "\n",
      "[[40  0  0]\n",
      " [ 0 37  1]\n",
      " [ 0  1 41]]\n",
      "Accuracy Score of Model on train data is: 0.9833333333333333\n"
     ]
    }
   ],
   "source": [
    "# Model Evaluation on training data\n",
    "from sklearn.metrics import classification_report, confusion_matrix, accuracy_score\n",
    "\n",
    "# Summary of the predictions made by the classifier\n",
    "print(classification_report(y_train,pred_train))\n",
    "print(confusion_matrix(y_train,pred_train))\n",
    "\n",
    "# Accuracy score\n",
    "print('Accuracy Score of Model on train data is: {}' .format(accuracy_score(y_train,pred_train)))"
   ]
  },
  {
   "cell_type": "code",
   "execution_count": 50,
   "id": "3a8c60d3",
   "metadata": {
    "execution": {
     "iopub.execute_input": "2022-07-20T08:08:26.280589Z",
     "iopub.status.busy": "2022-07-20T08:08:26.280155Z",
     "iopub.status.idle": "2022-07-20T08:08:26.285226Z",
     "shell.execute_reply": "2022-07-20T08:08:26.284384Z"
    },
    "papermill": {
     "duration": 0.049692,
     "end_time": "2022-07-20T08:08:26.287322",
     "exception": false,
     "start_time": "2022-07-20T08:08:26.237630",
     "status": "completed"
    },
    "tags": []
   },
   "outputs": [],
   "source": [
    "# Model prediction on test data\n",
    "pred_test = model.predict(X_test)"
   ]
  },
  {
   "cell_type": "code",
   "execution_count": 51,
   "id": "27dacf04",
   "metadata": {
    "execution": {
     "iopub.execute_input": "2022-07-20T08:08:26.371446Z",
     "iopub.status.busy": "2022-07-20T08:08:26.371001Z",
     "iopub.status.idle": "2022-07-20T08:08:26.386330Z",
     "shell.execute_reply": "2022-07-20T08:08:26.384581Z"
    },
    "papermill": {
     "duration": 0.061363,
     "end_time": "2022-07-20T08:08:26.389634",
     "exception": false,
     "start_time": "2022-07-20T08:08:26.328271",
     "status": "completed"
    },
    "tags": []
   },
   "outputs": [
    {
     "name": "stdout",
     "output_type": "stream",
     "text": [
      "              precision    recall  f1-score   support\n",
      "\n",
      "           0       1.00      0.90      0.95        10\n",
      "           1       0.92      1.00      0.96        12\n",
      "           2       1.00      1.00      1.00         8\n",
      "\n",
      "    accuracy                           0.97        30\n",
      "   macro avg       0.97      0.97      0.97        30\n",
      "weighted avg       0.97      0.97      0.97        30\n",
      "\n",
      "[[ 9  1  0]\n",
      " [ 0 12  0]\n",
      " [ 0  0  8]]\n",
      "Accuracy Score of Model on test data is: 0.9666666666666667\n"
     ]
    }
   ],
   "source": [
    "# Model Evaluation on test data\n",
    "\n",
    "# Summary of the predictions made by the classifier\n",
    "print(classification_report(y_test,pred_test))\n",
    "print(confusion_matrix(y_test,pred_test))\n",
    "\n",
    "# Accuracy score\n",
    "print('Accuracy Score of Model on test data is: {}' .format(accuracy_score(y_test,pred_test)))"
   ]
  },
  {
   "cell_type": "markdown",
   "id": "935efb57",
   "metadata": {
    "papermill": {
     "duration": 0.040923,
     "end_time": "2022-07-20T08:08:26.471398",
     "exception": false,
     "start_time": "2022-07-20T08:08:26.430475",
     "status": "completed"
    },
    "tags": []
   },
   "source": [
    "\n",
    "# 5.5Decision Tree"
   ]
  },
  {
   "cell_type": "code",
   "execution_count": 52,
   "id": "4cd2d9fd",
   "metadata": {
    "execution": {
     "iopub.execute_input": "2022-07-20T08:08:26.556690Z",
     "iopub.status.busy": "2022-07-20T08:08:26.556216Z",
     "iopub.status.idle": "2022-07-20T08:08:26.596761Z",
     "shell.execute_reply": "2022-07-20T08:08:26.595651Z"
    },
    "papermill": {
     "duration": 0.086554,
     "end_time": "2022-07-20T08:08:26.599135",
     "exception": false,
     "start_time": "2022-07-20T08:08:26.512581",
     "status": "completed"
    },
    "tags": []
   },
   "outputs": [
    {
     "data": {
      "text/plain": [
       "DecisionTreeClassifier()"
      ]
     },
     "execution_count": 52,
     "metadata": {},
     "output_type": "execute_result"
    }
   ],
   "source": [
    "# Model Training\n",
    "from sklearn.tree import DecisionTreeClassifier\n",
    "model = DecisionTreeClassifier()\n",
    "model.fit(X_train,y_train)"
   ]
  },
  {
   "cell_type": "code",
   "execution_count": 53,
   "id": "52d43ae8",
   "metadata": {
    "execution": {
     "iopub.execute_input": "2022-07-20T08:08:26.684958Z",
     "iopub.status.busy": "2022-07-20T08:08:26.684424Z",
     "iopub.status.idle": "2022-07-20T08:08:26.690243Z",
     "shell.execute_reply": "2022-07-20T08:08:26.689067Z"
    },
    "papermill": {
     "duration": 0.051237,
     "end_time": "2022-07-20T08:08:26.692954",
     "exception": false,
     "start_time": "2022-07-20T08:08:26.641717",
     "status": "completed"
    },
    "tags": []
   },
   "outputs": [],
   "source": [
    "# Model prediction on train data\n",
    "pred_train = model.predict(X_train)"
   ]
  },
  {
   "cell_type": "code",
   "execution_count": 54,
   "id": "6927f931",
   "metadata": {
    "execution": {
     "iopub.execute_input": "2022-07-20T08:08:26.778357Z",
     "iopub.status.busy": "2022-07-20T08:08:26.777516Z",
     "iopub.status.idle": "2022-07-20T08:08:26.789659Z",
     "shell.execute_reply": "2022-07-20T08:08:26.788195Z"
    },
    "papermill": {
     "duration": 0.057151,
     "end_time": "2022-07-20T08:08:26.792327",
     "exception": false,
     "start_time": "2022-07-20T08:08:26.735176",
     "status": "completed"
    },
    "tags": []
   },
   "outputs": [
    {
     "name": "stdout",
     "output_type": "stream",
     "text": [
      "              precision    recall  f1-score   support\n",
      "\n",
      "           0       1.00      1.00      1.00        40\n",
      "           1       1.00      1.00      1.00        38\n",
      "           2       1.00      1.00      1.00        42\n",
      "\n",
      "    accuracy                           1.00       120\n",
      "   macro avg       1.00      1.00      1.00       120\n",
      "weighted avg       1.00      1.00      1.00       120\n",
      "\n",
      "[[40  0  0]\n",
      " [ 0 38  0]\n",
      " [ 0  0 42]]\n",
      "Accuracy Score of Model on train data is: 1.0\n"
     ]
    }
   ],
   "source": [
    "# Model Evaluation on training data\n",
    "from sklearn.metrics import classification_report, confusion_matrix, accuracy_score\n",
    "\n",
    "# Summary of the predictions made by the classifier\n",
    "print(classification_report(y_train,pred_train))\n",
    "print(confusion_matrix(y_train,pred_train))\n",
    "\n",
    "# Accuracy score\n",
    "print('Accuracy Score of Model on train data is: {}' .format(accuracy_score(y_train,pred_train)))"
   ]
  },
  {
   "cell_type": "code",
   "execution_count": 55,
   "id": "e939741e",
   "metadata": {
    "execution": {
     "iopub.execute_input": "2022-07-20T08:08:26.877304Z",
     "iopub.status.busy": "2022-07-20T08:08:26.876477Z",
     "iopub.status.idle": "2022-07-20T08:08:26.882030Z",
     "shell.execute_reply": "2022-07-20T08:08:26.880941Z"
    },
    "papermill": {
     "duration": 0.050851,
     "end_time": "2022-07-20T08:08:26.884533",
     "exception": false,
     "start_time": "2022-07-20T08:08:26.833682",
     "status": "completed"
    },
    "tags": []
   },
   "outputs": [],
   "source": [
    "# Model prediction on test data\n",
    "pred_test = model.predict(X_test)"
   ]
  },
  {
   "cell_type": "code",
   "execution_count": 56,
   "id": "36565820",
   "metadata": {
    "execution": {
     "iopub.execute_input": "2022-07-20T08:08:26.968114Z",
     "iopub.status.busy": "2022-07-20T08:08:26.967721Z",
     "iopub.status.idle": "2022-07-20T08:08:26.980690Z",
     "shell.execute_reply": "2022-07-20T08:08:26.979566Z"
    },
    "papermill": {
     "duration": 0.058028,
     "end_time": "2022-07-20T08:08:26.983648",
     "exception": false,
     "start_time": "2022-07-20T08:08:26.925620",
     "status": "completed"
    },
    "tags": []
   },
   "outputs": [
    {
     "name": "stdout",
     "output_type": "stream",
     "text": [
      "              precision    recall  f1-score   support\n",
      "\n",
      "           0       1.00      1.00      1.00        10\n",
      "           1       0.92      1.00      0.96        12\n",
      "           2       1.00      0.88      0.93         8\n",
      "\n",
      "    accuracy                           0.97        30\n",
      "   macro avg       0.97      0.96      0.96        30\n",
      "weighted avg       0.97      0.97      0.97        30\n",
      "\n",
      "[[10  0  0]\n",
      " [ 0 12  0]\n",
      " [ 0  1  7]]\n",
      "Accuracy Score of Model on test data is: 0.9666666666666667\n"
     ]
    }
   ],
   "source": [
    "# Model Evaluation on test data\n",
    "\n",
    "# Summary of the predictions made by the classifier\n",
    "print(classification_report(y_test,pred_test))\n",
    "print(confusion_matrix(y_test,pred_test))\n",
    "\n",
    "# Accuracy score\n",
    "print('Accuracy Score of Model on test data is: {}' .format(accuracy_score(y_test,pred_test)))"
   ]
  },
  {
   "cell_type": "markdown",
   "id": "39a7de7f",
   "metadata": {
    "papermill": {
     "duration": 0.041065,
     "end_time": "2022-07-20T08:08:27.065911",
     "exception": false,
     "start_time": "2022-07-20T08:08:27.024846",
     "status": "completed"
    },
    "tags": []
   },
   "source": [
    "# 5.6 Random Forest"
   ]
  },
  {
   "cell_type": "code",
   "execution_count": 57,
   "id": "966bad89",
   "metadata": {
    "execution": {
     "iopub.execute_input": "2022-07-20T08:08:27.151485Z",
     "iopub.status.busy": "2022-07-20T08:08:27.150752Z",
     "iopub.status.idle": "2022-07-20T08:08:27.391954Z",
     "shell.execute_reply": "2022-07-20T08:08:27.390910Z"
    },
    "papermill": {
     "duration": 0.287531,
     "end_time": "2022-07-20T08:08:27.394651",
     "exception": false,
     "start_time": "2022-07-20T08:08:27.107120",
     "status": "completed"
    },
    "tags": []
   },
   "outputs": [
    {
     "data": {
      "text/plain": [
       "RandomForestClassifier()"
      ]
     },
     "execution_count": 57,
     "metadata": {},
     "output_type": "execute_result"
    }
   ],
   "source": [
    "# Model Training\n",
    "from sklearn.ensemble import RandomForestClassifier\n",
    "model = RandomForestClassifier()\n",
    "model.fit(X_train,y_train)"
   ]
  },
  {
   "cell_type": "code",
   "execution_count": 58,
   "id": "c3c28f71",
   "metadata": {
    "execution": {
     "iopub.execute_input": "2022-07-20T08:08:27.479720Z",
     "iopub.status.busy": "2022-07-20T08:08:27.478766Z",
     "iopub.status.idle": "2022-07-20T08:08:27.498042Z",
     "shell.execute_reply": "2022-07-20T08:08:27.496862Z"
    },
    "papermill": {
     "duration": 0.064776,
     "end_time": "2022-07-20T08:08:27.500667",
     "exception": false,
     "start_time": "2022-07-20T08:08:27.435891",
     "status": "completed"
    },
    "tags": []
   },
   "outputs": [],
   "source": [
    "# Model prediction on train data\n",
    "pred_train = model.predict(X_train)"
   ]
  },
  {
   "cell_type": "code",
   "execution_count": 59,
   "id": "b51d314b",
   "metadata": {
    "execution": {
     "iopub.execute_input": "2022-07-20T08:08:27.585900Z",
     "iopub.status.busy": "2022-07-20T08:08:27.584689Z",
     "iopub.status.idle": "2022-07-20T08:08:27.599242Z",
     "shell.execute_reply": "2022-07-20T08:08:27.597577Z"
    },
    "papermill": {
     "duration": 0.059901,
     "end_time": "2022-07-20T08:08:27.601852",
     "exception": false,
     "start_time": "2022-07-20T08:08:27.541951",
     "status": "completed"
    },
    "tags": []
   },
   "outputs": [
    {
     "name": "stdout",
     "output_type": "stream",
     "text": [
      "              precision    recall  f1-score   support\n",
      "\n",
      "           0       1.00      1.00      1.00        40\n",
      "           1       1.00      1.00      1.00        38\n",
      "           2       1.00      1.00      1.00        42\n",
      "\n",
      "    accuracy                           1.00       120\n",
      "   macro avg       1.00      1.00      1.00       120\n",
      "weighted avg       1.00      1.00      1.00       120\n",
      "\n",
      "[[40  0  0]\n",
      " [ 0 38  0]\n",
      " [ 0  0 42]]\n",
      "Accuracy Score of Model on train data is: 1.0\n"
     ]
    }
   ],
   "source": [
    "# Model Evaluation on training data\n",
    "from sklearn.metrics import classification_report, confusion_matrix, accuracy_score\n",
    "\n",
    "# Summary of the predictions made by the classifier\n",
    "print(classification_report(y_train,pred_train))\n",
    "print(confusion_matrix(y_train,pred_train))\n",
    "\n",
    "# Accuracy score\n",
    "print('Accuracy Score of Model on train data is: {}' .format(accuracy_score(y_train,pred_train)))"
   ]
  },
  {
   "cell_type": "code",
   "execution_count": 62,
   "id": "3639c6a8",
   "metadata": {},
   "outputs": [
    {
     "name": "stdout",
     "output_type": "stream",
     "text": [
      "              precision    recall  f1-score   support\n",
      "\n",
      "           0       1.00      1.00      1.00        10\n",
      "           1       0.92      1.00      0.96        12\n",
      "           2       1.00      0.88      0.93         8\n",
      "\n",
      "    accuracy                           0.97        30\n",
      "   macro avg       0.97      0.96      0.96        30\n",
      "weighted avg       0.97      0.97      0.97        30\n",
      "\n",
      "[[10  0  0]\n",
      " [ 0 12  0]\n",
      " [ 0  1  7]]\n"
     ]
    }
   ],
   "source": [
    "# Summary of the predictions made by the classifier\n",
    "print(classification_report(y_test,pred_test))\n",
    "print(confusion_matrix(y_test,pred_test))\n"
   ]
  },
  {
   "cell_type": "code",
   "execution_count": null,
   "id": "c6094e02",
   "metadata": {},
   "outputs": [],
   "source": []
  }
 ],
 "metadata": {
  "kernelspec": {
   "display_name": "Python 3 (ipykernel)",
   "language": "python",
   "name": "python3"
  },
  "language_info": {
   "codemirror_mode": {
    "name": "ipython",
    "version": 3
   },
   "file_extension": ".py",
   "mimetype": "text/x-python",
   "name": "python",
   "nbconvert_exporter": "python",
   "pygments_lexer": "ipython3",
   "version": "3.9.7"
  },
  "papermill": {
   "default_parameters": {},
   "duration": 33.933617,
   "end_time": "2022-07-20T08:08:31.778237",
   "environment_variables": {},
   "exception": null,
   "input_path": "__notebook__.ipynb",
   "output_path": "__notebook__.ipynb",
   "parameters": {},
   "start_time": "2022-07-20T08:07:57.844620",
   "version": "2.3.4"
  }
 },
 "nbformat": 4,
 "nbformat_minor": 5
}
