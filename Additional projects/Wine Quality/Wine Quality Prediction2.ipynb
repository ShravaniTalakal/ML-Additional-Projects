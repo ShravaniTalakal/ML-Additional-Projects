{
 "cells": [
  {
   "cell_type": "markdown",
   "metadata": {},
   "source": [
    "## Importing necessary packages"
   ]
  },
  {
   "cell_type": "code",
   "execution_count": 1,
   "metadata": {
    "_cell_guid": "b1076dfc-b9ad-4769-8c92-a6c4dae69d19",
    "_uuid": "8f2839f25d086af736a60e9eeb907d3b93b6e0e5"
   },
   "outputs": [],
   "source": [
    "import numpy as np\n",
    "import pandas as pd\n",
    "import seaborn as sn\n",
    "import matplotlib.pyplot as plt\n",
    "from sklearn.model_selection import train_test_split\n",
    "from sklearn.metrics import accuracy_score\n",
    "from sklearn.metrics import confusion_matrix\n",
    "from sklearn.metrics import classification_report"
   ]
  },
  {
   "cell_type": "markdown",
   "metadata": {},
   "source": [
    "## Reading the data"
   ]
  },
  {
   "cell_type": "code",
   "execution_count": 2,
   "metadata": {},
   "outputs": [],
   "source": [
    "df = pd.read_csv('E:/data science/capstone Projects/Additional projects/Wine Quality/winequalityN.csv')"
   ]
  },
  {
   "cell_type": "code",
   "execution_count": 3,
   "metadata": {},
   "outputs": [
    {
     "data": {
      "text/html": [
       "<div>\n",
       "<style scoped>\n",
       "    .dataframe tbody tr th:only-of-type {\n",
       "        vertical-align: middle;\n",
       "    }\n",
       "\n",
       "    .dataframe tbody tr th {\n",
       "        vertical-align: top;\n",
       "    }\n",
       "\n",
       "    .dataframe thead th {\n",
       "        text-align: right;\n",
       "    }\n",
       "</style>\n",
       "<table border=\"1\" class=\"dataframe\">\n",
       "  <thead>\n",
       "    <tr style=\"text-align: right;\">\n",
       "      <th></th>\n",
       "      <th>type</th>\n",
       "      <th>fixed acidity</th>\n",
       "      <th>volatile acidity</th>\n",
       "      <th>citric acid</th>\n",
       "      <th>residual sugar</th>\n",
       "      <th>chlorides</th>\n",
       "      <th>free sulfur dioxide</th>\n",
       "      <th>total sulfur dioxide</th>\n",
       "      <th>density</th>\n",
       "      <th>pH</th>\n",
       "      <th>sulphates</th>\n",
       "      <th>alcohol</th>\n",
       "      <th>quality</th>\n",
       "    </tr>\n",
       "  </thead>\n",
       "  <tbody>\n",
       "    <tr>\n",
       "      <th>1599</th>\n",
       "      <td>white</td>\n",
       "      <td>6.7</td>\n",
       "      <td>0.33</td>\n",
       "      <td>0.49</td>\n",
       "      <td>1.6</td>\n",
       "      <td>0.167</td>\n",
       "      <td>20.0</td>\n",
       "      <td>94.0</td>\n",
       "      <td>0.99140</td>\n",
       "      <td>3.11</td>\n",
       "      <td>0.50</td>\n",
       "      <td>11.40</td>\n",
       "      <td>6</td>\n",
       "    </tr>\n",
       "    <tr>\n",
       "      <th>2407</th>\n",
       "      <td>white</td>\n",
       "      <td>7.6</td>\n",
       "      <td>0.31</td>\n",
       "      <td>0.27</td>\n",
       "      <td>5.8</td>\n",
       "      <td>0.036</td>\n",
       "      <td>23.0</td>\n",
       "      <td>109.0</td>\n",
       "      <td>0.99399</td>\n",
       "      <td>3.34</td>\n",
       "      <td>0.54</td>\n",
       "      <td>11.00</td>\n",
       "      <td>6</td>\n",
       "    </tr>\n",
       "    <tr>\n",
       "      <th>209</th>\n",
       "      <td>white</td>\n",
       "      <td>6.1</td>\n",
       "      <td>0.40</td>\n",
       "      <td>0.31</td>\n",
       "      <td>0.9</td>\n",
       "      <td>0.048</td>\n",
       "      <td>23.0</td>\n",
       "      <td>170.0</td>\n",
       "      <td>0.99300</td>\n",
       "      <td>3.22</td>\n",
       "      <td>0.77</td>\n",
       "      <td>9.50</td>\n",
       "      <td>6</td>\n",
       "    </tr>\n",
       "    <tr>\n",
       "      <th>6390</th>\n",
       "      <td>red</td>\n",
       "      <td>6.2</td>\n",
       "      <td>0.65</td>\n",
       "      <td>0.06</td>\n",
       "      <td>1.6</td>\n",
       "      <td>0.050</td>\n",
       "      <td>6.0</td>\n",
       "      <td>18.0</td>\n",
       "      <td>0.99348</td>\n",
       "      <td>3.57</td>\n",
       "      <td>0.54</td>\n",
       "      <td>11.95</td>\n",
       "      <td>5</td>\n",
       "    </tr>\n",
       "    <tr>\n",
       "      <th>1820</th>\n",
       "      <td>white</td>\n",
       "      <td>6.8</td>\n",
       "      <td>0.30</td>\n",
       "      <td>0.35</td>\n",
       "      <td>2.8</td>\n",
       "      <td>0.038</td>\n",
       "      <td>10.0</td>\n",
       "      <td>164.0</td>\n",
       "      <td>0.99120</td>\n",
       "      <td>3.09</td>\n",
       "      <td>0.53</td>\n",
       "      <td>12.00</td>\n",
       "      <td>6</td>\n",
       "    </tr>\n",
       "  </tbody>\n",
       "</table>\n",
       "</div>"
      ],
      "text/plain": [
       "       type  fixed acidity  volatile acidity  citric acid  residual sugar  \\\n",
       "1599  white            6.7              0.33         0.49             1.6   \n",
       "2407  white            7.6              0.31         0.27             5.8   \n",
       "209   white            6.1              0.40         0.31             0.9   \n",
       "6390    red            6.2              0.65         0.06             1.6   \n",
       "1820  white            6.8              0.30         0.35             2.8   \n",
       "\n",
       "      chlorides  free sulfur dioxide  total sulfur dioxide  density    pH  \\\n",
       "1599      0.167                 20.0                  94.0  0.99140  3.11   \n",
       "2407      0.036                 23.0                 109.0  0.99399  3.34   \n",
       "209       0.048                 23.0                 170.0  0.99300  3.22   \n",
       "6390      0.050                  6.0                  18.0  0.99348  3.57   \n",
       "1820      0.038                 10.0                 164.0  0.99120  3.09   \n",
       "\n",
       "      sulphates  alcohol  quality  \n",
       "1599       0.50    11.40        6  \n",
       "2407       0.54    11.00        6  \n",
       "209        0.77     9.50        6  \n",
       "6390       0.54    11.95        5  \n",
       "1820       0.53    12.00        6  "
      ]
     },
     "execution_count": 3,
     "metadata": {},
     "output_type": "execute_result"
    }
   ],
   "source": [
    "df.sample(5)"
   ]
  },
  {
   "cell_type": "markdown",
   "metadata": {},
   "source": [
    "## Data Cleaning and Preprocessing\n",
    "\n",
    "Before performing any analysis on data, it's important to deal with null values as they are prone to major errors and inconsistencies"
   ]
  },
  {
   "cell_type": "markdown",
   "metadata": {},
   "source": [
    "Now we check for total no. of null values in each column"
   ]
  },
  {
   "cell_type": "code",
   "execution_count": 4,
   "metadata": {},
   "outputs": [
    {
     "data": {
      "text/plain": [
       "type                     0\n",
       "fixed acidity           10\n",
       "volatile acidity         8\n",
       "citric acid              3\n",
       "residual sugar           2\n",
       "chlorides                2\n",
       "free sulfur dioxide      0\n",
       "total sulfur dioxide     0\n",
       "density                  0\n",
       "pH                       9\n",
       "sulphates                4\n",
       "alcohol                  0\n",
       "quality                  0\n",
       "dtype: int64"
      ]
     },
     "execution_count": 4,
     "metadata": {},
     "output_type": "execute_result"
    }
   ],
   "source": [
    "df.isna().sum()"
   ]
  },
  {
   "cell_type": "markdown",
   "metadata": {},
   "source": [
    "There are null values present in the following columns:\n",
    "'fixed acidity', 'volatile acidity', 'citric acid', 'residual sugar', 'chlorides', 'pH', 'sulphates'"
   ]
  },
  {
   "cell_type": "markdown",
   "metadata": {},
   "source": [
    "For each column, instead of dropping rows with null values, I will instead be replacing them with either median or mean. Simply dropping the rows will considerably reduce the size of the dataset and hence might degrade performance of the models"
   ]
  },
  {
   "cell_type": "code",
   "execution_count": 5,
   "metadata": {},
   "outputs": [
    {
     "data": {
      "text/plain": [
       "0"
      ]
     },
     "execution_count": 5,
     "metadata": {},
     "output_type": "execute_result"
    }
   ],
   "source": [
    "#Replacing null values in fixed acidity with median\n",
    "df['fixed acidity'].fillna(df['fixed acidity'].median(), inplace=True)\n",
    "df['fixed acidity'].isna().sum()"
   ]
  },
  {
   "cell_type": "code",
   "execution_count": 6,
   "metadata": {},
   "outputs": [
    {
     "data": {
      "text/plain": [
       "0"
      ]
     },
     "execution_count": 6,
     "metadata": {},
     "output_type": "execute_result"
    }
   ],
   "source": [
    "#Replacing null values in volatile acidity with mean\n",
    "df['volatile acidity'].fillna(df['volatile acidity'].mean(), inplace=True)\n",
    "df['volatile acidity'].isna().sum()"
   ]
  },
  {
   "cell_type": "code",
   "execution_count": 7,
   "metadata": {},
   "outputs": [
    {
     "data": {
      "text/plain": [
       "0"
      ]
     },
     "execution_count": 7,
     "metadata": {},
     "output_type": "execute_result"
    }
   ],
   "source": [
    "#Replacing null values in citric acid with mean\n",
    "df['citric acid'].fillna(df['citric acid'].mean(), inplace=True)\n",
    "df['citric acid'].isna().sum()"
   ]
  },
  {
   "cell_type": "code",
   "execution_count": 8,
   "metadata": {},
   "outputs": [
    {
     "data": {
      "text/plain": [
       "0"
      ]
     },
     "execution_count": 8,
     "metadata": {},
     "output_type": "execute_result"
    }
   ],
   "source": [
    "#Replacing null values in residual sugar with mean\n",
    "df['residual sugar'].fillna(df['residual sugar'].mean(), inplace=True)\n",
    "df['residual sugar'].isna().sum()"
   ]
  },
  {
   "cell_type": "code",
   "execution_count": 9,
   "metadata": {},
   "outputs": [
    {
     "data": {
      "text/plain": [
       "0"
      ]
     },
     "execution_count": 9,
     "metadata": {},
     "output_type": "execute_result"
    }
   ],
   "source": [
    "#Replacing null values in chlorides with median\n",
    "df['chlorides'].fillna(df['chlorides'].median(), inplace=True)\n",
    "df['chlorides'].isna().sum()"
   ]
  },
  {
   "cell_type": "code",
   "execution_count": 10,
   "metadata": {},
   "outputs": [
    {
     "data": {
      "text/plain": [
       "0"
      ]
     },
     "execution_count": 10,
     "metadata": {},
     "output_type": "execute_result"
    }
   ],
   "source": [
    "#Replacing null values in pH with mean\n",
    "df['pH'].fillna(df['pH'].mean(), inplace=True)\n",
    "df['pH'].isna().sum()"
   ]
  },
  {
   "cell_type": "code",
   "execution_count": 11,
   "metadata": {},
   "outputs": [
    {
     "data": {
      "text/plain": [
       "0"
      ]
     },
     "execution_count": 11,
     "metadata": {},
     "output_type": "execute_result"
    }
   ],
   "source": [
    "#Replacing null values in sulphates with median\n",
    "df['sulphates'].fillna(df['sulphates'].median(), inplace=True)\n",
    "df['sulphates'].isna().sum()"
   ]
  },
  {
   "cell_type": "code",
   "execution_count": 12,
   "metadata": {},
   "outputs": [
    {
     "data": {
      "text/plain": [
       "type                    0\n",
       "fixed acidity           0\n",
       "volatile acidity        0\n",
       "citric acid             0\n",
       "residual sugar          0\n",
       "chlorides               0\n",
       "free sulfur dioxide     0\n",
       "total sulfur dioxide    0\n",
       "density                 0\n",
       "pH                      0\n",
       "sulphates               0\n",
       "alcohol                 0\n",
       "quality                 0\n",
       "dtype: int64"
      ]
     },
     "execution_count": 12,
     "metadata": {},
     "output_type": "execute_result"
    }
   ],
   "source": [
    "df.isna().sum()"
   ]
  },
  {
   "cell_type": "markdown",
   "metadata": {},
   "source": [
    "No more null values."
   ]
  },
  {
   "cell_type": "markdown",
   "metadata": {},
   "source": [
    "Now, since we're predicting the target variable quality, we'll have to categorize the numbers into low, medium and high and then encode it to 0,1 and 2 for classification"
   ]
  },
  {
   "cell_type": "code",
   "execution_count": 13,
   "metadata": {},
   "outputs": [
    {
     "data": {
      "text/plain": [
       "6    2836\n",
       "5    2138\n",
       "7    1079\n",
       "4     216\n",
       "8     193\n",
       "3      30\n",
       "9       5\n",
       "Name: quality, dtype: int64"
      ]
     },
     "execution_count": 13,
     "metadata": {},
     "output_type": "execute_result"
    }
   ],
   "source": [
    "df['quality'].min()\n",
    "df['quality'].value_counts()"
   ]
  },
  {
   "cell_type": "code",
   "execution_count": 14,
   "metadata": {},
   "outputs": [],
   "source": [
    "#Mapping values of target variable quality to 'low', 'medium' and 'high' categories for classification\n",
    "df['quality']=df['quality'].map({3:'low', 4:'low', 5:'medium', 6:'medium', 7:'medium', 8:'high', 9:'high'})"
   ]
  },
  {
   "cell_type": "code",
   "execution_count": 15,
   "metadata": {},
   "outputs": [],
   "source": [
    "df['quality']=df['quality'].map({'low':0,'medium':1,'high':2})"
   ]
  },
  {
   "cell_type": "code",
   "execution_count": 16,
   "metadata": {},
   "outputs": [
    {
     "data": {
      "text/html": [
       "<div>\n",
       "<style scoped>\n",
       "    .dataframe tbody tr th:only-of-type {\n",
       "        vertical-align: middle;\n",
       "    }\n",
       "\n",
       "    .dataframe tbody tr th {\n",
       "        vertical-align: top;\n",
       "    }\n",
       "\n",
       "    .dataframe thead th {\n",
       "        text-align: right;\n",
       "    }\n",
       "</style>\n",
       "<table border=\"1\" class=\"dataframe\">\n",
       "  <thead>\n",
       "    <tr style=\"text-align: right;\">\n",
       "      <th></th>\n",
       "      <th>type</th>\n",
       "      <th>fixed acidity</th>\n",
       "      <th>volatile acidity</th>\n",
       "      <th>citric acid</th>\n",
       "      <th>residual sugar</th>\n",
       "      <th>chlorides</th>\n",
       "      <th>free sulfur dioxide</th>\n",
       "      <th>total sulfur dioxide</th>\n",
       "      <th>density</th>\n",
       "      <th>pH</th>\n",
       "      <th>sulphates</th>\n",
       "      <th>alcohol</th>\n",
       "      <th>quality</th>\n",
       "    </tr>\n",
       "  </thead>\n",
       "  <tbody>\n",
       "    <tr>\n",
       "      <th>67</th>\n",
       "      <td>white</td>\n",
       "      <td>6.7</td>\n",
       "      <td>0.25</td>\n",
       "      <td>0.13</td>\n",
       "      <td>1.2</td>\n",
       "      <td>0.041</td>\n",
       "      <td>81.0</td>\n",
       "      <td>174.0</td>\n",
       "      <td>0.99200</td>\n",
       "      <td>3.14</td>\n",
       "      <td>0.42</td>\n",
       "      <td>9.8</td>\n",
       "      <td>1</td>\n",
       "    </tr>\n",
       "    <tr>\n",
       "      <th>3269</th>\n",
       "      <td>white</td>\n",
       "      <td>6.6</td>\n",
       "      <td>0.38</td>\n",
       "      <td>0.36</td>\n",
       "      <td>9.2</td>\n",
       "      <td>0.061</td>\n",
       "      <td>42.0</td>\n",
       "      <td>214.0</td>\n",
       "      <td>0.99760</td>\n",
       "      <td>3.31</td>\n",
       "      <td>0.56</td>\n",
       "      <td>9.4</td>\n",
       "      <td>1</td>\n",
       "    </tr>\n",
       "    <tr>\n",
       "      <th>2021</th>\n",
       "      <td>white</td>\n",
       "      <td>6.3</td>\n",
       "      <td>0.21</td>\n",
       "      <td>0.28</td>\n",
       "      <td>1.5</td>\n",
       "      <td>0.051</td>\n",
       "      <td>46.0</td>\n",
       "      <td>142.0</td>\n",
       "      <td>0.99280</td>\n",
       "      <td>3.23</td>\n",
       "      <td>0.42</td>\n",
       "      <td>10.1</td>\n",
       "      <td>1</td>\n",
       "    </tr>\n",
       "    <tr>\n",
       "      <th>5141</th>\n",
       "      <td>red</td>\n",
       "      <td>15.0</td>\n",
       "      <td>0.21</td>\n",
       "      <td>0.44</td>\n",
       "      <td>2.2</td>\n",
       "      <td>0.075</td>\n",
       "      <td>10.0</td>\n",
       "      <td>24.0</td>\n",
       "      <td>1.00005</td>\n",
       "      <td>3.07</td>\n",
       "      <td>0.84</td>\n",
       "      <td>9.2</td>\n",
       "      <td>1</td>\n",
       "    </tr>\n",
       "    <tr>\n",
       "      <th>3985</th>\n",
       "      <td>white</td>\n",
       "      <td>6.8</td>\n",
       "      <td>0.11</td>\n",
       "      <td>0.27</td>\n",
       "      <td>8.6</td>\n",
       "      <td>0.044</td>\n",
       "      <td>45.0</td>\n",
       "      <td>104.0</td>\n",
       "      <td>0.99454</td>\n",
       "      <td>3.20</td>\n",
       "      <td>0.37</td>\n",
       "      <td>9.9</td>\n",
       "      <td>1</td>\n",
       "    </tr>\n",
       "  </tbody>\n",
       "</table>\n",
       "</div>"
      ],
      "text/plain": [
       "       type  fixed acidity  volatile acidity  citric acid  residual sugar  \\\n",
       "67    white            6.7              0.25         0.13             1.2   \n",
       "3269  white            6.6              0.38         0.36             9.2   \n",
       "2021  white            6.3              0.21         0.28             1.5   \n",
       "5141    red           15.0              0.21         0.44             2.2   \n",
       "3985  white            6.8              0.11         0.27             8.6   \n",
       "\n",
       "      chlorides  free sulfur dioxide  total sulfur dioxide  density    pH  \\\n",
       "67        0.041                 81.0                 174.0  0.99200  3.14   \n",
       "3269      0.061                 42.0                 214.0  0.99760  3.31   \n",
       "2021      0.051                 46.0                 142.0  0.99280  3.23   \n",
       "5141      0.075                 10.0                  24.0  1.00005  3.07   \n",
       "3985      0.044                 45.0                 104.0  0.99454  3.20   \n",
       "\n",
       "      sulphates  alcohol  quality  \n",
       "67         0.42      9.8        1  \n",
       "3269       0.56      9.4        1  \n",
       "2021       0.42     10.1        1  \n",
       "5141       0.84      9.2        1  \n",
       "3985       0.37      9.9        1  "
      ]
     },
     "execution_count": 16,
     "metadata": {},
     "output_type": "execute_result"
    }
   ],
   "source": [
    "df.sample(5)"
   ]
  },
  {
   "cell_type": "markdown",
   "metadata": {},
   "source": [
    "### Removal of Outliers"
   ]
  },
  {
   "cell_type": "markdown",
   "metadata": {},
   "source": [
    "Outliers are extreme cases of data that may severely affect the prediction capailities of the machine learning models. Therefore, its critical that we remove them."
   ]
  },
  {
   "cell_type": "markdown",
   "metadata": {},
   "source": [
    "I will now be plotting a boxplot to view the general distribution of data across all features to check for outliers."
   ]
  },
  {
   "cell_type": "code",
   "execution_count": 17,
   "metadata": {},
   "outputs": [
    {
     "data": {
      "image/png": "[encoded data removed]",
      "text/plain": [
       "<Figure size 2160x1080 with 1 Axes>"
      ]
     },
     "metadata": {},
     "output_type": "display_data"
    }
   ],
   "source": [
    "sn.set()\n",
    "plt.figure(figsize=(30,15))\n",
    "sn.boxplot(data=df)\n",
    "plt.show()"
   ]
  },
  {
   "cell_type": "code",
   "execution_count": 19,
   "metadata": {},
   "outputs": [],
   "source": [
    "import warnings\n",
    "warnings.filterwarnings('ignore')"
   ]
  },
  {
   "cell_type": "code",
   "execution_count": 20,
   "metadata": {},
   "outputs": [
    {
     "data": {
      "image/png": "[encoded data removed]",
      "text/plain": [
       "<Figure size 432x288 with 3 Axes>"
      ]
     },
     "metadata": {},
     "output_type": "display_data"
    }
   ],
   "source": [
    "fig, ax =plt.subplots(1,3)\n",
    "plt.subplots_adjust(right=2.5, top=1.5)\n",
    "sn.boxplot(df['residual sugar'], df['type'], ax=ax[0])\n",
    "sn.boxplot(df['free sulfur dioxide'], df['type'], ax=ax[1])\n",
    "sn.boxplot(df['total sulfur dioxide'], df['type'], ax=ax[2])\n",
    "plt.show()"
   ]
  },
  {
   "cell_type": "markdown",
   "metadata": {},
   "source": [
    "In these three columns we can notice significant outliers. Therefore, they must be removed from the respective columns."
   ]
  },
  {
   "cell_type": "code",
   "execution_count": 21,
   "metadata": {},
   "outputs": [],
   "source": [
    "#Removing outliers in residual sugar\n",
    "lower = df['residual sugar'].mean()-3*df['residual sugar'].std()\n",
    "upper = df['residual sugar'].mean()+3*df['residual sugar'].std()\n",
    "df = df[(df['residual sugar']>lower) & (df['residual sugar']<upper)]\n",
    "\n",
    "#Removing outliers in free sulfur dioxide\n",
    "lower = df['free sulfur dioxide'].mean()-3*df['free sulfur dioxide'].std()\n",
    "upper = df['free sulfur dioxide'].mean()+3*df['free sulfur dioxide'].std()\n",
    "df = df[(df['free sulfur dioxide']>lower) & (df['free sulfur dioxide']<upper)]\n",
    "\n",
    "#Removing outliers in total sulfur dioxide\n",
    "lower = df['total sulfur dioxide'].mean()-3*df['total sulfur dioxide'].std()\n",
    "upper = df['total sulfur dioxide'].mean()+3*df['total sulfur dioxide'].std()\n",
    "df = df[(df['total sulfur dioxide']>lower) & (df['total sulfur dioxide']<upper)]"
   ]
  },
  {
   "cell_type": "markdown",
   "metadata": {},
   "source": [
    "### 1-Hot encoding"
   ]
  },
  {
   "cell_type": "markdown",
   "metadata": {},
   "source": [
    "The 'type' column must be 1-hot encoded for classification. 1-hot encoding creates a binary column for each category. Here we use pd.get_dummies() to remove the first category and essentially bring it to one column of 1's and 0's where 1 denotes white wine and 0 denotes not white (red wine)."
   ]
  },
  {
   "cell_type": "code",
   "execution_count": 22,
   "metadata": {},
   "outputs": [],
   "source": [
    "dummies = pd.get_dummies(df['type'], drop_first=True)\n",
    "df = pd.concat([df, dummies], axis=1)\n",
    "df.drop('type', axis=1, inplace=True)"
   ]
  },
  {
   "cell_type": "markdown",
   "metadata": {},
   "source": [
    "## Correlation between features"
   ]
  },
  {
   "cell_type": "code",
   "execution_count": 23,
   "metadata": {},
   "outputs": [
    {
     "data": {
      "text/html": [
       "<div>\n",
       "<style scoped>\n",
       "    .dataframe tbody tr th:only-of-type {\n",
       "        vertical-align: middle;\n",
       "    }\n",
       "\n",
       "    .dataframe tbody tr th {\n",
       "        vertical-align: top;\n",
       "    }\n",
       "\n",
       "    .dataframe thead th {\n",
       "        text-align: right;\n",
       "    }\n",
       "</style>\n",
       "<table border=\"1\" class=\"dataframe\">\n",
       "  <thead>\n",
       "    <tr style=\"text-align: right;\">\n",
       "      <th></th>\n",
       "      <th>fixed acidity</th>\n",
       "      <th>volatile acidity</th>\n",
       "      <th>citric acid</th>\n",
       "      <th>residual sugar</th>\n",
       "      <th>chlorides</th>\n",
       "      <th>free sulfur dioxide</th>\n",
       "      <th>total sulfur dioxide</th>\n",
       "      <th>density</th>\n",
       "      <th>pH</th>\n",
       "      <th>sulphates</th>\n",
       "      <th>alcohol</th>\n",
       "      <th>quality</th>\n",
       "      <th>white</th>\n",
       "    </tr>\n",
       "  </thead>\n",
       "  <tbody>\n",
       "    <tr>\n",
       "      <th>fixed acidity</th>\n",
       "      <td>1.000000</td>\n",
       "      <td>0.218255</td>\n",
       "      <td>0.324128</td>\n",
       "      <td>-0.116730</td>\n",
       "      <td>0.298735</td>\n",
       "      <td>-0.291882</td>\n",
       "      <td>-0.334312</td>\n",
       "      <td>0.472197</td>\n",
       "      <td>-0.251942</td>\n",
       "      <td>0.302811</td>\n",
       "      <td>-0.097376</td>\n",
       "      <td>-0.047129</td>\n",
       "      <td>-0.487309</td>\n",
       "    </tr>\n",
       "    <tr>\n",
       "      <th>volatile acidity</th>\n",
       "      <td>0.218255</td>\n",
       "      <td>1.000000</td>\n",
       "      <td>-0.383308</td>\n",
       "      <td>-0.210471</td>\n",
       "      <td>0.377604</td>\n",
       "      <td>-0.364126</td>\n",
       "      <td>-0.418742</td>\n",
       "      <td>0.271766</td>\n",
       "      <td>0.261415</td>\n",
       "      <td>0.226702</td>\n",
       "      <td>-0.040892</td>\n",
       "      <td>-0.145270</td>\n",
       "      <td>-0.654117</td>\n",
       "    </tr>\n",
       "    <tr>\n",
       "      <th>citric acid</th>\n",
       "      <td>0.324128</td>\n",
       "      <td>-0.383308</td>\n",
       "      <td>1.000000</td>\n",
       "      <td>0.141193</td>\n",
       "      <td>0.039903</td>\n",
       "      <td>0.150836</td>\n",
       "      <td>0.196909</td>\n",
       "      <td>0.094774</td>\n",
       "      <td>-0.330207</td>\n",
       "      <td>0.057526</td>\n",
       "      <td>-0.015040</td>\n",
       "      <td>0.056634</td>\n",
       "      <td>0.189081</td>\n",
       "    </tr>\n",
       "    <tr>\n",
       "      <th>residual sugar</th>\n",
       "      <td>-0.116730</td>\n",
       "      <td>-0.210471</td>\n",
       "      <td>0.141193</td>\n",
       "      <td>1.000000</td>\n",
       "      <td>-0.134400</td>\n",
       "      <td>0.442246</td>\n",
       "      <td>0.509748</td>\n",
       "      <td>0.525926</td>\n",
       "      <td>-0.266824</td>\n",
       "      <td>-0.184795</td>\n",
       "      <td>-0.367276</td>\n",
       "      <td>0.035516</td>\n",
       "      <td>0.354639</td>\n",
       "    </tr>\n",
       "    <tr>\n",
       "      <th>chlorides</th>\n",
       "      <td>0.298735</td>\n",
       "      <td>0.377604</td>\n",
       "      <td>0.039903</td>\n",
       "      <td>-0.134400</td>\n",
       "      <td>1.000000</td>\n",
       "      <td>-0.201236</td>\n",
       "      <td>-0.281981</td>\n",
       "      <td>0.373174</td>\n",
       "      <td>0.044427</td>\n",
       "      <td>0.397295</td>\n",
       "      <td>-0.258898</td>\n",
       "      <td>-0.077751</td>\n",
       "      <td>-0.513067</td>\n",
       "    </tr>\n",
       "    <tr>\n",
       "      <th>free sulfur dioxide</th>\n",
       "      <td>-0.291882</td>\n",
       "      <td>-0.364126</td>\n",
       "      <td>0.150836</td>\n",
       "      <td>0.442246</td>\n",
       "      <td>-0.201236</td>\n",
       "      <td>1.000000</td>\n",
       "      <td>0.729294</td>\n",
       "      <td>0.031023</td>\n",
       "      <td>-0.154769</td>\n",
       "      <td>-0.201343</td>\n",
       "      <td>-0.185448</td>\n",
       "      <td>0.112647</td>\n",
       "      <td>0.490710</td>\n",
       "    </tr>\n",
       "    <tr>\n",
       "      <th>total sulfur dioxide</th>\n",
       "      <td>-0.334312</td>\n",
       "      <td>-0.418742</td>\n",
       "      <td>0.196909</td>\n",
       "      <td>0.509748</td>\n",
       "      <td>-0.281981</td>\n",
       "      <td>0.729294</td>\n",
       "      <td>1.000000</td>\n",
       "      <td>0.024340</td>\n",
       "      <td>-0.238709</td>\n",
       "      <td>-0.280043</td>\n",
       "      <td>-0.266838</td>\n",
       "      <td>0.040543</td>\n",
       "      <td>0.706462</td>\n",
       "    </tr>\n",
       "    <tr>\n",
       "      <th>density</th>\n",
       "      <td>0.472197</td>\n",
       "      <td>0.271766</td>\n",
       "      <td>0.094774</td>\n",
       "      <td>0.525926</td>\n",
       "      <td>0.373174</td>\n",
       "      <td>0.031023</td>\n",
       "      <td>0.024340</td>\n",
       "      <td>1.000000</td>\n",
       "      <td>0.018118</td>\n",
       "      <td>0.273885</td>\n",
       "      <td>-0.703323</td>\n",
       "      <td>-0.099886</td>\n",
       "      <td>-0.409345</td>\n",
       "    </tr>\n",
       "    <tr>\n",
       "      <th>pH</th>\n",
       "      <td>-0.251942</td>\n",
       "      <td>0.261415</td>\n",
       "      <td>-0.330207</td>\n",
       "      <td>-0.266824</td>\n",
       "      <td>0.044427</td>\n",
       "      <td>-0.154769</td>\n",
       "      <td>-0.238709</td>\n",
       "      <td>0.018118</td>\n",
       "      <td>1.000000</td>\n",
       "      <td>0.187523</td>\n",
       "      <td>0.119069</td>\n",
       "      <td>-0.008487</td>\n",
       "      <td>-0.329212</td>\n",
       "    </tr>\n",
       "    <tr>\n",
       "      <th>sulphates</th>\n",
       "      <td>0.302811</td>\n",
       "      <td>0.226702</td>\n",
       "      <td>0.057526</td>\n",
       "      <td>-0.184795</td>\n",
       "      <td>0.397295</td>\n",
       "      <td>-0.201343</td>\n",
       "      <td>-0.280043</td>\n",
       "      <td>0.273885</td>\n",
       "      <td>0.187523</td>\n",
       "      <td>1.000000</td>\n",
       "      <td>-0.007619</td>\n",
       "      <td>0.006368</td>\n",
       "      <td>-0.488597</td>\n",
       "    </tr>\n",
       "    <tr>\n",
       "      <th>alcohol</th>\n",
       "      <td>-0.097376</td>\n",
       "      <td>-0.040892</td>\n",
       "      <td>-0.015040</td>\n",
       "      <td>-0.367276</td>\n",
       "      <td>-0.258898</td>\n",
       "      <td>-0.185448</td>\n",
       "      <td>-0.266838</td>\n",
       "      <td>-0.703323</td>\n",
       "      <td>0.119069</td>\n",
       "      <td>-0.007619</td>\n",
       "      <td>1.000000</td>\n",
       "      <td>0.155005</td>\n",
       "      <td>0.035755</td>\n",
       "    </tr>\n",
       "    <tr>\n",
       "      <th>quality</th>\n",
       "      <td>-0.047129</td>\n",
       "      <td>-0.145270</td>\n",
       "      <td>0.056634</td>\n",
       "      <td>0.035516</td>\n",
       "      <td>-0.077751</td>\n",
       "      <td>0.112647</td>\n",
       "      <td>0.040543</td>\n",
       "      <td>-0.099886</td>\n",
       "      <td>-0.008487</td>\n",
       "      <td>0.006368</td>\n",
       "      <td>0.155005</td>\n",
       "      <td>1.000000</td>\n",
       "      <td>0.046913</td>\n",
       "    </tr>\n",
       "    <tr>\n",
       "      <th>white</th>\n",
       "      <td>-0.487309</td>\n",
       "      <td>-0.654117</td>\n",
       "      <td>0.189081</td>\n",
       "      <td>0.354639</td>\n",
       "      <td>-0.513067</td>\n",
       "      <td>0.490710</td>\n",
       "      <td>0.706462</td>\n",
       "      <td>-0.409345</td>\n",
       "      <td>-0.329212</td>\n",
       "      <td>-0.488597</td>\n",
       "      <td>0.035755</td>\n",
       "      <td>0.046913</td>\n",
       "      <td>1.000000</td>\n",
       "    </tr>\n",
       "  </tbody>\n",
       "</table>\n",
       "</div>"
      ],
      "text/plain": [
       "                      fixed acidity  volatile acidity  citric acid  \\\n",
       "fixed acidity              1.000000          0.218255     0.324128   \n",
       "volatile acidity           0.218255          1.000000    -0.383308   \n",
       "citric acid                0.324128         -0.383308     1.000000   \n",
       "residual sugar            -0.116730         -0.210471     0.141193   \n",
       "chlorides                  0.298735          0.377604     0.039903   \n",
       "free sulfur dioxide       -0.291882         -0.364126     0.150836   \n",
       "total sulfur dioxide      -0.334312         -0.418742     0.196909   \n",
       "density                    0.472197          0.271766     0.094774   \n",
       "pH                        -0.251942          0.261415    -0.330207   \n",
       "sulphates                  0.302811          0.226702     0.057526   \n",
       "alcohol                   -0.097376         -0.040892    -0.015040   \n",
       "quality                   -0.047129         -0.145270     0.056634   \n",
       "white                     -0.487309         -0.654117     0.189081   \n",
       "\n",
       "                      residual sugar  chlorides  free sulfur dioxide  \\\n",
       "fixed acidity              -0.116730   0.298735            -0.291882   \n",
       "volatile acidity           -0.210471   0.377604            -0.364126   \n",
       "citric acid                 0.141193   0.039903             0.150836   \n",
       "residual sugar              1.000000  -0.134400             0.442246   \n",
       "chlorides                  -0.134400   1.000000            -0.201236   \n",
       "free sulfur dioxide         0.442246  -0.201236             1.000000   \n",
       "total sulfur dioxide        0.509748  -0.281981             0.729294   \n",
       "density                     0.525926   0.373174             0.031023   \n",
       "pH                         -0.266824   0.044427            -0.154769   \n",
       "sulphates                  -0.184795   0.397295            -0.201343   \n",
       "alcohol                    -0.367276  -0.258898            -0.185448   \n",
       "quality                     0.035516  -0.077751             0.112647   \n",
       "white                       0.354639  -0.513067             0.490710   \n",
       "\n",
       "                      total sulfur dioxide   density        pH  sulphates  \\\n",
       "fixed acidity                    -0.334312  0.472197 -0.251942   0.302811   \n",
       "volatile acidity                 -0.418742  0.271766  0.261415   0.226702   \n",
       "citric acid                       0.196909  0.094774 -0.330207   0.057526   \n",
       "residual sugar                    0.509748  0.525926 -0.266824  -0.184795   \n",
       "chlorides                        -0.281981  0.373174  0.044427   0.397295   \n",
       "free sulfur dioxide               0.729294  0.031023 -0.154769  -0.201343   \n",
       "total sulfur dioxide              1.000000  0.024340 -0.238709  -0.280043   \n",
       "density                           0.024340  1.000000  0.018118   0.273885   \n",
       "pH                               -0.238709  0.018118  1.000000   0.187523   \n",
       "sulphates                        -0.280043  0.273885  0.187523   1.000000   \n",
       "alcohol                          -0.266838 -0.703323  0.119069  -0.007619   \n",
       "quality                           0.040543 -0.099886 -0.008487   0.006368   \n",
       "white                             0.706462 -0.409345 -0.329212  -0.488597   \n",
       "\n",
       "                       alcohol   quality     white  \n",
       "fixed acidity        -0.097376 -0.047129 -0.487309  \n",
       "volatile acidity     -0.040892 -0.145270 -0.654117  \n",
       "citric acid          -0.015040  0.056634  0.189081  \n",
       "residual sugar       -0.367276  0.035516  0.354639  \n",
       "chlorides            -0.258898 -0.077751 -0.513067  \n",
       "free sulfur dioxide  -0.185448  0.112647  0.490710  \n",
       "total sulfur dioxide -0.266838  0.040543  0.706462  \n",
       "density              -0.703323 -0.099886 -0.409345  \n",
       "pH                    0.119069 -0.008487 -0.329212  \n",
       "sulphates            -0.007619  0.006368 -0.488597  \n",
       "alcohol               1.000000  0.155005  0.035755  \n",
       "quality               0.155005  1.000000  0.046913  \n",
       "white                 0.035755  0.046913  1.000000  "
      ]
     },
     "execution_count": 23,
     "metadata": {},
     "output_type": "execute_result"
    },
    {
     "data": {
      "image/png": "[encoded data removed]",
      "text/plain": [
       "<Figure size 1440x720 with 2 Axes>"
      ]
     },
     "metadata": {},
     "output_type": "display_data"
    }
   ],
   "source": [
    "#Checking relationship between features\n",
    "cor=df.corr()\n",
    "plt.figure(figsize=(20,10))\n",
    "sn.heatmap(cor,xticklabels=cor.columns,yticklabels=cor.columns,annot=True)\n",
    "cor"
   ]
  },
  {
   "cell_type": "markdown",
   "metadata": {},
   "source": [
    "## Train-Test split\n",
    "\n",
    "I will be splitting the dataset into training and testing sets in the ratio of 0.80:0.20"
   ]
  },
  {
   "cell_type": "code",
   "execution_count": 24,
   "metadata": {},
   "outputs": [],
   "source": [
    "X = df.loc[:,df.columns!='quality']\n",
    "y = df['quality']\n",
    "\n",
    "X_train,X_test,y_train,y_test=train_test_split(X,y,test_size=0.20, random_state=0)"
   ]
  },
  {
   "cell_type": "markdown",
   "metadata": {},
   "source": [
    "## Model Fitting"
   ]
  },
  {
   "cell_type": "code",
   "execution_count": 26,
   "metadata": {},
   "outputs": [],
   "source": [
    "from sklearn.ensemble import RandomForestClassifier\n",
    "rfc=RandomForestClassifier()"
   ]
  },
  {
   "cell_type": "code",
   "execution_count": 27,
   "metadata": {},
   "outputs": [
    {
     "data": {
      "text/plain": [
       "RandomForestClassifier()"
      ]
     },
     "execution_count": 27,
     "metadata": {},
     "output_type": "execute_result"
    }
   ],
   "source": [
    "# Fit the model\n",
    "rfc.fit(X_train,y_train)"
   ]
  },
  {
   "cell_type": "code",
   "execution_count": 28,
   "metadata": {},
   "outputs": [
    {
     "data": {
      "text/plain": [
       "0.9463452566096423"
      ]
     },
     "execution_count": 28,
     "metadata": {},
     "output_type": "execute_result"
    }
   ],
   "source": [
    "y_pred=rfc.predict(X_test)\n",
    "accuracy_score(y_test,y_pred)"
   ]
  },
  {
   "cell_type": "markdown",
   "metadata": {},
   "source": []
  }
 ],
 "metadata": {
  "kernelspec": {
   "display_name": "Python 3 (ipykernel)",
   "language": "python",
   "name": "python3"
  },
  "language_info": {
   "codemirror_mode": {
    "name": "ipython",
    "version": 3
   },
   "file_extension": ".py",
   "mimetype": "text/x-python",
   "name": "python",
   "nbconvert_exporter": "python",
   "pygments_lexer": "ipython3",
   "version": "3.9.7"
  }
 },
 "nbformat": 4,
 "nbformat_minor": 4
}
