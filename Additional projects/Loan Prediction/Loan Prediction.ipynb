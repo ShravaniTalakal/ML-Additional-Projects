{
 "cells": [
  {
   "cell_type": "markdown",
   "metadata": {},
   "source": [
    "# Load Essential Python Libraries"
   ]
  },
  {
   "cell_type": "code",
   "execution_count": 1,
   "metadata": {
    "execution": {
     "iopub.execute_input": "2022-05-15T13:22:58.480015Z",
     "iopub.status.busy": "2022-05-15T13:22:58.479704Z",
     "iopub.status.idle": "2022-05-15T13:22:58.488518Z",
     "shell.execute_reply": "2022-05-15T13:22:58.487606Z",
     "shell.execute_reply.started": "2022-05-15T13:22:58.479983Z"
    }
   },
   "outputs": [],
   "source": [
    "import numpy as np\n",
    "import pandas as pd\n",
    "import matplotlib.pyplot as plt\n",
    "%matplotlib inline\n",
    "import seaborn as sns\n",
    "from sklearn.model_selection import train_test_split\n",
    "from sklearn.experimental import enable_iterative_imputer\n",
    "from sklearn.impute import IterativeImputer\n",
    "from sklearn.metrics import classification_report, confusion_matrix\n",
    "\n",
    "import warnings\n",
    "warnings.filterwarnings(\"ignore\")"
   ]
  },
  {
   "cell_type": "markdown",
   "metadata": {},
   "source": [
    "# Load Training/ Test Dataset"
   ]
  },
  {
   "cell_type": "code",
   "execution_count": 2,
   "metadata": {
    "execution": {
     "iopub.execute_input": "2022-05-15T13:22:58.507912Z",
     "iopub.status.busy": "2022-05-15T13:22:58.507339Z",
     "iopub.status.idle": "2022-05-15T13:22:58.535352Z",
     "shell.execute_reply": "2022-05-15T13:22:58.534616Z",
     "shell.execute_reply.started": "2022-05-15T13:22:58.507875Z"
    }
   },
   "outputs": [],
   "source": [
    "train =pd.read_csv(\"E:/data science/capstone Projects/Additional projects/Loan Prediction/train.csv\")\n",
    "\n",
    "test =pd.read_csv (\"E:/data science/capstone Projects/Additional projects/Loan Prediction/test.csv\")"
   ]
  },
  {
   "cell_type": "markdown",
   "metadata": {},
   "source": [
    "# About the dataset "
   ]
  },
  {
   "cell_type": "code",
   "execution_count": 3,
   "metadata": {
    "execution": {
     "iopub.execute_input": "2022-05-15T13:22:58.537377Z",
     "iopub.status.busy": "2022-05-15T13:22:58.536989Z",
     "iopub.status.idle": "2022-05-15T13:22:58.542130Z",
     "shell.execute_reply": "2022-05-15T13:22:58.541365Z",
     "shell.execute_reply.started": "2022-05-15T13:22:58.537337Z"
    }
   },
   "outputs": [
    {
     "data": {
      "text/plain": [
       "(614, 13)"
      ]
     },
     "execution_count": 3,
     "metadata": {},
     "output_type": "execute_result"
    }
   ],
   "source": [
    "#Size of Train Data\n",
    "train.shape"
   ]
  },
  {
   "cell_type": "markdown",
   "metadata": {},
   "source": [
    "So we have 614 rows and 13 columns in our training dataset."
   ]
  },
  {
   "cell_type": "code",
   "execution_count": 4,
   "metadata": {
    "execution": {
     "iopub.execute_input": "2022-05-15T13:22:58.543570Z",
     "iopub.status.busy": "2022-05-15T13:22:58.543220Z",
     "iopub.status.idle": "2022-05-15T13:22:58.557234Z",
     "shell.execute_reply": "2022-05-15T13:22:58.556216Z",
     "shell.execute_reply.started": "2022-05-15T13:22:58.543541Z"
    }
   },
   "outputs": [
    {
     "data": {
      "text/plain": [
       "(367, 12)"
      ]
     },
     "execution_count": 4,
     "metadata": {},
     "output_type": "execute_result"
    }
   ],
   "source": [
    "#Size of Test Data\n",
    "test.shape"
   ]
  },
  {
   "cell_type": "markdown",
   "metadata": {},
   "source": [
    "In test data, we have 367 rows and 12 columns because the target column is not included in the test data."
   ]
  },
  {
   "cell_type": "code",
   "execution_count": 5,
   "metadata": {
    "execution": {
     "iopub.execute_input": "2022-05-15T13:22:58.560087Z",
     "iopub.status.busy": "2022-05-15T13:22:58.559075Z",
     "iopub.status.idle": "2022-05-15T13:22:58.577848Z",
     "shell.execute_reply": "2022-05-15T13:22:58.576463Z",
     "shell.execute_reply.started": "2022-05-15T13:22:58.560027Z"
    }
   },
   "outputs": [
    {
     "name": "stdout",
     "output_type": "stream",
     "text": [
      "<class 'pandas.core.frame.DataFrame'>\n",
      "RangeIndex: 614 entries, 0 to 613\n",
      "Data columns (total 13 columns):\n",
      " #   Column             Non-Null Count  Dtype  \n",
      "---  ------             --------------  -----  \n",
      " 0   Loan_ID            614 non-null    object \n",
      " 1   Gender             601 non-null    object \n",
      " 2   Married            611 non-null    object \n",
      " 3   Dependents         599 non-null    object \n",
      " 4   Education          614 non-null    object \n",
      " 5   Self_Employed      582 non-null    object \n",
      " 6   ApplicantIncome    614 non-null    int64  \n",
      " 7   CoapplicantIncome  614 non-null    float64\n",
      " 8   LoanAmount         592 non-null    float64\n",
      " 9   Loan_Amount_Term   600 non-null    float64\n",
      " 10  Credit_History     564 non-null    float64\n",
      " 11  Property_Area      614 non-null    object \n",
      " 12  Loan_Status        614 non-null    object \n",
      "dtypes: float64(4), int64(1), object(8)\n",
      "memory usage: 62.5+ KB\n"
     ]
    }
   ],
   "source": [
    "#Information about train Dataset\n",
    "train.info()"
   ]
  },
  {
   "cell_type": "code",
   "execution_count": 6,
   "metadata": {
    "execution": {
     "iopub.execute_input": "2022-05-15T13:22:58.580196Z",
     "iopub.status.busy": "2022-05-15T13:22:58.579941Z",
     "iopub.status.idle": "2022-05-15T13:22:58.598946Z",
     "shell.execute_reply": "2022-05-15T13:22:58.598181Z",
     "shell.execute_reply.started": "2022-05-15T13:22:58.580166Z"
    }
   },
   "outputs": [
    {
     "data": {
      "text/html": [
       "<div>\n",
       "<style scoped>\n",
       "    .dataframe tbody tr th:only-of-type {\n",
       "        vertical-align: middle;\n",
       "    }\n",
       "\n",
       "    .dataframe tbody tr th {\n",
       "        vertical-align: top;\n",
       "    }\n",
       "\n",
       "    .dataframe thead th {\n",
       "        text-align: right;\n",
       "    }\n",
       "</style>\n",
       "<table border=\"1\" class=\"dataframe\">\n",
       "  <thead>\n",
       "    <tr style=\"text-align: right;\">\n",
       "      <th></th>\n",
       "      <th>Loan_ID</th>\n",
       "      <th>Gender</th>\n",
       "      <th>Married</th>\n",
       "      <th>Dependents</th>\n",
       "      <th>Education</th>\n",
       "      <th>Self_Employed</th>\n",
       "      <th>ApplicantIncome</th>\n",
       "      <th>CoapplicantIncome</th>\n",
       "      <th>LoanAmount</th>\n",
       "      <th>Loan_Amount_Term</th>\n",
       "      <th>Credit_History</th>\n",
       "      <th>Property_Area</th>\n",
       "      <th>Loan_Status</th>\n",
       "    </tr>\n",
       "  </thead>\n",
       "  <tbody>\n",
       "    <tr>\n",
       "      <th>0</th>\n",
       "      <td>LP001002</td>\n",
       "      <td>Male</td>\n",
       "      <td>No</td>\n",
       "      <td>0</td>\n",
       "      <td>Graduate</td>\n",
       "      <td>No</td>\n",
       "      <td>5849</td>\n",
       "      <td>0.0</td>\n",
       "      <td>NaN</td>\n",
       "      <td>360.0</td>\n",
       "      <td>1.0</td>\n",
       "      <td>Urban</td>\n",
       "      <td>Y</td>\n",
       "    </tr>\n",
       "    <tr>\n",
       "      <th>1</th>\n",
       "      <td>LP001003</td>\n",
       "      <td>Male</td>\n",
       "      <td>Yes</td>\n",
       "      <td>1</td>\n",
       "      <td>Graduate</td>\n",
       "      <td>No</td>\n",
       "      <td>4583</td>\n",
       "      <td>1508.0</td>\n",
       "      <td>128.0</td>\n",
       "      <td>360.0</td>\n",
       "      <td>1.0</td>\n",
       "      <td>Rural</td>\n",
       "      <td>N</td>\n",
       "    </tr>\n",
       "    <tr>\n",
       "      <th>2</th>\n",
       "      <td>LP001005</td>\n",
       "      <td>Male</td>\n",
       "      <td>Yes</td>\n",
       "      <td>0</td>\n",
       "      <td>Graduate</td>\n",
       "      <td>Yes</td>\n",
       "      <td>3000</td>\n",
       "      <td>0.0</td>\n",
       "      <td>66.0</td>\n",
       "      <td>360.0</td>\n",
       "      <td>1.0</td>\n",
       "      <td>Urban</td>\n",
       "      <td>Y</td>\n",
       "    </tr>\n",
       "    <tr>\n",
       "      <th>3</th>\n",
       "      <td>LP001006</td>\n",
       "      <td>Male</td>\n",
       "      <td>Yes</td>\n",
       "      <td>0</td>\n",
       "      <td>Not Graduate</td>\n",
       "      <td>No</td>\n",
       "      <td>2583</td>\n",
       "      <td>2358.0</td>\n",
       "      <td>120.0</td>\n",
       "      <td>360.0</td>\n",
       "      <td>1.0</td>\n",
       "      <td>Urban</td>\n",
       "      <td>Y</td>\n",
       "    </tr>\n",
       "    <tr>\n",
       "      <th>4</th>\n",
       "      <td>LP001008</td>\n",
       "      <td>Male</td>\n",
       "      <td>No</td>\n",
       "      <td>0</td>\n",
       "      <td>Graduate</td>\n",
       "      <td>No</td>\n",
       "      <td>6000</td>\n",
       "      <td>0.0</td>\n",
       "      <td>141.0</td>\n",
       "      <td>360.0</td>\n",
       "      <td>1.0</td>\n",
       "      <td>Urban</td>\n",
       "      <td>Y</td>\n",
       "    </tr>\n",
       "  </tbody>\n",
       "</table>\n",
       "</div>"
      ],
      "text/plain": [
       "    Loan_ID Gender Married Dependents     Education Self_Employed  \\\n",
       "0  LP001002   Male      No          0      Graduate            No   \n",
       "1  LP001003   Male     Yes          1      Graduate            No   \n",
       "2  LP001005   Male     Yes          0      Graduate           Yes   \n",
       "3  LP001006   Male     Yes          0  Not Graduate            No   \n",
       "4  LP001008   Male      No          0      Graduate            No   \n",
       "\n",
       "   ApplicantIncome  CoapplicantIncome  LoanAmount  Loan_Amount_Term  \\\n",
       "0             5849                0.0         NaN             360.0   \n",
       "1             4583             1508.0       128.0             360.0   \n",
       "2             3000                0.0        66.0             360.0   \n",
       "3             2583             2358.0       120.0             360.0   \n",
       "4             6000                0.0       141.0             360.0   \n",
       "\n",
       "   Credit_History Property_Area Loan_Status  \n",
       "0             1.0         Urban           Y  \n",
       "1             1.0         Rural           N  \n",
       "2             1.0         Urban           Y  \n",
       "3             1.0         Urban           Y  \n",
       "4             1.0         Urban           Y  "
      ]
     },
     "execution_count": 6,
     "metadata": {},
     "output_type": "execute_result"
    }
   ],
   "source": [
    "# First look at the Dataset\n",
    "train.head()"
   ]
  },
  {
   "cell_type": "markdown",
   "metadata": {},
   "source": [
    "Categorical Columns: \n",
    "1. Gender (Male/Female), \n",
    "2. Married (Yes/No), \n",
    "3. Number of dependents (Possible values:0,1,2,3+), \n",
    "4. Education (Graduate / Not Graduate), \n",
    "5. Self-Employed (No/Yes), \n",
    "6. credit history(Yes/No), \n",
    "7. Property Area (Rural/Semi-Urban/Urban) and \n",
    "8. Loan Status (Y/N)(i. e. Target variable)\n",
    "\n",
    "Numerical Columns: \n",
    "1. Loan ID, \n",
    "2. Applicant Income, \n",
    "3. Co-applicant Income, \n",
    "4. Loan Amount, and \n",
    "5. Loan amount term"
   ]
  },
  {
   "cell_type": "markdown",
   "metadata": {},
   "source": [
    "# Data Preprocessing"
   ]
  },
  {
   "cell_type": "code",
   "execution_count": 7,
   "metadata": {
    "execution": {
     "iopub.execute_input": "2022-05-15T13:22:58.600484Z",
     "iopub.status.busy": "2022-05-15T13:22:58.600057Z",
     "iopub.status.idle": "2022-05-15T13:22:58.620199Z",
     "shell.execute_reply": "2022-05-15T13:22:58.619388Z",
     "shell.execute_reply.started": "2022-05-15T13:22:58.600448Z"
    }
   },
   "outputs": [],
   "source": [
    "# Concatenating the train and test data for data preprocessing:\n",
    "data = pd.concat([train,test])"
   ]
  },
  {
   "cell_type": "code",
   "execution_count": 8,
   "metadata": {
    "execution": {
     "iopub.execute_input": "2022-05-15T13:22:58.621713Z",
     "iopub.status.busy": "2022-05-15T13:22:58.621338Z",
     "iopub.status.idle": "2022-05-15T13:22:58.631265Z",
     "shell.execute_reply": "2022-05-15T13:22:58.630530Z",
     "shell.execute_reply.started": "2022-05-15T13:22:58.621671Z"
    }
   },
   "outputs": [],
   "source": [
    "# Dropping the unwanted column:\n",
    "data.drop('Loan_ID', inplace=True, axis='columns')"
   ]
  },
  {
   "cell_type": "code",
   "execution_count": 9,
   "metadata": {
    "execution": {
     "iopub.execute_input": "2022-05-15T13:22:58.632743Z",
     "iopub.status.busy": "2022-05-15T13:22:58.632391Z",
     "iopub.status.idle": "2022-05-15T13:22:58.647646Z",
     "shell.execute_reply": "2022-05-15T13:22:58.646538Z",
     "shell.execute_reply.started": "2022-05-15T13:22:58.632712Z"
    }
   },
   "outputs": [
    {
     "data": {
      "text/plain": [
       "Gender                24\n",
       "Married                3\n",
       "Dependents            25\n",
       "Education              0\n",
       "Self_Employed         55\n",
       "ApplicantIncome        0\n",
       "CoapplicantIncome      0\n",
       "LoanAmount            27\n",
       "Loan_Amount_Term      20\n",
       "Credit_History        79\n",
       "Property_Area          0\n",
       "Loan_Status          367\n",
       "dtype: int64"
      ]
     },
     "execution_count": 9,
     "metadata": {},
     "output_type": "execute_result"
    }
   ],
   "source": [
    "# Identify missing values:\n",
    "data.isnull().sum()"
   ]
  },
  {
   "cell_type": "code",
   "execution_count": 10,
   "metadata": {
    "execution": {
     "iopub.execute_input": "2022-05-15T13:22:58.649897Z",
     "iopub.status.busy": "2022-05-15T13:22:58.649131Z",
     "iopub.status.idle": "2022-05-15T13:22:58.664375Z",
     "shell.execute_reply": "2022-05-15T13:22:58.663574Z",
     "shell.execute_reply.started": "2022-05-15T13:22:58.649860Z"
    }
   },
   "outputs": [],
   "source": [
    "# Imputing the missing values:\n",
    "data['Gender'].fillna(data['Gender'].mode()[0], inplace = True)\n",
    "data['Married'].fillna(data['Married'].mode()[0], inplace = True)\n",
    "data['Dependents'].fillna(data['Dependents'].mode()[0], inplace = True)\n",
    "data['Self_Employed'].fillna(data['Self_Employed'].mode()[0], inplace = True)\n",
    "data['Credit_History'].fillna(data['Credit_History'].mode()[0], inplace = True)"
   ]
  },
  {
   "cell_type": "code",
   "execution_count": 11,
   "metadata": {
    "execution": {
     "iopub.execute_input": "2022-05-15T13:22:58.668372Z",
     "iopub.status.busy": "2022-05-15T13:22:58.667709Z",
     "iopub.status.idle": "2022-05-15T13:29:25.386217Z",
     "shell.execute_reply": "2022-05-15T13:29:25.385153Z",
     "shell.execute_reply.started": "2022-05-15T13:22:58.668322Z"
    }
   },
   "outputs": [],
   "source": [
    "# Next, we will be using Iterative imputer for filling missing values of LoanAmount and Loan_Amount_Term\n",
    "data1 = data.loc[:,['LoanAmount','Loan_Amount_Term']]\n",
    "\n",
    "from sklearn.ensemble import RandomForestRegressor\n",
    "#Running the imputer with a Random Forest Estimator\n",
    "imp = IterativeImputer(RandomForestRegressor(), max_iter=1000, random_state=0)\n",
    "data1 = pd.DataFrame(imp.fit_transform(data1), columns=data1.columns)\n",
    "\n",
    "data['LoanAmount'] = data1['LoanAmount']\n",
    "data['Loan_Amount_Term'] = data1['Loan_Amount_Term']"
   ]
  },
  {
   "cell_type": "code",
   "execution_count": 12,
   "metadata": {
    "code_folding": [],
    "execution": {
     "iopub.execute_input": "2022-05-15T13:29:25.389675Z",
     "iopub.status.busy": "2022-05-15T13:29:25.389453Z",
     "iopub.status.idle": "2022-05-15T13:29:25.403544Z",
     "shell.execute_reply": "2022-05-15T13:29:25.402524Z",
     "shell.execute_reply.started": "2022-05-15T13:29:25.389648Z"
    }
   },
   "outputs": [],
   "source": [
    "# So now as we have imputed all the missing values we go on to mapping the categorical variables with the integers.\n",
    "data['Gender'] = data['Gender'].map({'Male':0,'Female':1}).astype(int)\n",
    "data['Married'] = data['Married'].map({'No':0,'Yes':1}).astype(int)\n",
    "data['Education'] = data['Education'].map({'Not Graduate':0,'Graduate':1}).astype(int)\n",
    "data['Self_Employed'] = data['Self_Employed'].map({'No':0,'Yes':1}).astype(int)\n",
    "data['Credit_History'] = data['Credit_History'].astype(int)    "
   ]
  },
  {
   "cell_type": "code",
   "execution_count": 13,
   "metadata": {
    "execution": {
     "iopub.execute_input": "2022-05-15T13:29:25.405405Z",
     "iopub.status.busy": "2022-05-15T13:29:25.405147Z",
     "iopub.status.idle": "2022-05-15T13:29:25.420918Z",
     "shell.execute_reply": "2022-05-15T13:29:25.420029Z",
     "shell.execute_reply.started": "2022-05-15T13:29:25.405375Z"
    }
   },
   "outputs": [],
   "source": [
    "data['Property_Area'] = data['Property_Area'].map({'Urban':0,'Rural':1, 'Semiurban':2}).astype(int)\n",
    "data['Dependents'] = data['Dependents'].map({'0':0, '1':1, '2':2, '3+':3})"
   ]
  },
  {
   "cell_type": "markdown",
   "metadata": {},
   "source": [
    "We map the values so that we can input the train data into the model as the model does not accept any string values."
   ]
  },
  {
   "cell_type": "code",
   "execution_count": 14,
   "metadata": {
    "execution": {
     "iopub.execute_input": "2022-05-15T13:29:25.422380Z",
     "iopub.status.busy": "2022-05-15T13:29:25.422142Z",
     "iopub.status.idle": "2022-05-15T13:29:25.436404Z",
     "shell.execute_reply": "2022-05-15T13:29:25.435421Z",
     "shell.execute_reply.started": "2022-05-15T13:29:25.422352Z"
    }
   },
   "outputs": [],
   "source": [
    "#creating a new feature\n",
    "data['Total_Income'] = data['ApplicantIncome'] + data['CoapplicantIncome']\n",
    "data.drop(['ApplicantIncome', 'CoapplicantIncome'], axis='columns', inplace=True)"
   ]
  },
  {
   "cell_type": "markdown",
   "metadata": {},
   "source": [
    "# Exploratory Data Analysis (EDA) "
   ]
  },
  {
   "cell_type": "code",
   "execution_count": 15,
   "metadata": {
    "execution": {
     "iopub.execute_input": "2022-05-15T13:29:25.438002Z",
     "iopub.status.busy": "2022-05-15T13:29:25.437665Z",
     "iopub.status.idle": "2022-05-15T13:29:25.450930Z",
     "shell.execute_reply": "2022-05-15T13:29:25.450183Z",
     "shell.execute_reply.started": "2022-05-15T13:29:25.437973Z"
    }
   },
   "outputs": [],
   "source": [
    "# Splitting the data to new_train and new_test so that we can perform EDA.\n",
    "new_train = data.iloc[:614]\n",
    "new_test = data.iloc[614:]"
   ]
  },
  {
   "cell_type": "code",
   "execution_count": 16,
   "metadata": {
    "execution": {
     "iopub.execute_input": "2022-05-15T13:29:25.452568Z",
     "iopub.status.busy": "2022-05-15T13:29:25.452213Z",
     "iopub.status.idle": "2022-05-15T13:29:25.466322Z",
     "shell.execute_reply": "2022-05-15T13:29:25.465484Z",
     "shell.execute_reply.started": "2022-05-15T13:29:25.452540Z"
    }
   },
   "outputs": [],
   "source": [
    "# Mapping ‘N’ to 0 and ‘Y’ to 1\n",
    "new_train['Loan_Status'] = new_train['Loan_Status'].map({'N':0,'Y':1}).astype(int)"
   ]
  },
  {
   "cell_type": "code",
   "execution_count": 17,
   "metadata": {
    "execution": {
     "iopub.execute_input": "2022-05-15T13:29:25.467857Z",
     "iopub.status.busy": "2022-05-15T13:29:25.467539Z",
     "iopub.status.idle": "2022-05-15T13:29:26.200596Z",
     "shell.execute_reply": "2022-05-15T13:29:26.199485Z",
     "shell.execute_reply.started": "2022-05-15T13:29:25.467830Z"
    }
   },
   "outputs": [
    {
     "data": {
      "text/plain": [
       "<AxesSubplot:xlabel='Dependents', ylabel='count'>"
      ]
     },
     "execution_count": 17,
     "metadata": {},
     "output_type": "execute_result"
    },
    {
     "data": {
      "image/png": "[encoded data removed]",
      "text/plain": [
       "<Figure size 1152x720 with 8 Axes>"
      ]
     },
     "metadata": {
      "needs_background": "light"
     },
     "output_type": "display_data"
    }
   ],
   "source": [
    "# Univariate Analysis:\n",
    "fig,ax = plt.subplots(2,4,figsize=(16,10))\n",
    "sns.countplot(x='Loan_Status', data = new_train, ax=ax[0][0])\n",
    "sns.countplot(x='Gender', data = new_train, ax=ax[0][1])\n",
    "sns.countplot(x='Married', data = new_train, ax=ax[0][2])\n",
    "sns.countplot(x='Education', data = new_train, ax=ax[0][3])\n",
    "sns.countplot(x='Self_Employed', data = new_train, ax=ax[1][0])\n",
    "sns.countplot(x='Property_Area', data = new_train, ax=ax[1][1])\n",
    "sns.countplot(x='Credit_History', data = new_train, ax=ax[1][2])\n",
    "sns.countplot(x='Dependents', data = new_train, ax=ax[1][3])"
   ]
  },
  {
   "cell_type": "markdown",
   "metadata": {},
   "source": [
    "Univariate Analysis Observations:\n",
    "\n",
    "1. More Loans are approved Vs Rejected\n",
    "2. Count of Male applicants is more than Female\n",
    "3. Count of Married applicant is more than Non-married\n",
    "4. Count of graduate is more than non-Graduate\n",
    "5. Count of self-employed is less than that of Non-Self-employed\n",
    "6. Maximum properties are located in Semiurban areas\n",
    "7. Credit History is present for many applicants\n",
    "8. The count of applicants with several dependents=0 is maximum."
   ]
  },
  {
   "cell_type": "code",
   "execution_count": 18,
   "metadata": {
    "execution": {
     "iopub.execute_input": "2022-05-15T13:29:26.202763Z",
     "iopub.status.busy": "2022-05-15T13:29:26.202457Z",
     "iopub.status.idle": "2022-05-15T13:29:26.350123Z",
     "shell.execute_reply": "2022-05-15T13:29:26.349336Z",
     "shell.execute_reply.started": "2022-05-15T13:29:26.202721Z"
    }
   },
   "outputs": [
    {
     "data": {
      "text/plain": [
       "<AxesSubplot:xlabel='Loan_Status', ylabel='Total_Income'>"
      ]
     },
     "execution_count": 18,
     "metadata": {},
     "output_type": "execute_result"
    },
    {
     "data": {
      "image/png": "[encoded data removed]",
      "text/plain": [
       "<Figure size 432x288 with 1 Axes>"
      ]
     },
     "metadata": {
      "needs_background": "light"
     },
     "output_type": "display_data"
    }
   ],
   "source": [
    "# Bivariate Analysis\n",
    "sns.boxplot(x='Loan_Status', y='Total_Income', data=new_train)"
   ]
  },
  {
   "cell_type": "markdown",
   "metadata": {},
   "source": [
    "Mean Total_Income of 0 and 1 are almost the same (o: no,1: Yes)"
   ]
  },
  {
   "cell_type": "code",
   "execution_count": 19,
   "metadata": {
    "execution": {
     "iopub.execute_input": "2022-05-15T13:29:26.352260Z",
     "iopub.status.busy": "2022-05-15T13:29:26.351629Z",
     "iopub.status.idle": "2022-05-15T13:29:26.488759Z",
     "shell.execute_reply": "2022-05-15T13:29:26.487755Z",
     "shell.execute_reply.started": "2022-05-15T13:29:26.352214Z"
    }
   },
   "outputs": [
    {
     "data": {
      "text/plain": [
       "<AxesSubplot:xlabel='Gender', ylabel='LoanAmount'>"
      ]
     },
     "execution_count": 19,
     "metadata": {},
     "output_type": "execute_result"
    },
    {
     "data": {
      "image/png": "[encoded data removed]",
      "text/plain": [
       "<Figure size 432x288 with 1 Axes>"
      ]
     },
     "metadata": {
      "needs_background": "light"
     },
     "output_type": "display_data"
    }
   ],
   "source": [
    "sns.boxplot(x='Gender', y='LoanAmount', data=new_train)"
   ]
  },
  {
   "cell_type": "markdown",
   "metadata": {},
   "source": [
    "The mean value of Loan Amount applied by males (0) is slightly higher than Females(1)."
   ]
  },
  {
   "cell_type": "code",
   "execution_count": 20,
   "metadata": {
    "execution": {
     "iopub.execute_input": "2022-05-15T13:29:26.491270Z",
     "iopub.status.busy": "2022-05-15T13:29:26.490245Z",
     "iopub.status.idle": "2022-05-15T13:29:27.260325Z",
     "shell.execute_reply": "2022-05-15T13:29:27.259067Z",
     "shell.execute_reply.started": "2022-05-15T13:29:26.491222Z"
    }
   },
   "outputs": [
    {
     "data": {
      "text/plain": [
       "<AxesSubplot:>"
      ]
     },
     "execution_count": 20,
     "metadata": {},
     "output_type": "execute_result"
    },
    {
     "data": {
      "image/png": "[encoded data removed]",
      "text/plain": [
       "<Figure size 720x720 with 2 Axes>"
      ]
     },
     "metadata": {
      "needs_background": "light"
     },
     "output_type": "display_data"
    }
   ],
   "source": [
    "# Correlation matrix\n",
    "plt.figure(figsize = (10,10))\n",
    "correlation_matrix = new_train.corr()\n",
    "sns.heatmap(correlation_matrix, annot=True, cmap='RdYlGn')"
   ]
  },
  {
   "cell_type": "markdown",
   "metadata": {},
   "source": [
    "# Building Machine Learning Model"
   ]
  },
  {
   "cell_type": "code",
   "execution_count": 21,
   "metadata": {
    "execution": {
     "iopub.execute_input": "2022-05-15T13:29:27.262262Z",
     "iopub.status.busy": "2022-05-15T13:29:27.261947Z",
     "iopub.status.idle": "2022-05-15T13:29:27.270666Z",
     "shell.execute_reply": "2022-05-15T13:29:27.269802Z",
     "shell.execute_reply.started": "2022-05-15T13:29:27.262221Z"
    }
   },
   "outputs": [],
   "source": [
    "# Creating X (input variables) and Y (Target Variable) from the new_train data.\n",
    "x = new_train.drop('Loan_Status', axis='columns')\n",
    "y = new_train['Loan_Status']"
   ]
  },
  {
   "cell_type": "code",
   "execution_count": 22,
   "metadata": {
    "execution": {
     "iopub.execute_input": "2022-05-15T13:33:19.702997Z",
     "iopub.status.busy": "2022-05-15T13:33:19.702727Z",
     "iopub.status.idle": "2022-05-15T13:33:19.710738Z",
     "shell.execute_reply": "2022-05-15T13:33:19.709758Z",
     "shell.execute_reply.started": "2022-05-15T13:33:19.702969Z"
    }
   },
   "outputs": [],
   "source": [
    "# Using train test split on the training data for validation\n",
    "X_train, X_test, y_train, y_test = train_test_split(x,y, test_size=0.3, random_state=3)"
   ]
  },
  {
   "cell_type": "markdown",
   "metadata": {},
   "source": [
    "We have a (70:30) split on the training data."
   ]
  },
  {
   "cell_type": "markdown",
   "metadata": {},
   "source": [
    "## Decison Tree"
   ]
  },
  {
   "cell_type": "code",
   "execution_count": 23,
   "metadata": {
    "execution": {
     "iopub.execute_input": "2022-05-15T13:31:48.602411Z",
     "iopub.status.busy": "2022-05-15T13:31:48.601754Z",
     "iopub.status.idle": "2022-05-15T13:31:48.616045Z",
     "shell.execute_reply": "2022-05-15T13:31:48.615003Z",
     "shell.execute_reply.started": "2022-05-15T13:31:48.602346Z"
    }
   },
   "outputs": [
    {
     "data": {
      "text/plain": [
       "DecisionTreeClassifier()"
      ]
     },
     "execution_count": 23,
     "metadata": {},
     "output_type": "execute_result"
    }
   ],
   "source": [
    "#Building the model using DecisonTree\n",
    "from sklearn.tree import DecisionTreeClassifier\n",
    "\n",
    "dtree = DecisionTreeClassifier()\n",
    "dtree.fit(X_train, y_train)"
   ]
  },
  {
   "cell_type": "code",
   "execution_count": 24,
   "metadata": {
    "execution": {
     "iopub.execute_input": "2022-05-15T13:31:48.629192Z",
     "iopub.status.busy": "2022-05-15T13:31:48.628189Z",
     "iopub.status.idle": "2022-05-15T13:31:48.640858Z",
     "shell.execute_reply": "2022-05-15T13:31:48.639476Z",
     "shell.execute_reply.started": "2022-05-15T13:31:48.629141Z"
    }
   },
   "outputs": [
    {
     "name": "stdout",
     "output_type": "stream",
     "text": [
      "Accuracy Score = 0.7297297297297297\n"
     ]
    }
   ],
   "source": [
    "# Now we will be making the predictions on the testing data directly as it is of more importance.\n",
    "from sklearn import metrics\n",
    "\n",
    "# Getting the accuracy score for Decision Tree\n",
    "dtree_pred = dtree.predict(X_test)\n",
    "print(\"Accuracy Score =\", format(metrics.accuracy_score(y_test,dtree_pred)))"
   ]
  },
  {
   "cell_type": "code",
   "execution_count": 25,
   "metadata": {
    "execution": {
     "iopub.execute_input": "2022-05-15T13:31:48.644722Z",
     "iopub.status.busy": "2022-05-15T13:31:48.642474Z",
     "iopub.status.idle": "2022-05-15T13:31:48.661055Z",
     "shell.execute_reply": "2022-05-15T13:31:48.659914Z",
     "shell.execute_reply.started": "2022-05-15T13:31:48.644671Z"
    }
   },
   "outputs": [
    {
     "name": "stdout",
     "output_type": "stream",
     "text": [
      "[[ 25  20]\n",
      " [ 30 110]]\n",
      "              precision    recall  f1-score   support\n",
      "\n",
      "           0       0.45      0.56      0.50        45\n",
      "           1       0.85      0.79      0.81       140\n",
      "\n",
      "    accuracy                           0.73       185\n",
      "   macro avg       0.65      0.67      0.66       185\n",
      "weighted avg       0.75      0.73      0.74       185\n",
      "\n"
     ]
    }
   ],
   "source": [
    "# Classification report and confusion matrix of the decision tree model\n",
    "print(confusion_matrix(y_test, dtree_pred))\n",
    "print(classification_report(y_test,dtree_pred))"
   ]
  },
  {
   "cell_type": "markdown",
   "metadata": {},
   "source": [
    "## Random Forest"
   ]
  },
  {
   "cell_type": "code",
   "execution_count": 26,
   "metadata": {
    "execution": {
     "iopub.execute_input": "2022-05-15T13:31:48.724168Z",
     "iopub.status.busy": "2022-05-15T13:31:48.721907Z",
     "iopub.status.idle": "2022-05-15T13:31:49.211500Z",
     "shell.execute_reply": "2022-05-15T13:31:49.210772Z",
     "shell.execute_reply.started": "2022-05-15T13:31:48.724126Z"
    }
   },
   "outputs": [
    {
     "name": "stdout",
     "output_type": "stream",
     "text": [
      "Accuracy_Score = 0.7945945945945946\n"
     ]
    }
   ],
   "source": [
    "#Building the model using RandomForest\n",
    "from sklearn.ensemble import RandomForestClassifier\n",
    "\n",
    "rfc = RandomForestClassifier(n_estimators=200)\n",
    "rfc.fit(X_train, y_train)\n",
    "\n",
    "# Getting the accuracy score for Random Forest\n",
    "rfc_pred = rfc.predict(X_test)\n",
    "print(\"Accuracy_Score =\", format(metrics.accuracy_score(y_test, rfc_pred)))"
   ]
  },
  {
   "cell_type": "code",
   "execution_count": 27,
   "metadata": {
    "execution": {
     "iopub.execute_input": "2022-05-15T13:31:49.213513Z",
     "iopub.status.busy": "2022-05-15T13:31:49.212823Z",
     "iopub.status.idle": "2022-05-15T13:31:49.226038Z",
     "shell.execute_reply": "2022-05-15T13:31:49.225029Z",
     "shell.execute_reply.started": "2022-05-15T13:31:49.213469Z"
    }
   },
   "outputs": [
    {
     "name": "stdout",
     "output_type": "stream",
     "text": [
      "[[ 25  20]\n",
      " [ 18 122]]\n",
      "              precision    recall  f1-score   support\n",
      "\n",
      "           0       0.58      0.56      0.57        45\n",
      "           1       0.86      0.87      0.87       140\n",
      "\n",
      "    accuracy                           0.79       185\n",
      "   macro avg       0.72      0.71      0.72       185\n",
      "weighted avg       0.79      0.79      0.79       185\n",
      "\n"
     ]
    }
   ],
   "source": [
    "# Classification report and confusion matrix of the Random Forest model\n",
    "print(confusion_matrix(y_test, rfc_pred))\n",
    "print(classification_report(y_test,rfc_pred))"
   ]
  },
  {
   "cell_type": "markdown",
   "metadata": {},
   "source": [
    "## Logistic Regression"
   ]
  },
  {
   "cell_type": "code",
   "execution_count": 28,
   "metadata": {
    "execution": {
     "iopub.execute_input": "2022-05-15T13:33:26.462242Z",
     "iopub.status.busy": "2022-05-15T13:33:26.461229Z",
     "iopub.status.idle": "2022-05-15T13:33:26.517167Z",
     "shell.execute_reply": "2022-05-15T13:33:26.516102Z",
     "shell.execute_reply.started": "2022-05-15T13:33:26.462183Z"
    }
   },
   "outputs": [
    {
     "data": {
      "text/plain": [
       "LogisticRegression(max_iter=1000)"
      ]
     },
     "execution_count": 28,
     "metadata": {},
     "output_type": "execute_result"
    }
   ],
   "source": [
    "#Building the model using LogisticRegression\n",
    "from sklearn.linear_model import LogisticRegression\n",
    "\n",
    "logreg = LogisticRegression(max_iter=1000)\n",
    "logreg.fit(X_train,y_train)"
   ]
  },
  {
   "cell_type": "code",
   "execution_count": 29,
   "metadata": {
    "execution": {
     "iopub.execute_input": "2022-05-15T13:33:26.600551Z",
     "iopub.status.busy": "2022-05-15T13:33:26.599757Z",
     "iopub.status.idle": "2022-05-15T13:33:26.613453Z",
     "shell.execute_reply": "2022-05-15T13:33:26.612137Z",
     "shell.execute_reply.started": "2022-05-15T13:33:26.600504Z"
    }
   },
   "outputs": [
    {
     "name": "stdout",
     "output_type": "stream",
     "text": [
      "Accuracy_Score = 0.8486486486486486\n"
     ]
    }
   ],
   "source": [
    "logreg.predict(X_test)\n",
    "\n",
    "# Getting the accuracy score for Logistic Regression\n",
    "logreg_pred = logreg.predict(X_test)\n",
    "print(\"Accuracy_Score =\", format(metrics.accuracy_score(y_test, logreg_pred)))"
   ]
  },
  {
   "cell_type": "code",
   "execution_count": 30,
   "metadata": {
    "execution": {
     "iopub.execute_input": "2022-05-15T13:33:26.760396Z",
     "iopub.status.busy": "2022-05-15T13:33:26.760038Z",
     "iopub.status.idle": "2022-05-15T13:33:26.772262Z",
     "shell.execute_reply": "2022-05-15T13:33:26.771562Z",
     "shell.execute_reply.started": "2022-05-15T13:33:26.760362Z"
    }
   },
   "outputs": [
    {
     "name": "stdout",
     "output_type": "stream",
     "text": [
      "[[ 21  24]\n",
      " [  4 136]]\n",
      "              precision    recall  f1-score   support\n",
      "\n",
      "           0       0.84      0.47      0.60        45\n",
      "           1       0.85      0.97      0.91       140\n",
      "\n",
      "    accuracy                           0.85       185\n",
      "   macro avg       0.84      0.72      0.75       185\n",
      "weighted avg       0.85      0.85      0.83       185\n",
      "\n"
     ]
    }
   ],
   "source": [
    "# Classification report and confusion matrix of the SVM\n",
    "print(confusion_matrix(y_test,logreg_pred ))\n",
    "print(classification_report(y_test,logreg_pred))"
   ]
  },
  {
   "cell_type": "markdown",
   "metadata": {},
   "source": [
    "# The Conclusion from Model Building"
   ]
  },
  {
   "cell_type": "markdown",
   "metadata": {},
   "source": [
    "Therefore, Random Forest and Logistic Regression are the best model for this prediction since their accuracy_score lies between 0.83 to 0.85.\n",
    "After using all these customer records, we are able to build a machine learning model to accurately predict whether or not the customers in the dataset would get loan approved or not along with that we were able to draw some insights from the data via data analysis and visualization."
   ]
  }
 ],
 "metadata": {
  "kernelspec": {
   "display_name": "Python 3 (ipykernel)",
   "language": "python",
   "name": "python3"
  },
  "language_info": {
   "codemirror_mode": {
    "name": "ipython",
    "version": 3
   },
   "file_extension": ".py",
   "mimetype": "text/x-python",
   "name": "python",
   "nbconvert_exporter": "python",
   "pygments_lexer": "ipython3",
   "version": "3.9.7"
  }
 },
 "nbformat": 4,
 "nbformat_minor": 4
}
