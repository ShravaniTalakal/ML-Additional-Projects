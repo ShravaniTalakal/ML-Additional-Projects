{
 "cells": [
  {
   "cell_type": "code",
   "execution_count": 1,
   "id": "8886c2ff",
   "metadata": {
    "_cell_guid": "b1076dfc-b9ad-4769-8c92-a6c4dae69d19",
    "_uuid": "8f2839f25d086af736a60e9eeb907d3b93b6e0e5",
    "execution": {
     "iopub.execute_input": "2022-07-13T12:29:27.011956Z",
     "iopub.status.busy": "2022-07-13T12:29:27.011027Z",
     "iopub.status.idle": "2022-07-13T12:29:28.043913Z",
     "shell.execute_reply": "2022-07-13T12:29:28.042829Z"
    },
    "papermill": {
     "duration": 1.051989,
     "end_time": "2022-07-13T12:29:28.046753",
     "exception": false,
     "start_time": "2022-07-13T12:29:26.994764",
     "status": "completed"
    },
    "tags": []
   },
   "outputs": [],
   "source": [
    "#Import Libraries\n",
    "\n",
    "import numpy as np \n",
    "import pandas as pd \n",
    "import seaborn as sns\n",
    "import matplotlib.pyplot as plt"
   ]
  },
  {
   "cell_type": "code",
   "execution_count": 2,
   "id": "48b04da0",
   "metadata": {
    "execution": {
     "iopub.execute_input": "2022-07-13T12:29:28.101766Z",
     "iopub.status.busy": "2022-07-13T12:29:28.101051Z",
     "iopub.status.idle": "2022-07-13T12:29:28.217507Z",
     "shell.execute_reply": "2022-07-13T12:29:28.216719Z"
    },
    "papermill": {
     "duration": 0.13411,
     "end_time": "2022-07-13T12:29:28.220114",
     "exception": false,
     "start_time": "2022-07-13T12:29:28.086004",
     "status": "completed"
    },
    "tags": []
   },
   "outputs": [
    {
     "data": {
      "text/html": [
       "<div>\n",
       "<style scoped>\n",
       "    .dataframe tbody tr th:only-of-type {\n",
       "        vertical-align: middle;\n",
       "    }\n",
       "\n",
       "    .dataframe tbody tr th {\n",
       "        vertical-align: top;\n",
       "    }\n",
       "\n",
       "    .dataframe thead th {\n",
       "        text-align: right;\n",
       "    }\n",
       "</style>\n",
       "<table border=\"1\" class=\"dataframe\">\n",
       "  <thead>\n",
       "    <tr style=\"text-align: right;\">\n",
       "      <th></th>\n",
       "      <th>ID</th>\n",
       "      <th>Price</th>\n",
       "      <th>Levy</th>\n",
       "      <th>Manufacturer</th>\n",
       "      <th>Model</th>\n",
       "      <th>Prod. year</th>\n",
       "      <th>Category</th>\n",
       "      <th>Leather interior</th>\n",
       "      <th>Fuel type</th>\n",
       "      <th>Engine volume</th>\n",
       "      <th>Mileage</th>\n",
       "      <th>Cylinders</th>\n",
       "      <th>Gear box type</th>\n",
       "      <th>Drive wheels</th>\n",
       "      <th>Doors</th>\n",
       "      <th>Wheel</th>\n",
       "      <th>Color</th>\n",
       "      <th>Airbags</th>\n",
       "    </tr>\n",
       "  </thead>\n",
       "  <tbody>\n",
       "    <tr>\n",
       "      <th>0</th>\n",
       "      <td>45654403</td>\n",
       "      <td>13328</td>\n",
       "      <td>1399</td>\n",
       "      <td>LEXUS</td>\n",
       "      <td>RX 450</td>\n",
       "      <td>2010</td>\n",
       "      <td>Jeep</td>\n",
       "      <td>Yes</td>\n",
       "      <td>Hybrid</td>\n",
       "      <td>3.5</td>\n",
       "      <td>186005 km</td>\n",
       "      <td>6.0</td>\n",
       "      <td>Automatic</td>\n",
       "      <td>4x4</td>\n",
       "      <td>04-May</td>\n",
       "      <td>Left wheel</td>\n",
       "      <td>Silver</td>\n",
       "      <td>12</td>\n",
       "    </tr>\n",
       "    <tr>\n",
       "      <th>1</th>\n",
       "      <td>44731507</td>\n",
       "      <td>16621</td>\n",
       "      <td>1018</td>\n",
       "      <td>CHEVROLET</td>\n",
       "      <td>Equinox</td>\n",
       "      <td>2011</td>\n",
       "      <td>Jeep</td>\n",
       "      <td>No</td>\n",
       "      <td>Petrol</td>\n",
       "      <td>3</td>\n",
       "      <td>192000 km</td>\n",
       "      <td>6.0</td>\n",
       "      <td>Tiptronic</td>\n",
       "      <td>4x4</td>\n",
       "      <td>04-May</td>\n",
       "      <td>Left wheel</td>\n",
       "      <td>Black</td>\n",
       "      <td>8</td>\n",
       "    </tr>\n",
       "    <tr>\n",
       "      <th>2</th>\n",
       "      <td>45774419</td>\n",
       "      <td>8467</td>\n",
       "      <td>-</td>\n",
       "      <td>HONDA</td>\n",
       "      <td>FIT</td>\n",
       "      <td>2006</td>\n",
       "      <td>Hatchback</td>\n",
       "      <td>No</td>\n",
       "      <td>Petrol</td>\n",
       "      <td>1.3</td>\n",
       "      <td>200000 km</td>\n",
       "      <td>4.0</td>\n",
       "      <td>Variator</td>\n",
       "      <td>Front</td>\n",
       "      <td>04-May</td>\n",
       "      <td>Right-hand drive</td>\n",
       "      <td>Black</td>\n",
       "      <td>2</td>\n",
       "    </tr>\n",
       "    <tr>\n",
       "      <th>3</th>\n",
       "      <td>45769185</td>\n",
       "      <td>3607</td>\n",
       "      <td>862</td>\n",
       "      <td>FORD</td>\n",
       "      <td>Escape</td>\n",
       "      <td>2011</td>\n",
       "      <td>Jeep</td>\n",
       "      <td>Yes</td>\n",
       "      <td>Hybrid</td>\n",
       "      <td>2.5</td>\n",
       "      <td>168966 km</td>\n",
       "      <td>4.0</td>\n",
       "      <td>Automatic</td>\n",
       "      <td>4x4</td>\n",
       "      <td>04-May</td>\n",
       "      <td>Left wheel</td>\n",
       "      <td>White</td>\n",
       "      <td>0</td>\n",
       "    </tr>\n",
       "    <tr>\n",
       "      <th>4</th>\n",
       "      <td>45809263</td>\n",
       "      <td>11726</td>\n",
       "      <td>446</td>\n",
       "      <td>HONDA</td>\n",
       "      <td>FIT</td>\n",
       "      <td>2014</td>\n",
       "      <td>Hatchback</td>\n",
       "      <td>Yes</td>\n",
       "      <td>Petrol</td>\n",
       "      <td>1.3</td>\n",
       "      <td>91901 km</td>\n",
       "      <td>4.0</td>\n",
       "      <td>Automatic</td>\n",
       "      <td>Front</td>\n",
       "      <td>04-May</td>\n",
       "      <td>Left wheel</td>\n",
       "      <td>Silver</td>\n",
       "      <td>4</td>\n",
       "    </tr>\n",
       "  </tbody>\n",
       "</table>\n",
       "</div>"
      ],
      "text/plain": [
       "         ID  Price  Levy Manufacturer    Model  Prod. year   Category  \\\n",
       "0  45654403  13328  1399        LEXUS   RX 450        2010       Jeep   \n",
       "1  44731507  16621  1018    CHEVROLET  Equinox        2011       Jeep   \n",
       "2  45774419   8467     -        HONDA      FIT        2006  Hatchback   \n",
       "3  45769185   3607   862         FORD   Escape        2011       Jeep   \n",
       "4  45809263  11726   446        HONDA      FIT        2014  Hatchback   \n",
       "\n",
       "  Leather interior Fuel type Engine volume    Mileage  Cylinders  \\\n",
       "0              Yes    Hybrid           3.5  186005 km        6.0   \n",
       "1               No    Petrol             3  192000 km        6.0   \n",
       "2               No    Petrol           1.3  200000 km        4.0   \n",
       "3              Yes    Hybrid           2.5  168966 km        4.0   \n",
       "4              Yes    Petrol           1.3   91901 km        4.0   \n",
       "\n",
       "  Gear box type Drive wheels   Doors             Wheel   Color  Airbags  \n",
       "0     Automatic          4x4  04-May        Left wheel  Silver       12  \n",
       "1     Tiptronic          4x4  04-May        Left wheel   Black        8  \n",
       "2      Variator        Front  04-May  Right-hand drive   Black        2  \n",
       "3     Automatic          4x4  04-May        Left wheel   White        0  \n",
       "4     Automatic        Front  04-May        Left wheel  Silver        4  "
      ]
     },
     "execution_count": 2,
     "metadata": {},
     "output_type": "execute_result"
    }
   ],
   "source": [
    "df = pd.read_csv('E:/data science/capstone Projects/Additional projects/Car Price/car_price_prediction.csv')\n",
    "df.head(5)"
   ]
  },
  {
   "cell_type": "code",
   "execution_count": 3,
   "id": "811fff16",
   "metadata": {
    "execution": {
     "iopub.execute_input": "2022-07-13T12:29:28.248751Z",
     "iopub.status.busy": "2022-07-13T12:29:28.248197Z",
     "iopub.status.idle": "2022-07-13T12:29:28.253037Z",
     "shell.execute_reply": "2022-07-13T12:29:28.252354Z"
    },
    "papermill": {
     "duration": 0.021105,
     "end_time": "2022-07-13T12:29:28.254773",
     "exception": false,
     "start_time": "2022-07-13T12:29:28.233668",
     "status": "completed"
    },
    "tags": []
   },
   "outputs": [
    {
     "data": {
      "text/plain": [
       "(19237, 18)"
      ]
     },
     "execution_count": 3,
     "metadata": {},
     "output_type": "execute_result"
    }
   ],
   "source": [
    "df.shape"
   ]
  },
  {
   "cell_type": "markdown",
   "id": "e3d0c66d",
   "metadata": {
    "papermill": {
     "duration": 0.013201,
     "end_time": "2022-07-13T12:29:28.281313",
     "exception": false,
     "start_time": "2022-07-13T12:29:28.268112",
     "status": "completed"
    },
    "tags": []
   },
   "source": [
    "In our dataset we have 19237 rows (record) and 18 columns (features). The price column is the target variable and the remaining are the feature variables based on which we will predict the value of a car."
   ]
  },
  {
   "cell_type": "code",
   "execution_count": 4,
   "id": "62b20cd2",
   "metadata": {
    "execution": {
     "iopub.execute_input": "2022-07-13T12:29:28.309976Z",
     "iopub.status.busy": "2022-07-13T12:29:28.309570Z",
     "iopub.status.idle": "2022-07-13T12:29:28.344485Z",
     "shell.execute_reply": "2022-07-13T12:29:28.343656Z"
    },
    "papermill": {
     "duration": 0.051484,
     "end_time": "2022-07-13T12:29:28.346326",
     "exception": false,
     "start_time": "2022-07-13T12:29:28.294842",
     "status": "completed"
    },
    "tags": []
   },
   "outputs": [
    {
     "data": {
      "text/html": [
       "<div>\n",
       "<style scoped>\n",
       "    .dataframe tbody tr th:only-of-type {\n",
       "        vertical-align: middle;\n",
       "    }\n",
       "\n",
       "    .dataframe tbody tr th {\n",
       "        vertical-align: top;\n",
       "    }\n",
       "\n",
       "    .dataframe thead th {\n",
       "        text-align: right;\n",
       "    }\n",
       "</style>\n",
       "<table border=\"1\" class=\"dataframe\">\n",
       "  <thead>\n",
       "    <tr style=\"text-align: right;\">\n",
       "      <th></th>\n",
       "      <th>ID</th>\n",
       "      <th>Price</th>\n",
       "      <th>Prod. year</th>\n",
       "      <th>Cylinders</th>\n",
       "      <th>Airbags</th>\n",
       "    </tr>\n",
       "  </thead>\n",
       "  <tbody>\n",
       "    <tr>\n",
       "      <th>count</th>\n",
       "      <td>1.923700e+04</td>\n",
       "      <td>1.923700e+04</td>\n",
       "      <td>19237.000000</td>\n",
       "      <td>19237.000000</td>\n",
       "      <td>19237.000000</td>\n",
       "    </tr>\n",
       "    <tr>\n",
       "      <th>mean</th>\n",
       "      <td>4.557654e+07</td>\n",
       "      <td>1.855593e+04</td>\n",
       "      <td>2010.912824</td>\n",
       "      <td>4.582991</td>\n",
       "      <td>6.582627</td>\n",
       "    </tr>\n",
       "    <tr>\n",
       "      <th>std</th>\n",
       "      <td>9.365914e+05</td>\n",
       "      <td>1.905813e+05</td>\n",
       "      <td>5.668673</td>\n",
       "      <td>1.199933</td>\n",
       "      <td>4.320168</td>\n",
       "    </tr>\n",
       "    <tr>\n",
       "      <th>min</th>\n",
       "      <td>2.074688e+07</td>\n",
       "      <td>1.000000e+00</td>\n",
       "      <td>1939.000000</td>\n",
       "      <td>1.000000</td>\n",
       "      <td>0.000000</td>\n",
       "    </tr>\n",
       "    <tr>\n",
       "      <th>25%</th>\n",
       "      <td>4.569837e+07</td>\n",
       "      <td>5.331000e+03</td>\n",
       "      <td>2009.000000</td>\n",
       "      <td>4.000000</td>\n",
       "      <td>4.000000</td>\n",
       "    </tr>\n",
       "    <tr>\n",
       "      <th>50%</th>\n",
       "      <td>4.577231e+07</td>\n",
       "      <td>1.317200e+04</td>\n",
       "      <td>2012.000000</td>\n",
       "      <td>4.000000</td>\n",
       "      <td>6.000000</td>\n",
       "    </tr>\n",
       "    <tr>\n",
       "      <th>75%</th>\n",
       "      <td>4.580204e+07</td>\n",
       "      <td>2.207500e+04</td>\n",
       "      <td>2015.000000</td>\n",
       "      <td>4.000000</td>\n",
       "      <td>12.000000</td>\n",
       "    </tr>\n",
       "    <tr>\n",
       "      <th>max</th>\n",
       "      <td>4.581665e+07</td>\n",
       "      <td>2.630750e+07</td>\n",
       "      <td>2020.000000</td>\n",
       "      <td>16.000000</td>\n",
       "      <td>16.000000</td>\n",
       "    </tr>\n",
       "  </tbody>\n",
       "</table>\n",
       "</div>"
      ],
      "text/plain": [
       "                 ID         Price    Prod. year     Cylinders       Airbags\n",
       "count  1.923700e+04  1.923700e+04  19237.000000  19237.000000  19237.000000\n",
       "mean   4.557654e+07  1.855593e+04   2010.912824      4.582991      6.582627\n",
       "std    9.365914e+05  1.905813e+05      5.668673      1.199933      4.320168\n",
       "min    2.074688e+07  1.000000e+00   1939.000000      1.000000      0.000000\n",
       "25%    4.569837e+07  5.331000e+03   2009.000000      4.000000      4.000000\n",
       "50%    4.577231e+07  1.317200e+04   2012.000000      4.000000      6.000000\n",
       "75%    4.580204e+07  2.207500e+04   2015.000000      4.000000     12.000000\n",
       "max    4.581665e+07  2.630750e+07   2020.000000     16.000000     16.000000"
      ]
     },
     "execution_count": 4,
     "metadata": {},
     "output_type": "execute_result"
    }
   ],
   "source": [
    "df.describe()"
   ]
  },
  {
   "cell_type": "markdown",
   "id": "95194df1",
   "metadata": {
    "papermill": {
     "duration": 0.013334,
     "end_time": "2022-07-13T12:29:28.373309",
     "exception": false,
     "start_time": "2022-07-13T12:29:28.359975",
     "status": "completed"
    },
    "tags": []
   },
   "source": [
    "This provides the summary statistics for all numerical variables in the dataset."
   ]
  },
  {
   "cell_type": "code",
   "execution_count": 5,
   "id": "3056d33a",
   "metadata": {
    "execution": {
     "iopub.execute_input": "2022-07-13T12:29:28.402497Z",
     "iopub.status.busy": "2022-07-13T12:29:28.401876Z",
     "iopub.status.idle": "2022-07-13T12:29:28.460470Z",
     "shell.execute_reply": "2022-07-13T12:29:28.459605Z"
    },
    "papermill": {
     "duration": 0.07554,
     "end_time": "2022-07-13T12:29:28.462387",
     "exception": false,
     "start_time": "2022-07-13T12:29:28.386847",
     "status": "completed"
    },
    "tags": []
   },
   "outputs": [
    {
     "data": {
      "text/html": [
       "<div>\n",
       "<style scoped>\n",
       "    .dataframe tbody tr th:only-of-type {\n",
       "        vertical-align: middle;\n",
       "    }\n",
       "\n",
       "    .dataframe tbody tr th {\n",
       "        vertical-align: top;\n",
       "    }\n",
       "\n",
       "    .dataframe thead th {\n",
       "        text-align: right;\n",
       "    }\n",
       "</style>\n",
       "<table border=\"1\" class=\"dataframe\">\n",
       "  <thead>\n",
       "    <tr style=\"text-align: right;\">\n",
       "      <th></th>\n",
       "      <th>Levy</th>\n",
       "      <th>Manufacturer</th>\n",
       "      <th>Model</th>\n",
       "      <th>Category</th>\n",
       "      <th>Leather interior</th>\n",
       "      <th>Fuel type</th>\n",
       "      <th>Engine volume</th>\n",
       "      <th>Mileage</th>\n",
       "      <th>Gear box type</th>\n",
       "      <th>Drive wheels</th>\n",
       "      <th>Doors</th>\n",
       "      <th>Wheel</th>\n",
       "      <th>Color</th>\n",
       "    </tr>\n",
       "  </thead>\n",
       "  <tbody>\n",
       "    <tr>\n",
       "      <th>count</th>\n",
       "      <td>19237</td>\n",
       "      <td>19237</td>\n",
       "      <td>19237</td>\n",
       "      <td>19237</td>\n",
       "      <td>19237</td>\n",
       "      <td>19237</td>\n",
       "      <td>19237</td>\n",
       "      <td>19237</td>\n",
       "      <td>19237</td>\n",
       "      <td>19237</td>\n",
       "      <td>19237</td>\n",
       "      <td>19237</td>\n",
       "      <td>19237</td>\n",
       "    </tr>\n",
       "    <tr>\n",
       "      <th>unique</th>\n",
       "      <td>559</td>\n",
       "      <td>65</td>\n",
       "      <td>1590</td>\n",
       "      <td>11</td>\n",
       "      <td>2</td>\n",
       "      <td>7</td>\n",
       "      <td>107</td>\n",
       "      <td>7687</td>\n",
       "      <td>4</td>\n",
       "      <td>3</td>\n",
       "      <td>3</td>\n",
       "      <td>2</td>\n",
       "      <td>16</td>\n",
       "    </tr>\n",
       "    <tr>\n",
       "      <th>top</th>\n",
       "      <td>-</td>\n",
       "      <td>HYUNDAI</td>\n",
       "      <td>Prius</td>\n",
       "      <td>Sedan</td>\n",
       "      <td>Yes</td>\n",
       "      <td>Petrol</td>\n",
       "      <td>2</td>\n",
       "      <td>0 km</td>\n",
       "      <td>Automatic</td>\n",
       "      <td>Front</td>\n",
       "      <td>04-May</td>\n",
       "      <td>Left wheel</td>\n",
       "      <td>Black</td>\n",
       "    </tr>\n",
       "    <tr>\n",
       "      <th>freq</th>\n",
       "      <td>5819</td>\n",
       "      <td>3769</td>\n",
       "      <td>1083</td>\n",
       "      <td>8736</td>\n",
       "      <td>13954</td>\n",
       "      <td>10150</td>\n",
       "      <td>3916</td>\n",
       "      <td>721</td>\n",
       "      <td>13514</td>\n",
       "      <td>12874</td>\n",
       "      <td>18332</td>\n",
       "      <td>17753</td>\n",
       "      <td>5033</td>\n",
       "    </tr>\n",
       "  </tbody>\n",
       "</table>\n",
       "</div>"
      ],
      "text/plain": [
       "         Levy Manufacturer  Model Category Leather interior Fuel type  \\\n",
       "count   19237        19237  19237    19237            19237     19237   \n",
       "unique    559           65   1590       11                2         7   \n",
       "top         -      HYUNDAI  Prius    Sedan              Yes    Petrol   \n",
       "freq     5819         3769   1083     8736            13954     10150   \n",
       "\n",
       "       Engine volume Mileage Gear box type Drive wheels   Doors       Wheel  \\\n",
       "count          19237   19237         19237        19237   19237       19237   \n",
       "unique           107    7687             4            3       3           2   \n",
       "top                2    0 km     Automatic        Front  04-May  Left wheel   \n",
       "freq            3916     721         13514        12874   18332       17753   \n",
       "\n",
       "        Color  \n",
       "count   19237  \n",
       "unique     16  \n",
       "top     Black  \n",
       "freq     5033  "
      ]
     },
     "execution_count": 5,
     "metadata": {},
     "output_type": "execute_result"
    }
   ],
   "source": [
    "df.describe(include='object')"
   ]
  },
  {
   "cell_type": "markdown",
   "id": "1c1c00ba",
   "metadata": {
    "papermill": {
     "duration": 0.013766,
     "end_time": "2022-07-13T12:29:28.490242",
     "exception": false,
     "start_time": "2022-07-13T12:29:28.476476",
     "status": "completed"
    },
    "tags": []
   },
   "source": [
    "This provides the summary statistics for all categorical variables in the dataset."
   ]
  },
  {
   "cell_type": "code",
   "execution_count": 6,
   "id": "16d391d3",
   "metadata": {
    "execution": {
     "iopub.execute_input": "2022-07-13T12:29:28.520353Z",
     "iopub.status.busy": "2022-07-13T12:29:28.519812Z",
     "iopub.status.idle": "2022-07-13T12:29:28.545339Z",
     "shell.execute_reply": "2022-07-13T12:29:28.544267Z"
    },
    "papermill": {
     "duration": 0.042996,
     "end_time": "2022-07-13T12:29:28.547382",
     "exception": false,
     "start_time": "2022-07-13T12:29:28.504386",
     "status": "completed"
    },
    "tags": []
   },
   "outputs": [
    {
     "name": "stdout",
     "output_type": "stream",
     "text": [
      "<class 'pandas.core.frame.DataFrame'>\n",
      "RangeIndex: 19237 entries, 0 to 19236\n",
      "Data columns (total 18 columns):\n",
      " #   Column            Non-Null Count  Dtype  \n",
      "---  ------            --------------  -----  \n",
      " 0   ID                19237 non-null  int64  \n",
      " 1   Price             19237 non-null  int64  \n",
      " 2   Levy              19237 non-null  object \n",
      " 3   Manufacturer      19237 non-null  object \n",
      " 4   Model             19237 non-null  object \n",
      " 5   Prod. year        19237 non-null  int64  \n",
      " 6   Category          19237 non-null  object \n",
      " 7   Leather interior  19237 non-null  object \n",
      " 8   Fuel type         19237 non-null  object \n",
      " 9   Engine volume     19237 non-null  object \n",
      " 10  Mileage           19237 non-null  object \n",
      " 11  Cylinders         19237 non-null  float64\n",
      " 12  Gear box type     19237 non-null  object \n",
      " 13  Drive wheels      19237 non-null  object \n",
      " 14  Doors             19237 non-null  object \n",
      " 15  Wheel             19237 non-null  object \n",
      " 16  Color             19237 non-null  object \n",
      " 17  Airbags           19237 non-null  int64  \n",
      "dtypes: float64(1), int64(4), object(13)\n",
      "memory usage: 2.6+ MB\n"
     ]
    }
   ],
   "source": [
    "df.info()"
   ]
  },
  {
   "cell_type": "markdown",
   "id": "4b99da97",
   "metadata": {
    "papermill": {
     "duration": 0.013994,
     "end_time": "2022-07-13T12:29:28.575355",
     "exception": false,
     "start_time": "2022-07-13T12:29:28.561361",
     "status": "completed"
    },
    "tags": []
   },
   "source": [
    "This gives null / not-null count and data types for every column.As from the above we can conclude that we have different data type but largely categorical."
   ]
  },
  {
   "cell_type": "code",
   "execution_count": 7,
   "id": "db4b7985",
   "metadata": {
    "execution": {
     "iopub.execute_input": "2022-07-13T12:29:28.606010Z",
     "iopub.status.busy": "2022-07-13T12:29:28.605054Z",
     "iopub.status.idle": "2022-07-13T12:29:28.633749Z",
     "shell.execute_reply": "2022-07-13T12:29:28.633000Z"
    },
    "papermill": {
     "duration": 0.046006,
     "end_time": "2022-07-13T12:29:28.635612",
     "exception": false,
     "start_time": "2022-07-13T12:29:28.589606",
     "status": "completed"
    },
    "tags": []
   },
   "outputs": [
    {
     "data": {
      "text/plain": [
       "ID                  18924\n",
       "Price                2315\n",
       "Levy                  559\n",
       "Manufacturer           65\n",
       "Model                1590\n",
       "Prod. year             54\n",
       "Category               11\n",
       "Leather interior        2\n",
       "Fuel type               7\n",
       "Engine volume         107\n",
       "Mileage              7687\n",
       "Cylinders              13\n",
       "Gear box type           4\n",
       "Drive wheels            3\n",
       "Doors                   3\n",
       "Wheel                   2\n",
       "Color                  16\n",
       "Airbags                17\n",
       "dtype: int64"
      ]
     },
     "execution_count": 7,
     "metadata": {},
     "output_type": "execute_result"
    }
   ],
   "source": [
    "df.nunique()"
   ]
  },
  {
   "cell_type": "markdown",
   "id": "727c3e67",
   "metadata": {
    "papermill": {
     "duration": 0.013965,
     "end_time": "2022-07-13T12:29:28.663380",
     "exception": false,
     "start_time": "2022-07-13T12:29:28.649415",
     "status": "completed"
    },
    "tags": []
   },
   "source": [
    "This describes number of unique values per column."
   ]
  },
  {
   "cell_type": "markdown",
   "id": "cf16c3e7",
   "metadata": {
    "papermill": {
     "duration": 0.014022,
     "end_time": "2022-07-13T12:29:28.691437",
     "exception": false,
     "start_time": "2022-07-13T12:29:28.677415",
     "status": "completed"
    },
    "tags": []
   },
   "source": [
    "## Data Cleaning"
   ]
  },
  {
   "cell_type": "code",
   "execution_count": 8,
   "id": "a3ff566c",
   "metadata": {
    "execution": {
     "iopub.execute_input": "2022-07-13T12:29:28.722250Z",
     "iopub.status.busy": "2022-07-13T12:29:28.721573Z",
     "iopub.status.idle": "2022-07-13T12:29:28.773215Z",
     "shell.execute_reply": "2022-07-13T12:29:28.772485Z"
    },
    "papermill": {
     "duration": 0.069269,
     "end_time": "2022-07-13T12:29:28.775075",
     "exception": false,
     "start_time": "2022-07-13T12:29:28.705806",
     "status": "completed"
    },
    "tags": []
   },
   "outputs": [
    {
     "data": {
      "text/plain": [
       "(18924, 18)"
      ]
     },
     "execution_count": 8,
     "metadata": {},
     "output_type": "execute_result"
    }
   ],
   "source": [
    "duplicates = df.duplicated()\n",
    "duplicates.sum()\n",
    "df = df.drop_duplicates()\n",
    "df.shape"
   ]
  },
  {
   "cell_type": "markdown",
   "id": "94eba4b5",
   "metadata": {
    "papermill": {
     "duration": 0.014017,
     "end_time": "2022-07-13T12:29:28.803258",
     "exception": false,
     "start_time": "2022-07-13T12:29:28.789241",
     "status": "completed"
    },
    "tags": []
   },
   "source": [
    "The above code find number of duplicates and removes them. After removing the duplicates we have 18924 records."
   ]
  },
  {
   "cell_type": "code",
   "execution_count": 9,
   "id": "48e62059",
   "metadata": {
    "execution": {
     "iopub.execute_input": "2022-07-13T12:29:28.833785Z",
     "iopub.status.busy": "2022-07-13T12:29:28.833075Z",
     "iopub.status.idle": "2022-07-13T12:29:28.841409Z",
     "shell.execute_reply": "2022-07-13T12:29:28.840534Z"
    },
    "papermill": {
     "duration": 0.025705,
     "end_time": "2022-07-13T12:29:28.843276",
     "exception": false,
     "start_time": "2022-07-13T12:29:28.817571",
     "status": "completed"
    },
    "tags": []
   },
   "outputs": [],
   "source": [
    "df = df.drop(['ID'],axis=1)"
   ]
  },
  {
   "cell_type": "markdown",
   "id": "fa3b1a04",
   "metadata": {
    "papermill": {
     "duration": 0.014081,
     "end_time": "2022-07-13T12:29:28.871495",
     "exception": false,
     "start_time": "2022-07-13T12:29:28.857414",
     "status": "completed"
    },
    "tags": []
   },
   "source": [
    "Dropping the unnecessary column 'ID'."
   ]
  },
  {
   "cell_type": "code",
   "execution_count": 10,
   "id": "2117643c",
   "metadata": {
    "execution": {
     "iopub.execute_input": "2022-07-13T12:29:28.903203Z",
     "iopub.status.busy": "2022-07-13T12:29:28.902082Z",
     "iopub.status.idle": "2022-07-13T12:29:28.920166Z",
     "shell.execute_reply": "2022-07-13T12:29:28.919023Z"
    },
    "papermill": {
     "duration": 0.03628,
     "end_time": "2022-07-13T12:29:28.922606",
     "exception": false,
     "start_time": "2022-07-13T12:29:28.886326",
     "status": "completed"
    },
    "tags": []
   },
   "outputs": [
    {
     "data": {
      "text/html": [
       "<div>\n",
       "<style scoped>\n",
       "    .dataframe tbody tr th:only-of-type {\n",
       "        vertical-align: middle;\n",
       "    }\n",
       "\n",
       "    .dataframe tbody tr th {\n",
       "        vertical-align: top;\n",
       "    }\n",
       "\n",
       "    .dataframe thead th {\n",
       "        text-align: right;\n",
       "    }\n",
       "</style>\n",
       "<table border=\"1\" class=\"dataframe\">\n",
       "  <thead>\n",
       "    <tr style=\"text-align: right;\">\n",
       "      <th></th>\n",
       "      <th>Price</th>\n",
       "      <th>Levy</th>\n",
       "      <th>Manufacturer</th>\n",
       "      <th>Model</th>\n",
       "      <th>Prod. year</th>\n",
       "      <th>Category</th>\n",
       "      <th>Leather interior</th>\n",
       "      <th>Fuel type</th>\n",
       "      <th>Engine volume</th>\n",
       "      <th>Mileage</th>\n",
       "      <th>Cylinders</th>\n",
       "      <th>Gear box type</th>\n",
       "      <th>Drive wheels</th>\n",
       "      <th>Doors</th>\n",
       "      <th>Wheel</th>\n",
       "      <th>Color</th>\n",
       "      <th>Airbags</th>\n",
       "    </tr>\n",
       "  </thead>\n",
       "  <tbody>\n",
       "    <tr>\n",
       "      <th>0</th>\n",
       "      <td>13328</td>\n",
       "      <td>1399</td>\n",
       "      <td>LEXUS</td>\n",
       "      <td>RX 450</td>\n",
       "      <td>2010</td>\n",
       "      <td>Jeep</td>\n",
       "      <td>Yes</td>\n",
       "      <td>Hybrid</td>\n",
       "      <td>3.5</td>\n",
       "      <td>186005 km</td>\n",
       "      <td>6.0</td>\n",
       "      <td>Automatic</td>\n",
       "      <td>4x4</td>\n",
       "      <td>04-May</td>\n",
       "      <td>Left wheel</td>\n",
       "      <td>Silver</td>\n",
       "      <td>12</td>\n",
       "    </tr>\n",
       "    <tr>\n",
       "      <th>1</th>\n",
       "      <td>16621</td>\n",
       "      <td>1018</td>\n",
       "      <td>CHEVROLET</td>\n",
       "      <td>Equinox</td>\n",
       "      <td>2011</td>\n",
       "      <td>Jeep</td>\n",
       "      <td>No</td>\n",
       "      <td>Petrol</td>\n",
       "      <td>3</td>\n",
       "      <td>192000 km</td>\n",
       "      <td>6.0</td>\n",
       "      <td>Tiptronic</td>\n",
       "      <td>4x4</td>\n",
       "      <td>04-May</td>\n",
       "      <td>Left wheel</td>\n",
       "      <td>Black</td>\n",
       "      <td>8</td>\n",
       "    </tr>\n",
       "    <tr>\n",
       "      <th>2</th>\n",
       "      <td>8467</td>\n",
       "      <td>-</td>\n",
       "      <td>HONDA</td>\n",
       "      <td>FIT</td>\n",
       "      <td>2006</td>\n",
       "      <td>Hatchback</td>\n",
       "      <td>No</td>\n",
       "      <td>Petrol</td>\n",
       "      <td>1.3</td>\n",
       "      <td>200000 km</td>\n",
       "      <td>4.0</td>\n",
       "      <td>Variator</td>\n",
       "      <td>Front</td>\n",
       "      <td>04-May</td>\n",
       "      <td>Right-hand drive</td>\n",
       "      <td>Black</td>\n",
       "      <td>2</td>\n",
       "    </tr>\n",
       "    <tr>\n",
       "      <th>3</th>\n",
       "      <td>3607</td>\n",
       "      <td>862</td>\n",
       "      <td>FORD</td>\n",
       "      <td>Escape</td>\n",
       "      <td>2011</td>\n",
       "      <td>Jeep</td>\n",
       "      <td>Yes</td>\n",
       "      <td>Hybrid</td>\n",
       "      <td>2.5</td>\n",
       "      <td>168966 km</td>\n",
       "      <td>4.0</td>\n",
       "      <td>Automatic</td>\n",
       "      <td>4x4</td>\n",
       "      <td>04-May</td>\n",
       "      <td>Left wheel</td>\n",
       "      <td>White</td>\n",
       "      <td>0</td>\n",
       "    </tr>\n",
       "    <tr>\n",
       "      <th>4</th>\n",
       "      <td>11726</td>\n",
       "      <td>446</td>\n",
       "      <td>HONDA</td>\n",
       "      <td>FIT</td>\n",
       "      <td>2014</td>\n",
       "      <td>Hatchback</td>\n",
       "      <td>Yes</td>\n",
       "      <td>Petrol</td>\n",
       "      <td>1.3</td>\n",
       "      <td>91901 km</td>\n",
       "      <td>4.0</td>\n",
       "      <td>Automatic</td>\n",
       "      <td>Front</td>\n",
       "      <td>04-May</td>\n",
       "      <td>Left wheel</td>\n",
       "      <td>Silver</td>\n",
       "      <td>4</td>\n",
       "    </tr>\n",
       "  </tbody>\n",
       "</table>\n",
       "</div>"
      ],
      "text/plain": [
       "   Price  Levy Manufacturer    Model  Prod. year   Category Leather interior  \\\n",
       "0  13328  1399        LEXUS   RX 450        2010       Jeep              Yes   \n",
       "1  16621  1018    CHEVROLET  Equinox        2011       Jeep               No   \n",
       "2   8467     -        HONDA      FIT        2006  Hatchback               No   \n",
       "3   3607   862         FORD   Escape        2011       Jeep              Yes   \n",
       "4  11726   446        HONDA      FIT        2014  Hatchback              Yes   \n",
       "\n",
       "  Fuel type Engine volume    Mileage  Cylinders Gear box type Drive wheels  \\\n",
       "0    Hybrid           3.5  186005 km        6.0     Automatic          4x4   \n",
       "1    Petrol             3  192000 km        6.0     Tiptronic          4x4   \n",
       "2    Petrol           1.3  200000 km        4.0      Variator        Front   \n",
       "3    Hybrid           2.5  168966 km        4.0     Automatic          4x4   \n",
       "4    Petrol           1.3   91901 km        4.0     Automatic        Front   \n",
       "\n",
       "    Doors             Wheel   Color  Airbags  \n",
       "0  04-May        Left wheel  Silver       12  \n",
       "1  04-May        Left wheel   Black        8  \n",
       "2  04-May  Right-hand drive   Black        2  \n",
       "3  04-May        Left wheel   White        0  \n",
       "4  04-May        Left wheel  Silver        4  "
      ]
     },
     "execution_count": 10,
     "metadata": {},
     "output_type": "execute_result"
    }
   ],
   "source": [
    "df.head()"
   ]
  },
  {
   "cell_type": "markdown",
   "id": "7b668530",
   "metadata": {
    "papermill": {
     "duration": 0.014209,
     "end_time": "2022-07-13T12:29:28.952405",
     "exception": false,
     "start_time": "2022-07-13T12:29:28.938196",
     "status": "completed"
    },
    "tags": []
   },
   "source": [
    "***Column wise analysis and cleaning***"
   ]
  },
  {
   "cell_type": "markdown",
   "id": "3939fc87",
   "metadata": {
    "papermill": {
     "duration": 0.014043,
     "end_time": "2022-07-13T12:29:28.980809",
     "exception": false,
     "start_time": "2022-07-13T12:29:28.966766",
     "status": "completed"
    },
    "tags": []
   },
   "source": [
    "*Find the unique values for every column and  convert the necessary columns into float.*"
   ]
  },
  {
   "cell_type": "markdown",
   "id": "6ee58afe",
   "metadata": {
    "papermill": {
     "duration": 0.014227,
     "end_time": "2022-07-13T12:29:29.009673",
     "exception": false,
     "start_time": "2022-07-13T12:29:28.995446",
     "status": "completed"
    },
    "tags": []
   },
   "source": [
    "**Mileage column.**"
   ]
  },
  {
   "cell_type": "code",
   "execution_count": 11,
   "id": "8570bc17",
   "metadata": {
    "execution": {
     "iopub.execute_input": "2022-07-13T12:29:29.040680Z",
     "iopub.status.busy": "2022-07-13T12:29:29.040042Z",
     "iopub.status.idle": "2022-07-13T12:29:29.047400Z",
     "shell.execute_reply": "2022-07-13T12:29:29.046616Z"
    },
    "papermill": {
     "duration": 0.024781,
     "end_time": "2022-07-13T12:29:29.049196",
     "exception": false,
     "start_time": "2022-07-13T12:29:29.024415",
     "status": "completed"
    },
    "tags": []
   },
   "outputs": [
    {
     "data": {
      "text/plain": [
       "array(['186005 km', '192000 km', '200000 km', ..., '140607 km',\n",
       "       '307325 km', '186923 km'], dtype=object)"
      ]
     },
     "execution_count": 11,
     "metadata": {},
     "output_type": "execute_result"
    }
   ],
   "source": [
    "df['Mileage'].unique()"
   ]
  },
  {
   "cell_type": "code",
   "execution_count": 12,
   "id": "930345c6",
   "metadata": {
    "execution": {
     "iopub.execute_input": "2022-07-13T12:29:29.079424Z",
     "iopub.status.busy": "2022-07-13T12:29:29.079069Z",
     "iopub.status.idle": "2022-07-13T12:29:29.125113Z",
     "shell.execute_reply": "2022-07-13T12:29:29.124009Z"
    },
    "papermill": {
     "duration": 0.06375,
     "end_time": "2022-07-13T12:29:29.127187",
     "exception": false,
     "start_time": "2022-07-13T12:29:29.063437",
     "status": "completed"
    },
    "tags": []
   },
   "outputs": [
    {
     "data": {
      "text/html": [
       "<div>\n",
       "<style scoped>\n",
       "    .dataframe tbody tr th:only-of-type {\n",
       "        vertical-align: middle;\n",
       "    }\n",
       "\n",
       "    .dataframe tbody tr th {\n",
       "        vertical-align: top;\n",
       "    }\n",
       "\n",
       "    .dataframe thead th {\n",
       "        text-align: right;\n",
       "    }\n",
       "</style>\n",
       "<table border=\"1\" class=\"dataframe\">\n",
       "  <thead>\n",
       "    <tr style=\"text-align: right;\">\n",
       "      <th></th>\n",
       "      <th>Price</th>\n",
       "      <th>Levy</th>\n",
       "      <th>Manufacturer</th>\n",
       "      <th>Model</th>\n",
       "      <th>Prod. year</th>\n",
       "      <th>Category</th>\n",
       "      <th>Leather interior</th>\n",
       "      <th>Fuel type</th>\n",
       "      <th>Engine volume</th>\n",
       "      <th>Mileage</th>\n",
       "      <th>Cylinders</th>\n",
       "      <th>Gear box type</th>\n",
       "      <th>Drive wheels</th>\n",
       "      <th>Doors</th>\n",
       "      <th>Wheel</th>\n",
       "      <th>Color</th>\n",
       "      <th>Airbags</th>\n",
       "    </tr>\n",
       "  </thead>\n",
       "  <tbody>\n",
       "    <tr>\n",
       "      <th>0</th>\n",
       "      <td>13328</td>\n",
       "      <td>1399</td>\n",
       "      <td>LEXUS</td>\n",
       "      <td>RX 450</td>\n",
       "      <td>2010</td>\n",
       "      <td>Jeep</td>\n",
       "      <td>Yes</td>\n",
       "      <td>Hybrid</td>\n",
       "      <td>3.5</td>\n",
       "      <td>186005.0</td>\n",
       "      <td>6.0</td>\n",
       "      <td>Automatic</td>\n",
       "      <td>4x4</td>\n",
       "      <td>04-May</td>\n",
       "      <td>Left wheel</td>\n",
       "      <td>Silver</td>\n",
       "      <td>12</td>\n",
       "    </tr>\n",
       "    <tr>\n",
       "      <th>1</th>\n",
       "      <td>16621</td>\n",
       "      <td>1018</td>\n",
       "      <td>CHEVROLET</td>\n",
       "      <td>Equinox</td>\n",
       "      <td>2011</td>\n",
       "      <td>Jeep</td>\n",
       "      <td>No</td>\n",
       "      <td>Petrol</td>\n",
       "      <td>3</td>\n",
       "      <td>192000.0</td>\n",
       "      <td>6.0</td>\n",
       "      <td>Tiptronic</td>\n",
       "      <td>4x4</td>\n",
       "      <td>04-May</td>\n",
       "      <td>Left wheel</td>\n",
       "      <td>Black</td>\n",
       "      <td>8</td>\n",
       "    </tr>\n",
       "    <tr>\n",
       "      <th>2</th>\n",
       "      <td>8467</td>\n",
       "      <td>-</td>\n",
       "      <td>HONDA</td>\n",
       "      <td>FIT</td>\n",
       "      <td>2006</td>\n",
       "      <td>Hatchback</td>\n",
       "      <td>No</td>\n",
       "      <td>Petrol</td>\n",
       "      <td>1.3</td>\n",
       "      <td>200000.0</td>\n",
       "      <td>4.0</td>\n",
       "      <td>Variator</td>\n",
       "      <td>Front</td>\n",
       "      <td>04-May</td>\n",
       "      <td>Right-hand drive</td>\n",
       "      <td>Black</td>\n",
       "      <td>2</td>\n",
       "    </tr>\n",
       "    <tr>\n",
       "      <th>3</th>\n",
       "      <td>3607</td>\n",
       "      <td>862</td>\n",
       "      <td>FORD</td>\n",
       "      <td>Escape</td>\n",
       "      <td>2011</td>\n",
       "      <td>Jeep</td>\n",
       "      <td>Yes</td>\n",
       "      <td>Hybrid</td>\n",
       "      <td>2.5</td>\n",
       "      <td>168966.0</td>\n",
       "      <td>4.0</td>\n",
       "      <td>Automatic</td>\n",
       "      <td>4x4</td>\n",
       "      <td>04-May</td>\n",
       "      <td>Left wheel</td>\n",
       "      <td>White</td>\n",
       "      <td>0</td>\n",
       "    </tr>\n",
       "    <tr>\n",
       "      <th>4</th>\n",
       "      <td>11726</td>\n",
       "      <td>446</td>\n",
       "      <td>HONDA</td>\n",
       "      <td>FIT</td>\n",
       "      <td>2014</td>\n",
       "      <td>Hatchback</td>\n",
       "      <td>Yes</td>\n",
       "      <td>Petrol</td>\n",
       "      <td>1.3</td>\n",
       "      <td>91901.0</td>\n",
       "      <td>4.0</td>\n",
       "      <td>Automatic</td>\n",
       "      <td>Front</td>\n",
       "      <td>04-May</td>\n",
       "      <td>Left wheel</td>\n",
       "      <td>Silver</td>\n",
       "      <td>4</td>\n",
       "    </tr>\n",
       "  </tbody>\n",
       "</table>\n",
       "</div>"
      ],
      "text/plain": [
       "   Price  Levy Manufacturer    Model  Prod. year   Category Leather interior  \\\n",
       "0  13328  1399        LEXUS   RX 450        2010       Jeep              Yes   \n",
       "1  16621  1018    CHEVROLET  Equinox        2011       Jeep               No   \n",
       "2   8467     -        HONDA      FIT        2006  Hatchback               No   \n",
       "3   3607   862         FORD   Escape        2011       Jeep              Yes   \n",
       "4  11726   446        HONDA      FIT        2014  Hatchback              Yes   \n",
       "\n",
       "  Fuel type Engine volume   Mileage  Cylinders Gear box type Drive wheels  \\\n",
       "0    Hybrid           3.5  186005.0        6.0     Automatic          4x4   \n",
       "1    Petrol             3  192000.0        6.0     Tiptronic          4x4   \n",
       "2    Petrol           1.3  200000.0        4.0      Variator        Front   \n",
       "3    Hybrid           2.5  168966.0        4.0     Automatic          4x4   \n",
       "4    Petrol           1.3   91901.0        4.0     Automatic        Front   \n",
       "\n",
       "    Doors             Wheel   Color  Airbags  \n",
       "0  04-May        Left wheel  Silver       12  \n",
       "1  04-May        Left wheel   Black        8  \n",
       "2  04-May  Right-hand drive   Black        2  \n",
       "3  04-May        Left wheel   White        0  \n",
       "4  04-May        Left wheel  Silver        4  "
      ]
     },
     "execution_count": 12,
     "metadata": {},
     "output_type": "execute_result"
    }
   ],
   "source": [
    "df['Mileage'] = df['Mileage'].str.split(' ').str[0].astype(float)\n",
    "df.head()"
   ]
  },
  {
   "cell_type": "markdown",
   "id": "5be33eb0",
   "metadata": {
    "papermill": {
     "duration": 0.014504,
     "end_time": "2022-07-13T12:29:29.156357",
     "exception": false,
     "start_time": "2022-07-13T12:29:29.141853",
     "status": "completed"
    },
    "tags": []
   },
   "source": [
    "**Levy column**"
   ]
  },
  {
   "cell_type": "code",
   "execution_count": 13,
   "id": "43af761d",
   "metadata": {
    "execution": {
     "iopub.execute_input": "2022-07-13T12:29:29.188255Z",
     "iopub.status.busy": "2022-07-13T12:29:29.187829Z",
     "iopub.status.idle": "2022-07-13T12:29:29.214799Z",
     "shell.execute_reply": "2022-07-13T12:29:29.213731Z"
    },
    "papermill": {
     "duration": 0.04548,
     "end_time": "2022-07-13T12:29:29.217012",
     "exception": false,
     "start_time": "2022-07-13T12:29:29.171532",
     "status": "completed"
    },
    "tags": []
   },
   "outputs": [
    {
     "data": {
      "text/html": [
       "<div>\n",
       "<style scoped>\n",
       "    .dataframe tbody tr th:only-of-type {\n",
       "        vertical-align: middle;\n",
       "    }\n",
       "\n",
       "    .dataframe tbody tr th {\n",
       "        vertical-align: top;\n",
       "    }\n",
       "\n",
       "    .dataframe thead th {\n",
       "        text-align: right;\n",
       "    }\n",
       "</style>\n",
       "<table border=\"1\" class=\"dataframe\">\n",
       "  <thead>\n",
       "    <tr style=\"text-align: right;\">\n",
       "      <th></th>\n",
       "      <th>Price</th>\n",
       "      <th>Levy</th>\n",
       "      <th>Manufacturer</th>\n",
       "      <th>Model</th>\n",
       "      <th>Prod. year</th>\n",
       "      <th>Category</th>\n",
       "      <th>Leather interior</th>\n",
       "      <th>Fuel type</th>\n",
       "      <th>Engine volume</th>\n",
       "      <th>Mileage</th>\n",
       "      <th>Cylinders</th>\n",
       "      <th>Gear box type</th>\n",
       "      <th>Drive wheels</th>\n",
       "      <th>Doors</th>\n",
       "      <th>Wheel</th>\n",
       "      <th>Color</th>\n",
       "      <th>Airbags</th>\n",
       "    </tr>\n",
       "  </thead>\n",
       "  <tbody>\n",
       "    <tr>\n",
       "      <th>0</th>\n",
       "      <td>13328</td>\n",
       "      <td>1399.0</td>\n",
       "      <td>LEXUS</td>\n",
       "      <td>RX 450</td>\n",
       "      <td>2010</td>\n",
       "      <td>Jeep</td>\n",
       "      <td>Yes</td>\n",
       "      <td>Hybrid</td>\n",
       "      <td>3.5</td>\n",
       "      <td>186005.0</td>\n",
       "      <td>6.0</td>\n",
       "      <td>Automatic</td>\n",
       "      <td>4x4</td>\n",
       "      <td>04-May</td>\n",
       "      <td>Left wheel</td>\n",
       "      <td>Silver</td>\n",
       "      <td>12</td>\n",
       "    </tr>\n",
       "    <tr>\n",
       "      <th>1</th>\n",
       "      <td>16621</td>\n",
       "      <td>1018.0</td>\n",
       "      <td>CHEVROLET</td>\n",
       "      <td>Equinox</td>\n",
       "      <td>2011</td>\n",
       "      <td>Jeep</td>\n",
       "      <td>No</td>\n",
       "      <td>Petrol</td>\n",
       "      <td>3</td>\n",
       "      <td>192000.0</td>\n",
       "      <td>6.0</td>\n",
       "      <td>Tiptronic</td>\n",
       "      <td>4x4</td>\n",
       "      <td>04-May</td>\n",
       "      <td>Left wheel</td>\n",
       "      <td>Black</td>\n",
       "      <td>8</td>\n",
       "    </tr>\n",
       "    <tr>\n",
       "      <th>2</th>\n",
       "      <td>8467</td>\n",
       "      <td>633.0</td>\n",
       "      <td>HONDA</td>\n",
       "      <td>FIT</td>\n",
       "      <td>2006</td>\n",
       "      <td>Hatchback</td>\n",
       "      <td>No</td>\n",
       "      <td>Petrol</td>\n",
       "      <td>1.3</td>\n",
       "      <td>200000.0</td>\n",
       "      <td>4.0</td>\n",
       "      <td>Variator</td>\n",
       "      <td>Front</td>\n",
       "      <td>04-May</td>\n",
       "      <td>Right-hand drive</td>\n",
       "      <td>Black</td>\n",
       "      <td>2</td>\n",
       "    </tr>\n",
       "    <tr>\n",
       "      <th>3</th>\n",
       "      <td>3607</td>\n",
       "      <td>862.0</td>\n",
       "      <td>FORD</td>\n",
       "      <td>Escape</td>\n",
       "      <td>2011</td>\n",
       "      <td>Jeep</td>\n",
       "      <td>Yes</td>\n",
       "      <td>Hybrid</td>\n",
       "      <td>2.5</td>\n",
       "      <td>168966.0</td>\n",
       "      <td>4.0</td>\n",
       "      <td>Automatic</td>\n",
       "      <td>4x4</td>\n",
       "      <td>04-May</td>\n",
       "      <td>Left wheel</td>\n",
       "      <td>White</td>\n",
       "      <td>0</td>\n",
       "    </tr>\n",
       "    <tr>\n",
       "      <th>4</th>\n",
       "      <td>11726</td>\n",
       "      <td>446.0</td>\n",
       "      <td>HONDA</td>\n",
       "      <td>FIT</td>\n",
       "      <td>2014</td>\n",
       "      <td>Hatchback</td>\n",
       "      <td>Yes</td>\n",
       "      <td>Petrol</td>\n",
       "      <td>1.3</td>\n",
       "      <td>91901.0</td>\n",
       "      <td>4.0</td>\n",
       "      <td>Automatic</td>\n",
       "      <td>Front</td>\n",
       "      <td>04-May</td>\n",
       "      <td>Left wheel</td>\n",
       "      <td>Silver</td>\n",
       "      <td>4</td>\n",
       "    </tr>\n",
       "  </tbody>\n",
       "</table>\n",
       "</div>"
      ],
      "text/plain": [
       "   Price    Levy Manufacturer    Model  Prod. year   Category  \\\n",
       "0  13328  1399.0        LEXUS   RX 450        2010       Jeep   \n",
       "1  16621  1018.0    CHEVROLET  Equinox        2011       Jeep   \n",
       "2   8467   633.0        HONDA      FIT        2006  Hatchback   \n",
       "3   3607   862.0         FORD   Escape        2011       Jeep   \n",
       "4  11726   446.0        HONDA      FIT        2014  Hatchback   \n",
       "\n",
       "  Leather interior Fuel type Engine volume   Mileage  Cylinders Gear box type  \\\n",
       "0              Yes    Hybrid           3.5  186005.0        6.0     Automatic   \n",
       "1               No    Petrol             3  192000.0        6.0     Tiptronic   \n",
       "2               No    Petrol           1.3  200000.0        4.0      Variator   \n",
       "3              Yes    Hybrid           2.5  168966.0        4.0     Automatic   \n",
       "4              Yes    Petrol           1.3   91901.0        4.0     Automatic   \n",
       "\n",
       "  Drive wheels   Doors             Wheel   Color  Airbags  \n",
       "0          4x4  04-May        Left wheel  Silver       12  \n",
       "1          4x4  04-May        Left wheel   Black        8  \n",
       "2        Front  04-May  Right-hand drive   Black        2  \n",
       "3          4x4  04-May        Left wheel   White        0  \n",
       "4        Front  04-May        Left wheel  Silver        4  "
      ]
     },
     "execution_count": 13,
     "metadata": {},
     "output_type": "execute_result"
    }
   ],
   "source": [
    "df['Levy']=df['Levy'].replace('-',0).astype(float)\n",
    "df['Levy']=round(df['Levy'].replace(0,df['Levy'].mean()))\n",
    "df.head()"
   ]
  },
  {
   "cell_type": "markdown",
   "id": "ead09349",
   "metadata": {
    "papermill": {
     "duration": 0.014934,
     "end_time": "2022-07-13T12:29:29.247039",
     "exception": false,
     "start_time": "2022-07-13T12:29:29.232105",
     "status": "completed"
    },
    "tags": []
   },
   "source": [
    "**Doors column.**"
   ]
  },
  {
   "cell_type": "code",
   "execution_count": 14,
   "id": "9dc471dc",
   "metadata": {
    "execution": {
     "iopub.execute_input": "2022-07-13T12:29:29.279464Z",
     "iopub.status.busy": "2022-07-13T12:29:29.278727Z",
     "iopub.status.idle": "2022-07-13T12:29:29.286499Z",
     "shell.execute_reply": "2022-07-13T12:29:29.285702Z"
    },
    "papermill": {
     "duration": 0.026174,
     "end_time": "2022-07-13T12:29:29.288442",
     "exception": false,
     "start_time": "2022-07-13T12:29:29.262268",
     "status": "completed"
    },
    "tags": []
   },
   "outputs": [
    {
     "data": {
      "text/plain": [
       "array(['04-May', '02-Mar', '>5'], dtype=object)"
      ]
     },
     "execution_count": 14,
     "metadata": {},
     "output_type": "execute_result"
    }
   ],
   "source": [
    "df['Doors'].unique()"
   ]
  },
  {
   "cell_type": "code",
   "execution_count": 15,
   "id": "6828d0a2",
   "metadata": {
    "execution": {
     "iopub.execute_input": "2022-07-13T12:29:29.321430Z",
     "iopub.status.busy": "2022-07-13T12:29:29.320502Z",
     "iopub.status.idle": "2022-07-13T12:29:29.366027Z",
     "shell.execute_reply": "2022-07-13T12:29:29.364961Z"
    },
    "papermill": {
     "duration": 0.064904,
     "end_time": "2022-07-13T12:29:29.368420",
     "exception": false,
     "start_time": "2022-07-13T12:29:29.303516",
     "status": "completed"
    },
    "tags": []
   },
   "outputs": [
    {
     "data": {
      "text/html": [
       "<div>\n",
       "<style scoped>\n",
       "    .dataframe tbody tr th:only-of-type {\n",
       "        vertical-align: middle;\n",
       "    }\n",
       "\n",
       "    .dataframe tbody tr th {\n",
       "        vertical-align: top;\n",
       "    }\n",
       "\n",
       "    .dataframe thead th {\n",
       "        text-align: right;\n",
       "    }\n",
       "</style>\n",
       "<table border=\"1\" class=\"dataframe\">\n",
       "  <thead>\n",
       "    <tr style=\"text-align: right;\">\n",
       "      <th></th>\n",
       "      <th>Price</th>\n",
       "      <th>Levy</th>\n",
       "      <th>Manufacturer</th>\n",
       "      <th>Model</th>\n",
       "      <th>Prod. year</th>\n",
       "      <th>Category</th>\n",
       "      <th>Leather interior</th>\n",
       "      <th>Fuel type</th>\n",
       "      <th>Engine volume</th>\n",
       "      <th>Mileage</th>\n",
       "      <th>Cylinders</th>\n",
       "      <th>Gear box type</th>\n",
       "      <th>Drive wheels</th>\n",
       "      <th>Doors</th>\n",
       "      <th>Wheel</th>\n",
       "      <th>Color</th>\n",
       "      <th>Airbags</th>\n",
       "    </tr>\n",
       "  </thead>\n",
       "  <tbody>\n",
       "    <tr>\n",
       "      <th>0</th>\n",
       "      <td>13328</td>\n",
       "      <td>1399.0</td>\n",
       "      <td>LEXUS</td>\n",
       "      <td>RX 450</td>\n",
       "      <td>2010</td>\n",
       "      <td>Jeep</td>\n",
       "      <td>Yes</td>\n",
       "      <td>Hybrid</td>\n",
       "      <td>3.5</td>\n",
       "      <td>186005.0</td>\n",
       "      <td>6.0</td>\n",
       "      <td>Automatic</td>\n",
       "      <td>4x4</td>\n",
       "      <td>04</td>\n",
       "      <td>Left wheel</td>\n",
       "      <td>Silver</td>\n",
       "      <td>12</td>\n",
       "    </tr>\n",
       "    <tr>\n",
       "      <th>1</th>\n",
       "      <td>16621</td>\n",
       "      <td>1018.0</td>\n",
       "      <td>CHEVROLET</td>\n",
       "      <td>Equinox</td>\n",
       "      <td>2011</td>\n",
       "      <td>Jeep</td>\n",
       "      <td>No</td>\n",
       "      <td>Petrol</td>\n",
       "      <td>3</td>\n",
       "      <td>192000.0</td>\n",
       "      <td>6.0</td>\n",
       "      <td>Tiptronic</td>\n",
       "      <td>4x4</td>\n",
       "      <td>04</td>\n",
       "      <td>Left wheel</td>\n",
       "      <td>Black</td>\n",
       "      <td>8</td>\n",
       "    </tr>\n",
       "    <tr>\n",
       "      <th>2</th>\n",
       "      <td>8467</td>\n",
       "      <td>633.0</td>\n",
       "      <td>HONDA</td>\n",
       "      <td>FIT</td>\n",
       "      <td>2006</td>\n",
       "      <td>Hatchback</td>\n",
       "      <td>No</td>\n",
       "      <td>Petrol</td>\n",
       "      <td>1.3</td>\n",
       "      <td>200000.0</td>\n",
       "      <td>4.0</td>\n",
       "      <td>Variator</td>\n",
       "      <td>Front</td>\n",
       "      <td>04</td>\n",
       "      <td>Right-hand drive</td>\n",
       "      <td>Black</td>\n",
       "      <td>2</td>\n",
       "    </tr>\n",
       "    <tr>\n",
       "      <th>3</th>\n",
       "      <td>3607</td>\n",
       "      <td>862.0</td>\n",
       "      <td>FORD</td>\n",
       "      <td>Escape</td>\n",
       "      <td>2011</td>\n",
       "      <td>Jeep</td>\n",
       "      <td>Yes</td>\n",
       "      <td>Hybrid</td>\n",
       "      <td>2.5</td>\n",
       "      <td>168966.0</td>\n",
       "      <td>4.0</td>\n",
       "      <td>Automatic</td>\n",
       "      <td>4x4</td>\n",
       "      <td>04</td>\n",
       "      <td>Left wheel</td>\n",
       "      <td>White</td>\n",
       "      <td>0</td>\n",
       "    </tr>\n",
       "    <tr>\n",
       "      <th>4</th>\n",
       "      <td>11726</td>\n",
       "      <td>446.0</td>\n",
       "      <td>HONDA</td>\n",
       "      <td>FIT</td>\n",
       "      <td>2014</td>\n",
       "      <td>Hatchback</td>\n",
       "      <td>Yes</td>\n",
       "      <td>Petrol</td>\n",
       "      <td>1.3</td>\n",
       "      <td>91901.0</td>\n",
       "      <td>4.0</td>\n",
       "      <td>Automatic</td>\n",
       "      <td>Front</td>\n",
       "      <td>04</td>\n",
       "      <td>Left wheel</td>\n",
       "      <td>Silver</td>\n",
       "      <td>4</td>\n",
       "    </tr>\n",
       "  </tbody>\n",
       "</table>\n",
       "</div>"
      ],
      "text/plain": [
       "   Price    Levy Manufacturer    Model  Prod. year   Category  \\\n",
       "0  13328  1399.0        LEXUS   RX 450        2010       Jeep   \n",
       "1  16621  1018.0    CHEVROLET  Equinox        2011       Jeep   \n",
       "2   8467   633.0        HONDA      FIT        2006  Hatchback   \n",
       "3   3607   862.0         FORD   Escape        2011       Jeep   \n",
       "4  11726   446.0        HONDA      FIT        2014  Hatchback   \n",
       "\n",
       "  Leather interior Fuel type Engine volume   Mileage  Cylinders Gear box type  \\\n",
       "0              Yes    Hybrid           3.5  186005.0        6.0     Automatic   \n",
       "1               No    Petrol             3  192000.0        6.0     Tiptronic   \n",
       "2               No    Petrol           1.3  200000.0        4.0      Variator   \n",
       "3              Yes    Hybrid           2.5  168966.0        4.0     Automatic   \n",
       "4              Yes    Petrol           1.3   91901.0        4.0     Automatic   \n",
       "\n",
       "  Drive wheels Doors             Wheel   Color  Airbags  \n",
       "0          4x4    04        Left wheel  Silver       12  \n",
       "1          4x4    04        Left wheel   Black        8  \n",
       "2        Front    04  Right-hand drive   Black        2  \n",
       "3          4x4    04        Left wheel   White        0  \n",
       "4        Front    04        Left wheel  Silver        4  "
      ]
     },
     "execution_count": 15,
     "metadata": {},
     "output_type": "execute_result"
    }
   ],
   "source": [
    "df['Doors'] = np.where((df['Doors'] == '04-May') | (df['Doors'] == '02-Mar'), df['Doors'].str.split('-').str[0], df['Doors'] )\n",
    "df.head()"
   ]
  },
  {
   "cell_type": "markdown",
   "id": "11d17c42",
   "metadata": {
    "papermill": {
     "duration": 0.014986,
     "end_time": "2022-07-13T12:29:29.398486",
     "exception": false,
     "start_time": "2022-07-13T12:29:29.383500",
     "status": "completed"
    },
    "tags": []
   },
   "source": [
    "**Engine column.**"
   ]
  },
  {
   "cell_type": "code",
   "execution_count": 16,
   "id": "24b5d141",
   "metadata": {
    "execution": {
     "iopub.execute_input": "2022-07-13T12:29:29.430873Z",
     "iopub.status.busy": "2022-07-13T12:29:29.430552Z",
     "iopub.status.idle": "2022-07-13T12:29:29.438530Z",
     "shell.execute_reply": "2022-07-13T12:29:29.437793Z"
    },
    "papermill": {
     "duration": 0.02621,
     "end_time": "2022-07-13T12:29:29.440273",
     "exception": false,
     "start_time": "2022-07-13T12:29:29.414063",
     "status": "completed"
    },
    "tags": []
   },
   "outputs": [
    {
     "data": {
      "text/plain": [
       "array(['3.5', '3', '1.3', '2.5', '2', '1.8', '2.4', '4', '1.6', '3.3',\n",
       "       '2.0 Turbo', '2.2 Turbo', '4.7', '1.5', '4.4', '3.0 Turbo',\n",
       "       '1.4 Turbo', '3.6', '2.3', '1.5 Turbo', '1.6 Turbo', '2.2',\n",
       "       '2.3 Turbo', '1.4', '5.5', '2.8 Turbo', '3.2', '3.8', '4.6', '1.2',\n",
       "       '5', '1.7', '2.9', '0.5', '1.8 Turbo', '2.4 Turbo', '3.5 Turbo',\n",
       "       '1.9', '2.7', '4.8', '5.3', '0.4', '2.8', '3.2 Turbo', '1.1',\n",
       "       '2.1', '0.7', '5.4', '1.3 Turbo', '3.7', '1', '2.5 Turbo', '2.6',\n",
       "       '1.9 Turbo', '4.4 Turbo', '4.7 Turbo', '0.8', '0.2 Turbo', '5.7',\n",
       "       '4.8 Turbo', '4.6 Turbo', '6.7', '6.2', '1.2 Turbo', '3.4',\n",
       "       '1.7 Turbo', '6.3 Turbo', '2.7 Turbo', '4.3', '4.2', '2.9 Turbo',\n",
       "       '0', '4.0 Turbo', '20', '3.6 Turbo', '0.3', '3.7 Turbo', '5.9',\n",
       "       '5.5 Turbo', '0.2', '2.1 Turbo', '5.6', '6', '0.7 Turbo',\n",
       "       '0.6 Turbo', '6.8', '4.5', '0.6', '7.3', '0.1', '1.0 Turbo', '6.3',\n",
       "       '4.5 Turbo', '0.8 Turbo', '4.2 Turbo', '3.1', '5.0 Turbo', '6.4',\n",
       "       '3.9', '5.7 Turbo', '0.9', '0.4 Turbo', '5.4 Turbo', '0.3 Turbo',\n",
       "       '5.2', '5.8', '1.1 Turbo'], dtype=object)"
      ]
     },
     "execution_count": 16,
     "metadata": {},
     "output_type": "execute_result"
    }
   ],
   "source": [
    "df['Engine volume'].unique()"
   ]
  },
  {
   "cell_type": "code",
   "execution_count": 17,
   "id": "a35d5810",
   "metadata": {
    "execution": {
     "iopub.execute_input": "2022-07-13T12:29:29.473444Z",
     "iopub.status.busy": "2022-07-13T12:29:29.472887Z",
     "iopub.status.idle": "2022-07-13T12:29:29.514654Z",
     "shell.execute_reply": "2022-07-13T12:29:29.513973Z"
    },
    "papermill": {
     "duration": 0.060457,
     "end_time": "2022-07-13T12:29:29.516517",
     "exception": false,
     "start_time": "2022-07-13T12:29:29.456060",
     "status": "completed"
    },
    "tags": []
   },
   "outputs": [
    {
     "data": {
      "text/html": [
       "<div>\n",
       "<style scoped>\n",
       "    .dataframe tbody tr th:only-of-type {\n",
       "        vertical-align: middle;\n",
       "    }\n",
       "\n",
       "    .dataframe tbody tr th {\n",
       "        vertical-align: top;\n",
       "    }\n",
       "\n",
       "    .dataframe thead th {\n",
       "        text-align: right;\n",
       "    }\n",
       "</style>\n",
       "<table border=\"1\" class=\"dataframe\">\n",
       "  <thead>\n",
       "    <tr style=\"text-align: right;\">\n",
       "      <th></th>\n",
       "      <th>Price</th>\n",
       "      <th>Levy</th>\n",
       "      <th>Manufacturer</th>\n",
       "      <th>Model</th>\n",
       "      <th>Prod. year</th>\n",
       "      <th>Category</th>\n",
       "      <th>Leather interior</th>\n",
       "      <th>Fuel type</th>\n",
       "      <th>Engine volume</th>\n",
       "      <th>Mileage</th>\n",
       "      <th>Cylinders</th>\n",
       "      <th>Gear box type</th>\n",
       "      <th>Drive wheels</th>\n",
       "      <th>Doors</th>\n",
       "      <th>Wheel</th>\n",
       "      <th>Color</th>\n",
       "      <th>Airbags</th>\n",
       "    </tr>\n",
       "  </thead>\n",
       "  <tbody>\n",
       "    <tr>\n",
       "      <th>0</th>\n",
       "      <td>13328</td>\n",
       "      <td>1399.0</td>\n",
       "      <td>LEXUS</td>\n",
       "      <td>RX 450</td>\n",
       "      <td>2010</td>\n",
       "      <td>Jeep</td>\n",
       "      <td>Yes</td>\n",
       "      <td>Hybrid</td>\n",
       "      <td>3.5</td>\n",
       "      <td>186005.0</td>\n",
       "      <td>6.0</td>\n",
       "      <td>Automatic</td>\n",
       "      <td>4x4</td>\n",
       "      <td>04</td>\n",
       "      <td>Left wheel</td>\n",
       "      <td>Silver</td>\n",
       "      <td>12</td>\n",
       "    </tr>\n",
       "    <tr>\n",
       "      <th>1</th>\n",
       "      <td>16621</td>\n",
       "      <td>1018.0</td>\n",
       "      <td>CHEVROLET</td>\n",
       "      <td>Equinox</td>\n",
       "      <td>2011</td>\n",
       "      <td>Jeep</td>\n",
       "      <td>No</td>\n",
       "      <td>Petrol</td>\n",
       "      <td>3.0</td>\n",
       "      <td>192000.0</td>\n",
       "      <td>6.0</td>\n",
       "      <td>Tiptronic</td>\n",
       "      <td>4x4</td>\n",
       "      <td>04</td>\n",
       "      <td>Left wheel</td>\n",
       "      <td>Black</td>\n",
       "      <td>8</td>\n",
       "    </tr>\n",
       "    <tr>\n",
       "      <th>2</th>\n",
       "      <td>8467</td>\n",
       "      <td>633.0</td>\n",
       "      <td>HONDA</td>\n",
       "      <td>FIT</td>\n",
       "      <td>2006</td>\n",
       "      <td>Hatchback</td>\n",
       "      <td>No</td>\n",
       "      <td>Petrol</td>\n",
       "      <td>1.3</td>\n",
       "      <td>200000.0</td>\n",
       "      <td>4.0</td>\n",
       "      <td>Variator</td>\n",
       "      <td>Front</td>\n",
       "      <td>04</td>\n",
       "      <td>Right-hand drive</td>\n",
       "      <td>Black</td>\n",
       "      <td>2</td>\n",
       "    </tr>\n",
       "    <tr>\n",
       "      <th>3</th>\n",
       "      <td>3607</td>\n",
       "      <td>862.0</td>\n",
       "      <td>FORD</td>\n",
       "      <td>Escape</td>\n",
       "      <td>2011</td>\n",
       "      <td>Jeep</td>\n",
       "      <td>Yes</td>\n",
       "      <td>Hybrid</td>\n",
       "      <td>2.5</td>\n",
       "      <td>168966.0</td>\n",
       "      <td>4.0</td>\n",
       "      <td>Automatic</td>\n",
       "      <td>4x4</td>\n",
       "      <td>04</td>\n",
       "      <td>Left wheel</td>\n",
       "      <td>White</td>\n",
       "      <td>0</td>\n",
       "    </tr>\n",
       "    <tr>\n",
       "      <th>4</th>\n",
       "      <td>11726</td>\n",
       "      <td>446.0</td>\n",
       "      <td>HONDA</td>\n",
       "      <td>FIT</td>\n",
       "      <td>2014</td>\n",
       "      <td>Hatchback</td>\n",
       "      <td>Yes</td>\n",
       "      <td>Petrol</td>\n",
       "      <td>1.3</td>\n",
       "      <td>91901.0</td>\n",
       "      <td>4.0</td>\n",
       "      <td>Automatic</td>\n",
       "      <td>Front</td>\n",
       "      <td>04</td>\n",
       "      <td>Left wheel</td>\n",
       "      <td>Silver</td>\n",
       "      <td>4</td>\n",
       "    </tr>\n",
       "  </tbody>\n",
       "</table>\n",
       "</div>"
      ],
      "text/plain": [
       "   Price    Levy Manufacturer    Model  Prod. year   Category  \\\n",
       "0  13328  1399.0        LEXUS   RX 450        2010       Jeep   \n",
       "1  16621  1018.0    CHEVROLET  Equinox        2011       Jeep   \n",
       "2   8467   633.0        HONDA      FIT        2006  Hatchback   \n",
       "3   3607   862.0         FORD   Escape        2011       Jeep   \n",
       "4  11726   446.0        HONDA      FIT        2014  Hatchback   \n",
       "\n",
       "  Leather interior Fuel type  Engine volume   Mileage  Cylinders  \\\n",
       "0              Yes    Hybrid            3.5  186005.0        6.0   \n",
       "1               No    Petrol            3.0  192000.0        6.0   \n",
       "2               No    Petrol            1.3  200000.0        4.0   \n",
       "3              Yes    Hybrid            2.5  168966.0        4.0   \n",
       "4              Yes    Petrol            1.3   91901.0        4.0   \n",
       "\n",
       "  Gear box type Drive wheels Doors             Wheel   Color  Airbags  \n",
       "0     Automatic          4x4    04        Left wheel  Silver       12  \n",
       "1     Tiptronic          4x4    04        Left wheel   Black        8  \n",
       "2      Variator        Front    04  Right-hand drive   Black        2  \n",
       "3     Automatic          4x4    04        Left wheel   White        0  \n",
       "4     Automatic        Front    04        Left wheel  Silver        4  "
      ]
     },
     "execution_count": 17,
     "metadata": {},
     "output_type": "execute_result"
    }
   ],
   "source": [
    "df['Engine volume'] = df['Engine volume'].str.split(' ').str[0].astype(float)\n",
    "df.head()"
   ]
  },
  {
   "cell_type": "markdown",
   "id": "4117a83e",
   "metadata": {
    "papermill": {
     "duration": 0.015412,
     "end_time": "2022-07-13T12:29:29.547676",
     "exception": false,
     "start_time": "2022-07-13T12:29:29.532264",
     "status": "completed"
    },
    "tags": []
   },
   "source": [
    "> **Exploratory Data Analysis**"
   ]
  },
  {
   "cell_type": "markdown",
   "id": "0601e7b5",
   "metadata": {
    "papermill": {
     "duration": 0.015202,
     "end_time": "2022-07-13T12:29:29.578496",
     "exception": false,
     "start_time": "2022-07-13T12:29:29.563294",
     "status": "completed"
    },
    "tags": []
   },
   "source": [
    "***Handling Missing values***"
   ]
  },
  {
   "cell_type": "code",
   "execution_count": 18,
   "id": "ff5d7e8e",
   "metadata": {
    "execution": {
     "iopub.execute_input": "2022-07-13T12:29:29.611301Z",
     "iopub.status.busy": "2022-07-13T12:29:29.610757Z",
     "iopub.status.idle": "2022-07-13T12:29:29.626268Z",
     "shell.execute_reply": "2022-07-13T12:29:29.625592Z"
    },
    "papermill": {
     "duration": 0.034146,
     "end_time": "2022-07-13T12:29:29.628076",
     "exception": false,
     "start_time": "2022-07-13T12:29:29.593930",
     "status": "completed"
    },
    "tags": []
   },
   "outputs": [
    {
     "data": {
      "text/plain": [
       "Price               0\n",
       "Levy                0\n",
       "Manufacturer        0\n",
       "Model               0\n",
       "Prod. year          0\n",
       "Category            0\n",
       "Leather interior    0\n",
       "Fuel type           0\n",
       "Engine volume       0\n",
       "Mileage             0\n",
       "Cylinders           0\n",
       "Gear box type       0\n",
       "Drive wheels        0\n",
       "Doors               0\n",
       "Wheel               0\n",
       "Color               0\n",
       "Airbags             0\n",
       "dtype: int64"
      ]
     },
     "execution_count": 18,
     "metadata": {},
     "output_type": "execute_result"
    }
   ],
   "source": [
    "df.isnull().sum()"
   ]
  },
  {
   "cell_type": "markdown",
   "id": "009f073b",
   "metadata": {
    "papermill": {
     "duration": 0.015465,
     "end_time": "2022-07-13T12:29:29.659321",
     "exception": false,
     "start_time": "2022-07-13T12:29:29.643856",
     "status": "completed"
    },
    "tags": []
   },
   "source": [
    "There are no missing values in the dataset."
   ]
  },
  {
   "cell_type": "markdown",
   "id": "ed2982d0",
   "metadata": {
    "papermill": {
     "duration": 0.015862,
     "end_time": "2022-07-13T12:29:29.691833",
     "exception": false,
     "start_time": "2022-07-13T12:29:29.675971",
     "status": "completed"
    },
    "tags": []
   },
   "source": [
    "***Handling Outliers***"
   ]
  },
  {
   "cell_type": "code",
   "execution_count": 19,
   "id": "57623b16",
   "metadata": {
    "execution": {
     "iopub.execute_input": "2022-07-13T12:29:29.725141Z",
     "iopub.status.busy": "2022-07-13T12:29:29.724688Z",
     "iopub.status.idle": "2022-07-13T12:29:29.748211Z",
     "shell.execute_reply": "2022-07-13T12:29:29.747131Z"
    },
    "papermill": {
     "duration": 0.042694,
     "end_time": "2022-07-13T12:29:29.750285",
     "exception": false,
     "start_time": "2022-07-13T12:29:29.707591",
     "status": "completed"
    },
    "tags": []
   },
   "outputs": [
    {
     "data": {
      "text/plain": [
       "Price            1055\n",
       "Levy             1561\n",
       "Prod. year        962\n",
       "Engine volume    1358\n",
       "Mileage           635\n",
       "Cylinders        4765\n",
       "Airbags             0\n",
       "dtype: int64"
      ]
     },
     "execution_count": 19,
     "metadata": {},
     "output_type": "execute_result"
    }
   ],
   "source": [
    "#Finding the 25th percentile and 75th percentiles.\n",
    "Q1 = df.quantile(0.25)             \n",
    "Q3 = df.quantile(0.75)\n",
    "\n",
    "#Inter Quantile Range (75th perentile - 25th percentile)\n",
    "IQR = Q3 - Q1                          \n",
    "\n",
    "#Finding lower and upper bounds for all values. All values outside these bounds are outliers\n",
    "lower_limit=Q1-1.5*IQR                        \n",
    "upper_limit=Q3+1.5*IQR\n",
    "\n",
    "((df.select_dtypes(include=['float64','int64'])<lower_limit) | (df.select_dtypes(include=['float64','int64'])>upper_limit)).sum()"
   ]
  },
  {
   "cell_type": "markdown",
   "id": "3d6bc336",
   "metadata": {
    "papermill": {
     "duration": 0.015791,
     "end_time": "2022-07-13T12:29:29.781899",
     "exception": false,
     "start_time": "2022-07-13T12:29:29.766108",
     "status": "completed"
    },
    "tags": []
   },
   "source": [
    "Finding the sum of the outliers in each numerical column."
   ]
  },
  {
   "cell_type": "code",
   "execution_count": 20,
   "id": "4e05399b",
   "metadata": {
    "execution": {
     "iopub.execute_input": "2022-07-13T12:29:29.814587Z",
     "iopub.status.busy": "2022-07-13T12:29:29.814206Z",
     "iopub.status.idle": "2022-07-13T12:29:30.956528Z",
     "shell.execute_reply": "2022-07-13T12:29:30.955389Z"
    },
    "papermill": {
     "duration": 1.161256,
     "end_time": "2022-07-13T12:29:30.958697",
     "exception": false,
     "start_time": "2022-07-13T12:29:29.797441",
     "status": "completed"
    },
    "tags": []
   },
   "outputs": [
    {
     "data": {
      "image/png": "[encoded data removed]",
      "text/plain": [
       "<Figure size 432x288 with 1 Axes>"
      ]
     },
     "metadata": {
      "needs_background": "light"
     },
     "output_type": "display_data"
    },
    {
     "data": {
      "image/png": "[encoded data removed]",
      "text/plain": [
       "<Figure size 432x288 with 1 Axes>"
      ]
     },
     "metadata": {
      "needs_background": "light"
     },
     "output_type": "display_data"
    },
    {
     "data": {
      "image/png": "[encoded data removed]",
      "text/plain": [
       "<Figure size 432x288 with 1 Axes>"
      ]
     },
     "metadata": {
      "needs_background": "light"
     },
     "output_type": "display_data"
    },
    {
     "data": {
      "image/png": "[encoded data removed]",
      "text/plain": [
       "<Figure size 432x288 with 1 Axes>"
      ]
     },
     "metadata": {
      "needs_background": "light"
     },
     "output_type": "display_data"
    },
    {
     "data": {
      "image/png": "[encoded data removed]",
      "text/plain": [
       "<Figure size 432x288 with 1 Axes>"
      ]
     },
     "metadata": {
      "needs_background": "light"
     },
     "output_type": "display_data"
    },
    {
     "data": {
      "image/png": "[encoded data removed]",
      "text/plain": [
       "<Figure size 432x288 with 1 Axes>"
      ]
     },
     "metadata": {
      "needs_background": "light"
     },
     "output_type": "display_data"
    },
    {
     "data": {
      "image/png": "[encoded data removed]",
      "text/plain": [
       "<Figure size 432x288 with 1 Axes>"
      ]
     },
     "metadata": {
      "needs_background": "light"
     },
     "output_type": "display_data"
    }
   ],
   "source": [
    "for col_name in df:\n",
    "    if (df[col_name].dtypes=='int64' or df[col_name].dtypes=='float64'):\n",
    "        plt.boxplot(df[col_name])# making boxplot for all the columns except buy to check for outliers\n",
    "        plt.xlabel(col_name)\n",
    "        plt.ylabel('count')\n",
    "        plt.show()"
   ]
  },
  {
   "cell_type": "markdown",
   "id": "b6f40b11",
   "metadata": {
    "papermill": {
     "duration": 0.017725,
     "end_time": "2022-07-13T12:29:30.993491",
     "exception": false,
     "start_time": "2022-07-13T12:29:30.975766",
     "status": "completed"
    },
    "tags": []
   },
   "source": [
    "Displayed boxplot for every column."
   ]
  },
  {
   "cell_type": "code",
   "execution_count": 21,
   "id": "1f8fbca4",
   "metadata": {
    "execution": {
     "iopub.execute_input": "2022-07-13T12:29:31.030663Z",
     "iopub.status.busy": "2022-07-13T12:29:31.029900Z",
     "iopub.status.idle": "2022-07-13T12:29:31.045321Z",
     "shell.execute_reply": "2022-07-13T12:29:31.043806Z"
    },
    "papermill": {
     "duration": 0.036696,
     "end_time": "2022-07-13T12:29:31.047557",
     "exception": false,
     "start_time": "2022-07-13T12:29:31.010861",
     "status": "completed"
    },
    "tags": []
   },
   "outputs": [
    {
     "name": "stdout",
     "output_type": "stream",
     "text": [
      "Price             16732.0\n",
      "Levy                284.0\n",
      "Prod. year            6.0\n",
      "Engine volume         0.7\n",
      "Mileage          118924.0\n",
      "Cylinders             0.0\n",
      "Airbags               8.0\n",
      "dtype: float64\n"
     ]
    }
   ],
   "source": [
    "#displaying IQR values\n",
    "Q1 = df.quantile(0.25)\n",
    "Q3 = df.quantile(0.75)\n",
    "IQR = Q3 - Q1\n",
    "print(IQR)"
   ]
  },
  {
   "cell_type": "markdown",
   "id": "8bfec99c",
   "metadata": {
    "papermill": {
     "duration": 0.017404,
     "end_time": "2022-07-13T12:29:31.082550",
     "exception": false,
     "start_time": "2022-07-13T12:29:31.065146",
     "status": "completed"
    },
    "tags": []
   },
   "source": [
    "*Removing the outliers*"
   ]
  },
  {
   "cell_type": "code",
   "execution_count": 23,
   "id": "81e3bad4",
   "metadata": {},
   "outputs": [],
   "source": [
    "import warnings\n",
    "warnings.filterwarnings('ignore')"
   ]
  },
  {
   "cell_type": "code",
   "execution_count": 24,
   "id": "5041dbbd",
   "metadata": {
    "execution": {
     "iopub.execute_input": "2022-07-13T12:29:31.119933Z",
     "iopub.status.busy": "2022-07-13T12:29:31.119301Z",
     "iopub.status.idle": "2022-07-13T12:29:31.170651Z",
     "shell.execute_reply": "2022-07-13T12:29:31.169440Z"
    },
    "papermill": {
     "duration": 0.073147,
     "end_time": "2022-07-13T12:29:31.173261",
     "exception": false,
     "start_time": "2022-07-13T12:29:31.100114",
     "status": "completed"
    },
    "tags": []
   },
   "outputs": [
    {
     "data": {
      "text/plain": [
       "(12081, 17)"
      ]
     },
     "execution_count": 24,
     "metadata": {},
     "output_type": "execute_result"
    }
   ],
   "source": [
    "df=df[~((df < (Q1 - 1.5 * IQR)) |(df > (Q3 + 1.5 * IQR))).any(axis=1)] \n",
    "df.shape"
   ]
  },
  {
   "cell_type": "markdown",
   "id": "b7d196cd",
   "metadata": {
    "papermill": {
     "duration": 0.017463,
     "end_time": "2022-07-13T12:29:31.208540",
     "exception": false,
     "start_time": "2022-07-13T12:29:31.191077",
     "status": "completed"
    },
    "tags": []
   },
   "source": [
    "The number of records reduced from 18924 to 12081 from outlier removal."
   ]
  },
  {
   "cell_type": "markdown",
   "id": "3dc217f4",
   "metadata": {
    "papermill": {
     "duration": 0.017651,
     "end_time": "2022-07-13T12:29:31.243976",
     "exception": false,
     "start_time": "2022-07-13T12:29:31.226325",
     "status": "completed"
    },
    "tags": []
   },
   "source": [
    "***Creation of Correlation matrix***"
   ]
  },
  {
   "cell_type": "code",
   "execution_count": 25,
   "id": "74d784cb",
   "metadata": {
    "execution": {
     "iopub.execute_input": "2022-07-13T12:29:31.281606Z",
     "iopub.status.busy": "2022-07-13T12:29:31.280920Z",
     "iopub.status.idle": "2022-07-13T12:29:31.665466Z",
     "shell.execute_reply": "2022-07-13T12:29:31.664425Z"
    },
    "papermill": {
     "duration": 0.405918,
     "end_time": "2022-07-13T12:29:31.667633",
     "exception": false,
     "start_time": "2022-07-13T12:29:31.261715",
     "status": "completed"
    },
    "tags": []
   },
   "outputs": [
    {
     "data": {
      "text/plain": [
       "<AxesSubplot:>"
      ]
     },
     "execution_count": 25,
     "metadata": {},
     "output_type": "execute_result"
    },
    {
     "data": {
      "image/png": "[encoded data removed]",
      "text/plain": [
       "<Figure size 1152x360 with 2 Axes>"
      ]
     },
     "metadata": {
      "needs_background": "light"
     },
     "output_type": "display_data"
    }
   ],
   "source": [
    "plt.figure(figsize = (16,5))\n",
    "sns.heatmap(df.corr(), cbar=True, annot=True)"
   ]
  },
  {
   "cell_type": "markdown",
   "id": "a433afa3",
   "metadata": {
    "papermill": {
     "duration": 0.017975,
     "end_time": "2022-07-13T12:29:31.703401",
     "exception": false,
     "start_time": "2022-07-13T12:29:31.685426",
     "status": "completed"
    },
    "tags": []
   },
   "source": [
    "According to the correlation matrix, we can see that no such column is that highly corelated with each other."
   ]
  },
  {
   "cell_type": "markdown",
   "id": "b33c7714",
   "metadata": {
    "papermill": {
     "duration": 0.017499,
     "end_time": "2022-07-13T12:29:31.738568",
     "exception": false,
     "start_time": "2022-07-13T12:29:31.721069",
     "status": "completed"
    },
    "tags": []
   },
   "source": [
    "***Data Visualization***"
   ]
  },
  {
   "cell_type": "markdown",
   "id": "48ce73e4",
   "metadata": {
    "papermill": {
     "duration": 0.017499,
     "end_time": "2022-07-13T12:29:31.774127",
     "exception": false,
     "start_time": "2022-07-13T12:29:31.756628",
     "status": "completed"
    },
    "tags": []
   },
   "source": [
    "*Categorical Data*"
   ]
  },
  {
   "cell_type": "code",
   "execution_count": 26,
   "id": "96d2949a",
   "metadata": {
    "execution": {
     "iopub.execute_input": "2022-07-13T12:29:31.812090Z",
     "iopub.status.busy": "2022-07-13T12:29:31.811346Z",
     "iopub.status.idle": "2022-07-13T12:29:32.352672Z",
     "shell.execute_reply": "2022-07-13T12:29:32.351403Z"
    },
    "papermill": {
     "duration": 0.563312,
     "end_time": "2022-07-13T12:29:32.355081",
     "exception": false,
     "start_time": "2022-07-13T12:29:31.791769",
     "status": "completed"
    },
    "tags": []
   },
   "outputs": [
    {
     "data": {
      "text/plain": [
       "<AxesSubplot:title={'center':'Color vs Price'}, xlabel='Color', ylabel='Price'>"
      ]
     },
     "execution_count": 26,
     "metadata": {},
     "output_type": "execute_result"
    },
    {
     "data": {
      "image/png": "[encoded data removed]",
      "text/plain": [
       "<Figure size 1800x720 with 3 Axes>"
      ]
     },
     "metadata": {
      "needs_background": "light"
     },
     "output_type": "display_data"
    }
   ],
   "source": [
    "plt.figure(figsize=(25,10))\n",
    "plt.subplot(131)\n",
    "plt.title('Category vs Price',fontsize = 30)\n",
    "plt.ylabel(\"Price\")\n",
    "df.groupby('Category')['Price'].mean().plot.bar()\n",
    "plt.subplot(132)\n",
    "plt.title('Cylinders vs Price',fontsize = 30)\n",
    "plt.ylabel(\"Price\")\n",
    "df.groupby('Cylinders')['Price'].mean().plot.bar()\n",
    "plt.subplot(133)\n",
    "plt.title('Color vs Price',fontsize = 30)\n",
    "plt.ylabel(\"Price\")\n",
    "df.groupby('Color')['Price'].mean().plot.bar()\n"
   ]
  },
  {
   "cell_type": "code",
   "execution_count": 27,
   "id": "b55660aa",
   "metadata": {
    "execution": {
     "iopub.execute_input": "2022-07-13T12:29:32.414536Z",
     "iopub.status.busy": "2022-07-13T12:29:32.414137Z",
     "iopub.status.idle": "2022-07-13T12:29:33.398701Z",
     "shell.execute_reply": "2022-07-13T12:29:33.397582Z"
    },
    "papermill": {
     "duration": 1.026434,
     "end_time": "2022-07-13T12:29:33.401070",
     "exception": false,
     "start_time": "2022-07-13T12:29:32.374636",
     "status": "completed"
    },
    "tags": []
   },
   "outputs": [
    {
     "data": {
      "text/plain": [
       "<AxesSubplot:title={'center':'Fuel type vs Price'}, xlabel='Fuel type', ylabel='Price'>"
      ]
     },
     "execution_count": 27,
     "metadata": {},
     "output_type": "execute_result"
    },
    {
     "data": {
      "image/png": "[encoded data removed]",
      "text/plain": [
       "<Figure size 2880x720 with 3 Axes>"
      ]
     },
     "metadata": {
      "needs_background": "light"
     },
     "output_type": "display_data"
    }
   ],
   "source": [
    "plt.figure(figsize=(40,10))\n",
    "plt.subplot(131)\n",
    "plt.title('Manufacturer vs Price',fontsize = 30)\n",
    "plt.ylabel(\"Price\")\n",
    "df.groupby('Manufacturer')['Price'].mean().plot.bar()\n",
    "plt.subplot(132)\n",
    "plt.title('Gear box type vs Price',fontsize = 30)\n",
    "plt.ylabel(\"Price\")\n",
    "df.groupby('Gear box type')['Price'].mean().plot.bar()\n",
    "plt.subplot(133)\n",
    "plt.title('Fuel type vs Price',fontsize = 30)\n",
    "plt.ylabel(\"Price\")\n",
    "df.groupby('Fuel type')['Price'].mean().plot.bar()"
   ]
  },
  {
   "cell_type": "markdown",
   "id": "d6995046",
   "metadata": {
    "papermill": {
     "duration": 0.019861,
     "end_time": "2022-07-13T12:29:33.440937",
     "exception": false,
     "start_time": "2022-07-13T12:29:33.421076",
     "status": "completed"
    },
    "tags": []
   },
   "source": [
    "*Numerical Data*"
   ]
  },
  {
   "cell_type": "code",
   "execution_count": 28,
   "id": "34ca14bf",
   "metadata": {
    "execution": {
     "iopub.execute_input": "2022-07-13T12:29:33.482919Z",
     "iopub.status.busy": "2022-07-13T12:29:33.482562Z",
     "iopub.status.idle": "2022-07-13T12:29:34.769903Z",
     "shell.execute_reply": "2022-07-13T12:29:34.768730Z"
    },
    "papermill": {
     "duration": 1.311198,
     "end_time": "2022-07-13T12:29:34.772584",
     "exception": false,
     "start_time": "2022-07-13T12:29:33.461386",
     "status": "completed"
    },
    "tags": []
   },
   "outputs": [
    {
     "data": {
      "image/png": "[encoded data removed]",
      "text/plain": [
       "<Figure size 1152x1296 with 9 Axes>"
      ]
     },
     "metadata": {
      "needs_background": "light"
     },
     "output_type": "display_data"
    }
   ],
   "source": [
    "df.hist(figsize = (16,18))\n",
    "plt.tight_layout()\n",
    "plt.show()"
   ]
  },
  {
   "cell_type": "markdown",
   "id": "2eaa015b",
   "metadata": {
    "papermill": {
     "duration": 0.020502,
     "end_time": "2022-07-13T12:29:34.814133",
     "exception": false,
     "start_time": "2022-07-13T12:29:34.793631",
     "status": "completed"
    },
    "tags": []
   },
   "source": [
    "*Handling Categorical variables - convert into one-hot encoding*"
   ]
  },
  {
   "cell_type": "code",
   "execution_count": 29,
   "id": "131406f3",
   "metadata": {
    "execution": {
     "iopub.execute_input": "2022-07-13T12:29:34.858143Z",
     "iopub.status.busy": "2022-07-13T12:29:34.857380Z",
     "iopub.status.idle": "2022-07-13T12:29:34.971739Z",
     "shell.execute_reply": "2022-07-13T12:29:34.970729Z"
    },
    "papermill": {
     "duration": 0.138719,
     "end_time": "2022-07-13T12:29:34.973849",
     "exception": false,
     "start_time": "2022-07-13T12:29:34.835130",
     "status": "completed"
    },
    "tags": []
   },
   "outputs": [
    {
     "data": {
      "text/html": [
       "<div>\n",
       "<style scoped>\n",
       "    .dataframe tbody tr th:only-of-type {\n",
       "        vertical-align: middle;\n",
       "    }\n",
       "\n",
       "    .dataframe tbody tr th {\n",
       "        vertical-align: top;\n",
       "    }\n",
       "\n",
       "    .dataframe thead th {\n",
       "        text-align: right;\n",
       "    }\n",
       "</style>\n",
       "<table border=\"1\" class=\"dataframe\">\n",
       "  <thead>\n",
       "    <tr style=\"text-align: right;\">\n",
       "      <th></th>\n",
       "      <th>Price</th>\n",
       "      <th>Levy</th>\n",
       "      <th>Prod. year</th>\n",
       "      <th>Engine volume</th>\n",
       "      <th>Mileage</th>\n",
       "      <th>Cylinders</th>\n",
       "      <th>Airbags</th>\n",
       "      <th>Manufacturer_ALFA ROMEO</th>\n",
       "      <th>Manufacturer_AUDI</th>\n",
       "      <th>Manufacturer_BMW</th>\n",
       "      <th>...</th>\n",
       "      <th>Color_Green</th>\n",
       "      <th>Color_Grey</th>\n",
       "      <th>Color_Orange</th>\n",
       "      <th>Color_Pink</th>\n",
       "      <th>Color_Purple</th>\n",
       "      <th>Color_Red</th>\n",
       "      <th>Color_Silver</th>\n",
       "      <th>Color_Sky blue</th>\n",
       "      <th>Color_White</th>\n",
       "      <th>Color_Yellow</th>\n",
       "    </tr>\n",
       "  </thead>\n",
       "  <tbody>\n",
       "    <tr>\n",
       "      <th>2</th>\n",
       "      <td>8467</td>\n",
       "      <td>633.0</td>\n",
       "      <td>2006</td>\n",
       "      <td>1.3</td>\n",
       "      <td>200000.0</td>\n",
       "      <td>4.0</td>\n",
       "      <td>2</td>\n",
       "      <td>0</td>\n",
       "      <td>0</td>\n",
       "      <td>0</td>\n",
       "      <td>...</td>\n",
       "      <td>0</td>\n",
       "      <td>0</td>\n",
       "      <td>0</td>\n",
       "      <td>0</td>\n",
       "      <td>0</td>\n",
       "      <td>0</td>\n",
       "      <td>0</td>\n",
       "      <td>0</td>\n",
       "      <td>0</td>\n",
       "      <td>0</td>\n",
       "    </tr>\n",
       "    <tr>\n",
       "      <th>3</th>\n",
       "      <td>3607</td>\n",
       "      <td>862.0</td>\n",
       "      <td>2011</td>\n",
       "      <td>2.5</td>\n",
       "      <td>168966.0</td>\n",
       "      <td>4.0</td>\n",
       "      <td>0</td>\n",
       "      <td>0</td>\n",
       "      <td>0</td>\n",
       "      <td>0</td>\n",
       "      <td>...</td>\n",
       "      <td>0</td>\n",
       "      <td>0</td>\n",
       "      <td>0</td>\n",
       "      <td>0</td>\n",
       "      <td>0</td>\n",
       "      <td>0</td>\n",
       "      <td>0</td>\n",
       "      <td>0</td>\n",
       "      <td>1</td>\n",
       "      <td>0</td>\n",
       "    </tr>\n",
       "    <tr>\n",
       "      <th>4</th>\n",
       "      <td>11726</td>\n",
       "      <td>446.0</td>\n",
       "      <td>2014</td>\n",
       "      <td>1.3</td>\n",
       "      <td>91901.0</td>\n",
       "      <td>4.0</td>\n",
       "      <td>4</td>\n",
       "      <td>0</td>\n",
       "      <td>0</td>\n",
       "      <td>0</td>\n",
       "      <td>...</td>\n",
       "      <td>0</td>\n",
       "      <td>0</td>\n",
       "      <td>0</td>\n",
       "      <td>0</td>\n",
       "      <td>0</td>\n",
       "      <td>0</td>\n",
       "      <td>1</td>\n",
       "      <td>0</td>\n",
       "      <td>0</td>\n",
       "      <td>0</td>\n",
       "    </tr>\n",
       "    <tr>\n",
       "      <th>5</th>\n",
       "      <td>39493</td>\n",
       "      <td>891.0</td>\n",
       "      <td>2016</td>\n",
       "      <td>2.0</td>\n",
       "      <td>160931.0</td>\n",
       "      <td>4.0</td>\n",
       "      <td>4</td>\n",
       "      <td>0</td>\n",
       "      <td>0</td>\n",
       "      <td>0</td>\n",
       "      <td>...</td>\n",
       "      <td>0</td>\n",
       "      <td>0</td>\n",
       "      <td>0</td>\n",
       "      <td>0</td>\n",
       "      <td>0</td>\n",
       "      <td>0</td>\n",
       "      <td>0</td>\n",
       "      <td>0</td>\n",
       "      <td>1</td>\n",
       "      <td>0</td>\n",
       "    </tr>\n",
       "    <tr>\n",
       "      <th>6</th>\n",
       "      <td>1803</td>\n",
       "      <td>761.0</td>\n",
       "      <td>2010</td>\n",
       "      <td>1.8</td>\n",
       "      <td>258909.0</td>\n",
       "      <td>4.0</td>\n",
       "      <td>12</td>\n",
       "      <td>0</td>\n",
       "      <td>0</td>\n",
       "      <td>0</td>\n",
       "      <td>...</td>\n",
       "      <td>0</td>\n",
       "      <td>0</td>\n",
       "      <td>0</td>\n",
       "      <td>0</td>\n",
       "      <td>0</td>\n",
       "      <td>0</td>\n",
       "      <td>0</td>\n",
       "      <td>0</td>\n",
       "      <td>1</td>\n",
       "      <td>0</td>\n",
       "    </tr>\n",
       "  </tbody>\n",
       "</table>\n",
       "<p>5 rows × 993 columns</p>\n",
       "</div>"
      ],
      "text/plain": [
       "   Price   Levy  Prod. year  Engine volume   Mileage  Cylinders  Airbags  \\\n",
       "2   8467  633.0        2006            1.3  200000.0        4.0        2   \n",
       "3   3607  862.0        2011            2.5  168966.0        4.0        0   \n",
       "4  11726  446.0        2014            1.3   91901.0        4.0        4   \n",
       "5  39493  891.0        2016            2.0  160931.0        4.0        4   \n",
       "6   1803  761.0        2010            1.8  258909.0        4.0       12   \n",
       "\n",
       "   Manufacturer_ALFA ROMEO  Manufacturer_AUDI  Manufacturer_BMW  ...  \\\n",
       "2                        0                  0                 0  ...   \n",
       "3                        0                  0                 0  ...   \n",
       "4                        0                  0                 0  ...   \n",
       "5                        0                  0                 0  ...   \n",
       "6                        0                  0                 0  ...   \n",
       "\n",
       "   Color_Green  Color_Grey  Color_Orange  Color_Pink  Color_Purple  Color_Red  \\\n",
       "2            0           0             0           0             0          0   \n",
       "3            0           0             0           0             0          0   \n",
       "4            0           0             0           0             0          0   \n",
       "5            0           0             0           0             0          0   \n",
       "6            0           0             0           0             0          0   \n",
       "\n",
       "   Color_Silver  Color_Sky blue  Color_White  Color_Yellow  \n",
       "2             0               0            0             0  \n",
       "3             0               0            1             0  \n",
       "4             1               0            0             0  \n",
       "5             0               0            1             0  \n",
       "6             0               0            1             0  \n",
       "\n",
       "[5 rows x 993 columns]"
      ]
     },
     "execution_count": 29,
     "metadata": {},
     "output_type": "execute_result"
    }
   ],
   "source": [
    "df = pd.get_dummies(df,drop_first=True)\n",
    "df.head()"
   ]
  },
  {
   "cell_type": "code",
   "execution_count": 30,
   "id": "16cb8c3a",
   "metadata": {
    "execution": {
     "iopub.execute_input": "2022-07-13T12:29:35.018913Z",
     "iopub.status.busy": "2022-07-13T12:29:35.018024Z",
     "iopub.status.idle": "2022-07-13T12:29:35.037035Z",
     "shell.execute_reply": "2022-07-13T12:29:35.036338Z"
    },
    "papermill": {
     "duration": 0.043311,
     "end_time": "2022-07-13T12:29:35.038816",
     "exception": false,
     "start_time": "2022-07-13T12:29:34.995505",
     "status": "completed"
    },
    "tags": []
   },
   "outputs": [
    {
     "data": {
      "text/html": [
       "<div>\n",
       "<style scoped>\n",
       "    .dataframe tbody tr th:only-of-type {\n",
       "        vertical-align: middle;\n",
       "    }\n",
       "\n",
       "    .dataframe tbody tr th {\n",
       "        vertical-align: top;\n",
       "    }\n",
       "\n",
       "    .dataframe thead th {\n",
       "        text-align: right;\n",
       "    }\n",
       "</style>\n",
       "<table border=\"1\" class=\"dataframe\">\n",
       "  <thead>\n",
       "    <tr style=\"text-align: right;\">\n",
       "      <th></th>\n",
       "      <th>Price</th>\n",
       "      <th>Levy</th>\n",
       "      <th>Prod. year</th>\n",
       "      <th>Engine volume</th>\n",
       "      <th>Mileage</th>\n",
       "      <th>Cylinders</th>\n",
       "      <th>Airbags</th>\n",
       "      <th>Manufacturer_ALFA ROMEO</th>\n",
       "      <th>Manufacturer_AUDI</th>\n",
       "      <th>Manufacturer_BMW</th>\n",
       "      <th>...</th>\n",
       "      <th>Color_Green</th>\n",
       "      <th>Color_Grey</th>\n",
       "      <th>Color_Orange</th>\n",
       "      <th>Color_Pink</th>\n",
       "      <th>Color_Purple</th>\n",
       "      <th>Color_Red</th>\n",
       "      <th>Color_Silver</th>\n",
       "      <th>Color_Sky blue</th>\n",
       "      <th>Color_White</th>\n",
       "      <th>Color_Yellow</th>\n",
       "    </tr>\n",
       "  </thead>\n",
       "  <tbody>\n",
       "    <tr>\n",
       "      <th>0</th>\n",
       "      <td>8467</td>\n",
       "      <td>633.0</td>\n",
       "      <td>2006</td>\n",
       "      <td>1.3</td>\n",
       "      <td>200000.0</td>\n",
       "      <td>4.0</td>\n",
       "      <td>2</td>\n",
       "      <td>0</td>\n",
       "      <td>0</td>\n",
       "      <td>0</td>\n",
       "      <td>...</td>\n",
       "      <td>0</td>\n",
       "      <td>0</td>\n",
       "      <td>0</td>\n",
       "      <td>0</td>\n",
       "      <td>0</td>\n",
       "      <td>0</td>\n",
       "      <td>0</td>\n",
       "      <td>0</td>\n",
       "      <td>0</td>\n",
       "      <td>0</td>\n",
       "    </tr>\n",
       "    <tr>\n",
       "      <th>1</th>\n",
       "      <td>3607</td>\n",
       "      <td>862.0</td>\n",
       "      <td>2011</td>\n",
       "      <td>2.5</td>\n",
       "      <td>168966.0</td>\n",
       "      <td>4.0</td>\n",
       "      <td>0</td>\n",
       "      <td>0</td>\n",
       "      <td>0</td>\n",
       "      <td>0</td>\n",
       "      <td>...</td>\n",
       "      <td>0</td>\n",
       "      <td>0</td>\n",
       "      <td>0</td>\n",
       "      <td>0</td>\n",
       "      <td>0</td>\n",
       "      <td>0</td>\n",
       "      <td>0</td>\n",
       "      <td>0</td>\n",
       "      <td>1</td>\n",
       "      <td>0</td>\n",
       "    </tr>\n",
       "    <tr>\n",
       "      <th>2</th>\n",
       "      <td>11726</td>\n",
       "      <td>446.0</td>\n",
       "      <td>2014</td>\n",
       "      <td>1.3</td>\n",
       "      <td>91901.0</td>\n",
       "      <td>4.0</td>\n",
       "      <td>4</td>\n",
       "      <td>0</td>\n",
       "      <td>0</td>\n",
       "      <td>0</td>\n",
       "      <td>...</td>\n",
       "      <td>0</td>\n",
       "      <td>0</td>\n",
       "      <td>0</td>\n",
       "      <td>0</td>\n",
       "      <td>0</td>\n",
       "      <td>0</td>\n",
       "      <td>1</td>\n",
       "      <td>0</td>\n",
       "      <td>0</td>\n",
       "      <td>0</td>\n",
       "    </tr>\n",
       "    <tr>\n",
       "      <th>3</th>\n",
       "      <td>39493</td>\n",
       "      <td>891.0</td>\n",
       "      <td>2016</td>\n",
       "      <td>2.0</td>\n",
       "      <td>160931.0</td>\n",
       "      <td>4.0</td>\n",
       "      <td>4</td>\n",
       "      <td>0</td>\n",
       "      <td>0</td>\n",
       "      <td>0</td>\n",
       "      <td>...</td>\n",
       "      <td>0</td>\n",
       "      <td>0</td>\n",
       "      <td>0</td>\n",
       "      <td>0</td>\n",
       "      <td>0</td>\n",
       "      <td>0</td>\n",
       "      <td>0</td>\n",
       "      <td>0</td>\n",
       "      <td>1</td>\n",
       "      <td>0</td>\n",
       "    </tr>\n",
       "    <tr>\n",
       "      <th>4</th>\n",
       "      <td>1803</td>\n",
       "      <td>761.0</td>\n",
       "      <td>2010</td>\n",
       "      <td>1.8</td>\n",
       "      <td>258909.0</td>\n",
       "      <td>4.0</td>\n",
       "      <td>12</td>\n",
       "      <td>0</td>\n",
       "      <td>0</td>\n",
       "      <td>0</td>\n",
       "      <td>...</td>\n",
       "      <td>0</td>\n",
       "      <td>0</td>\n",
       "      <td>0</td>\n",
       "      <td>0</td>\n",
       "      <td>0</td>\n",
       "      <td>0</td>\n",
       "      <td>0</td>\n",
       "      <td>0</td>\n",
       "      <td>1</td>\n",
       "      <td>0</td>\n",
       "    </tr>\n",
       "  </tbody>\n",
       "</table>\n",
       "<p>5 rows × 993 columns</p>\n",
       "</div>"
      ],
      "text/plain": [
       "   Price   Levy  Prod. year  Engine volume   Mileage  Cylinders  Airbags  \\\n",
       "0   8467  633.0        2006            1.3  200000.0        4.0        2   \n",
       "1   3607  862.0        2011            2.5  168966.0        4.0        0   \n",
       "2  11726  446.0        2014            1.3   91901.0        4.0        4   \n",
       "3  39493  891.0        2016            2.0  160931.0        4.0        4   \n",
       "4   1803  761.0        2010            1.8  258909.0        4.0       12   \n",
       "\n",
       "   Manufacturer_ALFA ROMEO  Manufacturer_AUDI  Manufacturer_BMW  ...  \\\n",
       "0                        0                  0                 0  ...   \n",
       "1                        0                  0                 0  ...   \n",
       "2                        0                  0                 0  ...   \n",
       "3                        0                  0                 0  ...   \n",
       "4                        0                  0                 0  ...   \n",
       "\n",
       "   Color_Green  Color_Grey  Color_Orange  Color_Pink  Color_Purple  Color_Red  \\\n",
       "0            0           0             0           0             0          0   \n",
       "1            0           0             0           0             0          0   \n",
       "2            0           0             0           0             0          0   \n",
       "3            0           0             0           0             0          0   \n",
       "4            0           0             0           0             0          0   \n",
       "\n",
       "   Color_Silver  Color_Sky blue  Color_White  Color_Yellow  \n",
       "0             0               0            0             0  \n",
       "1             0               0            1             0  \n",
       "2             1               0            0             0  \n",
       "3             0               0            1             0  \n",
       "4             0               0            1             0  \n",
       "\n",
       "[5 rows x 993 columns]"
      ]
     },
     "execution_count": 30,
     "metadata": {},
     "output_type": "execute_result"
    }
   ],
   "source": [
    "df.reset_index(drop=True, inplace=True)\n",
    "df.head()"
   ]
  },
  {
   "cell_type": "markdown",
   "id": "73090ba9",
   "metadata": {
    "papermill": {
     "duration": 0.021544,
     "end_time": "2022-07-13T12:29:35.082152",
     "exception": false,
     "start_time": "2022-07-13T12:29:35.060608",
     "status": "completed"
    },
    "tags": []
   },
   "source": [
    "*Handling numerical columns - Standarization*"
   ]
  },
  {
   "cell_type": "code",
   "execution_count": 31,
   "id": "b818a9f8",
   "metadata": {
    "execution": {
     "iopub.execute_input": "2022-07-13T12:29:35.126751Z",
     "iopub.status.busy": "2022-07-13T12:29:35.125730Z",
     "iopub.status.idle": "2022-07-13T12:29:35.286956Z",
     "shell.execute_reply": "2022-07-13T12:29:35.285921Z"
    },
    "papermill": {
     "duration": 0.18595,
     "end_time": "2022-07-13T12:29:35.289341",
     "exception": false,
     "start_time": "2022-07-13T12:29:35.103391",
     "status": "completed"
    },
    "tags": []
   },
   "outputs": [
    {
     "data": {
      "text/html": [
       "<div>\n",
       "<style scoped>\n",
       "    .dataframe tbody tr th:only-of-type {\n",
       "        vertical-align: middle;\n",
       "    }\n",
       "\n",
       "    .dataframe tbody tr th {\n",
       "        vertical-align: top;\n",
       "    }\n",
       "\n",
       "    .dataframe thead th {\n",
       "        text-align: right;\n",
       "    }\n",
       "</style>\n",
       "<table border=\"1\" class=\"dataframe\">\n",
       "  <thead>\n",
       "    <tr style=\"text-align: right;\">\n",
       "      <th></th>\n",
       "      <th>Price</th>\n",
       "      <th>Levy</th>\n",
       "      <th>Prod. year</th>\n",
       "      <th>Engine volume</th>\n",
       "      <th>Mileage</th>\n",
       "      <th>Cylinders</th>\n",
       "      <th>Airbags</th>\n",
       "      <th>Manufacturer_ALFA ROMEO</th>\n",
       "      <th>Manufacturer_AUDI</th>\n",
       "      <th>Manufacturer_BMW</th>\n",
       "      <th>...</th>\n",
       "      <th>Color_Green</th>\n",
       "      <th>Color_Grey</th>\n",
       "      <th>Color_Orange</th>\n",
       "      <th>Color_Pink</th>\n",
       "      <th>Color_Purple</th>\n",
       "      <th>Color_Red</th>\n",
       "      <th>Color_Silver</th>\n",
       "      <th>Color_Sky blue</th>\n",
       "      <th>Color_White</th>\n",
       "      <th>Color_Yellow</th>\n",
       "    </tr>\n",
       "  </thead>\n",
       "  <tbody>\n",
       "    <tr>\n",
       "      <th>0</th>\n",
       "      <td>8467</td>\n",
       "      <td>-0.420859</td>\n",
       "      <td>-1.519849</td>\n",
       "      <td>-1.621449</td>\n",
       "      <td>1.036882</td>\n",
       "      <td>0.0</td>\n",
       "      <td>-1.063292</td>\n",
       "      <td>0</td>\n",
       "      <td>0</td>\n",
       "      <td>0</td>\n",
       "      <td>...</td>\n",
       "      <td>0</td>\n",
       "      <td>0</td>\n",
       "      <td>0</td>\n",
       "      <td>0</td>\n",
       "      <td>0</td>\n",
       "      <td>0</td>\n",
       "      <td>0</td>\n",
       "      <td>0</td>\n",
       "      <td>0</td>\n",
       "      <td>0</td>\n",
       "    </tr>\n",
       "    <tr>\n",
       "      <th>1</th>\n",
       "      <td>3607</td>\n",
       "      <td>0.738645</td>\n",
       "      <td>-0.265953</td>\n",
       "      <td>1.460316</td>\n",
       "      <td>0.616348</td>\n",
       "      <td>0.0</td>\n",
       "      <td>-1.553171</td>\n",
       "      <td>0</td>\n",
       "      <td>0</td>\n",
       "      <td>0</td>\n",
       "      <td>...</td>\n",
       "      <td>0</td>\n",
       "      <td>0</td>\n",
       "      <td>0</td>\n",
       "      <td>0</td>\n",
       "      <td>0</td>\n",
       "      <td>0</td>\n",
       "      <td>0</td>\n",
       "      <td>0</td>\n",
       "      <td>1</td>\n",
       "      <td>0</td>\n",
       "    </tr>\n",
       "    <tr>\n",
       "      <th>2</th>\n",
       "      <td>11726</td>\n",
       "      <td>-1.367703</td>\n",
       "      <td>0.486384</td>\n",
       "      <td>-1.621449</td>\n",
       "      <td>-0.427941</td>\n",
       "      <td>0.0</td>\n",
       "      <td>-0.573412</td>\n",
       "      <td>0</td>\n",
       "      <td>0</td>\n",
       "      <td>0</td>\n",
       "      <td>...</td>\n",
       "      <td>0</td>\n",
       "      <td>0</td>\n",
       "      <td>0</td>\n",
       "      <td>0</td>\n",
       "      <td>0</td>\n",
       "      <td>0</td>\n",
       "      <td>1</td>\n",
       "      <td>0</td>\n",
       "      <td>0</td>\n",
       "      <td>0</td>\n",
       "    </tr>\n",
       "    <tr>\n",
       "      <th>3</th>\n",
       "      <td>39493</td>\n",
       "      <td>0.885482</td>\n",
       "      <td>0.987942</td>\n",
       "      <td>0.176247</td>\n",
       "      <td>0.507468</td>\n",
       "      <td>0.0</td>\n",
       "      <td>-0.573412</td>\n",
       "      <td>0</td>\n",
       "      <td>0</td>\n",
       "      <td>0</td>\n",
       "      <td>...</td>\n",
       "      <td>0</td>\n",
       "      <td>0</td>\n",
       "      <td>0</td>\n",
       "      <td>0</td>\n",
       "      <td>0</td>\n",
       "      <td>0</td>\n",
       "      <td>0</td>\n",
       "      <td>0</td>\n",
       "      <td>1</td>\n",
       "      <td>0</td>\n",
       "    </tr>\n",
       "    <tr>\n",
       "      <th>4</th>\n",
       "      <td>1803</td>\n",
       "      <td>0.227248</td>\n",
       "      <td>-0.516732</td>\n",
       "      <td>-0.337380</td>\n",
       "      <td>1.835144</td>\n",
       "      <td>0.0</td>\n",
       "      <td>1.386107</td>\n",
       "      <td>0</td>\n",
       "      <td>0</td>\n",
       "      <td>0</td>\n",
       "      <td>...</td>\n",
       "      <td>0</td>\n",
       "      <td>0</td>\n",
       "      <td>0</td>\n",
       "      <td>0</td>\n",
       "      <td>0</td>\n",
       "      <td>0</td>\n",
       "      <td>0</td>\n",
       "      <td>0</td>\n",
       "      <td>1</td>\n",
       "      <td>0</td>\n",
       "    </tr>\n",
       "  </tbody>\n",
       "</table>\n",
       "<p>5 rows × 993 columns</p>\n",
       "</div>"
      ],
      "text/plain": [
       "   Price      Levy  Prod. year  Engine volume   Mileage  Cylinders   Airbags  \\\n",
       "0   8467 -0.420859   -1.519849      -1.621449  1.036882        0.0 -1.063292   \n",
       "1   3607  0.738645   -0.265953       1.460316  0.616348        0.0 -1.553171   \n",
       "2  11726 -1.367703    0.486384      -1.621449 -0.427941        0.0 -0.573412   \n",
       "3  39493  0.885482    0.987942       0.176247  0.507468        0.0 -0.573412   \n",
       "4   1803  0.227248   -0.516732      -0.337380  1.835144        0.0  1.386107   \n",
       "\n",
       "   Manufacturer_ALFA ROMEO  Manufacturer_AUDI  Manufacturer_BMW  ...  \\\n",
       "0                        0                  0                 0  ...   \n",
       "1                        0                  0                 0  ...   \n",
       "2                        0                  0                 0  ...   \n",
       "3                        0                  0                 0  ...   \n",
       "4                        0                  0                 0  ...   \n",
       "\n",
       "   Color_Green  Color_Grey  Color_Orange  Color_Pink  Color_Purple  Color_Red  \\\n",
       "0            0           0             0           0             0          0   \n",
       "1            0           0             0           0             0          0   \n",
       "2            0           0             0           0             0          0   \n",
       "3            0           0             0           0             0          0   \n",
       "4            0           0             0           0             0          0   \n",
       "\n",
       "   Color_Silver  Color_Sky blue  Color_White  Color_Yellow  \n",
       "0             0               0            0             0  \n",
       "1             0               0            1             0  \n",
       "2             1               0            0             0  \n",
       "3             0               0            1             0  \n",
       "4             0               0            1             0  \n",
       "\n",
       "[5 rows x 993 columns]"
      ]
     },
     "execution_count": 31,
     "metadata": {},
     "output_type": "execute_result"
    }
   ],
   "source": [
    "from sklearn.preprocessing import StandardScaler\n",
    "col_list = ['Levy','Prod. year', 'Engine volume', 'Mileage', 'Cylinders',\n",
    "       'Airbags']\n",
    "scaler = StandardScaler()\n",
    "df[col_list] = scaler.fit_transform(df[col_list])\n",
    "df.head()"
   ]
  },
  {
   "cell_type": "markdown",
   "id": "b14d5a2f",
   "metadata": {
    "papermill": {
     "duration": 0.021663,
     "end_time": "2022-07-13T12:29:35.333825",
     "exception": false,
     "start_time": "2022-07-13T12:29:35.312162",
     "status": "completed"
    },
    "tags": []
   },
   "source": [
    "> **Model Building**"
   ]
  },
  {
   "cell_type": "markdown",
   "id": "d90b826c",
   "metadata": {
    "papermill": {
     "duration": 0.021408,
     "end_time": "2022-07-13T12:29:35.377105",
     "exception": false,
     "start_time": "2022-07-13T12:29:35.355697",
     "status": "completed"
    },
    "tags": []
   },
   "source": [
    "*Splitting Data as features and Target variables.*"
   ]
  },
  {
   "cell_type": "code",
   "execution_count": 32,
   "id": "fd06e6bb",
   "metadata": {
    "execution": {
     "iopub.execute_input": "2022-07-13T12:29:35.423430Z",
     "iopub.status.busy": "2022-07-13T12:29:35.423051Z",
     "iopub.status.idle": "2022-07-13T12:29:35.446572Z",
     "shell.execute_reply": "2022-07-13T12:29:35.445747Z"
    },
    "papermill": {
     "duration": 0.049797,
     "end_time": "2022-07-13T12:29:35.448716",
     "exception": false,
     "start_time": "2022-07-13T12:29:35.398919",
     "status": "completed"
    },
    "tags": []
   },
   "outputs": [],
   "source": [
    "X=df.iloc[:,1:]\n",
    "y=df.iloc[:,0]"
   ]
  },
  {
   "cell_type": "markdown",
   "id": "887edc56",
   "metadata": {
    "papermill": {
     "duration": 0.021446,
     "end_time": "2022-07-13T12:29:35.492294",
     "exception": false,
     "start_time": "2022-07-13T12:29:35.470848",
     "status": "completed"
    },
    "tags": []
   },
   "source": [
    "*Independent Features*"
   ]
  },
  {
   "cell_type": "code",
   "execution_count": 33,
   "id": "a7bcfbd7",
   "metadata": {
    "execution": {
     "iopub.execute_input": "2022-07-13T12:29:35.538090Z",
     "iopub.status.busy": "2022-07-13T12:29:35.537391Z",
     "iopub.status.idle": "2022-07-13T12:29:35.556863Z",
     "shell.execute_reply": "2022-07-13T12:29:35.555786Z"
    },
    "papermill": {
     "duration": 0.04486,
     "end_time": "2022-07-13T12:29:35.559022",
     "exception": false,
     "start_time": "2022-07-13T12:29:35.514162",
     "status": "completed"
    },
    "tags": []
   },
   "outputs": [
    {
     "data": {
      "text/html": [
       "<div>\n",
       "<style scoped>\n",
       "    .dataframe tbody tr th:only-of-type {\n",
       "        vertical-align: middle;\n",
       "    }\n",
       "\n",
       "    .dataframe tbody tr th {\n",
       "        vertical-align: top;\n",
       "    }\n",
       "\n",
       "    .dataframe thead th {\n",
       "        text-align: right;\n",
       "    }\n",
       "</style>\n",
       "<table border=\"1\" class=\"dataframe\">\n",
       "  <thead>\n",
       "    <tr style=\"text-align: right;\">\n",
       "      <th></th>\n",
       "      <th>Levy</th>\n",
       "      <th>Prod. year</th>\n",
       "      <th>Engine volume</th>\n",
       "      <th>Mileage</th>\n",
       "      <th>Cylinders</th>\n",
       "      <th>Airbags</th>\n",
       "      <th>Manufacturer_ALFA ROMEO</th>\n",
       "      <th>Manufacturer_AUDI</th>\n",
       "      <th>Manufacturer_BMW</th>\n",
       "      <th>Manufacturer_BUICK</th>\n",
       "      <th>...</th>\n",
       "      <th>Color_Green</th>\n",
       "      <th>Color_Grey</th>\n",
       "      <th>Color_Orange</th>\n",
       "      <th>Color_Pink</th>\n",
       "      <th>Color_Purple</th>\n",
       "      <th>Color_Red</th>\n",
       "      <th>Color_Silver</th>\n",
       "      <th>Color_Sky blue</th>\n",
       "      <th>Color_White</th>\n",
       "      <th>Color_Yellow</th>\n",
       "    </tr>\n",
       "  </thead>\n",
       "  <tbody>\n",
       "    <tr>\n",
       "      <th>0</th>\n",
       "      <td>-0.420859</td>\n",
       "      <td>-1.519849</td>\n",
       "      <td>-1.621449</td>\n",
       "      <td>1.036882</td>\n",
       "      <td>0.0</td>\n",
       "      <td>-1.063292</td>\n",
       "      <td>0</td>\n",
       "      <td>0</td>\n",
       "      <td>0</td>\n",
       "      <td>0</td>\n",
       "      <td>...</td>\n",
       "      <td>0</td>\n",
       "      <td>0</td>\n",
       "      <td>0</td>\n",
       "      <td>0</td>\n",
       "      <td>0</td>\n",
       "      <td>0</td>\n",
       "      <td>0</td>\n",
       "      <td>0</td>\n",
       "      <td>0</td>\n",
       "      <td>0</td>\n",
       "    </tr>\n",
       "    <tr>\n",
       "      <th>1</th>\n",
       "      <td>0.738645</td>\n",
       "      <td>-0.265953</td>\n",
       "      <td>1.460316</td>\n",
       "      <td>0.616348</td>\n",
       "      <td>0.0</td>\n",
       "      <td>-1.553171</td>\n",
       "      <td>0</td>\n",
       "      <td>0</td>\n",
       "      <td>0</td>\n",
       "      <td>0</td>\n",
       "      <td>...</td>\n",
       "      <td>0</td>\n",
       "      <td>0</td>\n",
       "      <td>0</td>\n",
       "      <td>0</td>\n",
       "      <td>0</td>\n",
       "      <td>0</td>\n",
       "      <td>0</td>\n",
       "      <td>0</td>\n",
       "      <td>1</td>\n",
       "      <td>0</td>\n",
       "    </tr>\n",
       "    <tr>\n",
       "      <th>2</th>\n",
       "      <td>-1.367703</td>\n",
       "      <td>0.486384</td>\n",
       "      <td>-1.621449</td>\n",
       "      <td>-0.427941</td>\n",
       "      <td>0.0</td>\n",
       "      <td>-0.573412</td>\n",
       "      <td>0</td>\n",
       "      <td>0</td>\n",
       "      <td>0</td>\n",
       "      <td>0</td>\n",
       "      <td>...</td>\n",
       "      <td>0</td>\n",
       "      <td>0</td>\n",
       "      <td>0</td>\n",
       "      <td>0</td>\n",
       "      <td>0</td>\n",
       "      <td>0</td>\n",
       "      <td>1</td>\n",
       "      <td>0</td>\n",
       "      <td>0</td>\n",
       "      <td>0</td>\n",
       "    </tr>\n",
       "    <tr>\n",
       "      <th>3</th>\n",
       "      <td>0.885482</td>\n",
       "      <td>0.987942</td>\n",
       "      <td>0.176247</td>\n",
       "      <td>0.507468</td>\n",
       "      <td>0.0</td>\n",
       "      <td>-0.573412</td>\n",
       "      <td>0</td>\n",
       "      <td>0</td>\n",
       "      <td>0</td>\n",
       "      <td>0</td>\n",
       "      <td>...</td>\n",
       "      <td>0</td>\n",
       "      <td>0</td>\n",
       "      <td>0</td>\n",
       "      <td>0</td>\n",
       "      <td>0</td>\n",
       "      <td>0</td>\n",
       "      <td>0</td>\n",
       "      <td>0</td>\n",
       "      <td>1</td>\n",
       "      <td>0</td>\n",
       "    </tr>\n",
       "    <tr>\n",
       "      <th>4</th>\n",
       "      <td>0.227248</td>\n",
       "      <td>-0.516732</td>\n",
       "      <td>-0.337380</td>\n",
       "      <td>1.835144</td>\n",
       "      <td>0.0</td>\n",
       "      <td>1.386107</td>\n",
       "      <td>0</td>\n",
       "      <td>0</td>\n",
       "      <td>0</td>\n",
       "      <td>0</td>\n",
       "      <td>...</td>\n",
       "      <td>0</td>\n",
       "      <td>0</td>\n",
       "      <td>0</td>\n",
       "      <td>0</td>\n",
       "      <td>0</td>\n",
       "      <td>0</td>\n",
       "      <td>0</td>\n",
       "      <td>0</td>\n",
       "      <td>1</td>\n",
       "      <td>0</td>\n",
       "    </tr>\n",
       "  </tbody>\n",
       "</table>\n",
       "<p>5 rows × 992 columns</p>\n",
       "</div>"
      ],
      "text/plain": [
       "       Levy  Prod. year  Engine volume   Mileage  Cylinders   Airbags  \\\n",
       "0 -0.420859   -1.519849      -1.621449  1.036882        0.0 -1.063292   \n",
       "1  0.738645   -0.265953       1.460316  0.616348        0.0 -1.553171   \n",
       "2 -1.367703    0.486384      -1.621449 -0.427941        0.0 -0.573412   \n",
       "3  0.885482    0.987942       0.176247  0.507468        0.0 -0.573412   \n",
       "4  0.227248   -0.516732      -0.337380  1.835144        0.0  1.386107   \n",
       "\n",
       "   Manufacturer_ALFA ROMEO  Manufacturer_AUDI  Manufacturer_BMW  \\\n",
       "0                        0                  0                 0   \n",
       "1                        0                  0                 0   \n",
       "2                        0                  0                 0   \n",
       "3                        0                  0                 0   \n",
       "4                        0                  0                 0   \n",
       "\n",
       "   Manufacturer_BUICK  ...  Color_Green  Color_Grey  Color_Orange  Color_Pink  \\\n",
       "0                   0  ...            0           0             0           0   \n",
       "1                   0  ...            0           0             0           0   \n",
       "2                   0  ...            0           0             0           0   \n",
       "3                   0  ...            0           0             0           0   \n",
       "4                   0  ...            0           0             0           0   \n",
       "\n",
       "   Color_Purple  Color_Red  Color_Silver  Color_Sky blue  Color_White  \\\n",
       "0             0          0             0               0            0   \n",
       "1             0          0             0               0            1   \n",
       "2             0          0             1               0            0   \n",
       "3             0          0             0               0            1   \n",
       "4             0          0             0               0            1   \n",
       "\n",
       "   Color_Yellow  \n",
       "0             0  \n",
       "1             0  \n",
       "2             0  \n",
       "3             0  \n",
       "4             0  \n",
       "\n",
       "[5 rows x 992 columns]"
      ]
     },
     "execution_count": 33,
     "metadata": {},
     "output_type": "execute_result"
    }
   ],
   "source": [
    "X.head()"
   ]
  },
  {
   "cell_type": "markdown",
   "id": "0072d73b",
   "metadata": {
    "papermill": {
     "duration": 0.021639,
     "end_time": "2022-07-13T12:29:35.602569",
     "exception": false,
     "start_time": "2022-07-13T12:29:35.580930",
     "status": "completed"
    },
    "tags": []
   },
   "source": [
    "*Target Variable*"
   ]
  },
  {
   "cell_type": "code",
   "execution_count": 34,
   "id": "70f35c2f",
   "metadata": {
    "execution": {
     "iopub.execute_input": "2022-07-13T12:29:35.648132Z",
     "iopub.status.busy": "2022-07-13T12:29:35.647382Z",
     "iopub.status.idle": "2022-07-13T12:29:35.654545Z",
     "shell.execute_reply": "2022-07-13T12:29:35.653486Z"
    },
    "papermill": {
     "duration": 0.032208,
     "end_time": "2022-07-13T12:29:35.656566",
     "exception": false,
     "start_time": "2022-07-13T12:29:35.624358",
     "status": "completed"
    },
    "tags": []
   },
   "outputs": [
    {
     "data": {
      "text/plain": [
       "0     8467\n",
       "1     3607\n",
       "2    11726\n",
       "3    39493\n",
       "4     1803\n",
       "Name: Price, dtype: int64"
      ]
     },
     "execution_count": 34,
     "metadata": {},
     "output_type": "execute_result"
    }
   ],
   "source": [
    "y.head()"
   ]
  },
  {
   "cell_type": "markdown",
   "id": "23824535",
   "metadata": {
    "papermill": {
     "duration": 0.02198,
     "end_time": "2022-07-13T12:30:21.619587",
     "exception": false,
     "start_time": "2022-07-13T12:30:21.597607",
     "status": "completed"
    },
    "tags": []
   },
   "source": [
    "***Linear Regression***"
   ]
  },
  {
   "cell_type": "code",
   "execution_count": 38,
   "id": "7d1504e3",
   "metadata": {
    "execution": {
     "iopub.execute_input": "2022-07-13T12:30:21.665711Z",
     "iopub.status.busy": "2022-07-13T12:30:21.665319Z",
     "iopub.status.idle": "2022-07-13T12:30:21.728962Z",
     "shell.execute_reply": "2022-07-13T12:30:21.727208Z"
    },
    "papermill": {
     "duration": 0.090484,
     "end_time": "2022-07-13T12:30:21.732325",
     "exception": false,
     "start_time": "2022-07-13T12:30:21.641841",
     "status": "completed"
    },
    "tags": []
   },
   "outputs": [
    {
     "name": "stdout",
     "output_type": "stream",
     "text": [
      "Training Score using LR: 0.5777298293332473\n",
      "Testing Score using LR: -7.607395003936157e+21\n"
     ]
    }
   ],
   "source": [
    "from sklearn.model_selection import train_test_split\n",
    "X_train, X_test, y_train, y_test = train_test_split(X,y, test_size=0.3, random_state=10)\n",
    "\n",
    "from sklearn.linear_model import LinearRegression\n",
    "\n",
    "\n",
    "# create instance of the model and storing it to variable linear_model\n",
    "Linear_model = LinearRegression()\n",
    "# fit this into xtrain and y train to create the model\n",
    "Linear_model.fit(X_train,y_train)\n",
    "\n",
    "# next predict the values in the x test using this model created\n",
    "# and storing those values to variable y_pred\n",
    "lr_pred = Linear_model.predict(X_test)\n",
    "\n",
    "print(\"Training Score using LR:\",Linear_model.score(X_train,y_train))\n",
    "print(\"Testing Score using LR:\",Linear_model.score(X_test,y_test))"
   ]
  },
  {
   "cell_type": "markdown",
   "id": "56548b8c",
   "metadata": {
    "papermill": {
     "duration": 0.022938,
     "end_time": "2022-07-13T12:30:23.122536",
     "exception": false,
     "start_time": "2022-07-13T12:30:23.099598",
     "status": "completed"
    },
    "tags": []
   },
   "source": [
    "***Random Forest Regressor***"
   ]
  },
  {
   "cell_type": "code",
   "execution_count": 41,
   "id": "26fea631",
   "metadata": {
    "execution": {
     "iopub.execute_input": "2022-07-13T12:30:23.169960Z",
     "iopub.status.busy": "2022-07-13T12:30:23.169282Z",
     "iopub.status.idle": "2022-07-13T12:30:23.173355Z",
     "shell.execute_reply": "2022-07-13T12:30:23.172581Z"
    },
    "papermill": {
     "duration": 0.02992,
     "end_time": "2022-07-13T12:30:23.175211",
     "exception": false,
     "start_time": "2022-07-13T12:30:23.145291",
     "status": "completed"
    },
    "tags": []
   },
   "outputs": [],
   "source": [
    "from sklearn.ensemble import RandomForestRegressor\n",
    "from sklearn.model_selection import RandomizedSearchCV"
   ]
  },
  {
   "cell_type": "code",
   "execution_count": 42,
   "id": "4336acd6",
   "metadata": {
    "execution": {
     "iopub.execute_input": "2022-07-13T12:30:23.222169Z",
     "iopub.status.busy": "2022-07-13T12:30:23.221553Z",
     "iopub.status.idle": "2022-07-13T12:30:27.060585Z",
     "shell.execute_reply": "2022-07-13T12:30:27.059426Z"
    },
    "papermill": {
     "duration": 3.865058,
     "end_time": "2022-07-13T12:30:27.062857",
     "exception": false,
     "start_time": "2022-07-13T12:30:23.197799",
     "status": "completed"
    },
    "tags": []
   },
   "outputs": [
    {
     "name": "stdout",
     "output_type": "stream",
     "text": [
      "Training Score: 0.9653897597413889\n",
      "Testing Score: 0.7778958025368118\n"
     ]
    }
   ],
   "source": [
    "model = RandomForestRegressor()\n",
    "model.fit(X_train,y_train)\n",
    "y_pred=model.predict(X_test)\n",
    "print(\"Training Score:\",model.score(X_train,y_train))\n",
    "print(\"Testing Score:\",model.score(X_test,y_test))"
   ]
  },
  {
   "cell_type": "markdown",
   "id": "4f19d25f",
   "metadata": {
    "papermill": {
     "duration": 0.023788,
     "end_time": "2022-07-13T12:30:27.109312",
     "exception": false,
     "start_time": "2022-07-13T12:30:27.085524",
     "status": "completed"
    },
    "tags": []
   },
   "source": [
    "***Random Forest Regressor - Hyperparameter Tuning***"
   ]
  },
  {
   "cell_type": "markdown",
   "id": "53164353",
   "metadata": {
    "papermill": {
     "duration": 0.022693,
     "end_time": "2022-07-13T12:30:27.155034",
     "exception": false,
     "start_time": "2022-07-13T12:30:27.132341",
     "status": "completed"
    },
    "tags": []
   },
   "source": [
    "Using Randomized search cv for selecting best parameters."
   ]
  },
  {
   "cell_type": "code",
   "execution_count": 43,
   "id": "f64cb6d7",
   "metadata": {
    "execution": {
     "iopub.execute_input": "2022-07-13T12:30:27.202560Z",
     "iopub.status.busy": "2022-07-13T12:30:27.201898Z",
     "iopub.status.idle": "2022-07-13T12:30:27.208238Z",
     "shell.execute_reply": "2022-07-13T12:30:27.207194Z"
    },
    "papermill": {
     "duration": 0.032399,
     "end_time": "2022-07-13T12:30:27.210396",
     "exception": false,
     "start_time": "2022-07-13T12:30:27.177997",
     "status": "completed"
    },
    "tags": []
   },
   "outputs": [],
   "source": [
    "# Number of trees in random forest\n",
    "n_estimators = [int(x) for x in np.linspace(start = 100, stop = 1200, num = 12)]\n",
    "# Number of features to consider at every split\n",
    "max_features = ['auto', 'sqrt']\n",
    "# Maximum number of levels in tree\n",
    "max_depth = [int(x) for x in np.linspace(5, 30, num = 6)]\n",
    "# max_depth.append(None)\n",
    "# Minimum number of samples required to split a node\n",
    "min_samples_split = [2, 5, 10, 15, 100]\n",
    "# Minimum number of samples required at each leaf node\n",
    "min_samples_leaf = [1, 2, 5, 10]"
   ]
  },
  {
   "cell_type": "code",
   "execution_count": 44,
   "id": "a8c65920",
   "metadata": {
    "execution": {
     "iopub.execute_input": "2022-07-13T12:30:27.258058Z",
     "iopub.status.busy": "2022-07-13T12:30:27.257406Z",
     "iopub.status.idle": "2022-07-13T12:30:27.262567Z",
     "shell.execute_reply": "2022-07-13T12:30:27.261555Z"
    },
    "papermill": {
     "duration": 0.031213,
     "end_time": "2022-07-13T12:30:27.264389",
     "exception": false,
     "start_time": "2022-07-13T12:30:27.233176",
     "status": "completed"
    },
    "tags": []
   },
   "outputs": [
    {
     "name": "stdout",
     "output_type": "stream",
     "text": [
      "{'n_estimators': [100, 200, 300, 400, 500, 600, 700, 800, 900, 1000, 1100, 1200], 'max_features': ['auto', 'sqrt'], 'max_depth': [5, 10, 15, 20, 25, 30], 'min_samples_split': [2, 5, 10, 15, 100], 'min_samples_leaf': [1, 2, 5, 10]}\n"
     ]
    }
   ],
   "source": [
    "random_grid = {'n_estimators': n_estimators,\n",
    "               'max_features': max_features,\n",
    "               'max_depth': max_depth,\n",
    "               'min_samples_split': min_samples_split,\n",
    "               'min_samples_leaf': min_samples_leaf}\n",
    "\n",
    "print(random_grid)"
   ]
  },
  {
   "cell_type": "code",
   "execution_count": 46,
   "id": "b232fd5f",
   "metadata": {
    "execution": {
     "iopub.execute_input": "2022-07-13T12:30:27.312986Z",
     "iopub.status.busy": "2022-07-13T12:30:27.312313Z",
     "iopub.status.idle": "2022-07-13T12:30:27.316403Z",
     "shell.execute_reply": "2022-07-13T12:30:27.315609Z"
    },
    "papermill": {
     "duration": 0.030884,
     "end_time": "2022-07-13T12:30:27.318261",
     "exception": false,
     "start_time": "2022-07-13T12:30:27.287377",
     "status": "completed"
    },
    "tags": []
   },
   "outputs": [],
   "source": [
    "rf_model = RandomForestRegressor()"
   ]
  },
  {
   "cell_type": "code",
   "execution_count": 47,
   "id": "aed67ffa",
   "metadata": {
    "execution": {
     "iopub.execute_input": "2022-07-13T12:30:27.366628Z",
     "iopub.status.busy": "2022-07-13T12:30:27.365959Z",
     "iopub.status.idle": "2022-07-13T12:30:27.370449Z",
     "shell.execute_reply": "2022-07-13T12:30:27.369567Z"
    },
    "papermill": {
     "duration": 0.0308,
     "end_time": "2022-07-13T12:30:27.372241",
     "exception": false,
     "start_time": "2022-07-13T12:30:27.341441",
     "status": "completed"
    },
    "tags": []
   },
   "outputs": [],
   "source": [
    "rf_random_model = RandomizedSearchCV(estimator = rf_model, param_distributions = random_grid,scoring=None,n_iter = 10, cv = 5, verbose=2, random_state=42, n_jobs = 1)"
   ]
  },
  {
   "cell_type": "code",
   "execution_count": 48,
   "id": "597bca32",
   "metadata": {
    "execution": {
     "iopub.execute_input": "2022-07-13T12:30:27.419185Z",
     "iopub.status.busy": "2022-07-13T12:30:27.418527Z",
     "iopub.status.idle": "2022-07-13T12:35:42.966498Z",
     "shell.execute_reply": "2022-07-13T12:35:42.965605Z"
    },
    "papermill": {
     "duration": 315.574369,
     "end_time": "2022-07-13T12:35:42.969154",
     "exception": false,
     "start_time": "2022-07-13T12:30:27.394785",
     "status": "completed"
    },
    "tags": []
   },
   "outputs": [
    {
     "name": "stdout",
     "output_type": "stream",
     "text": [
      "Fitting 5 folds for each of 10 candidates, totalling 50 fits\n",
      "[CV] END max_depth=10, max_features=sqrt, min_samples_leaf=5, min_samples_split=5, n_estimators=900; total time=  13.5s\n",
      "[CV] END max_depth=10, max_features=sqrt, min_samples_leaf=5, min_samples_split=5, n_estimators=900; total time=  13.7s\n",
      "[CV] END max_depth=10, max_features=sqrt, min_samples_leaf=5, min_samples_split=5, n_estimators=900; total time=  13.9s\n",
      "[CV] END max_depth=10, max_features=sqrt, min_samples_leaf=5, min_samples_split=5, n_estimators=900; total time=  13.5s\n",
      "[CV] END max_depth=10, max_features=sqrt, min_samples_leaf=5, min_samples_split=5, n_estimators=900; total time=  13.5s\n",
      "[CV] END max_depth=15, max_features=sqrt, min_samples_leaf=2, min_samples_split=10, n_estimators=1100; total time=  25.0s\n",
      "[CV] END max_depth=15, max_features=sqrt, min_samples_leaf=2, min_samples_split=10, n_estimators=1100; total time=  25.4s\n",
      "[CV] END max_depth=15, max_features=sqrt, min_samples_leaf=2, min_samples_split=10, n_estimators=1100; total time=  24.9s\n",
      "[CV] END max_depth=15, max_features=sqrt, min_samples_leaf=2, min_samples_split=10, n_estimators=1100; total time=  25.5s\n",
      "[CV] END max_depth=15, max_features=sqrt, min_samples_leaf=2, min_samples_split=10, n_estimators=1100; total time=  25.3s\n",
      "[CV] END max_depth=15, max_features=auto, min_samples_leaf=5, min_samples_split=100, n_estimators=300; total time=  48.1s\n",
      "[CV] END max_depth=15, max_features=auto, min_samples_leaf=5, min_samples_split=100, n_estimators=300; total time=  47.3s\n",
      "[CV] END max_depth=15, max_features=auto, min_samples_leaf=5, min_samples_split=100, n_estimators=300; total time=  48.1s\n",
      "[CV] END max_depth=15, max_features=auto, min_samples_leaf=5, min_samples_split=100, n_estimators=300; total time=  49.9s\n",
      "[CV] END max_depth=15, max_features=auto, min_samples_leaf=5, min_samples_split=100, n_estimators=300; total time=  50.2s\n",
      "[CV] END max_depth=15, max_features=auto, min_samples_leaf=5, min_samples_split=5, n_estimators=400; total time= 1.3min\n",
      "[CV] END max_depth=15, max_features=auto, min_samples_leaf=5, min_samples_split=5, n_estimators=400; total time= 1.3min\n",
      "[CV] END max_depth=15, max_features=auto, min_samples_leaf=5, min_samples_split=5, n_estimators=400; total time= 1.3min\n",
      "[CV] END max_depth=15, max_features=auto, min_samples_leaf=5, min_samples_split=5, n_estimators=400; total time= 1.3min\n",
      "[CV] END max_depth=15, max_features=auto, min_samples_leaf=5, min_samples_split=5, n_estimators=400; total time= 1.3min\n",
      "[CV] END max_depth=20, max_features=auto, min_samples_leaf=10, min_samples_split=5, n_estimators=700; total time= 2.2min\n",
      "[CV] END max_depth=20, max_features=auto, min_samples_leaf=10, min_samples_split=5, n_estimators=700; total time= 2.1min\n",
      "[CV] END max_depth=20, max_features=auto, min_samples_leaf=10, min_samples_split=5, n_estimators=700; total time= 2.1min\n",
      "[CV] END max_depth=20, max_features=auto, min_samples_leaf=10, min_samples_split=5, n_estimators=700; total time= 2.1min\n",
      "[CV] END max_depth=20, max_features=auto, min_samples_leaf=10, min_samples_split=5, n_estimators=700; total time= 2.1min\n",
      "[CV] END max_depth=25, max_features=sqrt, min_samples_leaf=1, min_samples_split=2, n_estimators=1000; total time= 1.3min\n",
      "[CV] END max_depth=25, max_features=sqrt, min_samples_leaf=1, min_samples_split=2, n_estimators=1000; total time= 1.3min\n",
      "[CV] END max_depth=25, max_features=sqrt, min_samples_leaf=1, min_samples_split=2, n_estimators=1000; total time= 1.3min\n",
      "[CV] END max_depth=25, max_features=sqrt, min_samples_leaf=1, min_samples_split=2, n_estimators=1000; total time= 1.3min\n",
      "[CV] END max_depth=25, max_features=sqrt, min_samples_leaf=1, min_samples_split=2, n_estimators=1000; total time= 1.3min\n",
      "[CV] END max_depth=5, max_features=sqrt, min_samples_leaf=10, min_samples_split=15, n_estimators=1100; total time=   9.5s\n",
      "[CV] END max_depth=5, max_features=sqrt, min_samples_leaf=10, min_samples_split=15, n_estimators=1100; total time=   9.6s\n",
      "[CV] END max_depth=5, max_features=sqrt, min_samples_leaf=10, min_samples_split=15, n_estimators=1100; total time=  30.2s\n",
      "[CV] END max_depth=5, max_features=sqrt, min_samples_leaf=10, min_samples_split=15, n_estimators=1100; total time=  21.5s\n",
      "[CV] END max_depth=5, max_features=sqrt, min_samples_leaf=10, min_samples_split=15, n_estimators=1100; total time=   8.1s\n",
      "[CV] END max_depth=15, max_features=sqrt, min_samples_leaf=1, min_samples_split=15, n_estimators=300; total time=   6.2s\n",
      "[CV] END max_depth=15, max_features=sqrt, min_samples_leaf=1, min_samples_split=15, n_estimators=300; total time=   6.8s\n",
      "[CV] END max_depth=15, max_features=sqrt, min_samples_leaf=1, min_samples_split=15, n_estimators=300; total time=   6.2s\n",
      "[CV] END max_depth=15, max_features=sqrt, min_samples_leaf=1, min_samples_split=15, n_estimators=300; total time=   6.4s\n",
      "[CV] END max_depth=15, max_features=sqrt, min_samples_leaf=1, min_samples_split=15, n_estimators=300; total time=   6.7s\n",
      "[CV] END max_depth=5, max_features=sqrt, min_samples_leaf=2, min_samples_split=10, n_estimators=700; total time=   4.2s\n",
      "[CV] END max_depth=5, max_features=sqrt, min_samples_leaf=2, min_samples_split=10, n_estimators=700; total time=   4.1s\n",
      "[CV] END max_depth=5, max_features=sqrt, min_samples_leaf=2, min_samples_split=10, n_estimators=700; total time=   4.7s\n",
      "[CV] END max_depth=5, max_features=sqrt, min_samples_leaf=2, min_samples_split=10, n_estimators=700; total time=   4.2s\n",
      "[CV] END max_depth=5, max_features=sqrt, min_samples_leaf=2, min_samples_split=10, n_estimators=700; total time=   4.5s\n",
      "[CV] END max_depth=20, max_features=auto, min_samples_leaf=1, min_samples_split=15, n_estimators=700; total time= 2.5min\n",
      "[CV] END max_depth=20, max_features=auto, min_samples_leaf=1, min_samples_split=15, n_estimators=700; total time= 2.5min\n",
      "[CV] END max_depth=20, max_features=auto, min_samples_leaf=1, min_samples_split=15, n_estimators=700; total time= 2.5min\n",
      "[CV] END max_depth=20, max_features=auto, min_samples_leaf=1, min_samples_split=15, n_estimators=700; total time= 2.5min\n",
      "[CV] END max_depth=20, max_features=auto, min_samples_leaf=1, min_samples_split=15, n_estimators=700; total time= 2.5min\n"
     ]
    }
   ],
   "source": [
    "rf_random_model.fit(X_train,y_train)\n",
    "y_predict=rf_random_model.predict(X_test)"
   ]
  },
  {
   "cell_type": "code",
   "execution_count": 49,
   "id": "b2cb17b4",
   "metadata": {
    "execution": {
     "iopub.execute_input": "2022-07-13T12:35:43.022178Z",
     "iopub.status.busy": "2022-07-13T12:35:43.021791Z",
     "iopub.status.idle": "2022-07-13T12:35:46.133630Z",
     "shell.execute_reply": "2022-07-13T12:35:46.132843Z"
    },
    "papermill": {
     "duration": 3.140852,
     "end_time": "2022-07-13T12:35:46.135711",
     "exception": false,
     "start_time": "2022-07-13T12:35:42.994859",
     "status": "completed"
    },
    "tags": []
   },
   "outputs": [
    {
     "name": "stdout",
     "output_type": "stream",
     "text": [
      "Training Score After hyperparamter: 0.8890395496909735\n",
      "Testing Score After hyperparamter: 0.7649639678596258\n"
     ]
    }
   ],
   "source": [
    "print(\"Training Score After hyperparamter:\",rf_random_model.score(X_train,y_train))\n",
    "print(\"Testing Score After hyperparamter:\",rf_random_model.score(X_test,y_test))"
   ]
  }
 ],
 "metadata": {
  "kernelspec": {
   "display_name": "Python 3 (ipykernel)",
   "language": "python",
   "name": "python3"
  },
  "language_info": {
   "codemirror_mode": {
    "name": "ipython",
    "version": 3
   },
   "file_extension": ".py",
   "mimetype": "text/x-python",
   "name": "python",
   "nbconvert_exporter": "python",
   "pygments_lexer": "ipython3",
   "version": "3.9.7"
  },
  "papermill": {
   "default_parameters": {},
   "duration": 388.621591,
   "end_time": "2022-07-13T12:35:47.084889",
   "environment_variables": {},
   "exception": null,
   "input_path": "__notebook__.ipynb",
   "output_path": "__notebook__.ipynb",
   "parameters": {},
   "start_time": "2022-07-13T12:29:18.463298",
   "version": "2.3.4"
  }
 },
 "nbformat": 4,
 "nbformat_minor": 5
}
